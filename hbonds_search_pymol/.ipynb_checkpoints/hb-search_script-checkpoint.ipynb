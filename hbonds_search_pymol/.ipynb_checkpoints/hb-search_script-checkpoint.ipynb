{
 "cells": [
  {
   "cell_type": "markdown",
   "id": "0d218b9e",
   "metadata": {},
   "source": [
    "# GUI hbond"
   ]
  },
  {
   "cell_type": "markdown",
   "id": "8d15486f",
   "metadata": {},
   "source": [
    "### Initialization"
   ]
  },
  {
   "cell_type": "code",
   "execution_count": 85,
   "id": "35c0b7d4",
   "metadata": {},
   "outputs": [],
   "source": [
    "import pandas as pd\n",
    "import subprocess\n",
    "import os\n",
    "from pymol import cmd, stored\n",
    "import platform\n",
    "from typing import List\n",
    "from datetime import datetime\n",
    "import re"
   ]
  },
  {
   "cell_type": "markdown",
   "id": "84b68126",
   "metadata": {},
   "source": [
    "### Functions"
   ]
  },
  {
   "cell_type": "code",
   "execution_count": 86,
   "id": "b809abdc",
   "metadata": {},
   "outputs": [
    {
     "data": {
      "text/plain": [
       "'\\ndef form(pdbstr, x):\\n    \\'\\'\\'\\n    Part of lambda function to format dataframe to Pymol compatible form:\\n    from \"A:183:LEU:O\" to \"/2akr/A/A/LEU`183/O\"\\n    :param pdbstr: pdb code of handled structure\\n    :param x: entry within dataframe\\n    \\'\\'\\'\\n    temp = x.split(\\':\\')\\n    x = f\\'/{pdbstr}//{temp[0]}/{temp[2]}/{temp[3]}\\'\\n    return x\\n\\ndef pymol_display(df):\\n    \\'\\'\\'\\n    \\'\\'\\'\\n    zilis = list(zip(df[\\'ACC\\'].tolist(), df[\\'DONO\\'].tolist()))\\n    for i in zilis:\\n        cmd.distance( i[0] , i[1])\\n    \\ndef hbsearch(pdbstr:str) -> pd.DataFrame():\\n    \\'\\'\\'\\n    Executing hb_search with set parameters and extract HBOND-entries from output\\n    :return df_hbond: Dataframe with all HBOND entries from hb_search output \\n    \\'\\'\\'\\n    \\n    HEAD_LST = [\\'IDENT\\',\\'ACC\\',\\'sep1\\',\\'DONO\\',\\':\\',\\'x\\',\\'y\\',\\'z\\',\\'sep2\\',\\'a\\',\\'b\\']\\n    \\n    # Setting environment variable\\n    os.environ[\\'PSE_FILE\\'] = \\'period-table-info.txt\\'\\n    \\n    # Executing hb_search\\n    hbs = subprocess.run(f\"./hb-search -hb hb-define.txt {pdbstr}.pdb\", \\n                         stdout=subprocess.PIPE, shell=True, check=True, text=True)\\n    \\n    # Decode and format hb_search output\\n    hbs_hbb = [i for i in hbs.stdout.split(\\'\\n\\') if i[0:5] == \"HBOND\"]\\n    hbs_splt = [i.split() for i in hbs_hbb]\\n\\n    # Return dataframe\\n    df_hbond = pd.DataFrame(hbs_splt, columns = HEAD_LST)\\n    \\n    df_hbond = df_hbond[[\\'ACC\\', \\'DONO\\']]\\n    df_hbond[\\'ACC\\'] = df_hbond[\\'ACC\\'].map(lambda x: form(pdbstr,x) )\\n    df_hbond[\\'DONO\\'] = df_hbond[\\'DONO\\'].map(lambda x: form(pdbstr,x) )\\n    \\n    pymol_display(df_hbond)\\n    \\n    return df_hbond\\n\\n#cmd.extend(\\'hbsearch\\', hbsearch)'"
      ]
     },
     "execution_count": 86,
     "metadata": {},
     "output_type": "execute_result"
    }
   ],
   "source": [
    "\"\"\"\n",
    "def form(pdbstr, x):\n",
    "    '''\n",
    "    Part of lambda function to format dataframe to Pymol compatible form:\n",
    "    from \"A:183:LEU:O\" to \"/2akr/A/A/LEU`183/O\"\n",
    "    :param pdbstr: pdb code of handled structure\n",
    "    :param x: entry within dataframe\n",
    "    '''\n",
    "    temp = x.split(':')\n",
    "    x = f'/{pdbstr}//{temp[0]}/{temp[2]}/{temp[3]}'\n",
    "    return x\n",
    "\n",
    "def pymol_display(df):\n",
    "    '''\n",
    "    '''\n",
    "    zilis = list(zip(df['ACC'].tolist(), df['DONO'].tolist()))\n",
    "    for i in zilis:\n",
    "        cmd.distance( i[0] , i[1])\n",
    "    \n",
    "def hbsearch(pdbstr:str) -> pd.DataFrame():\n",
    "    '''\n",
    "    Executing hb_search with set parameters and extract HBOND-entries from output\n",
    "    :return df_hbond: Dataframe with all HBOND entries from hb_search output \n",
    "    '''\n",
    "    \n",
    "    HEAD_LST = ['IDENT','ACC','sep1','DONO',':','x','y','z','sep2','a','b']\n",
    "    \n",
    "    # Setting environment variable\n",
    "    os.environ['PSE_FILE'] = 'period-table-info.txt'\n",
    "    \n",
    "    # Executing hb_search\n",
    "    hbs = subprocess.run(f\"./hb-search -hb hb-define.txt {pdbstr}.pdb\", \n",
    "                         stdout=subprocess.PIPE, shell=True, check=True, text=True)\n",
    "    \n",
    "    # Decode and format hb_search output\n",
    "    hbs_hbb = [i for i in hbs.stdout.split('\\n') if i[0:5] == \"HBOND\"]\n",
    "    hbs_splt = [i.split() for i in hbs_hbb]\n",
    "\n",
    "    # Return dataframe\n",
    "    df_hbond = pd.DataFrame(hbs_splt, columns = HEAD_LST)\n",
    "    \n",
    "    df_hbond = df_hbond[['ACC', 'DONO']]\n",
    "    df_hbond['ACC'] = df_hbond['ACC'].map(lambda x: form(pdbstr,x) )\n",
    "    df_hbond['DONO'] = df_hbond['DONO'].map(lambda x: form(pdbstr,x) )\n",
    "    \n",
    "    pymol_display(df_hbond)\n",
    "    \n",
    "    return df_hbond\n",
    "\n",
    "#cmd.extend('hbsearch', hbsearch)\"\"\""
   ]
  },
  {
   "cell_type": "markdown",
   "id": "ae60d5e0",
   "metadata": {},
   "source": [
    "# HB-Search"
   ]
  },
  {
   "cell_type": "code",
   "execution_count": 87,
   "id": "a28bf399",
   "metadata": {},
   "outputs": [],
   "source": [
    "def changeDirectory(programDirectory: str = \".\"):\n",
    "    \"\"\"\n",
    "    Changes working directory to the folder containing the needed programs. \n",
    "    Path to program folder needs to be entered if started from other location\n",
    "    :param programDirectory: Path to the program folder. Standard: Set to current working directroy\n",
    "    \"\"\"\n",
    "    \n",
    "    #Changes working directory to the entered path adjusted to the operating system used.\n",
    "    cmd.cd(os.path.normpath(programDirectory))\n",
    "    #os.chdir(os.path.normpath(programDirectory)) #can be deleted?\n",
    "    # Usefull if we want to give an error! To tell the person in which directory they are located!\n",
    "    #cwd = os.getcwd()"
   ]
  },
  {
   "cell_type": "code",
   "execution_count": 88,
   "id": "2f33b694",
   "metadata": {},
   "outputs": [],
   "source": [
    "def useObject(input_molecule: str):\n",
    "    \"\"\"\n",
    "    Enables to use a chosen object of the pymol session for HBsearch/HBnetwork.\n",
    "    Saves the chosen object as pdb-file in the pdb_files folder of the program folder\n",
    "    under the name of the object.\n",
    "    :param input_molecule: pymol object name of the structure that should be used for the HBsearch/HBnetwork run\n",
    "    \"\"\"\n",
    "    \n",
    "    #Saves pymol object by its name in the pdb_files folder.\n",
    "    cmd.save(os.path.normpath(f\"./pdb_files/{input_molecule}.pdb\"), input_molecule)"
   ]
  },
  {
   "cell_type": "code",
   "execution_count": 89,
   "id": "76438daf",
   "metadata": {},
   "outputs": [],
   "source": [
    "def removeObject(input_molecule: str):\n",
    "    \"\"\"\n",
    "    Removes pdb-file of chosen object name. Used after HBsearch run for deleting unwanted data.\n",
    "    :param input_molecule: Name of the molecule to be removed.\n",
    "    \"\"\"\n",
    "    \n",
    "    #Removes pdb-file from pdb_files ordner by entered name.\n",
    "    os.remove(os.path.normpath(f\"./pdb_files/{input_molecule}.pdb\"))"
   ]
  },
  {
   "cell_type": "code",
   "execution_count": 90,
   "id": "3ba8c1e0",
   "metadata": {},
   "outputs": [],
   "source": [
    "def fetchPDB(pdbID: str, object_name: str = \"\"):\n",
    "    \"\"\"\n",
    "    Fetched PDB-file by PDB-ID to pymol session and sets object name in pymol session.\n",
    "    PDB-file is saved under the PDB-ID in pdb_files folder.\n",
    "    If PDB-file is already existant with same name. No new file will be fetched.\n",
    "    Internet conncetion required.\n",
    "    :param pdbID: PDB-ID of protein structure to be fetched and used for HBsearch/HBnetwork run.\n",
    "    :param object_name: Name the pdb file shoudl be displayed as in the pymol session.\n",
    "    \"\"\"\n",
    "    \n",
    "    #Checks if a specific name is chosen. If no name is chosen, file will be named after the PDB-ID.\n",
    "    if object_name == \"\":\n",
    "        object_name = pdbID\n",
    "        \n",
    "    #setting fetch_path to desired folder\n",
    "    cmd.set(\"fetch_path\", os.path.normpath(\"./pdb_files/\"))\n",
    "    \n",
    "    #fetching pdb file if not in folder\n",
    "    cmd.fetch(pdbID, name = object_name, type = \"pdb\")"
   ]
  },
  {
   "cell_type": "code",
   "execution_count": 91,
   "id": "e51cd920",
   "metadata": {
    "scrolled": false
   },
   "outputs": [],
   "source": [
    "def startHBsearch(molecule: str, hb_file: str, solvent_key:str, pse_file:str, connections: str) -> str:\n",
    "    \"\"\"\n",
    "    Starts the HBsearch run. HBsearch finds hydrogen bonds based on a set of parameters based on the chemical nature\n",
    "    of the atoms of the protein/cofactor/nucleic acid (maximal Van-der-Waals radii and maximal covalent radii) and their distances to each other.\n",
    "    Possible pairs forming hydrogen bonds are listed in the hb-define file. Chemical nature of atoms are listed in period-table.info file as standard.\n",
    "    :param molecule: Strucutre used for HBsearch run\n",
    "    :param hb_file: HB-file sued to define possible hydrogen bond interactions. Standard set to hb-define.txt file\n",
    "    :param solvent_key: If hydrogen bond bridges with solvent should be considered. Standard NONE: No solvent H-Bonds. Further possible: HOMO: Homogenous solvent; MEMB: Membrane environment.\n",
    "    :param pse_file: File containing the chemical nature of the atoms. Standard set to period-table.info. To create own one see standard file for structure.\n",
    "    :param connections: If special connections should be taken into account. Here: Hydrogen bonds that would not be recognized by parameters, but could be possible due to rotation of the residues. If connections = 1: Special conncetions will be taken into account. Standard set to 0: No special connectoins will be taken into account.\n",
    "    :return hbs_output: Returns string with the output of the HBsearch run.\n",
    "    \"\"\"\n",
    "\n",
    "    # Setting environment variable. Sets chemical nature of atoms.\n",
    "    os.environ['PSE_FILE'] = pse_file\n",
    "    # Determine operation system to start correct HBsearch application.\n",
    "    system = platform.system()\n",
    "    # Executing hb_search with chosen parameters\n",
    "    hbs_output = subprocess.run(os.path.normpath(f\"./{system}/hb-search -hb {hb_file} -solv {solvent_key} -con {connections} ./pdb_files/{molecule}.pdb\"), capture_output=True, shell=True, check = True, text = True).stdout\n",
    "    \n",
    "    return hbs_output"
   ]
  },
  {
   "cell_type": "code",
   "execution_count": 92,
   "id": "20ff1acc",
   "metadata": {},
   "outputs": [],
   "source": [
    "def readInHBS(hbs_output: str) -> pd.DataFrame():\n",
    "    \"\"\"\n",
    "    Reads in HBsearch output and converts it to pandas dataframe for further processing.\n",
    "    :param hbs_output: HBsearch output as string:\n",
    "    :return df: Returns dataframe containing sorted and filtered HBsearch results\n",
    "    \"\"\"\n",
    "    \n",
    "    #Creates a list with each line of the HBsearch output being assigned to an entry in the list.\n",
    "    hbs_rows = [i for i in hbs_output.split('\\n')]\n",
    "    #Splits the entries in the row-list further, creating an array with the first order list containing the rows and the second order list separating by column.\n",
    "    hbs_split = [i.split() for i in hbs_rows]\n",
    "    \n",
    "    #Column names for the later created dataframe containing the HBsearch output\n",
    "    HEAD_LST = ['IDENT','ACC','sep1','DONO',':','x','y','z','sep2','a','b']\n",
    "    \n",
    "    #Creating pandas dataframe by reading in the primitive dataframe based on lists from the HBsearch output and setting column names.\n",
    "    df = pd.DataFrame(hbs_split, columns = HEAD_LST)\n",
    "    #Filters dataframe, so only entries containing the partners of a hydrogen bond are listed in the dataframe.\n",
    "    df = df[df[\"IDENT\"] == \"HBOND\"]\n",
    "    \n",
    "    return df"
   ]
  },
  {
   "cell_type": "code",
   "execution_count": 93,
   "id": "67a528bb",
   "metadata": {},
   "outputs": [
    {
     "ename": "SyntaxError",
     "evalue": "invalid syntax (614591910.py, line 1)",
     "output_type": "error",
     "traceback": [
      "\u001b[1;36m  Input \u001b[1;32mIn [93]\u001b[1;36m\u001b[0m\n\u001b[1;33m    def prepareLists(dataframe: pd.DataFrame) -> List, List:\u001b[0m\n\u001b[1;37m                                                     ^\u001b[0m\n\u001b[1;31mSyntaxError\u001b[0m\u001b[1;31m:\u001b[0m invalid syntax\n"
     ]
    }
   ],
   "source": [
    "def prepareLists(dataframe: pd.DataFrame) -> List, List:\n",
    "    \"\"\"\n",
    "    Extracts the acceptors and donors from the HBsearch output into separate lists.\n",
    "    :param dataframe: Dataframe containing the HBsearch output splitted into columns.\n",
    "    :return acceptor: Returns list with acceptor atoms in hydrogen bond with complementary indexes to their partner in the donor list.\n",
    "    :return donor: Returns list with donor atoms in hydrogen bond with complemenary indexes to their partner in the acceptor list.\n",
    "    \"\"\"\n",
    "    \n",
    "    #Extracting important acceptor and donor entries from dataframe containing HBsearch results as separate lists.\n",
    "    acceptor_pre = list(dataframe[\"ACC\"])\n",
    "    donor_pre = list(dataframe [\"DONO\"])\n",
    "    \n",
    "    #Creating lists empty lists for further use. Lists should contain later entries from acceptor and donor entries, respectively, separated by the chain, residue, residue ID, and atom. \n",
    "    acceptor = []\n",
    "    donor = []\n",
    "    \n",
    "    #Separates entries for acceptors in HBsearch output by chain, residue, residue ID, and atom for faciliated reorganisation for PyMol input.\n",
    "    for i in range(len(acceptor_pre)):#only one list can be used for iteration of list index, since each acceptor needs a donor to form a hydrogen bond. So acceptor and donor list need to have same length.\n",
    "        acceptor.append(tuple(acceptor_pre[i].split(\":\")))\n",
    "    #Separates entries for donors in HBsearch output by chain, residue, residue ID, and atom for faciliated reorganisation for PyMol input.    \n",
    "    for j in range(len(donor_pre)):\n",
    "        donor.append(tuple(donor_pre[j].split(\":\")))\n",
    "\n",
    "    return acceptor, donor\n"
   ]
  },
  {
   "cell_type": "code",
   "execution_count": 94,
   "id": "e4042e3c",
   "metadata": {},
   "outputs": [],
   "source": [
    "def displayDistances(acceptor: List, donor: List, object_name: str):\n",
    "    \"\"\"\n",
    "    Displays the hydrogen bonds of the hydrogen bond acceptors and their respective \n",
    "    donors found by the HBsearch run as distances without labeling in PyMol.\n",
    "    :param acceptor: Lists of acceptor atoms with complementary index to their respective donors in donor list. Entry tuples contain chain, residue, residue ID and atom.\n",
    "    :param donor:  Lists of donor atoms with complementary index to their respective donors in acceptor list. Entry tuples contain chain, residue, residue ID and atom.\n",
    "    :param object_name: Name of the object the Hbsearch run was performed on.\n",
    "    \"\"\"\n",
    "    \n",
    "    #Creating list of Hbonds for grouping. Faciliates displaying\n",
    "    bondList = []\n",
    "    \n",
    "    #Displays connection between the acceptor atom and the respective donor atom in pymol. Therfore, creates distance line object\n",
    "    for i in range(len(acceptor)):        \n",
    "        cmd.distance(f\"{object_name}_hydrogenBond_{i}\", #Name of the distance line object\n",
    "                     f\"{object_name}//{acceptor[i][0]}/{acceptor[i][1]}/{acceptor[i][3]}\", #Acceptor molecule. Tuple entries of acceptor list ordered by PyMol selection format.\n",
    "                     f\"{object_name}//{donor[i][0]}/{donor[i][1]}/{donor[i][3]}\", )        #Donor molecule. Tuple entries of acceptor list ordered by PyMol selection format.\n",
    "        \n",
    "        #Creates a list containing each distance object. Faciliates further adjustments of the distance line objects. \n",
    "        bondList.append(f\"{object_name}_hydrogenBond_{i}\")\n",
    "        \n",
    "    #Groups all distance line objects into one cluster for better clarity in PyMol window.\n",
    "    cmd.group(f\"{object_name}_hydrogenBonds\", \" \".join(bondList))\n",
    "    #Hides distance labels (distance in Angstrom) for better clarity.\n",
    "    cmd.hide(\"labels\", f\"{object_name}_HydrogenBonds\")"
   ]
  },
  {
   "cell_type": "code",
   "execution_count": 95,
   "id": "d238dbb9",
   "metadata": {},
   "outputs": [],
   "source": [
    "def showSticks(acceptor: List, donor: List, object_name: str):\n",
    "    \"\"\"\n",
    "    Displays the residues participating in hydrogen bonds as sticks in PyMol.\n",
    "    :param acceptor: Lists of acceptor atoms with complementary index to their respective donors in donor list. Entry tuples contain chain, residue, residue ID and atom.\n",
    "    :param donor: Lists of donor atoms with complementary index to their respective donors in acceptor list. Entry tuples contain chain, residue, residue ID and atom.\n",
    "    :param object_name: Name of the object the Hbsearch run was performed on.\n",
    "    \"\"\"\n",
    "    \n",
    "    #Creating list of residues that should be displayed as sticks. Improves speed of the program by grouping and showing sticks of group.\n",
    "    stickList = []\n",
    "    \n",
    "    #Creating list with all residues participating in hydrogen bonds. Entries are converted to PyMol selection format.\n",
    "    for i in range(len(acceptor)):##maybe possible to modify with zip(); Iterating over all entries\n",
    "        stickList.append(f\"/{object_name}//{acceptor[i][0]}/{acceptor[i][1]}\") #Appending to stick-list all acceptor residues. Residue information is converted to PyMol selection format.\n",
    "        stickList.append(f\"/{object_name}//{donor[i][0]}/{donor[i][1]}\") #Appending to stick-list all donor residues. Residue information is converted to PyMol selection format.\n",
    "    \n",
    "    #Selecting all sticks by selecting all entries in the sticklist\n",
    "    cmd.select(f\"Connections_Sticks_{object_name}\", \" \".join(stickList)) #For selection list entries need to be converted to string, with entries separeated by space character.\n",
    "    cmd.show(\"sticks\", f\"Connections_Sticks_{object_name}\") #Selection is displayed as sticks.\n",
    "    cmd.deselect() #Selection is deselected for better clarity and to spare the user deselecting selection by him-/herself."
   ]
  },
  {
   "cell_type": "code",
   "execution_count": 96,
   "id": "d2ee8c47",
   "metadata": {},
   "outputs": [],
   "source": [
    "def main(molecule:str, molecule_name: str = \"\", directory:str = \".\", \n",
    "         use_object: str = \"0\", remove_object: str = \"1\", hb_file: str = \"hb-define.txt\", \n",
    "         solvent_key:str = \"NONE\", pse_file:str =\"period-table-info.txt\", connections: str = \"0\"):\n",
    "    \"\"\"\n",
    "    Runs HBsearch using a given biomolecule (either fetched by the PDB-ID or using an object of the PyMol session)\n",
    "    and displays the hydrogen bonds occuring in the molecule.\n",
    "    :param molecule: PDB-ID of molecule HBsearch run should be performed on or in case an object in the PyMol session has to be used: The name of the object.\n",
    "    :param molecule_name: If object fetched by PDB-ID. Standard set to blank.\n",
    "    :param directory: Directory of the program folder. Directes working directory in PyMol to entered directory. Obsolete when script is started from program folder and HBsearch is started without changing the directory. Standard set to current working directory (\".\").\n",
    "    :param use_object: If an object in the PyMol session has to be used for the HBsearch run. 0: No; 1: Yes. Standard set to 0. If set to 0. Molecule will be fetched by PDB-ID.\n",
    "    :param remove_object: If created PDB-file in pdb_files folder should be deleted after HBsearch run. 0: No; 1: Yes. Standard set to 0.\n",
    "    :param hb_file: HB-file sued to define possible hydrogen bond interactions. Standard set to hb-define.txt file\n",
    "    :param solvent_key: If hydrogen bond bridges with solvent should be considered. Standard NONE: No solvent H-Bonds. Further possible: HOMO: Homogenous solvent; MEMB: Membrane environment.\n",
    "    :param pse_file: File containing the chemical nature of the atoms. Standard set to period-table.info. To create own one see standard file for structure.\n",
    "    :param connections: If special connections should be taken into account. Here: Hydrogen bonds that would not be recognized by parameters, but could be possible due to rotation of the residues. If connections = 1: Special conncetions will be taken into account. Standard set to 0: No special connectoins will be taken into account.\n",
    "    \"\"\"\n",
    "    \n",
    "    changeDirectory(directory) #Change directory to program folder directory. Needed PyMol directory is not set to program folder for HBsearch run\n",
    "    \n",
    "    #Checks if user wants to use own object in PyMol session or wants to fetch a protein structure from the PDB\n",
    "    if use_object == \"0\": #User wants to fetch a protein from the PDB using a PDB-ID\n",
    "        fetchPDB(molecule, molecule_name) #Uses fetch command to fetch PDB_ID and allows user to name the fetched object in PyMol session.\n",
    "    elif use_object == \"1\": #User wants to use own object.\n",
    "        useObject(molecule) #Object with entered name is saved as pdb-file in the pdb_files folder and is used for the following HBsearch run\n",
    "    \n",
    "    \n",
    "    hbs_output = startHBsearch(molecule, hb_file, solvent_key, pse_file, connections) #Starts an HBsearch run with given parameters. Output is stored\n",
    "    hbs_dataframe = readInHBS(hbs_output) #Converts HBsearch run to dataframe\n",
    "    acceptor, donor = prepareLists(hbs_dataframe) #Prepares acceptor and donor lists for displaying in PyMol\n",
    "    \n",
    "    if molecule_name == \"\": #Checking if custom molecule name was entered: If no name was entered, PDB-ID or saved object name is used.\n",
    "        displayDistances(acceptor, donor, molecule) #Displays distances of hydrogen bond acceptors with their respective donors as distance objects without label in PyMol and groups distance objects according to the strucutre object they are based on.\n",
    "        showSticks(acceptor,donor, molecule) #Shows residues participating in hydrogen bonds as sticks\n",
    "    else: #When molecule name was entered, PyMol strucutre object posses molecule name. So this is used for following PyMol selection based commands.\n",
    "        displayDistances(acceptor, donor, molecule_name) #Displays distances of hydrogen bond acceptors with their respective donors as distance objects without label in PyMol and groups distance objects according to the strucutre object they are based on.\n",
    "        showSticks(acceptor,donor, molecule_name) #Shows residues participating in hydrogen bonds as sticks\n",
    "    \n",
    "    if remove_object == \"1\": #Checks if parameter remove_object is set to 1. If yes: created PDB-file in pdb_files folder is deleted.\n",
    "        removeObject(molecule)"
   ]
  },
  {
   "cell_type": "code",
   "execution_count": 97,
   "id": "a9dfff6c",
   "metadata": {},
   "outputs": [
    {
     "data": {
      "text/plain": [
       "<function __main__.main(molecule: str, molecule_name: str = '', directory: str = '.', use_object: str = '0', remove_object: str = '1', hb_file: str = 'hb-define.txt', solvent_key: str = 'NONE', pse_file: str = 'period-table-info.txt', connections: str = '0')>"
      ]
     },
     "execution_count": 97,
     "metadata": {},
     "output_type": "execute_result"
    }
   ],
   "source": [
    "#Creation of command in PyMol.\n",
    "cmd.extend(\"hbsearch\", main) #When read in in PyMol the script creates a command in PyMol which can be started via the PyMol command line."
   ]
  },
  {
   "cell_type": "markdown",
   "id": "3cbeeae7",
   "metadata": {},
   "source": [
    "# HB-Network - Initialization"
   ]
  },
  {
   "cell_type": "code",
   "execution_count": 98,
   "id": "b1e4e1fd",
   "metadata": {},
   "outputs": [],
   "source": [
    "def createDirectory(molecule_name:str) -> str:\n",
    "    \"\"\"\n",
    "    Creates new directory, containing HBnetwork files later on. directory is created in program folder in ./HB_network/.\n",
    "    Directory name: MoleculeName_Date_Time.\n",
    "    :param molecule_name: Name of the molecule HBnetwork is run on. \n",
    "    :return directory_name: Returns name of created folder in HB_network folder. Needed for guiding HBnetwork.\n",
    "    \"\"\"\n",
    "    #Get current time and format it\n",
    "    current_time = datetime.now()\n",
    "    formated_time = current_time.strftime(\"%Y-%m-%d_%H-%M-%S\")\n",
    "    \n",
    "    #Set folder name in HB_network directory\n",
    "    directory_name = f\"{molecule_name}_{formated_time}\"\n",
    "    \n",
    "    #Create directory with set folder name in HB_network folder\n",
    "    os.mkdir(os.path.normpath(f\"./HB_network/{directory_name}\"))\n",
    "    \n",
    "    return directory_name"
   ]
  },
  {
   "cell_type": "code",
   "execution_count": 99,
   "id": "49601567",
   "metadata": {},
   "outputs": [],
   "source": [
    "def createHBnetwork(molecule: str, directory_name: str, hb_file: str = \"hb-define.txt\", \n",
    "                    solvent_key:str = \"NONE\", pse_file:str =\"period-table-info.txt\", \n",
    "                    connections: str = \"0\"):\n",
    "    \"\"\"\n",
    "    Runs HBnetwork on the entered molecule. Files containing information about the hydrogen bond\n",
    "    clusters are created in the HB_network folder in the program folder in the directory.\n",
    "    Final directory is termed: MoleculeName_Date_Time. Returns summary of all hydrogen bond clusters\n",
    "    :param molecule: Strucutre used for HBsearch run. HBnetwork is run on the same molecule using the output of HBsearch.\n",
    "    :param directory_name: Saving folder for the HBnetwork run in HB_network subfolder in the program folder. \n",
    "    :param hb_file: HB-file sued to define possible hydrogen bond interactions. Standard set to hb-define.txt file\n",
    "    :param solvent_key: If hydrogen bond bridges with solvent should be considered. Standard NONE: No solvent H-Bonds. Further possible: HOMO: Homogenous solvent; MEMB: Membrane environment.\n",
    "    :param pse_file: File containing the chemical nature of the atoms. Standard set to period-table.info. To create own one see standard file for structure.\n",
    "    :param connections: If special connections should be taken into account. Here: Hydrogen bonds that would not be recognized by parameters, but could be possible due to rotation of the residues. If connections = 1: Special conncetions will be taken into account. Standard set to 0: No special connectoins will be taken into account.\n",
    "    :return hbn_output: Summary of all hydrogen bond clusters. Used later for indexing.\n",
    "    \"\"\"\n",
    "    \n",
    "    #Returns operating system the user utilizes. Needed to guide HBsearch/HBnetwork to the correct folders containing appropriate executables.\n",
    "    system = platform.system()\n",
    "    \n",
    "    #Creating a .hb file for the HBnetwork program based. HBsearch run is needed as parameter for HBnetwork run.\n",
    "    hbs_output = startHBsearch(molecule, hb_file, solvent_key, pse_file, connections) #Gathering HBsearch output\n",
    "\n",
    "    with open(os.path.normpath(f\"./HB_network/{directory_name}/{molecule}.hb\"),\"w\") as fh: #writing HBsearch output in textfile in correct directory\n",
    "        fh.write(hbs_output)\n",
    "        \n",
    "    #Runs HBnetwork. Creates output files in HB_network/molecule_date_time/ \n",
    "    cluster_dir = os.path.normpath(f\"./HB_network/{directory_name}\")\n",
    "    hbnetwork_dir = os.path.normpath(f\"../../{system}/hb-network {molecule}.hb\") #Program_dir hb_file_dir\n",
    "    hbn_output = subprocess.run(hbnetwork_dir, cwd = cluster_dir, capture_output=True, shell=True, check = True, text = True).stdout #Runs HBnetwork. Cluster files are created. Summary is given as output\n",
    "    \n",
    "    return hbn_output"
   ]
  },
  {
   "cell_type": "code",
   "execution_count": 100,
   "id": "22274ced",
   "metadata": {},
   "outputs": [],
   "source": [
    "def cleanHBnetwork(directory_name: str):\n",
    "    \"\"\"\n",
    "    Cleans HBnetwork CLUSTER directory of the run, by deleting all files with a size of 0 bytes.\n",
    "    :param directory_name: Name of the directory the HBnetwork cluster files are saved in.\n",
    "    \"\"\"\n",
    "    \n",
    "    ##Deletes not needed files without any network\n",
    "    ##Give later out: If file is not existant than: \"No network found\"\n",
    "    ##Giving networks with aminoacids and with atoms\n",
    "    \n",
    "    directory = os.path.normpath(f\"./HB_network/{directory_name}/CLUSTER\") #By HBnetwork created CLUSTER directory is targeted\n",
    "    \n",
    "    #Files with a size of 0 bytes are deleted since they dont contain clusters.\n",
    "    for file in os.listdir(directory): #Iterating over the directory \n",
    "        \n",
    "        file_dir = os.path.normpath(f\"{directory}/{file}\")\n",
    "        \n",
    "        if os.path.getsize(file_dir) == 0: #Files with a size of 0 bytes are removed\n",
    "            os.remove(file_dir)          \n",
    "    "
   ]
  },
  {
   "cell_type": "code",
   "execution_count": 145,
   "id": "f63c5b70",
   "metadata": {},
   "outputs": [],
   "source": [
    "def indexHbnetwork(hbn_output):\n",
    "    \n",
    "    starting_index = hbn_output.find(\"Cluster\")\n",
    "    hbn_sorted = hbn_output[starting_index:].split(\"\\n\")\n",
    "    \n",
    "    start = 0\n",
    "    cluster_list = []\n",
    "    cluster_dict = {}\n",
    "    for i in range(len(hbn_sorted)):\n",
    "        hbn_sorted[i] = hbn_sorted[i].strip()\n",
    "        if hbn_sorted[i] == \"END\":\n",
    "            cluster_list.append(hbn_sorted[start:i])\n",
    "            start = i + 1\n",
    "    for j in range(len(cluster_list)):\n",
    "        cluster_dict[cluster_list[j][0]] = cluster_list[j][1:-1]\n",
    "    \n",
    "    return cluster_dict\n",
    "#print(indexHbnetwork(createHBnetwork(\"4akr\")))"
   ]
  },
  {
   "cell_type": "code",
   "execution_count": 146,
   "id": "45beda31",
   "metadata": {},
   "outputs": [],
   "source": [
    "def readoutHBnetwork():\n",
    "    pass"
   ]
  },
  {
   "cell_type": "code",
   "execution_count": 147,
   "id": "236d1fdb",
   "metadata": {},
   "outputs": [],
   "source": [
    "def main2(molecule:str, molecule_name = \"\", directory:str = \".\", \n",
    "         use_object: str = \"0\", remove_object = \"1\", hb_file: str = \"hb-define.txt\", \n",
    "         solvent_key:str = \"NONE\", pse_file:str =\"period-table-info.txt\", connections: str = \"0\"):\n",
    "    \n",
    "    \n",
    "    directory_name = createDirectory(molecule)\n",
    "    hbn_output = createHBnetwork(molecule, directory_name)\n",
    "    cleanHBnetwork(directory_name)\n",
    "    hbn_cluster_list = indexHbnetwork(hbn_output)\n",
    "    print(hbn_cluster_list)"
   ]
  },
  {
   "cell_type": "code",
   "execution_count": 148,
   "id": "0bf9683f",
   "metadata": {
    "scrolled": true
   },
   "outputs": [
    {
     "name": "stdout",
     "output_type": "stream",
     "text": [
      "{'Cluster 1:': ['A:3:SER:OG', 'A:6:GLU:OE1', 'A:6:GLU:OE2'], 'Cluster 2:': [], 'Cluster 3:': [], 'Cluster 4:': [], 'Cluster 5:': [], 'Cluster 6:': [], 'Cluster 7:': [], 'Cluster 8:': ['A:12:THR:OG1'], 'Cluster 9:': [], 'Cluster 10:': [], 'Cluster 11:': ['A:17:ASN:OD1', 'B:19:SER:OG', 'B:20:GLN:NE2'], 'Cluster 12:': [], 'Cluster 13:': [], 'Cluster 14:': ['A:22:GLU:OE1', 'B:15:ARG:NE'], 'Cluster 15:': ['A:22:GLU:OE2', 'A:164:SER:OG'], 'Cluster 16:': [], 'Cluster 17:': [], 'Cluster 18:': [], 'Cluster 19:': ['A:29:ASP:OD1', 'A:29:ASP:OD2', 'B:11:ASP:OD1', 'B:15:ARG:NH1'], 'Cluster 20:': ['A:31:ARG:NE', 'A:31:ARG:NH2'], 'Cluster 21:': [], 'Cluster 22:': ['A:36:SER:OG'], 'Cluster 23:': [], 'Cluster 24:': [], 'Cluster 25:': [], 'Cluster 26:': [], 'Cluster 27:': [], 'Cluster 28:': [], 'Cluster 29:': [], 'Cluster 30:': ['A:49:ARG:NE', 'A:73:GLU:OE1', 'A:76:ASN:OD1', 'A:76:ASN:ND2', 'A:77:ASN:OD1', 'A:79:TYR:OH', 'A:92:HIS:ND1', 'A:2015:HOH:O', 'A:2017:HOH:O'], 'Cluster 31:': [], 'Cluster 32:': ['A:49:ARG:NH2'], 'Cluster 33:': ['A:50:GLU:OE1', 'A:50:GLU:OE2'], 'Cluster 34:': ['A:51:TYR:OH', 'A:55:GLN:OE1', 'A:55:GLN:NE2', 'A:58:SER:OG', 'A:60:GLN:NE2', 'A:153:SER:OG', 'A:155:CYS:SG', 'A:166:ARG:NE', 'A:166:ARG:NH1', 'A:166:ARG:NH2', 'A:168:ARG:NE', 'A:168:ARG:NH2', 'A:191:ASN:ND2', 'A:2008:HOH:O', 'A:2009:HOH:O', 'A:2010:HOH:O', 'A:2019:HOH:O', 'A:2020:HOH:O', 'A:2021:HOH:O', 'A:2022:HOH:O', 'A:2023:HOH:O', 'A:2065:HOH:O', 'A:2069:HOH:O'], 'Cluster 35:': [], 'Cluster 36:': [], 'Cluster 37:': [], 'Cluster 38:': ['A:54:SER:OG'], 'Cluster 39:': ['A:60:GLN:OE1', 'A:65:SER:OG', 'C:266:ASN:OD1', 'C:266:ASN:ND2', 'A:2025:HOH:O'], 'Cluster 40:': ['A:61:THR:OG1', 'A:63:LYS:NZ', 'A:81:ASP:OD1', 'A:81:ASP:OD2', 'A:84:ASN:OD1', 'A:84:ASN:ND2', 'A:86:GLN:OE1', 'A:2027:HOH:O', 'A:2028:HOH:O', 'A:2030:HOH:O'], 'Cluster 41:': ['A:62:SER:OG', 'A:86:GLN:NE2', 'A:100:GLU:OE1', 'A:100:GLU:OE2', 'C:261:ASN:ND2', 'C:269:LYS:NZ', 'A:2037:HOH:O', 'C:2052:HOH:O', 'C:2097:HOH:O'], 'Cluster 42:': ['A:69:THR:OG1'], 'Cluster 43:': [], 'Cluster 44:': [], 'Cluster 45:': [], 'Cluster 46:': ['A:77:ASN:ND2', 'A:98:THR:OG1', 'A:2033:HOH:O'], 'Cluster 47:': [], 'Cluster 48:': ['A:78:GLU:OE2', 'A:101:ARG:NH2'], 'Cluster 49:': ['A:83:LYS:NZ'], 'Cluster 50:': [], 'Cluster 51:': [], 'Cluster 52:': [], 'Cluster 53:': [], 'Cluster 54:': ['A:91:ASP:OD2'], 'Cluster 55:': [], 'Cluster 56:': [], 'Cluster 57:': [], 'Cluster 58:': [], 'Cluster 59:': ['A:96:GLU:OE1', 'A:96:GLU:OE2'], 'Cluster 60:': [], 'Cluster 61:': ['A:101:ARG:NH1', 'A:104:SER:OG'], 'Cluster 62:': ['A:102:SER:OG', 'A:2043:HOH:O'], 'Cluster 63:': [], 'Cluster 64:': ['A:108:GLU:OE1', 'A:110:ASP:OD1', 'A:110:ASP:OD2'], 'Cluster 65:': ['A:108:GLU:OE2'], 'Cluster 66:': ['A:109:GLN:OE1'], 'Cluster 67:': ['A:109:GLN:NE2'], 'Cluster 68:': ['A:112:GLU:OE1', 'A:112:GLU:OE2', 'A:115:ARG:NE', 'A:115:ARG:NH1', 'A:115:ARG:NH2', 'A:119:ASP:OD1', 'A:119:ASP:OD2', 'A:2047:HOH:O', 'A:2052:HOH:O'], 'Cluster 69:': [], 'Cluster 70:': ['A:113:GLN:NE2'], 'Cluster 71:': ['A:114:TYR:OH', 'A:214:SER:OG', 'A:220:THR:OG1'], 'Cluster 72:': ['A:120:GLU:OE1'], 'Cluster 73:': [], 'Cluster 74:': ['A:121:GLU:OE1', 'A:121:GLU:OE2', 'A:124:LYS:NZ', 'A:2016:HOH:O', 'A:2056:HOH:O', 'A:2057:HOH:O'], 'Cluster 75:': ['A:125:TYR:OH', 'A:130:TYR:OH', 'A:167:TRP:NE1', 'A:169:SER:OG', 'A:171:TRP:NE1', 'A:232:GLU:OE1', 'A:232:GLU:OE2', 'B:246:ARG:NE', 'B:246:ARG:NH2'], 'Cluster 76:': ['A:126:CYS:SG', 'A:127:ASN:OD1', 'A:135:SER:OG', 'A:2062:HOH:O'], 'Cluster 77:': [], 'Cluster 78:': [], 'Cluster 79:': [], 'Cluster 80:': [], 'Cluster 81:': [], 'Cluster 82:': [], 'Cluster 83:': [], 'Cluster 84:': [], 'Cluster 85:': [], 'Cluster 86:': [], 'Cluster 87:': [], 'Cluster 88:': [], 'Cluster 89:': ['A:154:THR:OG1'], 'Cluster 90:': [], 'Cluster 91:': [], 'Cluster 92:': [], 'Cluster 93:': [], 'Cluster 94:': [], 'Cluster 95:': ['A:168:ARG:NH1', 'A:189:GLN:OE1'], 'Cluster 96:': ['A:172:THR:OG1'], 'Cluster 97:': ['A:173:CYS:SG', 'A:184:SER:OG', 'A:210:THR:OG1', 'A:212:SER:OG', 'A:2077:HOH:O'], 'Cluster 98:': ['A:174:THR:OG1', 'A:185:ASN:OD1', 'A:2073:HOH:O'], 'Cluster 99:': [], 'Cluster 100:': [], 'Cluster 101:': [], 'Cluster 102:': [], 'Cluster 103:': ['A:183:THR:OG1'], 'Cluster 104:': ['A:185:ASN:ND2', 'A:209:GLN:OE1'], 'Cluster 105:': [], 'Cluster 106:': [], 'Cluster 107:': ['A:191:ASN:OD1'], 'Cluster 108:': [], 'Cluster 109:': ['A:194:TYR:OH'], 'Cluster 110:': [], 'Cluster 111:': [], 'Cluster 112:': [], 'Cluster 113:': ['A:199:ASN:OD1'], 'Cluster 114:': ['A:199:ASN:ND2', 'B:20:GLN:OE1', 'B:24:ASN:ND2', 'A:2084:HOH:O', 'B:2002:HOH:O'], 'Cluster 115:': ['A:201:GLN:OE1'], 'Cluster 116:': [], 'Cluster 117:': ['A:204:THR:OG1', 'A:206:THR:OG1'], 'Cluster 118:': ['A:207:GLN:OE1', 'A:2085:HOH:O', 'A:2086:HOH:O', 'A:2087:HOH:O', 'A:2088:HOH:O'], 'Cluster 119:': [], 'Cluster 120:': [], 'Cluster 121:': [], 'Cluster 122:': [], 'Cluster 123:': ['A:216:ASP:OD1', 'A:216:ASP:OD2', 'A:218:GLN:OE1'], 'Cluster 124:': [], 'Cluster 125:': [], 'Cluster 126:': [], 'Cluster 127:': [], 'Cluster 128:': [], 'Cluster 129:': [], 'Cluster 130:': [], 'Cluster 131:': ['A:236:HIS:ND1'], 'Cluster 132:': ['A:236:HIS:NE2', 'A:240:ASP:OD1', 'B:243:ASN:OD1'], 'Cluster 133:': [], 'Cluster 134:': [], 'Cluster 135:': [], 'Cluster 136:': [], 'Cluster 137:': [], 'Cluster 138:': ['A:242:ASN:ND2'], 'Cluster 139:': ['A:243:TYR:OH'], 'Cluster 140:': [], 'Cluster 141:': [], 'Cluster 142:': [], 'Cluster 143:': [], 'Cluster 144:': ['A:249:THR:OG1'], 'Cluster 145:': [], 'Cluster 146:': ['A:255:ARG:NE', 'A:255:ARG:NH2', 'B:107:TYR:OH', 'B:223:GLU:OE1'], 'Cluster 147:': [], 'Cluster 148:': [], 'Cluster 149:': ['A:256:ARG:NH1', 'B:113:GLU:OE1'], 'Cluster 150:': [], 'Cluster 151:': [], 'Cluster 152:': [], 'Cluster 153:': [], 'Cluster 154:': [], 'Cluster 155:': [], 'Cluster 156:': [], 'Cluster 157:': [], 'Cluster 158:': [], 'Cluster 159:': [], 'Cluster 160:': ['A:267:TRP:NE1', 'B:220:GLU:OE1'], 'Cluster 161:': [], 'Cluster 162:': ['A:268:GLN:NE2'], 'Cluster 163:': [], 'Cluster 164:': ['B:2:THR:OG1'], 'Cluster 165:': [], 'Cluster 166:': [], 'Cluster 167:': [], 'Cluster 168:': [], 'Cluster 169:': [], 'Cluster 170:': [], 'Cluster 171:': [], 'Cluster 172:': [], 'Cluster 173:': [], 'Cluster 174:': [], 'Cluster 175:': [], 'Cluster 176:': [], 'Cluster 177:': ['B:22:GLU:OE2'], 'Cluster 178:': [], 'Cluster 179:': [], 'Cluster 180:': [], 'Cluster 181:': ['B:30:ASP:OD1', 'B:30:ASP:OD2', 'B:2008:HOH:O', 'B:2009:HOH:O'], 'Cluster 182:': [], 'Cluster 183:': [], 'Cluster 184:': [], 'Cluster 185:': [], 'Cluster 186:': [], 'Cluster 187:': [], 'Cluster 188:': [], 'Cluster 189:': ['B:41:SER:OG', 'B:63:ASP:OD2'], 'Cluster 190:': [], 'Cluster 191:': ['B:44:ASP:OD1', 'B:45:GLN:OE1', 'B:2007:HOH:O', 'B:2012:HOH:O', 'B:2014:HOH:O'], 'Cluster 192:': ['B:44:ASP:OD2', 'B:174:THR:OG1', 'B:196:THR:OG1'], 'Cluster 193:': [], 'Cluster 194:': [], 'Cluster 195:': [], 'Cluster 196:': ['B:52:ASP:OD2', 'B:55:SER:OG', 'B:73:SER:OG', 'B:76:SER:OG'], 'Cluster 197:': [], 'Cluster 198:': ['B:57:LYS:NZ', 'B:105:GLU:OE1'], 'Cluster 199:': [], 'Cluster 200:': ['B:58:ASP:OD2'], 'Cluster 201:': ['B:59:TYR:OH', 'B:80:ASP:OD2', 'B:2006:HOH:O', 'B:2016:HOH:O', 'B:2017:HOH:O', 'B:2018:HOH:O', 'B:2019:HOH:O'], 'Cluster 202:': ['B:62:CYS:SG'], 'Cluster 203:': ['B:63:ASP:OD1', 'B:66:ARG:NH1', 'B:71:TYR:OH'], 'Cluster 204:': [], 'Cluster 205:': ['B:65:ASN:ND2', 'B:118:SER:OG'], 'Cluster 206:': [], 'Cluster 207:': [], 'Cluster 208:': [], 'Cluster 209:': [], 'Cluster 210:': [], 'Cluster 211:': [], 'Cluster 212:': ['B:70:SER:OG'], 'Cluster 213:': [], 'Cluster 214:': ['B:72:ARG:NH1', 'B:72:ARG:NH2', 'B:94:ARG:NH1', 'B:97:GLU:OE1'], 'Cluster 215:': [], 'Cluster 216:': [], 'Cluster 217:': ['B:77:ASN:ND2', 'B:94:ARG:NE', 'B:94:ARG:NH2', 'B:2027:HOH:O', 'B:2028:HOH:O', 'B:2029:HOH:O', 'B:2030:HOH:O', 'B:2031:HOH:O'], 'Cluster 218:': [], 'Cluster 219:': [], 'Cluster 220:': ['B:80:ASP:OD1'], 'Cluster 221:': ['B:84:SER:OG'], 'Cluster 222:': [], 'Cluster 223:': ['B:88:TYR:OH', 'B:2034:HOH:O', 'B:2035:HOH:O', 'B:2036:HOH:O'], 'Cluster 224:': ['B:90:SER:OG'], 'Cluster 225:': [], 'Cluster 226:': [], 'Cluster 227:': [], 'Cluster 228:': [], 'Cluster 229:': [], 'Cluster 230:': ['B:99:GLN:NE2', 'B:212:CYS:SG'], 'Cluster 231:': [], 'Cluster 232:': [], 'Cluster 233:': [], 'Cluster 234:': [], 'Cluster 235:': [], 'Cluster 236:': [], 'Cluster 237:': ['B:111:TYR:OH'], 'Cluster 238:': [], 'Cluster 239:': [], 'Cluster 240:': [], 'Cluster 241:': ['B:123:ASP:OD1'], 'Cluster 242:': [], 'Cluster 243:': [], 'Cluster 244:': [], 'Cluster 245:': [], 'Cluster 246:': [], 'Cluster 247:': [], 'Cluster 248:': ['B:135:LYS:NZ', 'B:152:ASP:OD1', 'B:152:ASP:OD2', 'B:2042:HOH:O'], 'Cluster 249:': [], 'Cluster 250:': [], 'Cluster 251:': [], 'Cluster 252:': [], 'Cluster 253:': [], 'Cluster 254:': [], 'Cluster 255:': [], 'Cluster 256:': [], 'Cluster 257:': [], 'Cluster 258:': [], 'Cluster 259:': ['B:151:TRP:NE1', 'B:153:SER:OG'], 'Cluster 260:': [], 'Cluster 261:': ['B:155:HIS:NE2'], 'Cluster 262:': [], 'Cluster 263:': [], 'Cluster 264:': [], 'Cluster 265:': [], 'Cluster 266:': [], 'Cluster 267:': [], 'Cluster 268:': [], 'Cluster 269:': [], 'Cluster 270:': ['B:169:TYR:OH', 'B:211:HIS:ND1'], 'Cluster 271:': [], 'Cluster 272:': ['B:172:THR:OG1'], 'Cluster 273:': [], 'Cluster 274:': [], 'Cluster 275:': [], 'Cluster 276:': ['B:181:THR:OG1', 'B:183:ASN:OD1', 'B:183:ASN:ND2'], 'Cluster 277:': [], 'Cluster 278:': [], 'Cluster 279:': [], 'Cluster 280:': [], 'Cluster 281:': [], 'Cluster 282:': [], 'Cluster 283:': ['B:188:LYS:NZ'], 'Cluster 284:': [], 'Cluster 285:': [], 'Cluster 286:': [], 'Cluster 287:': [], 'Cluster 288:': [], 'Cluster 289:': [], 'Cluster 290:': ['B:199:ASP:OD1'], 'Cluster 291:': [], 'Cluster 292:': [], 'Cluster 293:': [], 'Cluster 294:': [], 'Cluster 295:': [], 'Cluster 296:': [], 'Cluster 297:': [], 'Cluster 298:': [], 'Cluster 299:': [], 'Cluster 300:': [], 'Cluster 301:': [], 'Cluster 302:': [], 'Cluster 303:': [], 'Cluster 304:': [], 'Cluster 305:': [], 'Cluster 306:': [], 'Cluster 307:': [], 'Cluster 308:': [], 'Cluster 309:': [], 'Cluster 310:': [], 'Cluster 311:': [], 'Cluster 312:': [], 'Cluster 313:': [], 'Cluster 314:': [], 'Cluster 315:': ['B:228:GLN:NE2', 'B:229:THR:OG1'], 'Cluster 316:': [], 'Cluster 317:': [], 'Cluster 318:': ['B:232:THR:OG1'], 'Cluster 319:': [], 'Cluster 320:': ['B:237:LYS:NZ', 'B:240:GLU:OE1'], 'Cluster 321:': [], 'Cluster 322:': [], 'Cluster 323:': ['B:247:ASN:OD1'], 'Cluster 324:': [], 'Cluster 325:': [], 'Cluster 326:': [], 'Cluster 327:': [], 'Cluster 328:': ['C:3:SER:OG'], 'Cluster 329:': ['C:4:ASN:OD1', 'C:2001:HOH:O', 'C:2002:HOH:O', 'C:2003:HOH:O', 'C:2005:HOH:O'], 'Cluster 330:': ['C:4:ASN:ND2', 'C:2004:HOH:O'], 'Cluster 331:': [], 'Cluster 332:': ['C:5:GLN:NE2'], 'Cluster 333:': [], 'Cluster 334:': [], 'Cluster 335:': [], 'Cluster 336:': [], 'Cluster 337:': [], 'Cluster 338:': [], 'Cluster 339:': ['C:17:ASN:OD1', 'D:20:GLN:OE1', 'D:24:ASN:OD1', 'D:24:ASN:ND2', 'C:2010:HOH:O', 'C:2011:HOH:O', 'C:2080:HOH:O'], 'Cluster 340:': ['C:17:ASN:ND2'], 'Cluster 341:': [], 'Cluster 342:': ['C:22:GLU:OE1'], 'Cluster 343:': ['C:22:GLU:OE2', 'C:164:SER:OG'], 'Cluster 344:': [], 'Cluster 345:': ['C:25:GLU:OE2'], 'Cluster 346:': [], 'Cluster 347:': [], 'Cluster 348:': ['C:29:ASP:OD2', 'D:11:ASP:OD1'], 'Cluster 349:': [], 'Cluster 350:': [], 'Cluster 351:': [], 'Cluster 352:': ['C:36:SER:OG', 'C:38:SER:OG', 'C:2021:HOH:O'], 'Cluster 353:': [], 'Cluster 354:': [], 'Cluster 355:': [], 'Cluster 356:': [], 'Cluster 357:': [], 'Cluster 358:': ['C:46:SER:OG', 'C:76:ASN:ND2', 'C:2023:HOH:O', 'C:2024:HOH:O', 'C:2026:HOH:O'], 'Cluster 359:': ['C:47:THR:OG1', 'C:2027:HOH:O'], 'Cluster 360:': ['C:49:ARG:NE', 'C:49:ARG:NH2', 'C:73:GLU:OE1', 'C:73:GLU:OE2', 'C:79:TYR:OH'], 'Cluster 361:': [], 'Cluster 362:': ['C:50:GLU:OE1', 'C:50:GLU:OE2', 'C:53:THR:OG1', 'C:54:SER:OG'], 'Cluster 363:': ['C:51:TYR:OH', 'C:52:ASN:OD1', 'C:55:GLN:NE2', 'C:58:SER:OG', 'C:95:GLN:NE2', 'C:153:SER:OG', 'C:154:THR:OG1', 'C:155:CYS:SG', 'C:166:ARG:NE', 'C:166:ARG:NH1', 'C:166:ARG:NH2', 'C:2009:HOH:O', 'C:2015:HOH:O', 'C:2016:HOH:O', 'C:2030:HOH:O', 'C:2034:HOH:O', 'C:2035:HOH:O', 'C:2036:HOH:O', 'C:2037:HOH:O', 'C:2061:HOH:O'], 'Cluster 364:': ['C:52:ASN:ND2'], 'Cluster 365:': ['C:55:GLN:OE1', 'C:168:ARG:NE', 'C:168:ARG:NH1', 'C:168:ARG:NH2', 'C:189:GLN:OE1', 'C:189:GLN:NE2', 'C:191:ASN:OD1', 'C:191:ASN:ND2', 'C:203:ASN:ND2', 'C:2012:HOH:O', 'C:2013:HOH:O', 'C:2032:HOH:O', 'C:2033:HOH:O', 'C:2070:HOH:O', 'C:2071:HOH:O', 'C:2072:HOH:O'], 'Cluster 366:': [], 'Cluster 367:': [], 'Cluster 368:': ['C:61:THR:OG1', 'C:81:ASP:OD1', 'C:81:ASP:OD2', 'C:84:ASN:ND2'], 'Cluster 369:': ['C:62:SER:OG', 'C:86:GLN:OE1'], 'Cluster 370:': [], 'Cluster 371:': [], 'Cluster 372:': ['C:69:THR:OG1'], 'Cluster 373:': [], 'Cluster 374:': ['C:71:GLU:OE2', 'C:140:THR:OG1', 'C:149:THR:OG1', 'C:2043:HOH:O'], 'Cluster 375:': ['C:75:SER:OG'], 'Cluster 376:': ['C:76:ASN:OD1', 'C:77:ASN:OD1', 'C:2025:HOH:O'], 'Cluster 377:': ['C:77:ASN:ND2'], 'Cluster 378:': ['C:78:GLU:OE2', 'C:89:THR:OG1', 'C:101:ARG:NE', 'C:101:ARG:NH1', 'C:101:ARG:NH2', 'C:104:SER:OG', 'C:106:GLU:OE1', 'C:106:GLU:OE2', 'C:2049:HOH:O', 'C:2050:HOH:O', 'C:2051:HOH:O'], 'Cluster 379:': ['C:83:LYS:NZ'], 'Cluster 380:': [], 'Cluster 381:': [], 'Cluster 382:': [], 'Cluster 383:': [], 'Cluster 384:': [], 'Cluster 385:': [], 'Cluster 386:': [], 'Cluster 387:': [], 'Cluster 388:': [], 'Cluster 389:': [], 'Cluster 390:': [], 'Cluster 391:': [], 'Cluster 392:': ['C:108:GLU:OE1'], 'Cluster 393:': [], 'Cluster 394:': [], 'Cluster 395:': [], 'Cluster 396:': [], 'Cluster 397:': [], 'Cluster 398:': ['C:112:GLU:OE1'], 'Cluster 399:': ['C:112:GLU:OE2'], 'Cluster 400:': [], 'Cluster 401:': [], 'Cluster 402:': [], 'Cluster 403:': ['C:115:ARG:NH1', 'C:119:ASP:OD1', 'C:119:ASP:OD2'], 'Cluster 404:': [], 'Cluster 405:': [], 'Cluster 406:': ['C:121:GLU:OE1', 'C:121:GLU:OE2', 'C:124:LYS:NZ', 'C:2057:HOH:O'], 'Cluster 407:': ['C:125:TYR:OH', 'C:130:TYR:OH', 'C:167:TRP:NE1', 'C:169:SER:OG', 'C:171:TRP:NE1', 'C:232:GLU:OE1', 'C:232:GLU:OE2', 'D:246:ARG:NE'], 'Cluster 408:': ['C:126:CYS:SG', 'C:127:ASN:OD1', 'C:135:SER:OG', 'C:2059:HOH:O'], 'Cluster 409:': [], 'Cluster 410:': [], 'Cluster 411:': ['C:128:GLU:OE2'], 'Cluster 412:': [], 'Cluster 413:': ['C:132:ASN:ND2'], 'Cluster 414:': ['C:143:SER:OG'], 'Cluster 415:': [], 'Cluster 416:': [], 'Cluster 417:': [], 'Cluster 418:': [], 'Cluster 419:': [], 'Cluster 420:': [], 'Cluster 421:': ['C:160:ASN:OD1'], 'Cluster 422:': [], 'Cluster 423:': [], 'Cluster 424:': ['C:172:THR:OG1', 'C:2039:HOH:O'], 'Cluster 425:': [], 'Cluster 426:': ['C:174:THR:OG1', 'C:185:ASN:OD1', 'C:185:ASN:ND2', 'C:209:GLN:OE1', 'C:2074:HOH:O', 'C:2075:HOH:O'], 'Cluster 427:': [], 'Cluster 428:': [], 'Cluster 429:': [], 'Cluster 430:': [], 'Cluster 431:': [], 'Cluster 432:': [], 'Cluster 433:': ['C:187:LYS:NZ', 'C:2031:HOH:O'], 'Cluster 434:': [], 'Cluster 435:': ['C:194:TYR:OH'], 'Cluster 436:': [], 'Cluster 437:': [], 'Cluster 438:': [], 'Cluster 439:': ['C:199:ASN:OD1', 'C:201:GLN:OE1', 'C:201:GLN:NE2'], 'Cluster 440:': [], 'Cluster 441:': ['C:203:ASN:OD1'], 'Cluster 442:': [], 'Cluster 443:': ['C:206:THR:OG1'], 'Cluster 444:': [], 'Cluster 445:': [], 'Cluster 446:': ['C:208:LYS:NZ', 'D:185:ASN:OD1', 'C:2083:HOH:O'], 'Cluster 447:': ['C:209:GLN:NE2', 'C:211:THR:OG1', 'C:2084:HOH:O'], 'Cluster 448:': [], 'Cluster 449:': [], 'Cluster 450:': [], 'Cluster 451:': ['C:216:ASP:OD1', 'C:216:ASP:OD2', 'C:218:GLN:OE1', 'C:219:SER:OG'], 'Cluster 452:': [], 'Cluster 453:': [], 'Cluster 454:': [], 'Cluster 455:': [], 'Cluster 456:': [], 'Cluster 457:': [], 'Cluster 458:': [], 'Cluster 459:': [], 'Cluster 460:': ['C:236:HIS:ND1'], 'Cluster 461:': [], 'Cluster 462:': [], 'Cluster 463:': ['C:240:ASP:OD1', 'D:243:ASN:OD1', 'D:243:ASN:ND2'], 'Cluster 464:': ['C:240:ASP:OD2'], 'Cluster 465:': ['C:241:ASN:OD1'], 'Cluster 466:': [], 'Cluster 467:': [], 'Cluster 468:': ['C:242:ASN:ND2'], 'Cluster 469:': [], 'Cluster 470:': [], 'Cluster 471:': [], 'Cluster 472:': ['C:248:ASP:OD1'], 'Cluster 473:': [], 'Cluster 474:': [], 'Cluster 475:': [], 'Cluster 476:': ['C:255:ARG:NE', 'C:255:ARG:NH1', 'C:255:ARG:NH2', 'C:264:LYS:NZ', 'D:107:TYR:OH', 'D:111:TYR:OH', 'D:220:GLU:OE2', 'D:223:GLU:OE1', 'D:224:SER:OG', 'C:2095:HOH:O', 'C:2098:HOH:O'], 'Cluster 477:': [], 'Cluster 478:': ['C:256:ARG:NH1', 'D:113:GLU:OE1'], 'Cluster 479:': [], 'Cluster 480:': [], 'Cluster 481:': [], 'Cluster 482:': ['C:262:ARG:NH1'], 'Cluster 483:': [], 'Cluster 484:': [], 'Cluster 485:': ['C:267:TRP:NE1'], 'Cluster 486:': [], 'Cluster 487:': ['C:268:GLN:NE2'], 'Cluster 488:': [], 'Cluster 489:': [], 'Cluster 490:': [], 'Cluster 491:': [], 'Cluster 492:': [], 'Cluster 493:': [], 'Cluster 494:': ['D:4:LYS:NZ'], 'Cluster 495:': [], 'Cluster 496:': [], 'Cluster 497:': ['D:7:SER:OG', 'D:8:CYS:SG', 'D:2001:HOH:O', 'D:2002:HOH:O'], 'Cluster 498:': [], 'Cluster 499:': ['D:11:ASP:OD2'], 'Cluster 500:': ['D:14:ARG:NE', 'D:14:ARG:NH2', 'D:2004:HOH:O'], 'Cluster 501:': [], 'Cluster 502:': ['D:19:SER:OG'], 'Cluster 503:': [], 'Cluster 504:': [], 'Cluster 505:': [], 'Cluster 506:': [], 'Cluster 507:': ['D:30:ASP:OD1', 'D:30:ASP:OD2'], 'Cluster 508:': ['D:34:ASP:OD1', 'D:34:ASP:OD2'], 'Cluster 509:': ['D:36:THR:OG1'], 'Cluster 510:': [], 'Cluster 511:': [], 'Cluster 512:': [], 'Cluster 513:': [], 'Cluster 514:': [], 'Cluster 515:': [], 'Cluster 516:': [], 'Cluster 517:': ['D:44:ASP:OD2', 'D:174:THR:OG1', 'D:196:THR:OG1'], 'Cluster 518:': ['D:45:GLN:OE1'], 'Cluster 519:': ['D:45:GLN:NE2', 'D:63:ASP:OD1', 'D:66:ARG:NH1', 'D:71:TYR:OH', 'D:2007:HOH:O', 'D:2010:HOH:O', 'D:2019:HOH:O', 'D:2022:HOH:O', 'D:2023:HOH:O', 'D:2029:HOH:O', 'D:2030:HOH:O'], 'Cluster 520:': [], 'Cluster 521:': ['D:51:TYR:OH', 'D:56:LYS:NZ', 'D:2024:HOH:O'], 'Cluster 522:': [], 'Cluster 523:': ['D:52:ASP:OD2', 'D:55:SER:OG'], 'Cluster 524:': ['D:57:LYS:NZ', 'D:101:ASN:OD1', 'D:102:GLU:OE1', 'D:105:GLU:OE1', 'D:105:GLU:OE2', 'D:117:SER:OG', 'D:2026:HOH:O', 'D:2027:HOH:O', 'D:2028:HOH:O', 'D:2052:HOH:O', 'D:2053:HOH:O'], 'Cluster 525:': [], 'Cluster 526:': [], 'Cluster 527:': [], 'Cluster 528:': ['D:62:CYS:SG'], 'Cluster 529:': [], 'Cluster 530:': [], 'Cluster 531:': [], 'Cluster 532:': [], 'Cluster 533:': [], 'Cluster 534:': ['D:67:ASP:OD1'], 'Cluster 535:': ['D:67:ASP:OD2'], 'Cluster 536:': [], 'Cluster 537:': [], 'Cluster 538:': ['D:70:SER:OG'], 'Cluster 539:': [], 'Cluster 540:': ['D:72:ARG:NH1', 'D:72:ARG:NH2', 'D:94:ARG:NH1', 'D:97:GLU:OE1'], 'Cluster 541:': [], 'Cluster 542:': [], 'Cluster 543:': [], 'Cluster 544:': ['D:77:ASN:ND2', 'D:94:ARG:NE', 'D:94:ARG:NH2', 'D:102:GLU:OE2', 'D:2012:HOH:O', 'D:2035:HOH:O', 'D:2036:HOH:O', 'D:2037:HOH:O', 'D:2038:HOH:O', 'D:2040:HOH:O'], 'Cluster 545:': [], 'Cluster 546:': ['D:80:ASP:OD1', 'D:80:ASP:OD2'], 'Cluster 547:': ['D:84:SER:OG'], 'Cluster 548:': [], 'Cluster 549:': ['D:88:TYR:OH', 'D:2044:HOH:O'], 'Cluster 550:': ['D:90:SER:OG'], 'Cluster 551:': ['D:91:SER:OG', 'D:95:ASP:OD1'], 'Cluster 552:': [], 'Cluster 553:': [], 'Cluster 554:': ['D:99:GLN:OE1', 'D:210:THR:OG1'], 'Cluster 555:': [], 'Cluster 556:': [], 'Cluster 557:': [], 'Cluster 558:': [], 'Cluster 559:': [], 'Cluster 560:': [], 'Cluster 561:': [], 'Cluster 562:': [], 'Cluster 563:': ['D:123:ASP:OD2'], 'Cluster 564:': [], 'Cluster 565:': [], 'Cluster 566:': [], 'Cluster 567:': [], 'Cluster 568:': [], 'Cluster 569:': [], 'Cluster 570:': ['D:135:LYS:NZ', 'D:152:ASP:OD1', 'D:152:ASP:OD2', 'D:2058:HOH:O', 'D:2059:HOH:O'], 'Cluster 571:': ['D:136:LYS:NZ'], 'Cluster 572:': [], 'Cluster 573:': [], 'Cluster 574:': [], 'Cluster 575:': [], 'Cluster 576:': [], 'Cluster 577:': [], 'Cluster 578:': [], 'Cluster 579:': ['D:150:THR:OG1', 'D:178:SER:OG', 'D:2063:HOH:O'], 'Cluster 580:': [], 'Cluster 581:': [], 'Cluster 582:': ['D:155:HIS:ND1'], 'Cluster 583:': ['D:155:HIS:NE2'], 'Cluster 584:': ['D:158:GLU:OE1'], 'Cluster 585:': ['D:158:GLU:OE2', 'D:170:LYS:NZ', 'D:172:THR:OG1', 'D:198:GLN:NE2', 'D:2066:HOH:O'], 'Cluster 586:': [], 'Cluster 587:': [], 'Cluster 588:': [], 'Cluster 589:': ['D:165:ASP:OD2', 'D:166:LYS:NZ', 'D:202:GLU:OE1', 'D:204:THR:OG1', 'D:2067:HOH:O'], 'Cluster 590:': ['D:169:TYR:OH', 'D:211:HIS:ND1'], 'Cluster 591:': [], 'Cluster 592:': ['D:180:GLU:OE2'], 'Cluster 593:': ['D:181:THR:OG1'], 'Cluster 594:': [], 'Cluster 595:': [], 'Cluster 596:': ['D:183:ASN:ND2', 'D:185:ASN:ND2'], 'Cluster 597:': [], 'Cluster 598:': [], 'Cluster 599:': [], 'Cluster 600:': [], 'Cluster 601:': [], 'Cluster 602:': [], 'Cluster 603:': [], 'Cluster 604:': [], 'Cluster 605:': ['D:197:ARG:NH2', 'D:199:ASP:OD2', 'D:221:ASP:OD2', 'D:225:LYS:NZ', 'D:2073:HOH:O'], 'Cluster 606:': [], 'Cluster 607:': ['D:199:ASP:OD1', 'D:201:LYS:NZ'], 'Cluster 608:': [], 'Cluster 609:': [], 'Cluster 610:': [], 'Cluster 611:': [], 'Cluster 612:': [], 'Cluster 613:': [], 'Cluster 614:': [], 'Cluster 615:': [], 'Cluster 616:': ['D:209:ASP:OD1'], 'Cluster 617:': [], 'Cluster 618:': [], 'Cluster 619:': [], 'Cluster 620:': [], 'Cluster 621:': [], 'Cluster 622:': ['D:227:ARG:NE'], 'Cluster 623:': [], 'Cluster 624:': [], 'Cluster 625:': [], 'Cluster 626:': [], 'Cluster 627:': ['D:229:THR:OG1'], 'Cluster 628:': [], 'Cluster 629:': [], 'Cluster 630:': ['D:232:THR:OG1'], 'Cluster 631:': [], 'Cluster 632:': ['D:237:LYS:NZ'], 'Cluster 633:': [], 'Cluster 634:': [], 'Cluster 635:': [], 'Cluster 636:': [], 'Cluster 637:': [], 'Cluster 638:': [], 'Cluster 639:': [], 'Cluster 640:': [], 'Cluster 641:': [], 'Cluster 642:': [], 'Cluster 643:': ['A:2013:HOH:O'], 'Cluster 644:': [], 'Cluster 645:': ['A:2024:HOH:O'], 'Cluster 646:': [], 'Cluster 647:': [], 'Cluster 648:': ['A:2032:HOH:O'], 'Cluster 649:': [], 'Cluster 650:': [], 'Cluster 651:': [], 'Cluster 652:': ['A:2048:HOH:O'], 'Cluster 653:': [], 'Cluster 654:': [], 'Cluster 655:': [], 'Cluster 656:': [], 'Cluster 657:': [], 'Cluster 658:': [], 'Cluster 659:': [], 'Cluster 660:': [], 'Cluster 661:': [], 'Cluster 662:': [], 'Cluster 663:': [], 'Cluster 664:': [], 'Cluster 665:': [], 'Cluster 666:': [], 'Cluster 667:': [], 'Cluster 668:': [], 'Cluster 669:': [], 'Cluster 670:': [], 'Cluster 671:': [], 'Cluster 672:': ['B:2045:HOH:O'], 'Cluster 673:': [], 'Cluster 674:': [], 'Cluster 675:': [], 'Cluster 676:': [], 'Cluster 677:': [], 'Cluster 678:': [], 'Cluster 679:': [], 'Cluster 680:': [], 'Cluster 681:': [], 'Cluster 682:': [], 'Cluster 683:': [], 'Cluster 684:': [], 'Cluster 685:': [], 'Cluster 686:': [], 'Cluster 687:': [], 'Cluster 688:': [], 'Cluster 689:': [], 'Cluster 690:': [], 'Cluster 691:': [], 'Cluster 692:': [], 'Cluster 693:': [], 'Cluster 694:': ['C:2093:HOH:O'], 'Cluster 695:': [], 'Cluster 696:': [], 'Cluster 697:': [], 'Cluster 698:': [], 'Cluster 699:': [], 'Cluster 700:': [], 'Cluster 701:': [], 'Cluster 702:': [], 'Cluster 703:': ['D:2041:HOH:O'], 'Cluster 704:': [], 'Cluster 705:': [], 'Cluster 706:': [], 'Cluster 707:': [], 'Cluster 708:': ['D:2061:HOH:O'], 'Cluster 709:': [], 'Cluster 710:': []}\n"
     ]
    }
   ],
   "source": [
    "main2(\"4akr\")"
   ]
  },
  {
   "cell_type": "code",
   "execution_count": 38,
   "id": "b08ab054",
   "metadata": {},
   "outputs": [
    {
     "name": "stdout",
     "output_type": "stream",
     "text": [
      "C:\\Users\\Alex\\Desktop\\HBonds_Project\\hbonds_search_pymol\n"
     ]
    }
   ],
   "source": [
    "print(os.getcwd())"
   ]
  },
  {
   "cell_type": "code",
   "execution_count": 25,
   "id": "43dc6e8e",
   "metadata": {},
   "outputs": [
    {
     "name": "stdout",
     "output_type": "stream",
     "text": [
      "2022-09-29_16-49-44\n"
     ]
    }
   ],
   "source": [
    "    current_time = datetime.now()\n",
    "    formated_time = current_time.strftime(\"%Y-%m-%d_%H-%M-%S\")\n",
    "    print(formated_time)"
   ]
  },
  {
   "cell_type": "code",
   "execution_count": null,
   "id": "f0f23109",
   "metadata": {},
   "outputs": [],
   "source": []
  }
 ],
 "metadata": {
  "kernelspec": {
   "display_name": "Python 3 (ipykernel)",
   "language": "python",
   "name": "python3"
  },
  "language_info": {
   "codemirror_mode": {
    "name": "ipython",
    "version": 3
   },
   "file_extension": ".py",
   "mimetype": "text/x-python",
   "name": "python",
   "nbconvert_exporter": "python",
   "pygments_lexer": "ipython3",
   "version": "3.9.12"
  }
 },
 "nbformat": 4,
 "nbformat_minor": 5
}
