{
 "cells": [
  {
   "cell_type": "markdown",
   "id": "0d218b9e",
   "metadata": {},
   "source": [
    "# GUI hbond"
   ]
  },
  {
   "cell_type": "markdown",
   "id": "8d15486f",
   "metadata": {},
   "source": [
    "### Initialization"
   ]
  },
  {
   "cell_type": "code",
   "execution_count": 118,
   "id": "35c0b7d4",
   "metadata": {},
   "outputs": [],
   "source": [
    "import pandas as pd\n",
    "import subprocess\n",
    "import os\n",
    "from pymol import cmd, stored\n",
    "import platform\n",
    "from typing import List, Dict\n",
    "from datetime import datetime"
   ]
  },
  {
   "cell_type": "markdown",
   "id": "84b68126",
   "metadata": {},
   "source": [
    "### Functions"
   ]
  },
  {
   "cell_type": "code",
   "execution_count": 119,
   "id": "b809abdc",
   "metadata": {},
   "outputs": [
    {
     "data": {
      "text/plain": [
       "'\\ndef form(pdbstr, x):\\n    \\'\\'\\'\\n    Part of lambda function to format dataframe to Pymol compatible form:\\n    from \"A:183:LEU:O\" to \"/2akr/A/A/LEU`183/O\"\\n    :param pdbstr: pdb code of handled structure\\n    :param x: entry within dataframe\\n    \\'\\'\\'\\n    temp = x.split(\\':\\')\\n    x = f\\'/{pdbstr}//{temp[0]}/{temp[2]}/{temp[3]}\\'\\n    return x\\n\\ndef pymol_display(df):\\n    \\'\\'\\'\\n    \\'\\'\\'\\n    zilis = list(zip(df[\\'ACC\\'].tolist(), df[\\'DONO\\'].tolist()))\\n    for i in zilis:\\n        cmd.distance( i[0] , i[1])\\n    \\ndef hbsearch(pdbstr:str) -> pd.DataFrame():\\n    \\'\\'\\'\\n    Executing hb_search with set parameters and extract HBOND-entries from output\\n    :return df_hbond: Dataframe with all HBOND entries from hb_search output \\n    \\'\\'\\'\\n    \\n    HEAD_LST = [\\'IDENT\\',\\'ACC\\',\\'sep1\\',\\'DONO\\',\\':\\',\\'x\\',\\'y\\',\\'z\\',\\'sep2\\',\\'a\\',\\'b\\']\\n    \\n    # Setting environment variable\\n    os.environ[\\'PSE_FILE\\'] = \\'period-table-info.txt\\'\\n    \\n    # Executing hb_search\\n    hbs = subprocess.run(f\"./hb-search -hb hb-define.txt {pdbstr}.pdb\", \\n                         stdout=subprocess.PIPE, shell=True, check=True, text=True)\\n    \\n    # Decode and format hb_search output\\n    hbs_hbb = [i for i in hbs.stdout.split(\\'\\n\\') if i[0:5] == \"HBOND\"]\\n    hbs_splt = [i.split() for i in hbs_hbb]\\n\\n    # Return dataframe\\n    df_hbond = pd.DataFrame(hbs_splt, columns = HEAD_LST)\\n    \\n    df_hbond = df_hbond[[\\'ACC\\', \\'DONO\\']]\\n    df_hbond[\\'ACC\\'] = df_hbond[\\'ACC\\'].map(lambda x: form(pdbstr,x) )\\n    df_hbond[\\'DONO\\'] = df_hbond[\\'DONO\\'].map(lambda x: form(pdbstr,x) )\\n    \\n    pymol_display(df_hbond)\\n    \\n    return df_hbond\\n\\n#cmd.extend(\\'hbsearch\\', hbsearch)'"
      ]
     },
     "execution_count": 119,
     "metadata": {},
     "output_type": "execute_result"
    }
   ],
   "source": [
    "\"\"\"\n",
    "def form(pdbstr, x):\n",
    "    '''\n",
    "    Part of lambda function to format dataframe to Pymol compatible form:\n",
    "    from \"A:183:LEU:O\" to \"/2akr/A/A/LEU`183/O\"\n",
    "    :param pdbstr: pdb code of handled structure\n",
    "    :param x: entry within dataframe\n",
    "    '''\n",
    "    temp = x.split(':')\n",
    "    x = f'/{pdbstr}//{temp[0]}/{temp[2]}/{temp[3]}'\n",
    "    return x\n",
    "\n",
    "def pymol_display(df):\n",
    "    '''\n",
    "    '''\n",
    "    zilis = list(zip(df['ACC'].tolist(), df['DONO'].tolist()))\n",
    "    for i in zilis:\n",
    "        cmd.distance( i[0] , i[1])\n",
    "    \n",
    "def hbsearch(pdbstr:str) -> pd.DataFrame():\n",
    "    '''\n",
    "    Executing hb_search with set parameters and extract HBOND-entries from output\n",
    "    :return df_hbond: Dataframe with all HBOND entries from hb_search output \n",
    "    '''\n",
    "    \n",
    "    HEAD_LST = ['IDENT','ACC','sep1','DONO',':','x','y','z','sep2','a','b']\n",
    "    \n",
    "    # Setting environment variable\n",
    "    os.environ['PSE_FILE'] = 'period-table-info.txt'\n",
    "    \n",
    "    # Executing hb_search\n",
    "    hbs = subprocess.run(f\"./hb-search -hb hb-define.txt {pdbstr}.pdb\", \n",
    "                         stdout=subprocess.PIPE, shell=True, check=True, text=True)\n",
    "    \n",
    "    # Decode and format hb_search output\n",
    "    hbs_hbb = [i for i in hbs.stdout.split('\\n') if i[0:5] == \"HBOND\"]\n",
    "    hbs_splt = [i.split() for i in hbs_hbb]\n",
    "\n",
    "    # Return dataframe\n",
    "    df_hbond = pd.DataFrame(hbs_splt, columns = HEAD_LST)\n",
    "    \n",
    "    df_hbond = df_hbond[['ACC', 'DONO']]\n",
    "    df_hbond['ACC'] = df_hbond['ACC'].map(lambda x: form(pdbstr,x) )\n",
    "    df_hbond['DONO'] = df_hbond['DONO'].map(lambda x: form(pdbstr,x) )\n",
    "    \n",
    "    pymol_display(df_hbond)\n",
    "    \n",
    "    return df_hbond\n",
    "\n",
    "#cmd.extend('hbsearch', hbsearch)\"\"\""
   ]
  },
  {
   "cell_type": "markdown",
   "id": "ae60d5e0",
   "metadata": {},
   "source": [
    "# HB-Search"
   ]
  },
  {
   "cell_type": "code",
   "execution_count": 120,
   "id": "a28bf399",
   "metadata": {},
   "outputs": [],
   "source": [
    "def changeDirectory(programDirectory: str = \".\"):\n",
    "    \"\"\"\n",
    "    Changes working directory to the folder containing the needed programs. \n",
    "    Path to program folder needs to be entered if started from other location\n",
    "    :param programDirectory: Path to the program folder. Standard: Set to current working directroy\n",
    "    \"\"\"\n",
    "    \n",
    "    #Changes working directory to the entered path adjusted to the operating system used.\n",
    "    cmd.cd(os.path.normpath(programDirectory))\n",
    "    #os.chdir(os.path.normpath(programDirectory)) #can be deleted?\n",
    "    # Usefull if we want to give an error! To tell the person in which directory they are located!\n",
    "    #cwd = os.getcwd()"
   ]
  },
  {
   "cell_type": "code",
   "execution_count": 121,
   "id": "2f33b694",
   "metadata": {},
   "outputs": [],
   "source": [
    "def useObject(input_molecule: str):\n",
    "    \"\"\"\n",
    "    Enables to use a chosen object of the pymol session for HBsearch/HBnetwork.\n",
    "    Saves the chosen object as pdb-file in the pdb_files folder of the program folder\n",
    "    under the name of the object.\n",
    "    :param input_molecule: pymol object name of the structure that should be used for the HBsearch/HBnetwork run\n",
    "    \"\"\"\n",
    "    \n",
    "    #Saves pymol object by its name in the pdb_files folder.\n",
    "    cmd.save(os.path.normpath(f\"./pdb_files/{input_molecule}.pdb\"), input_molecule)"
   ]
  },
  {
   "cell_type": "code",
   "execution_count": 122,
   "id": "76438daf",
   "metadata": {},
   "outputs": [],
   "source": [
    "def removeObject(input_molecule: str):\n",
    "    \"\"\"\n",
    "    Removes pdb-file of chosen object name. Used after HBsearch run for deleting unwanted data.\n",
    "    :param input_molecule: Name of the molecule to be removed.\n",
    "    \"\"\"\n",
    "    \n",
    "    #Removes pdb-file from pdb_files ordner by entered name.\n",
    "    os.remove(os.path.normpath(f\"./pdb_files/{input_molecule}.pdb\"))"
   ]
  },
  {
   "cell_type": "code",
   "execution_count": 123,
   "id": "3ba8c1e0",
   "metadata": {},
   "outputs": [],
   "source": [
    "def fetchPDB(pdbID: str, object_name: str = \"\"):\n",
    "    \"\"\"\n",
    "    Fetched PDB-file by PDB-ID to pymol session and sets object name in pymol session.\n",
    "    PDB-file is saved under the PDB-ID in pdb_files folder.\n",
    "    If PDB-file is already existant with same name. No new file will be fetched.\n",
    "    Internet conncetion required.\n",
    "    :param pdbID: PDB-ID of protein structure to be fetched and used for HBsearch/HBnetwork run.\n",
    "    :param object_name: Name the pdb file shoudl be displayed as in the pymol session.\n",
    "    \"\"\"\n",
    "    \n",
    "    #Checks if a specific name is chosen. If no name is chosen, file will be named after the PDB-ID.\n",
    "    if object_name == \"\":\n",
    "        object_name = pdbID\n",
    "        \n",
    "    #setting fetch_path to desired folder\n",
    "    cmd.set(\"fetch_path\", os.path.normpath(\"./pdb_files/\"))\n",
    "    \n",
    "    #fetching pdb file if not in folder\n",
    "    cmd.fetch(pdbID, name = object_name, type = \"pdb\")"
   ]
  },
  {
   "cell_type": "code",
   "execution_count": 124,
   "id": "e51cd920",
   "metadata": {
    "scrolled": false
   },
   "outputs": [],
   "source": [
    "def startHBsearch(molecule: str, hb_file: str, solvent_key:str, pse_file:str, connections: str) -> str:\n",
    "    \"\"\"\n",
    "    Starts the HBsearch run. HBsearch finds hydrogen bonds based on a set of parameters based on the chemical nature\n",
    "    of the atoms of the protein/cofactor/nucleic acid (maximal Van-der-Waals radii and maximal covalent radii) and their distances to each other.\n",
    "    Possible pairs forming hydrogen bonds are listed in the hb-define file. Chemical nature of atoms are listed in period-table.info file as standard.\n",
    "    :param molecule: Strucutre used for HBsearch run\n",
    "    :param hb_file: HB-file sued to define possible hydrogen bond interactions. Standard set to hb-define.txt file\n",
    "    :param solvent_key: If hydrogen bond bridges with solvent should be considered. Standard NONE: No solvent H-Bonds. Further possible: HOMO: Homogenous solvent; MEMB: Membrane environment.\n",
    "    :param pse_file: File containing the chemical nature of the atoms. Standard set to period-table.info. To create own one see standard file for structure.\n",
    "    :param connections: If special connections should be taken into account. Here: Hydrogen bonds that would not be recognized by parameters, but could be possible due to rotation of the residues. If connections = 1: Special conncetions will be taken into account. Standard set to 0: No special connectoins will be taken into account.\n",
    "    :return hbs_output: Returns string with the output of the HBsearch run.\n",
    "    \"\"\"\n",
    "\n",
    "    # Setting environment variable. Sets chemical nature of atoms.\n",
    "    os.environ['PSE_FILE'] = pse_file\n",
    "    # Determine operation system to start correct HBsearch application.\n",
    "    system = platform.system()\n",
    "    # Executing hb_search with chosen parameters\n",
    "    hbs_output = subprocess.run(os.path.normpath(f\"./{system}/hb-search -hb {hb_file} -solv {solvent_key} -con {connections} ./pdb_files/{molecule}.pdb\"), capture_output=True, shell=True, check = True, text = True).stdout\n",
    "    \n",
    "    return hbs_output"
   ]
  },
  {
   "cell_type": "code",
   "execution_count": 125,
   "id": "20ff1acc",
   "metadata": {},
   "outputs": [],
   "source": [
    "def readInHBS(hbs_output: str) -> pd.DataFrame():\n",
    "    \"\"\"\n",
    "    Reads in HBsearch output and converts it to pandas dataframe for further processing.\n",
    "    :param hbs_output: HBsearch output as string:\n",
    "    :return df: Returns dataframe containing sorted and filtered HBsearch results\n",
    "    \"\"\"\n",
    "    \n",
    "    #Creates a list with each line of the HBsearch output being assigned to an entry in the list.\n",
    "    hbs_rows = [i for i in hbs_output.split('\\n')]\n",
    "    #Splits the entries in the row-list further, creating an array with the first order list containing the rows and the second order list separating by column.\n",
    "    hbs_split = [i.split() for i in hbs_rows]\n",
    "    \n",
    "    #Column names for the later created dataframe containing the HBsearch output\n",
    "    HEAD_LST = ['IDENT','ACC','sep1','DONO',':','x','y','z','sep2','a','b']\n",
    "    \n",
    "    #Creating pandas dataframe by reading in the primitive dataframe based on lists from the HBsearch output and setting column names.\n",
    "    df = pd.DataFrame(hbs_split, columns = HEAD_LST)\n",
    "    #Filters dataframe, so only entries containing the partners of a hydrogen bond are listed in the dataframe.\n",
    "    df = df[df[\"IDENT\"] == \"HBOND\"]\n",
    "    \n",
    "    return df"
   ]
  },
  {
   "cell_type": "code",
   "execution_count": 126,
   "id": "67a528bb",
   "metadata": {},
   "outputs": [],
   "source": [
    "def prepareLists(dataframe: pd.DataFrame) -> List:\n",
    "    \"\"\"\n",
    "    Extracts the acceptors and donors from the HBsearch/HBnetwork output into separate lists.\n",
    "    :param dataframe: Dataframe containing the HBsearch/HBnetwork output splitted into columns.\n",
    "    :return acceptor: Returns list with acceptor atoms in hydrogen bond with complementary indexes to their partner in the donor list.\n",
    "    :return donor: Returns list with donor atoms in hydrogen bond with complemenary indexes to their partner in the acceptor list.\n",
    "    \"\"\"\n",
    "    \n",
    "    #Extracting important acceptor and donor entries from dataframe containing HBsearch results as separate lists.\n",
    "    acceptor_pre = list(dataframe[\"ACC\"])\n",
    "    donor_pre = list(dataframe [\"DONO\"])\n",
    "    \n",
    "    #Creating lists empty lists for further use. Lists should contain later entries from acceptor and donor entries, respectively, separated by the chain, residue, residue ID, and atom. \n",
    "    acceptor = []\n",
    "    donor = []\n",
    "    \n",
    "    #Separates entries for acceptors in HBsearch output by chain, residue, residue ID, and atom for faciliated reorganisation for PyMol input.\n",
    "    for i in range(len(acceptor_pre)):#only one list can be used for iteration of list index, since each acceptor needs a donor to form a hydrogen bond. So acceptor and donor list need to have same length.\n",
    "        acceptor.append(tuple(acceptor_pre[i].split(\":\")))\n",
    "    #Separates entries for donors in HBsearch output by chain, residue, residue ID, and atom for faciliated reorganisation for PyMol input.    \n",
    "    for j in range(len(donor_pre)):\n",
    "        donor.append(tuple(donor_pre[j].split(\":\")))\n",
    "\n",
    "    return acceptor, donor\n"
   ]
  },
  {
   "cell_type": "code",
   "execution_count": 127,
   "id": "e4042e3c",
   "metadata": {},
   "outputs": [],
   "source": [
    "def displayDistances(acceptor: List, donor: List, object_name: str):\n",
    "    \"\"\"\n",
    "    Displays the hydrogen bonds of the hydrogen bond acceptors and their respective \n",
    "    donors found by the HBsearch run as distances without labeling in PyMol.\n",
    "    :param acceptor: Lists of acceptor atoms with complementary index to their respective donors in donor list. Entry tuples contain chain, residue, residue ID and atom.\n",
    "    :param donor:  Lists of donor atoms with complementary index to their respective donors in acceptor list. Entry tuples contain chain, residue, residue ID and atom.\n",
    "    :param object_name: Name of the object the Hbsearch run was performed on.\n",
    "    \"\"\"\n",
    "    \n",
    "    #Creating list of Hbonds for grouping. Faciliates displaying\n",
    "    bondList = []\n",
    "    \n",
    "    #Displays connection between the acceptor atom and the respective donor atom in pymol. Therfore, creates distance line object\n",
    "    for i in range(len(acceptor)):        \n",
    "        cmd.distance(f\"{object_name}_hydrogenBond_{i}\", #Name of the distance line object\n",
    "                     f\"{object_name}//{acceptor[i][0]}/{acceptor[i][1]}/{acceptor[i][3]}\", #Acceptor molecule. Tuple entries of acceptor list ordered by PyMol selection format.\n",
    "                     f\"{object_name}//{donor[i][0]}/{donor[i][1]}/{donor[i][3]}\", )        #Donor molecule. Tuple entries of acceptor list ordered by PyMol selection format.\n",
    "        \n",
    "        #Creates a list containing each distance object. Faciliates further adjustments of the distance line objects. \n",
    "        bondList.append(f\"{object_name}_hydrogenBond_{i}\")\n",
    "        \n",
    "    #Groups all distance line objects into one cluster for better clarity in PyMol window.\n",
    "    cmd.group(f\"{object_name}_hydrogenBonds\", \" \".join(bondList))\n",
    "    #Hides distance labels (distance in Angstrom) for better clarity.\n",
    "    cmd.hide(\"labels\", f\"{object_name}_HydrogenBonds\")"
   ]
  },
  {
   "cell_type": "code",
   "execution_count": 128,
   "id": "d238dbb9",
   "metadata": {},
   "outputs": [],
   "source": [
    "def showSticks(acceptor: List, donor: List, object_name: str):\n",
    "    \"\"\"\n",
    "    Displays the residues participating in hydrogen bonds as sticks in PyMol.\n",
    "    :param acceptor: Lists of acceptor atoms with complementary index to their respective donors in donor list. Entry tuples contain chain, residue, residue ID and atom.\n",
    "    :param donor: Lists of donor atoms with complementary index to their respective donors in acceptor list. Entry tuples contain chain, residue, residue ID and atom.\n",
    "    :param object_name: Name of the object the Hbsearch run was performed on.\n",
    "    \"\"\"\n",
    "    \n",
    "    #Creating list of residues that should be displayed as sticks. Improves speed of the program by grouping and showing sticks of group.\n",
    "    stickList = []\n",
    "    \n",
    "    #Creating list with all residues participating in hydrogen bonds. Entries are converted to PyMol selection format.\n",
    "    for i in range(len(acceptor)):##maybe possible to modify with zip(); Iterating over all entries\n",
    "        stickList.append(f\"/{object_name}//{acceptor[i][0]}/{acceptor[i][1]}\") #Appending to stick-list all acceptor residues. Residue information is converted to PyMol selection format.\n",
    "        stickList.append(f\"/{object_name}//{donor[i][0]}/{donor[i][1]}\") #Appending to stick-list all donor residues. Residue information is converted to PyMol selection format.\n",
    "    \n",
    "    #Selecting all sticks by selecting all entries in the sticklist\n",
    "    cmd.select(f\"Connections_Sticks_{object_name}\", \" \".join(stickList)) #For selection list entries need to be converted to string, with entries separeated by space character.\n",
    "    cmd.show(\"sticks\", f\"Connections_Sticks_{object_name}\") #Selection is displayed as sticks.\n",
    "    cmd.deselect() #Selection is deselected for better clarity and to spare the user deselecting selection by him-/herself."
   ]
  },
  {
   "cell_type": "code",
   "execution_count": 129,
   "id": "d2ee8c47",
   "metadata": {},
   "outputs": [],
   "source": [
    "def hbsearch(molecule:str, molecule_name: str = \"\", directory:str = \".\", \n",
    "         use_object: str = \"0\", remove_object: str = \"1\", hb_file: str = \"hb-define.txt\", \n",
    "         solvent_key:str = \"NONE\", pse_file:str =\"period-table-info.txt\", connections: str = \"0\"):\n",
    "    \"\"\"\n",
    "    Runs HBsearch using a given biomolecule (either fetched by the PDB-ID or using an object of the PyMol session)\n",
    "    and displays the hydrogen bonds occuring in the molecule.\n",
    "    :param molecule: PDB-ID of molecule HBsearch run should be performed on or in case an object in the PyMol session has to be used: The name of the object.\n",
    "    :param molecule_name: If object fetched by PDB-ID. Standard set to blank.\n",
    "    :param directory: Directory of the program folder. Directes working directory in PyMol to entered directory. Obsolete when script is started from program folder and HBsearch is started without changing the directory. Standard set to current working directory (\".\").\n",
    "    :param use_object: If an object in the PyMol session has to be used for the HBsearch run. 0: No; 1: Yes. Standard set to 0. If set to 0. Molecule will be fetched by PDB-ID.\n",
    "    :param remove_object: If created PDB-file in pdb_files folder should be deleted after HBsearch run. 0: No; 1: Yes. Standard set to 0.\n",
    "    :param hb_file: HB-file sued to define possible hydrogen bond interactions. Standard set to hb-define.txt file\n",
    "    :param solvent_key: If hydrogen bond bridges with solvent should be considered. Standard NONE: No solvent H-Bonds. Further possible: HOMO: Homogenous solvent; MEMB: Membrane environment.\n",
    "    :param pse_file: File containing the chemical nature of the atoms. Standard set to period-table.info. To create own one see standard file for structure.\n",
    "    :param connections: If special connections should be taken into account. Here: Hydrogen bonds that would not be recognized by parameters, but could be possible due to rotation of the residues. If connections = 1: Special conncetions will be taken into account. Standard set to 0: No special connectoins will be taken into account.\n",
    "    \"\"\"\n",
    "    \n",
    "    changeDirectory(directory) #Change directory to program folder directory. Needed PyMol directory is not set to program folder for HBsearch run\n",
    "    \n",
    "    #Checks if user wants to use own object in PyMol session or wants to fetch a protein structure from the PDB\n",
    "    if use_object == \"0\": #User wants to fetch a protein from the PDB using a PDB-ID\n",
    "        fetchPDB(molecule, molecule_name) #Uses fetch command to fetch PDB_ID and allows user to name the fetched object in PyMol session.\n",
    "    elif use_object == \"1\": #User wants to use own object.\n",
    "        useObject(molecule) #Object with entered name is saved as pdb-file in the pdb_files folder and is used for the following HBsearch run\n",
    "    \n",
    "    \n",
    "    hbs_output = startHBsearch(molecule, hb_file, solvent_key, pse_file, connections) #Starts an HBsearch run with given parameters. Output is stored\n",
    "    hbs_dataframe = readInHBS(hbs_output) #Converts HBsearch run to dataframe\n",
    "    acceptor, donor = prepareLists(hbs_dataframe) #Prepares acceptor and donor lists for displaying in PyMol\n",
    "    \n",
    "    if molecule_name == \"\": #Checking if custom molecule name was entered: If no name was entered, PDB-ID or saved object name is used.\n",
    "        displayDistances(acceptor, donor, molecule) #Displays distances of hydrogen bond acceptors with their respective donors as distance objects without label in PyMol and groups distance objects according to the strucutre object they are based on.\n",
    "        showSticks(acceptor,donor, molecule) #Shows residues participating in hydrogen bonds as sticks\n",
    "    else: #When molecule name was entered, PyMol strucutre object posses molecule name. So this is used for following PyMol selection based commands.\n",
    "        displayDistances(acceptor, donor, molecule_name) #Displays distances of hydrogen bond acceptors with their respective donors as distance objects without label in PyMol and groups distance objects according to the strucutre object they are based on.\n",
    "        showSticks(acceptor,donor, molecule_name) #Shows residues participating in hydrogen bonds as sticks\n",
    "    \n",
    "    if remove_object == \"1\": #Checks if parameter remove_object is set to 1. If yes: created PDB-file in pdb_files folder is deleted.\n",
    "        removeObject(molecule)"
   ]
  },
  {
   "cell_type": "code",
   "execution_count": 130,
   "id": "a9dfff6c",
   "metadata": {},
   "outputs": [
    {
     "data": {
      "text/plain": [
       "<function __main__.hbsearch(molecule: str, molecule_name: str = '', directory: str = '.', use_object: str = '0', remove_object: str = '1', hb_file: str = 'hb-define.txt', solvent_key: str = 'NONE', pse_file: str = 'period-table-info.txt', connections: str = '0')>"
      ]
     },
     "execution_count": 130,
     "metadata": {},
     "output_type": "execute_result"
    }
   ],
   "source": [
    "#Creation of command in PyMol.\n",
    "cmd.extend(\"hbsearch\", hbsearch) #When read in in PyMol the script creates a command in PyMol which can be started via the PyMol command line."
   ]
  },
  {
   "cell_type": "markdown",
   "id": "3cbeeae7",
   "metadata": {},
   "source": [
    "# HB-Network - Initialization"
   ]
  },
  {
   "cell_type": "code",
   "execution_count": 131,
   "id": "b1e4e1fd",
   "metadata": {},
   "outputs": [],
   "source": [
    "def createDirectory(molecule_name:str) -> str:\n",
    "    \"\"\"\n",
    "    Creates new directory, containing HBnetwork files later on. directory is created in program folder in ./HB_network/.\n",
    "    Directory name: MoleculeName_Date_Time.\n",
    "    :param molecule_name: Name of the molecule HBnetwork is run on. \n",
    "    :return directory_name: Returns name of created folder in HB_network folder. Needed for guiding HBnetwork.\n",
    "    \"\"\"\n",
    "    #Get current time and format it\n",
    "    current_time = datetime.now()\n",
    "    formated_time = current_time.strftime(\"%Y-%m-%d_%H-%M-%S\")\n",
    "    \n",
    "    #Set folder name in HB_network directory\n",
    "    directory_name = f\"{molecule_name}_{formated_time}\"\n",
    "    \n",
    "    #Create directory with set folder name in HB_network folder\n",
    "    os.mkdir(os.path.normpath(f\"./HB_network/{directory_name}\"))\n",
    "    \n",
    "    #Informs user, where cluster files will be saved.\n",
    "    print(f\"HBnetwork run will be saved in\", os.path.normpath(f\"HB_network/{directory_name}\"))\n",
    "    \n",
    "    return directory_name"
   ]
  },
  {
   "cell_type": "code",
   "execution_count": 132,
   "id": "49601567",
   "metadata": {},
   "outputs": [],
   "source": [
    "def createHBnetwork(molecule: str, directory_name: str, hb_file: str = \"hb-define.txt\", \n",
    "                    solvent_key:str = \"NONE\", pse_file:str =\"period-table-info.txt\", \n",
    "                    connections: str = \"0\"):\n",
    "    \"\"\"\n",
    "    Runs HBnetwork on the entered molecule. Files containing information about the hydrogen bond\n",
    "    clusters are created in the HB_network folder in the program folder in the directory.\n",
    "    Final directory is termed: MoleculeName_Date_Time. Returns summary of all hydrogen bond clusters\n",
    "    :param molecule: Strucutre used for HBsearch run. HBnetwork is run on the same molecule using the output of HBsearch.\n",
    "    :param directory_name: Saving folder for the HBnetwork run in HB_network subfolder in the program folder. \n",
    "    :param hb_file: HB-file sued to define possible hydrogen bond interactions. Standard set to hb-define.txt file\n",
    "    :param solvent_key: If hydrogen bond bridges with solvent should be considered. Standard NONE: No solvent H-Bonds. Further possible: HOMO: Homogenous solvent; MEMB: Membrane environment.\n",
    "    :param pse_file: File containing the chemical nature of the atoms. Standard set to period-table.info. To create own one see standard file for structure.\n",
    "    :param connections: If special connections should be taken into account. Here: Hydrogen bonds that would not be recognized by parameters, but could be possible due to rotation of the residues. If connections = 1: Special conncetions will be taken into account. Standard set to 0: No special connectoins will be taken into account.\n",
    "    :return hbn_output: Summary of all hydrogen bond clusters. Used later for indexing.\n",
    "    \"\"\"\n",
    "    \n",
    "    #Returns operating system the user utilizes. Needed to guide HBsearch/HBnetwork to the correct folders containing appropriate executables.\n",
    "    system = platform.system()\n",
    "    \n",
    "    #Creating a .hb file for the HBnetwork program based. HBsearch run is needed as parameter for HBnetwork run.\n",
    "    hbs_output = startHBsearch(molecule, hb_file, solvent_key, pse_file, connections) #Gathering HBsearch output\n",
    "\n",
    "    with open(os.path.normpath(f\"./HB_network/{directory_name}/{molecule}.hb\"),\"w\") as fh: #writing HBsearch output in textfile in correct directory\n",
    "        fh.write(hbs_output)\n",
    "        \n",
    "    #Runs HBnetwork. Creates output files in HB_network/molecule_date_time/ \n",
    "    cluster_dir = os.path.normpath(f\"./HB_network/{directory_name}\")\n",
    "    hbnetwork_dir = os.path.normpath(f\"../../{system}/hb-network {molecule}.hb\") #Program_dir hb_file_dir\n",
    "    hbn_output = subprocess.run(hbnetwork_dir, cwd = cluster_dir, capture_output=True, shell=True, check = True, text = True).stdout #Runs HBnetwork. Cluster files are created. Summary is given as output\n",
    "    \n",
    "    return hbn_output"
   ]
  },
  {
   "cell_type": "code",
   "execution_count": 133,
   "id": "22274ced",
   "metadata": {},
   "outputs": [],
   "source": [
    "def cleanHBnetwork(directory_name: str):\n",
    "    \"\"\"\n",
    "    Cleans HBnetwork CLUSTER directory of the run, by deleting all files with a size of 0 bytes.\n",
    "    :param directory_name: Name of the directory the HBnetwork cluster files are saved in.\n",
    "    \"\"\"\n",
    "    \n",
    "    ##Deletes not needed files without any network\n",
    "    ##Give later out: If file is not existant than: \"No network found\"\n",
    "    ##Giving networks with aminoacids and with atoms\n",
    "    \n",
    "    directory = os.path.normpath(f\"./HB_network/{directory_name}/CLUSTER\") #By HBnetwork created CLUSTER directory is targeted\n",
    "    \n",
    "    #Files with a size of 0 bytes are deleted since they dont contain clusters.\n",
    "    for file in os.listdir(directory): #Iterating over the directory \n",
    "        \n",
    "        file_dir = os.path.normpath(f\"{directory}/{file}\")\n",
    "        \n",
    "        if os.path.getsize(file_dir) == 0: #Files with a size of 0 bytes are removed\n",
    "            os.remove(file_dir)          \n",
    "    "
   ]
  },
  {
   "cell_type": "code",
   "execution_count": 134,
   "id": "f63c5b70",
   "metadata": {},
   "outputs": [],
   "source": [
    "def indexHbnetwork(hbn_output: str):\n",
    "    \"\"\"\n",
    "    Creates a dictionary with each atom participating in hydrogen bonds. Atoms are set as keys, the respective cluster\n",
    "    is set as value. Needed for later searching of the correct hydrogen bond cluster containg the hydrogen bond network\n",
    "    the selected atom participates. \n",
    "    :param hbn_output: Output of HBnetwork run. Contains summary of all clusters, containing each participating atom uniquly in a cluster.\n",
    "    :return cluster_dict: Returns a dictionary containg the clusters as values and the atoms in it as unique keys. Used as index dictionary for search of correct file later on.\n",
    "    \"\"\"\n",
    "    #Only using the last part of the HBnetwork output: The cluster summary\n",
    "    starting_index = hbn_output.find(\"Cluster\") #Finding the start of the summary\n",
    "    hbn_sorted = hbn_output[starting_index:].split(\"\\n\") #Slicing the output string and splitting the resulting summary by lines\n",
    "    \n",
    "    #Start index for sorting the splitted output by cluster entries\n",
    "    start = 0 \n",
    "    \n",
    "    #Creating list and dictionary for indexed HBnetwork summary\n",
    "    cluster_list = []\n",
    "    cluster_dict = {}\n",
    "    \n",
    "    #Creating a list containing each cluster as an separate entry\n",
    "    for i in range(len(hbn_sorted)):\n",
    "        hbn_sorted[i] = hbn_sorted[i].strip() #Stripping the entries, since otherwise \\t might interefere later on\n",
    "        if hbn_sorted[i] == \"END\": #END as marker that respective cluster entry ended\n",
    "            cluster_list.append(hbn_sorted[start:i]) #Appending the cluster entry without the \"END\"\n",
    "            start = i + 1 #Setting new start index one later than the last \"END\"\n",
    "            \n",
    "    #Creating dictionary with the cluster containing the selected atom as a value and the atom as the unique key.\n",
    "    for j in range(len(cluster_list)): #Iterating over all cluster entries\n",
    "        for k in range(1,len(cluster_list[j])): #Iterating over all atoms in that entry. Index 0 is spared out, since it contains the cluster number\n",
    "            \n",
    "            #Removing residue name from entry for faciliated data selection and processing in further steps\n",
    "            cluster_atom_list = cluster_list[j][k].split(\":\") #Splitting the string to a list\n",
    "            cluster_atom_list.pop(2) #Removing the residue three letter code from the entry\n",
    "            cluster_atom_key = \"/\".join(cluster_atom_list) #Joining it again with format as it will be used later on, oriented on PyMol selection format\n",
    "            \n",
    "            #Creating variable for dictionary value containing the cluster in which atom (key) participates.\n",
    "            #Processes cluster name to correct format, faciliating later use.\n",
    "            #\" \" is replaced with \"-\". \"Cluster\" is lowered to \"cluster\". \":\" at the end is cut off\n",
    "            #Final format: \"cluster-1\"\n",
    "            cluster_number = cluster_list[j][0].replace(\" \",\"-\").lower()[:-1]\n",
    "            \n",
    "            #Filling dictionary with atom as key and cluster as value\n",
    "            cluster_dict[cluster_atom_key] = cluster_number #Setting the cluster as value to the atom as the key.\n",
    "    \n",
    "    return cluster_dict"
   ]
  },
  {
   "cell_type": "code",
   "execution_count": 135,
   "id": "236d1fdb",
   "metadata": {},
   "outputs": [],
   "source": [
    "def initiateHBnetwork(molecule:str, molecule_name = \"\", directory:str = \".\", \n",
    "         use_object: str = \"0\", remove_object = \"0\", hb_file: str = \"hb-define.txt\", \n",
    "         solvent_key:str = \"NONE\", pse_file:str =\"period-table-info.txt\", connections: str = \"0\"):\n",
    "    \"\"\"\n",
    "    \n",
    "    \"\"\"\n",
    "    changeDirectory(directory) #Change directory to program folder directory. Needed PyMol directory is not set to program folder for HBnetwork run\n",
    "    \n",
    "    #Checks if user wants to use own object in PyMol session or wants to fetch a protein structure from the PDB\n",
    "    if use_object == \"0\": #User wants to fetch a protein from the PDB using a PDB-ID\n",
    "        fetchPDB(molecule, molecule_name) #Uses fetch command to fetch PDB_ID and allows user to name the fetched object in PyMol session.\n",
    "    elif use_object == \"1\": #User wants to use own object.\n",
    "        useObject(molecule) #Object with entered name is saved as pdb-file in the pdb_files folder and is used for the following HBsearch run\n",
    "    \n",
    "    #Creating directory for HB_network run, where cluster files are going to be saved.\n",
    "    #Directory_name variable is set to global, since it will be needed later on and program does not have to be rerun every time.\n",
    "    global directory_name\n",
    "    directory_name = createDirectory(molecule)\n",
    "    \n",
    "    #Running HBsearch, since output is needed for HBnetwork run.\n",
    "    hbn_output = createHBnetwork(molecule, directory_name)\n",
    "    \n",
    "    #########Cleans HB_network folder from empty cluster files. Improving search efficiency later on.\n",
    "    #Could also be deleted, since not necessairy for function.\n",
    "    #cleanHBnetwork(directory_name)\n",
    "    \n",
    "    #Creating a global variable for the indexing dictionary\n",
    "    #Needed, since function should be only called once to initiate the dictionary and not recall it everytime again.\n",
    "    global hbn_cluster_dict\n",
    "    \n",
    "    #Created cluster dictionary serving as an indexing dictionary later on\n",
    "    #Most important step for initalization.\n",
    "    #Variable assigned to output is global, so can be used later on without recalling the function.\n",
    "    hbn_cluster_dict = indexHbnetwork(hbn_output)\n",
    "    \n",
    "    #Checks if parameter remove_object is set to 1. If yes: created PDB-file in pdb_files folder is deleted.\n",
    "    if remove_object == \"1\":\n",
    "        removeObject(molecule)    "
   ]
  },
  {
   "cell_type": "code",
   "execution_count": 136,
   "id": "0bf9683f",
   "metadata": {},
   "outputs": [
    {
     "name": "stdout",
     "output_type": "stream",
     "text": [
      "HBnetwork run will be saved in HB_network\\4AKR_2022-10-06_17-57-08\n",
      "4AKR_2022-10-06_17-57-08\n",
      "{'A/3/OG': 'cluster-1', 'A/6/OE1': 'cluster-1', 'A/6/OE2': 'cluster-1', 'A/2004/O': 'cluster-1', 'A/4/OD1': 'cluster-2', 'A/4/ND2': 'cluster-3', 'A/5/OE1': 'cluster-4', 'A/5/NE2': 'cluster-5', 'A/9/OE1': 'cluster-6', 'A/9/NE2': 'cluster-7', 'A/12/OG1': 'cluster-8', 'A/2005/O': 'cluster-8', 'A/13/OD1': 'cluster-9', 'A/13/ND2': 'cluster-10', 'A/17/OD1': 'cluster-11', 'B/19/OG': 'cluster-11', 'B/20/NE2': 'cluster-11', 'B/2005/O': 'cluster-11', 'A/17/ND2': 'cluster-12', 'A/21/SG': 'cluster-13', 'A/22/OE1': 'cluster-14', 'B/15/NE': 'cluster-14', 'B/15/NH2': 'cluster-14', 'A/22/OE2': 'cluster-15', 'A/164/OG': 'cluster-15', 'A/193/NE2': 'cluster-15', 'A/25/OE1': 'cluster-16', 'A/25/OE2': 'cluster-17', 'A/28/OG': 'cluster-18', 'A/29/OD1': 'cluster-19', 'A/29/OD2': 'cluster-19', 'B/11/OD1': 'cluster-19', 'B/15/NH1': 'cluster-19', 'A/2011/O': 'cluster-19', 'A/31/NE': 'cluster-20', 'A/31/NH2': 'cluster-20', 'A/2012/O': 'cluster-20', 'A/31/NH1': 'cluster-21', 'A/36/OG': 'cluster-22', 'A/38/OG': 'cluster-22', 'A/37/OE1': 'cluster-23', 'A/37/OE2': 'cluster-24', 'A/41/OD1': 'cluster-25', 'A/41/ND2': 'cluster-26', 'A/43/OG': 'cluster-27', 'A/46/OG': 'cluster-28', 'A/47/OG1': 'cluster-29', 'A/49/NE': 'cluster-30', 'A/73/OE1': 'cluster-30', 'A/76/OD1': 'cluster-30', 'A/76/ND2': 'cluster-30', 'A/77/OD1': 'cluster-30', 'A/79/OH': 'cluster-30', 'A/92/ND1': 'cluster-30', 'A/2015/O': 'cluster-30', 'A/2017/O': 'cluster-30', 'A/2034/O': 'cluster-30', 'A/49/NH1': 'cluster-31', 'A/49/NH2': 'cluster-32', 'A/73/OE2': 'cluster-32', 'A/50/OE1': 'cluster-33', 'A/50/OE2': 'cluster-33', 'A/70/NZ': 'cluster-33', 'A/51/OH': 'cluster-34', 'A/55/OE1': 'cluster-34', 'A/55/NE2': 'cluster-34', 'A/58/OG': 'cluster-34', 'A/60/NE2': 'cluster-34', 'A/153/OG': 'cluster-34', 'A/155/SG': 'cluster-34', 'A/166/NE': 'cluster-34', 'A/166/NH1': 'cluster-34', 'A/166/NH2': 'cluster-34', 'A/168/NE': 'cluster-34', 'A/168/NH2': 'cluster-34', 'A/191/ND2': 'cluster-34', 'A/2008/O': 'cluster-34', 'A/2009/O': 'cluster-34', 'A/2010/O': 'cluster-34', 'A/2019/O': 'cluster-34', 'A/2020/O': 'cluster-34', 'A/2021/O': 'cluster-34', 'A/2022/O': 'cluster-34', 'A/2023/O': 'cluster-34', 'A/2065/O': 'cluster-34', 'A/2069/O': 'cluster-34', 'A/2070/O': 'cluster-34', 'A/52/OD1': 'cluster-35', 'A/52/ND2': 'cluster-36', 'A/53/OG1': 'cluster-37', 'A/54/OG': 'cluster-38', 'A/2006/O': 'cluster-38', 'A/60/OE1': 'cluster-39', 'A/65/OG': 'cluster-39', 'C/266/OD1': 'cluster-39', 'C/266/ND2': 'cluster-39', 'A/2025/O': 'cluster-39', 'A/2029/O': 'cluster-39', 'A/61/OG1': 'cluster-40', 'A/63/NZ': 'cluster-40', 'A/81/OD1': 'cluster-40', 'A/81/OD2': 'cluster-40', 'A/84/OD1': 'cluster-40', 'A/84/ND2': 'cluster-40', 'A/86/OE1': 'cluster-40', 'A/2027/O': 'cluster-40', 'A/2028/O': 'cluster-40', 'A/2030/O': 'cluster-40', 'A/2036/O': 'cluster-40', 'A/62/OG': 'cluster-41', 'A/86/NE2': 'cluster-41', 'A/100/OE1': 'cluster-41', 'A/100/OE2': 'cluster-41', 'C/261/ND2': 'cluster-41', 'C/269/NZ': 'cluster-41', 'A/2037/O': 'cluster-41', 'C/2052/O': 'cluster-41', 'C/2097/O': 'cluster-41', 'C/2100/O': 'cluster-41', 'A/69/OG1': 'cluster-42', 'A/138/OH': 'cluster-42', 'A/71/OE1': 'cluster-43', 'A/71/OE2': 'cluster-44', 'A/75/OG': 'cluster-45', 'A/77/ND2': 'cluster-46', 'A/98/OG1': 'cluster-46', 'A/2033/O': 'cluster-46', 'A/2042/O': 'cluster-46', 'A/78/OE1': 'cluster-47', 'A/78/OE2': 'cluster-48', 'A/101/NH2': 'cluster-48', 'A/2035/O': 'cluster-48', 'A/83/NZ': 'cluster-49', 'A/123/OG1': 'cluster-49', 'A/85/NZ': 'cluster-50', 'A/89/OG1': 'cluster-51', 'A/90/OH': 'cluster-52', 'A/91/OD1': 'cluster-53', 'A/91/OD2': 'cluster-54', 'A/2038/O': 'cluster-54', 'A/92/NE2': 'cluster-55', 'A/94/NZ': 'cluster-56', 'A/95/OE1': 'cluster-57', 'A/95/NE2': 'cluster-58', 'A/96/OE1': 'cluster-59', 'A/96/OE2': 'cluster-59', 'A/2039/O': 'cluster-59', 'A/101/NE': 'cluster-60', 'A/101/NH1': 'cluster-61', 'A/104/OG': 'cluster-61', 'A/106/OE2': 'cluster-61', 'A/102/OG': 'cluster-62', 'A/2043/O': 'cluster-62', 'A/2044/O': 'cluster-62', 'A/106/OE1': 'cluster-63', 'A/108/OE1': 'cluster-64', 'A/110/OD1': 'cluster-64', 'A/110/OD2': 'cluster-64', 'A/141/NZ': 'cluster-64', 'A/108/OE2': 'cluster-65', 'A/140/OG1': 'cluster-65', 'A/109/OE1': 'cluster-66', 'A/2049/O': 'cluster-66', 'A/109/NE2': 'cluster-67', 'A/2051/O': 'cluster-67', 'A/112/OE1': 'cluster-68', 'A/112/OE2': 'cluster-68', 'A/115/NE': 'cluster-68', 'A/115/NH1': 'cluster-68', 'A/115/NH2': 'cluster-68', 'A/119/OD1': 'cluster-68', 'A/119/OD2': 'cluster-68', 'A/2047/O': 'cluster-68', 'A/2052/O': 'cluster-68', 'A/2054/O': 'cluster-68', 'A/113/OE1': 'cluster-69', 'A/113/NE2': 'cluster-70', 'A/2053/O': 'cluster-70', 'A/114/OH': 'cluster-71', 'A/214/OG': 'cluster-71', 'A/220/OG1': 'cluster-71', 'A/2074/O': 'cluster-71', 'A/120/OE1': 'cluster-72', 'A/2055/O': 'cluster-72', 'A/120/OE2': 'cluster-73', 'A/121/OE1': 'cluster-74', 'A/121/OE2': 'cluster-74', 'A/124/NZ': 'cluster-74', 'A/2016/O': 'cluster-74', 'A/2056/O': 'cluster-74', 'A/2057/O': 'cluster-74', 'A/2058/O': 'cluster-74', 'A/125/OH': 'cluster-75', 'A/130/OH': 'cluster-75', 'A/167/NE1': 'cluster-75', 'A/169/OG': 'cluster-75', 'A/171/NE1': 'cluster-75', 'A/232/OE1': 'cluster-75', 'A/232/OE2': 'cluster-75', 'B/246/NE': 'cluster-75', 'B/246/NH2': 'cluster-75', 'A/2061/O': 'cluster-75', 'A/126/SG': 'cluster-76', 'A/127/OD1': 'cluster-76', 'A/135/OG': 'cluster-76', 'A/2062/O': 'cluster-76', 'A/2063/O': 'cluster-76', 'A/127/ND2': 'cluster-77', 'A/128/OE1': 'cluster-78', 'A/128/OE2': 'cluster-79', 'A/129/OH': 'cluster-80', 'A/132/OD1': 'cluster-81', 'A/132/ND2': 'cluster-82', 'A/143/OG': 'cluster-83', 'A/144/OE1': 'cluster-84', 'A/144/OE2': 'cluster-85', 'A/147/NZ': 'cluster-86', 'A/149/OG1': 'cluster-87', 'A/151/SG': 'cluster-88', 'A/154/OG1': 'cluster-89', 'A/2064/O': 'cluster-89', 'A/157/OH': 'cluster-90', 'A/158/NZ': 'cluster-91', 'A/160/OD1': 'cluster-92', 'A/160/ND2': 'cluster-93', 'A/163/OH': 'cluster-94', 'A/168/NH1': 'cluster-95', 'A/189/OE1': 'cluster-95', 'A/2080/O': 'cluster-95', 'A/172/OG1': 'cluster-96', 'A/2071/O': 'cluster-96', 'A/173/SG': 'cluster-97', 'A/184/OG': 'cluster-97', 'A/210/OG1': 'cluster-97', 'A/212/OG': 'cluster-97', 'A/2077/O': 'cluster-97', 'A/2089/O': 'cluster-97', 'A/174/OG1': 'cluster-98', 'A/185/OD1': 'cluster-98', 'A/2073/O': 'cluster-98', 'A/2078/O': 'cluster-98', 'A/176/NZ': 'cluster-99', 'A/179/OG': 'cluster-100', 'A/181/OD1': 'cluster-101', 'A/181/ND2': 'cluster-102', 'A/183/OG1': 'cluster-103', 'A/2072/O': 'cluster-103', 'A/185/ND2': 'cluster-104', 'A/209/OE1': 'cluster-104', 'A/2079/O': 'cluster-104', 'A/187/NZ': 'cluster-105', 'A/189/NE2': 'cluster-106', 'A/191/OD1': 'cluster-107', 'A/203/OD1': 'cluster-107', 'A/193/ND1': 'cluster-108', 'A/194/OH': 'cluster-109', 'A/196/OE1': 'cluster-109', 'A/196/OE2': 'cluster-110', 'A/197/OD1': 'cluster-111', 'A/197/OD2': 'cluster-112', 'A/199/OD1': 'cluster-113', 'A/201/NE2': 'cluster-113', 'A/199/ND2': 'cluster-114', 'B/20/OE1': 'cluster-114', 'B/24/ND2': 'cluster-114', 'A/2084/O': 'cluster-114', 'B/2002/O': 'cluster-114', 'B/2003/O': 'cluster-114', 'A/201/OE1': 'cluster-115', 'A/2007/O': 'cluster-115', 'A/203/ND2': 'cluster-116', 'A/204/OG1': 'cluster-117', 'A/206/OG1': 'cluster-117', 'A/2081/O': 'cluster-117', 'A/207/OE1': 'cluster-118', 'A/2085/O': 'cluster-118', 'A/2086/O': 'cluster-118', 'A/2087/O': 'cluster-118', 'A/2088/O': 'cluster-118', 'B/2048/O': 'cluster-118', 'A/207/NE2': 'cluster-119', 'A/208/NZ': 'cluster-120', 'A/209/NE2': 'cluster-121', 'A/211/OG1': 'cluster-122', 'A/216/OD1': 'cluster-123', 'A/216/OD2': 'cluster-123', 'A/218/OE1': 'cluster-123', 'A/219/OG': 'cluster-123', 'A/218/NE2': 'cluster-124', 'A/223/OD1': 'cluster-125', 'A/223/ND2': 'cluster-126', 'A/226/NZ': 'cluster-127', 'A/230/NZ': 'cluster-128', 'A/234/OD1': 'cluster-129', 'A/234/ND2': 'cluster-130', 'A/236/ND1': 'cluster-131', 'B/246/NH1': 'cluster-131', 'A/236/NE2': 'cluster-132', 'A/240/OD1': 'cluster-132', 'B/243/OD1': 'cluster-132', 'B/243/ND2': 'cluster-132', 'A/237/OG1': 'cluster-133', 'A/240/OD2': 'cluster-134', 'A/241/OD1': 'cluster-135', 'A/241/ND2': 'cluster-136', 'A/242/OD1': 'cluster-137', 'A/242/ND2': 'cluster-138', 'A/2091/O': 'cluster-138', 'A/243/OH': 'cluster-139', 'B/238/OG1': 'cluster-139', 'A/244/OG': 'cluster-140', 'A/245/OG1': 'cluster-141', 'A/248/OD1': 'cluster-142', 'A/248/OD2': 'cluster-143', 'A/249/OG1': 'cluster-144', 'A/250/OG1': 'cluster-144', 'A/252/NZ': 'cluster-145', 'A/255/NE': 'cluster-146', 'A/255/NH2': 'cluster-146', 'B/107/OH': 'cluster-146', 'B/223/OE1': 'cluster-146', 'B/224/OG': 'cluster-146', 'A/255/NH1': 'cluster-147', 'A/256/NE': 'cluster-148', 'A/256/NH1': 'cluster-149', 'B/113/OE1': 'cluster-149', 'B/113/OE2': 'cluster-149', 'A/256/NH2': 'cluster-150', 'A/261/OD1': 'cluster-151', 'A/261/ND2': 'cluster-152', 'A/262/NE': 'cluster-153', 'A/262/NH1': 'cluster-154', 'A/262/NH2': 'cluster-155', 'A/263/OG1': 'cluster-156', 'A/264/NZ': 'cluster-157', 'A/266/OD1': 'cluster-158', 'A/266/ND2': 'cluster-159', 'A/267/NE1': 'cluster-160', 'B/220/OE1': 'cluster-160', 'B/2051/O': 'cluster-160', 'A/268/OE1': 'cluster-161', 'A/268/NE2': 'cluster-162', 'B/209/OD1': 'cluster-162', 'A/269/NZ': 'cluster-163', 'B/2/OG1': 'cluster-164', 'B/5/OE1': 'cluster-164', 'B/3/OE1': 'cluster-165', 'B/3/OE2': 'cluster-166', 'B/4/NZ': 'cluster-167', 'B/5/NE2': 'cluster-168', 'B/7/OG': 'cluster-169', 'B/8/SG': 'cluster-170', 'B/9/SG': 'cluster-171', 'B/11/OD2': 'cluster-172', 'B/14/NE': 'cluster-173', 'B/14/NH1': 'cluster-174', 'B/14/NH2': 'cluster-175', 'B/22/OE1': 'cluster-176', 'B/22/OE2': 'cluster-177', 'B/48/NZ': 'cluster-177', 'B/23/OD1': 'cluster-178', 'B/23/OD2': 'cluster-179', 'B/24/OD1': 'cluster-180', 'B/30/OD1': 'cluster-181', 'B/30/OD2': 'cluster-181', 'B/2008/O': 'cluster-181', 'B/2009/O': 'cluster-181', 'B/2010/O': 'cluster-181', 'B/34/OD1': 'cluster-182', 'B/34/OD2': 'cluster-183', 'B/36/OG1': 'cluster-184', 'B/37/OE1': 'cluster-185', 'B/37/OE2': 'cluster-186', 'B/38/OD1': 'cluster-187', 'B/38/OD2': 'cluster-188', 'B/41/OG': 'cluster-189', 'B/63/OD2': 'cluster-189', 'B/2011/O': 'cluster-189', 'B/42/OG': 'cluster-190', 'B/44/OD1': 'cluster-191', 'B/45/OE1': 'cluster-191', 'B/2007/O': 'cluster-191', 'B/2012/O': 'cluster-191', 'B/2014/O': 'cluster-191', 'B/2015/O': 'cluster-191', 'B/44/OD2': 'cluster-192', 'B/174/OG1': 'cluster-192', 'B/196/OG1': 'cluster-192', 'B/2013/O': 'cluster-192', 'B/45/NE2': 'cluster-193', 'B/51/OH': 'cluster-194', 'B/52/OD1': 'cluster-195', 'B/52/OD2': 'cluster-196', 'B/55/OG': 'cluster-196', 'B/73/OG': 'cluster-196', 'B/76/OG': 'cluster-196', 'B/2021/O': 'cluster-196', 'B/56/NZ': 'cluster-197', 'B/57/NZ': 'cluster-198', 'B/105/OE1': 'cluster-198', 'B/105/OE2': 'cluster-198', 'B/58/OD1': 'cluster-199', 'B/58/OD2': 'cluster-200', 'B/2022/O': 'cluster-200', 'B/59/OH': 'cluster-201', 'B/80/OD2': 'cluster-201', 'B/2006/O': 'cluster-201', 'B/2016/O': 'cluster-201', 'B/2017/O': 'cluster-201', 'B/2018/O': 'cluster-201', 'B/2019/O': 'cluster-201', 'B/2023/O': 'cluster-201', 'B/62/SG': 'cluster-202', 'B/65/OD1': 'cluster-202', 'B/63/OD1': 'cluster-203', 'B/66/NH1': 'cluster-203', 'B/71/OH': 'cluster-203', 'B/2024/O': 'cluster-203', 'B/64/OH': 'cluster-204', 'B/65/ND2': 'cluster-205', 'B/118/OG': 'cluster-205', 'B/120/OH': 'cluster-205', 'B/66/NE': 'cluster-206', 'B/66/NH2': 'cluster-207', 'B/67/OD1': 'cluster-208', 'B/67/OD2': 'cluster-209', 'B/69/OD1': 'cluster-210', 'B/69/OD2': 'cluster-211', 'B/70/OG': 'cluster-212', 'B/2026/O': 'cluster-212', 'B/72/NE': 'cluster-213', 'B/72/NH1': 'cluster-214', 'B/72/NH2': 'cluster-214', 'B/94/NH1': 'cluster-214', 'B/97/OE1': 'cluster-214', 'B/97/OE2': 'cluster-214', 'B/75/NE1': 'cluster-215', 'B/77/OD1': 'cluster-216', 'B/77/ND2': 'cluster-217', 'B/94/NE': 'cluster-217', 'B/94/NH2': 'cluster-217', 'B/2027/O': 'cluster-217', 'B/2028/O': 'cluster-217', 'B/2029/O': 'cluster-217', 'B/2030/O': 'cluster-217', 'B/2031/O': 'cluster-217', 'B/2039/O': 'cluster-217', 'B/78/NZ': 'cluster-218', 'B/79/OH': 'cluster-219', 'B/80/OD1': 'cluster-220', 'B/2032/O': 'cluster-220', 'B/84/OG': 'cluster-221', 'B/2037/O': 'cluster-221', 'B/87/SG': 'cluster-222', 'B/88/OH': 'cluster-223', 'B/2034/O': 'cluster-223', 'B/2035/O': 'cluster-223', 'B/2036/O': 'cluster-223', 'B/2038/O': 'cluster-223', 'B/90/OG': 'cluster-224', 'B/123/OD2': 'cluster-224', 'B/91/OG': 'cluster-225', 'B/92/NZ': 'cluster-226', 'B/95/OD1': 'cluster-227', 'B/95/OD2': 'cluster-228', 'B/99/OE1': 'cluster-229', 'B/99/NE2': 'cluster-230', 'B/212/SG': 'cluster-230', 'B/2050/O': 'cluster-230', 'B/101/OD1': 'cluster-231', 'B/101/ND2': 'cluster-232', 'B/102/OE1': 'cluster-233', 'B/102/OE2': 'cluster-234', 'B/109/OD1': 'cluster-235', 'B/109/ND2': 'cluster-236', 'B/111/OH': 'cluster-237', 'B/220/OE2': 'cluster-237', 'B/117/OG': 'cluster-238', 'B/121/SG': 'cluster-239', 'B/122/NE1': 'cluster-240', 'B/123/OD1': 'cluster-241', 'B/2041/O': 'cluster-241', 'B/125/OD1': 'cluster-242', 'B/125/OD2': 'cluster-243', 'B/126/OD1': 'cluster-244', 'B/126/OD2': 'cluster-245', 'B/127/OD1': 'cluster-246', 'B/127/ND2': 'cluster-247', 'B/135/NZ': 'cluster-248', 'B/152/OD1': 'cluster-248', 'B/152/OD2': 'cluster-248', 'B/2042/O': 'cluster-248', 'B/2044/O': 'cluster-248', 'B/136/NZ': 'cluster-249', 'B/137/OG1': 'cluster-250', 'B/138/OE1': 'cluster-251', 'B/138/NE2': 'cluster-252', 'B/139/OD1': 'cluster-253', 'B/139/OD2': 'cluster-254', 'B/148/NE': 'cluster-255', 'B/148/NH1': 'cluster-256', 'B/148/NH2': 'cluster-257', 'B/150/OG1': 'cluster-258', 'B/151/NE1': 'cluster-259', 'B/153/OG': 'cluster-259', 'B/223/OE2': 'cluster-259', 'B/155/ND1': 'cluster-260', 'B/155/NE2': 'cluster-261', 'B/173/OG': 'cluster-261', 'B/158/OE1': 'cluster-262', 'B/158/OE2': 'cluster-263', 'B/160/NZ': 'cluster-264', 'B/163/NZ': 'cluster-265', 'B/164/NZ': 'cluster-266', 'B/165/OD1': 'cluster-267', 'B/165/OD2': 'cluster-268', 'B/166/NZ': 'cluster-269', 'B/169/OH': 'cluster-270', 'B/211/ND1': 'cluster-270', 'B/214/ND2': 'cluster-270', 'B/170/NZ': 'cluster-271', 'B/172/OG1': 'cluster-272', 'B/198/OE1': 'cluster-272', 'B/178/OG': 'cluster-273', 'B/180/OE1': 'cluster-274', 'B/180/OE2': 'cluster-275', 'B/181/OG1': 'cluster-276', 'B/183/OD1': 'cluster-276', 'B/183/ND2': 'cluster-276', 'B/186/OG1': 'cluster-276', 'B/182/OD1': 'cluster-277', 'B/182/OD2': 'cluster-278', 'B/184/OD1': 'cluster-279', 'B/184/OD2': 'cluster-280', 'B/185/OD1': 'cluster-281', 'B/185/ND2': 'cluster-282', 'B/188/NZ': 'cluster-283', 'B/190/ND2': 'cluster-283', 'B/190/OD1': 'cluster-284', 'B/194/OG': 'cluster-285', 'B/197/NE': 'cluster-286', 'B/197/NH1': 'cluster-287', 'B/197/NH2': 'cluster-288', 'B/198/NE2': 'cluster-289', 'B/199/OD1': 'cluster-290', 'B/2049/O': 'cluster-290', 'B/199/OD2': 'cluster-291', 'B/200/OE1': 'cluster-292', 'B/200/OE2': 'cluster-293', 'B/201/NZ': 'cluster-294', 'B/202/OE1': 'cluster-295', 'B/202/OE2': 'cluster-296', 'B/203/OH': 'cluster-297', 'B/204/OG1': 'cluster-298', 'B/206/OD1': 'cluster-299', 'B/206/ND2': 'cluster-300', 'B/207/OE1': 'cluster-301', 'B/207/OE2': 'cluster-302', 'B/209/OD2': 'cluster-303', 'B/210/OG1': 'cluster-304', 'B/211/NE2': 'cluster-305', 'B/214/OD1': 'cluster-306', 'B/217/NZ': 'cluster-307', 'B/221/OD1': 'cluster-308', 'B/221/OD2': 'cluster-309', 'B/225/NZ': 'cluster-310', 'B/227/NE': 'cluster-311', 'B/227/NH1': 'cluster-312', 'B/227/NH2': 'cluster-313', 'B/228/OE1': 'cluster-314', 'B/228/NE2': 'cluster-315', 'B/229/OG1': 'cluster-315', 'B/2052/O': 'cluster-315', 'B/231/OE1': 'cluster-316', 'B/231/OE2': 'cluster-317', 'B/232/OG1': 'cluster-318', 'B/2054/O': 'cluster-318', 'B/234/OH': 'cluster-319', 'B/237/NZ': 'cluster-320', 'B/240/OE1': 'cluster-320', 'B/240/OE2': 'cluster-320', 'B/239/NZ': 'cluster-321', 'B/244/OG1': 'cluster-322', 'B/247/OD1': 'cluster-323', 'B/249/OG1': 'cluster-323', 'B/247/ND2': 'cluster-324', 'B/251/OD1': 'cluster-325', 'B/251/ND2': 'cluster-326', 'B/252/OG': 'cluster-327', 'C/3/OG': 'cluster-328', 'C/6/OE1': 'cluster-328', 'C/4/OD1': 'cluster-329', 'C/2001/O': 'cluster-329', 'C/2002/O': 'cluster-329', 'C/2003/O': 'cluster-329', 'C/2005/O': 'cluster-329', 'D/2013/O': 'cluster-329', 'C/4/ND2': 'cluster-330', 'C/2004/O': 'cluster-330', 'C/2006/O': 'cluster-330', 'C/5/OE1': 'cluster-331', 'C/5/NE2': 'cluster-332', 'C/2007/O': 'cluster-332', 'C/6/OE2': 'cluster-333', 'C/9/OE1': 'cluster-334', 'C/9/NE2': 'cluster-335', 'C/12/OG1': 'cluster-336', 'C/13/OD1': 'cluster-337', 'C/13/ND2': 'cluster-338', 'C/17/OD1': 'cluster-339', 'D/20/OE1': 'cluster-339', 'D/24/OD1': 'cluster-339', 'D/24/ND2': 'cluster-339', 'C/2010/O': 'cluster-339', 'C/2011/O': 'cluster-339', 'C/2080/O': 'cluster-339', 'D/2006/O': 'cluster-339', 'C/17/ND2': 'cluster-340', 'D/20/NE2': 'cluster-340', 'C/21/SG': 'cluster-341', 'C/22/OE1': 'cluster-342', 'D/15/NH1': 'cluster-342', 'C/22/OE2': 'cluster-343', 'C/164/OG': 'cluster-343', 'C/193/ND1': 'cluster-343', 'C/25/OE1': 'cluster-344', 'C/25/OE2': 'cluster-345', 'C/2018/O': 'cluster-345', 'C/28/OG': 'cluster-346', 'C/29/OD1': 'cluster-347', 'C/29/OD2': 'cluster-348', 'D/11/OD1': 'cluster-348', 'D/15/NE': 'cluster-348', 'C/31/NE': 'cluster-349', 'C/31/NH1': 'cluster-350', 'C/31/NH2': 'cluster-351', 'C/36/OG': 'cluster-352', 'C/38/OG': 'cluster-352', 'C/2021/O': 'cluster-352', 'C/2022/O': 'cluster-352', 'C/37/OE1': 'cluster-353', 'C/37/OE2': 'cluster-354', 'C/41/OD1': 'cluster-355', 'C/41/ND2': 'cluster-356', 'C/43/OG': 'cluster-357', 'C/46/OG': 'cluster-358', 'C/76/ND2': 'cluster-358', 'C/2023/O': 'cluster-358', 'C/2024/O': 'cluster-358', 'C/2026/O': 'cluster-358', 'C/2028/O': 'cluster-358', 'C/47/OG1': 'cluster-359', 'C/2027/O': 'cluster-359', 'C/2029/O': 'cluster-359', 'C/49/NE': 'cluster-360', 'C/49/NH2': 'cluster-360', 'C/73/OE1': 'cluster-360', 'C/73/OE2': 'cluster-360', 'C/79/OH': 'cluster-360', 'C/92/NE2': 'cluster-360', 'C/49/NH1': 'cluster-361', 'C/50/OE1': 'cluster-362', 'C/50/OE2': 'cluster-362', 'C/53/OG1': 'cluster-362', 'C/54/OG': 'cluster-362', 'C/70/NZ': 'cluster-362', 'C/51/OH': 'cluster-363', 'C/52/OD1': 'cluster-363', 'C/55/NE2': 'cluster-363', 'C/58/OG': 'cluster-363', 'C/95/NE2': 'cluster-363', 'C/153/OG': 'cluster-363', 'C/154/OG1': 'cluster-363', 'C/155/SG': 'cluster-363', 'C/166/NE': 'cluster-363', 'C/166/NH1': 'cluster-363', 'C/166/NH2': 'cluster-363', 'C/2009/O': 'cluster-363', 'C/2015/O': 'cluster-363', 'C/2016/O': 'cluster-363', 'C/2030/O': 'cluster-363', 'C/2034/O': 'cluster-363', 'C/2035/O': 'cluster-363', 'C/2036/O': 'cluster-363', 'C/2037/O': 'cluster-363', 'C/2061/O': 'cluster-363', 'C/2066/O': 'cluster-363', 'C/52/ND2': 'cluster-364', 'C/92/ND1': 'cluster-364', 'C/55/OE1': 'cluster-365', 'C/168/NE': 'cluster-365', 'C/168/NH1': 'cluster-365', 'C/168/NH2': 'cluster-365', 'C/189/OE1': 'cluster-365', 'C/189/NE2': 'cluster-365', 'C/191/OD1': 'cluster-365', 'C/191/ND2': 'cluster-365', 'C/203/ND2': 'cluster-365', 'C/2012/O': 'cluster-365', 'C/2013/O': 'cluster-365', 'C/2032/O': 'cluster-365', 'C/2033/O': 'cluster-365', 'C/2070/O': 'cluster-365', 'C/2071/O': 'cluster-365', 'C/2072/O': 'cluster-365', 'C/2078/O': 'cluster-365', 'C/60/OE1': 'cluster-366', 'C/60/NE2': 'cluster-367', 'C/61/OG1': 'cluster-368', 'C/81/OD1': 'cluster-368', 'C/81/OD2': 'cluster-368', 'C/84/ND2': 'cluster-368', 'C/86/NE2': 'cluster-368', 'C/62/OG': 'cluster-369', 'C/86/OE1': 'cluster-369', 'C/100/OE1': 'cluster-369', 'C/63/NZ': 'cluster-370', 'C/65/OG': 'cluster-371', 'C/69/OG1': 'cluster-372', 'C/138/OH': 'cluster-372', 'C/71/OE1': 'cluster-373', 'C/71/OE2': 'cluster-374', 'C/140/OG1': 'cluster-374', 'C/149/OG1': 'cluster-374', 'C/2043/O': 'cluster-374', 'C/2044/O': 'cluster-374', 'C/75/OG': 'cluster-375', 'C/78/OE1': 'cluster-375', 'C/76/OD1': 'cluster-376', 'C/77/OD1': 'cluster-376', 'C/2025/O': 'cluster-376', 'C/2048/O': 'cluster-376', 'C/77/ND2': 'cluster-377', 'C/2047/O': 'cluster-377', 'C/78/OE2': 'cluster-378', 'C/89/OG1': 'cluster-378', 'C/101/NE': 'cluster-378', 'C/101/NH1': 'cluster-378', 'C/101/NH2': 'cluster-378', 'C/104/OG': 'cluster-378', 'C/106/OE1': 'cluster-378', 'C/106/OE2': 'cluster-378', 'C/2049/O': 'cluster-378', 'C/2050/O': 'cluster-378', 'C/2051/O': 'cluster-378', 'C/2055/O': 'cluster-378', 'C/83/NZ': 'cluster-379', 'C/123/OG1': 'cluster-379', 'C/84/OD1': 'cluster-380', 'C/85/NZ': 'cluster-381', 'C/90/OH': 'cluster-382', 'C/91/OD1': 'cluster-383', 'C/91/OD2': 'cluster-384', 'C/94/NZ': 'cluster-385', 'C/95/OE1': 'cluster-386', 'C/96/OE1': 'cluster-387', 'C/96/OE2': 'cluster-388', 'C/98/OG1': 'cluster-389', 'C/100/OE2': 'cluster-390', 'C/102/OG': 'cluster-391', 'C/108/OE1': 'cluster-392', 'C/141/NZ': 'cluster-392', 'C/108/OE2': 'cluster-393', 'C/109/OE1': 'cluster-394', 'C/109/NE2': 'cluster-395', 'C/110/OD1': 'cluster-396', 'C/110/OD2': 'cluster-397', 'C/112/OE1': 'cluster-398', 'C/115/NE': 'cluster-398', 'C/112/OE2': 'cluster-399', 'C/115/NH2': 'cluster-399', 'C/113/OE1': 'cluster-400', 'C/113/NE2': 'cluster-401', 'C/114/OH': 'cluster-402', 'C/115/NH1': 'cluster-403', 'C/119/OD1': 'cluster-403', 'C/119/OD2': 'cluster-403', 'C/2056/O': 'cluster-403', 'C/120/OE1': 'cluster-404', 'C/120/OE2': 'cluster-405', 'C/121/OE1': 'cluster-406', 'C/121/OE2': 'cluster-406', 'C/124/NZ': 'cluster-406', 'C/2057/O': 'cluster-406', 'C/2058/O': 'cluster-406', 'C/125/OH': 'cluster-407', 'C/130/OH': 'cluster-407', 'C/167/NE1': 'cluster-407', 'C/169/OG': 'cluster-407', 'C/171/NE1': 'cluster-407', 'C/232/OE1': 'cluster-407', 'C/232/OE2': 'cluster-407', 'D/246/NE': 'cluster-407', 'D/246/NH2': 'cluster-407', 'C/126/SG': 'cluster-408', 'C/127/OD1': 'cluster-408', 'C/135/OG': 'cluster-408', 'C/2059/O': 'cluster-408', 'C/2063/O': 'cluster-408', 'C/127/ND2': 'cluster-409', 'C/128/OE1': 'cluster-410', 'C/128/OE2': 'cluster-411', 'C/129/OH': 'cluster-411', 'C/132/OD1': 'cluster-412', 'C/132/ND2': 'cluster-413', 'C/2062/O': 'cluster-413', 'C/143/OG': 'cluster-414', 'C/2064/O': 'cluster-414', 'C/144/OE1': 'cluster-415', 'C/144/OE2': 'cluster-416', 'C/147/NZ': 'cluster-417', 'C/151/SG': 'cluster-418', 'C/157/OH': 'cluster-419', 'C/158/NZ': 'cluster-420', 'C/160/OD1': 'cluster-421', 'C/2068/O': 'cluster-421', 'C/160/ND2': 'cluster-422', 'C/163/OH': 'cluster-423', 'C/172/OG1': 'cluster-424', 'C/2039/O': 'cluster-424', 'C/2073/O': 'cluster-424', 'C/173/SG': 'cluster-425', 'C/174/OG1': 'cluster-426', 'C/185/OD1': 'cluster-426', 'C/185/ND2': 'cluster-426', 'C/209/OE1': 'cluster-426', 'C/2074/O': 'cluster-426', 'C/2075/O': 'cluster-426', 'C/2085/O': 'cluster-426', 'C/176/NZ': 'cluster-427', 'C/179/OG': 'cluster-428', 'C/181/OD1': 'cluster-429', 'C/181/ND2': 'cluster-430', 'C/183/OG1': 'cluster-431', 'C/184/OG': 'cluster-432', 'C/187/NZ': 'cluster-433', 'C/2031/O': 'cluster-433', 'C/2076/O': 'cluster-433', 'C/193/NE2': 'cluster-434', 'C/194/OH': 'cluster-435', 'C/196/OE1': 'cluster-435', 'C/196/OE2': 'cluster-436', 'C/197/OD1': 'cluster-437', 'C/197/OD2': 'cluster-438', 'C/199/OD1': 'cluster-439', 'C/201/OE1': 'cluster-439', 'C/201/NE2': 'cluster-439', 'C/2014/O': 'cluster-439', 'C/199/ND2': 'cluster-440', 'C/203/OD1': 'cluster-441', 'C/2081/O': 'cluster-441', 'C/204/OG1': 'cluster-442', 'C/206/OG1': 'cluster-443', 'C/2077/O': 'cluster-443', 'C/207/OE1': 'cluster-444', 'C/207/NE2': 'cluster-445', 'C/208/NZ': 'cluster-446', 'D/185/OD1': 'cluster-446', 'C/2083/O': 'cluster-446', 'D/2072/O': 'cluster-446', 'C/209/NE2': 'cluster-447', 'C/211/OG1': 'cluster-447', 'C/2084/O': 'cluster-447', 'C/2086/O': 'cluster-447', 'C/210/OG1': 'cluster-448', 'C/212/OG': 'cluster-449', 'C/214/OG': 'cluster-450', 'C/216/OD1': 'cluster-451', 'C/216/OD2': 'cluster-451', 'C/218/OE1': 'cluster-451', 'C/219/OG': 'cluster-451', 'C/2087/O': 'cluster-451', 'C/218/NE2': 'cluster-452', 'C/220/OG1': 'cluster-453', 'C/223/OD1': 'cluster-454', 'C/223/ND2': 'cluster-455', 'C/226/NZ': 'cluster-456', 'C/230/NZ': 'cluster-457', 'C/234/OD1': 'cluster-458', 'C/234/ND2': 'cluster-459', 'C/236/ND1': 'cluster-460', 'D/246/NH1': 'cluster-460', 'C/236/NE2': 'cluster-461', 'C/237/OG1': 'cluster-462', 'C/240/OD1': 'cluster-463', 'D/243/OD1': 'cluster-463', 'D/243/ND2': 'cluster-463', 'D/2080/O': 'cluster-463', 'C/240/OD2': 'cluster-464', 'C/2090/O': 'cluster-464', 'C/241/OD1': 'cluster-465', 'C/2091/O': 'cluster-465', 'C/241/ND2': 'cluster-466', 'C/242/OD1': 'cluster-467', 'C/242/ND2': 'cluster-468', 'C/2089/O': 'cluster-468', 'C/243/OH': 'cluster-469', 'C/244/OG': 'cluster-470', 'C/245/OG1': 'cluster-471', 'C/248/OD1': 'cluster-472', 'C/252/NZ': 'cluster-472', 'C/248/OD2': 'cluster-473', 'C/249/OG1': 'cluster-474', 'C/250/OG1': 'cluster-475', 'C/255/NE': 'cluster-476', 'C/255/NH1': 'cluster-476', 'C/255/NH2': 'cluster-476', 'C/264/NZ': 'cluster-476', 'D/107/OH': 'cluster-476', 'D/111/OH': 'cluster-476', 'D/220/OE2': 'cluster-476', 'D/223/OE1': 'cluster-476', 'D/224/OG': 'cluster-476', 'C/2095/O': 'cluster-476', 'C/2098/O': 'cluster-476', 'D/2077/O': 'cluster-476', 'C/256/NE': 'cluster-477', 'C/256/NH1': 'cluster-478', 'D/113/OE1': 'cluster-478', 'D/113/OE2': 'cluster-478', 'C/256/NH2': 'cluster-479', 'C/261/OD1': 'cluster-480', 'C/262/NE': 'cluster-481', 'C/262/NH1': 'cluster-482', 'C/2096/O': 'cluster-482', 'C/262/NH2': 'cluster-483', 'C/263/OG1': 'cluster-484', 'C/267/NE1': 'cluster-485', 'D/220/OE1': 'cluster-485', 'C/268/OE1': 'cluster-486', 'C/268/NE2': 'cluster-487', 'C/2099/O': 'cluster-487', 'C/271/NZ': 'cluster-488', 'C/272/OD1': 'cluster-489', 'C/272/ND2': 'cluster-490', 'D/2/OG1': 'cluster-491', 'D/3/OE1': 'cluster-492', 'D/3/OE2': 'cluster-493', 'D/4/NZ': 'cluster-494', 'C/2019/O': 'cluster-494', 'D/5/OE1': 'cluster-495', 'D/5/NE2': 'cluster-496', 'D/7/OG': 'cluster-497', 'D/8/SG': 'cluster-497', 'D/2001/O': 'cluster-497', 'D/2002/O': 'cluster-497', 'D/2003/O': 'cluster-497', 'D/9/SG': 'cluster-498', 'D/11/OD2': 'cluster-499', 'D/15/NH2': 'cluster-499', 'D/14/NE': 'cluster-500', 'D/14/NH2': 'cluster-500', 'D/2004/O': 'cluster-500', 'D/2005/O': 'cluster-500', 'D/14/NH1': 'cluster-501', 'D/19/OG': 'cluster-502', 'D/2008/O': 'cluster-502', 'D/22/OE1': 'cluster-503', 'D/22/OE2': 'cluster-504', 'D/23/OD1': 'cluster-505', 'D/23/OD2': 'cluster-506', 'D/30/OD1': 'cluster-507', 'D/30/OD2': 'cluster-507', 'D/2011/O': 'cluster-507', 'D/34/OD1': 'cluster-508', 'D/34/OD2': 'cluster-508', 'D/2014/O': 'cluster-508', 'D/36/OG1': 'cluster-509', 'D/2015/O': 'cluster-509', 'D/37/OE1': 'cluster-510', 'D/37/OE2': 'cluster-511', 'D/38/OD1': 'cluster-512', 'D/38/OD2': 'cluster-513', 'D/41/OG': 'cluster-514', 'D/42/OG': 'cluster-515', 'D/44/OD1': 'cluster-516', 'D/44/OD2': 'cluster-517', 'D/174/OG1': 'cluster-517', 'D/196/OG1': 'cluster-517', 'D/2018/O': 'cluster-517', 'D/45/OE1': 'cluster-518', 'D/2021/O': 'cluster-518', 'D/45/NE2': 'cluster-519', 'D/63/OD1': 'cluster-519', 'D/66/NH1': 'cluster-519', 'D/71/OH': 'cluster-519', 'D/2007/O': 'cluster-519', 'D/2010/O': 'cluster-519', 'D/2019/O': 'cluster-519', 'D/2022/O': 'cluster-519', 'D/2023/O': 'cluster-519', 'D/2029/O': 'cluster-519', 'D/2030/O': 'cluster-519', 'D/2031/O': 'cluster-519', 'D/48/NZ': 'cluster-520', 'D/51/OH': 'cluster-521', 'D/56/NZ': 'cluster-521', 'D/2024/O': 'cluster-521', 'D/2025/O': 'cluster-521', 'D/52/OD1': 'cluster-522', 'D/52/OD2': 'cluster-523', 'D/55/OG': 'cluster-523', 'D/73/OG': 'cluster-523', 'D/57/NZ': 'cluster-524', 'D/101/OD1': 'cluster-524', 'D/102/OE1': 'cluster-524', 'D/105/OE1': 'cluster-524', 'D/105/OE2': 'cluster-524', 'D/117/OG': 'cluster-524', 'D/2026/O': 'cluster-524', 'D/2027/O': 'cluster-524', 'D/2028/O': 'cluster-524', 'D/2052/O': 'cluster-524', 'D/2053/O': 'cluster-524', 'D/2054/O': 'cluster-524', 'D/58/OD1': 'cluster-525', 'D/58/OD2': 'cluster-526', 'D/59/OH': 'cluster-527', 'D/62/SG': 'cluster-528', 'D/65/OD1': 'cluster-528', 'D/63/OD2': 'cluster-529', 'D/64/OH': 'cluster-530', 'D/65/ND2': 'cluster-531', 'D/66/NE': 'cluster-532', 'D/66/NH2': 'cluster-533', 'D/67/OD1': 'cluster-534', 'D/2032/O': 'cluster-534', 'D/67/OD2': 'cluster-535', 'D/79/OH': 'cluster-535', 'D/69/OD1': 'cluster-536', 'D/69/OD2': 'cluster-537', 'D/70/OG': 'cluster-538', 'D/2034/O': 'cluster-538', 'D/72/NE': 'cluster-539', 'D/72/NH1': 'cluster-540', 'D/72/NH2': 'cluster-540', 'D/94/NH1': 'cluster-540', 'D/97/OE1': 'cluster-540', 'D/97/OE2': 'cluster-540', 'D/75/NE1': 'cluster-541', 'D/76/OG': 'cluster-542', 'D/77/OD1': 'cluster-543', 'D/77/ND2': 'cluster-544', 'D/94/NE': 'cluster-544', 'D/94/NH2': 'cluster-544', 'D/102/OE2': 'cluster-544', 'D/2012/O': 'cluster-544', 'D/2035/O': 'cluster-544', 'D/2036/O': 'cluster-544', 'D/2037/O': 'cluster-544', 'D/2038/O': 'cluster-544', 'D/2040/O': 'cluster-544', 'D/2050/O': 'cluster-544', 'D/78/NZ': 'cluster-545', 'D/80/OD1': 'cluster-546', 'D/80/OD2': 'cluster-546', 'D/2042/O': 'cluster-546', 'D/84/OG': 'cluster-547', 'D/2045/O': 'cluster-547', 'D/87/SG': 'cluster-548', 'D/88/OH': 'cluster-549', 'D/2044/O': 'cluster-549', 'D/2046/O': 'cluster-549', 'D/90/OG': 'cluster-550', 'D/123/OD1': 'cluster-550', 'D/91/OG': 'cluster-551', 'D/95/OD1': 'cluster-551', 'D/2048/O': 'cluster-551', 'D/92/NZ': 'cluster-552', 'D/95/OD2': 'cluster-553', 'D/99/OE1': 'cluster-554', 'D/210/OG1': 'cluster-554', 'D/2051/O': 'cluster-554', 'D/99/NE2': 'cluster-555', 'D/101/ND2': 'cluster-556', 'D/109/OD1': 'cluster-557', 'D/109/ND2': 'cluster-558', 'D/118/OG': 'cluster-559', 'D/120/OH': 'cluster-560', 'D/121/SG': 'cluster-561', 'D/122/NE1': 'cluster-562', 'D/123/OD2': 'cluster-563', 'D/2057/O': 'cluster-563', 'D/125/OD1': 'cluster-564', 'D/125/OD2': 'cluster-565', 'D/126/OD1': 'cluster-566', 'D/126/OD2': 'cluster-567', 'D/127/OD1': 'cluster-568', 'D/127/ND2': 'cluster-569', 'D/135/NZ': 'cluster-570', 'D/152/OD1': 'cluster-570', 'D/152/OD2': 'cluster-570', 'D/2058/O': 'cluster-570', 'D/2059/O': 'cluster-570', 'D/2064/O': 'cluster-570', 'D/136/NZ': 'cluster-571', 'D/138/NE2': 'cluster-571', 'D/137/OG1': 'cluster-572', 'D/138/OE1': 'cluster-573', 'D/139/OD1': 'cluster-574', 'D/139/OD2': 'cluster-575', 'D/148/NE': 'cluster-576', 'D/148/NH1': 'cluster-577', 'D/148/NH2': 'cluster-578', 'D/150/OG1': 'cluster-579', 'D/178/OG': 'cluster-579', 'D/2063/O': 'cluster-579', 'D/2065/O': 'cluster-579', 'D/151/NE1': 'cluster-580', 'D/153/OG': 'cluster-581', 'D/155/ND1': 'cluster-582', 'D/173/OG': 'cluster-582', 'D/155/NE2': 'cluster-583', 'D/223/OE2': 'cluster-583', 'D/158/OE1': 'cluster-584', 'D/160/NZ': 'cluster-584', 'D/158/OE2': 'cluster-585', 'D/170/NZ': 'cluster-585', 'D/172/OG1': 'cluster-585', 'D/198/NE2': 'cluster-585', 'D/2066/O': 'cluster-585', 'D/2069/O': 'cluster-585', 'D/163/NZ': 'cluster-586', 'D/164/NZ': 'cluster-587', 'D/165/OD1': 'cluster-588', 'D/165/OD2': 'cluster-589', 'D/166/NZ': 'cluster-589', 'D/202/OE1': 'cluster-589', 'D/204/OG1': 'cluster-589', 'D/2067/O': 'cluster-589', 'D/2068/O': 'cluster-589', 'D/169/OH': 'cluster-590', 'D/211/ND1': 'cluster-590', 'D/214/ND2': 'cluster-590', 'D/180/OE1': 'cluster-591', 'D/180/OE2': 'cluster-592', 'D/190/OD1': 'cluster-592', 'D/181/OG1': 'cluster-593', 'D/183/OD1': 'cluster-593', 'D/182/OD1': 'cluster-594', 'D/182/OD2': 'cluster-595', 'D/183/ND2': 'cluster-596', 'D/185/ND2': 'cluster-596', 'D/2071/O': 'cluster-596', 'D/184/OD1': 'cluster-597', 'D/184/OD2': 'cluster-598', 'D/186/OG1': 'cluster-599', 'D/188/NZ': 'cluster-600', 'D/190/ND2': 'cluster-601', 'D/194/OG': 'cluster-602', 'D/197/NE': 'cluster-603', 'D/197/NH1': 'cluster-604', 'D/197/NH2': 'cluster-605', 'D/199/OD2': 'cluster-605', 'D/221/OD2': 'cluster-605', 'D/225/NZ': 'cluster-605', 'D/2073/O': 'cluster-605', 'D/2076/O': 'cluster-605', 'D/198/OE1': 'cluster-606', 'D/199/OD1': 'cluster-607', 'D/201/NZ': 'cluster-607', 'D/2074/O': 'cluster-607', 'D/200/OE1': 'cluster-608', 'D/200/OE2': 'cluster-609', 'D/202/OE2': 'cluster-610', 'D/203/OH': 'cluster-611', 'D/206/OD1': 'cluster-612', 'D/206/ND2': 'cluster-613', 'D/207/OE1': 'cluster-614', 'D/207/OE2': 'cluster-615', 'D/209/OD1': 'cluster-616', 'D/217/NZ': 'cluster-616', 'D/209/OD2': 'cluster-617', 'D/211/NE2': 'cluster-618', 'D/212/SG': 'cluster-619', 'D/214/OD1': 'cluster-620', 'D/221/OD1': 'cluster-621', 'D/227/NE': 'cluster-622', 'C/2092/O': 'cluster-622', 'D/227/NH1': 'cluster-623', 'D/227/NH2': 'cluster-624', 'D/228/OE1': 'cluster-625', 'D/228/NE2': 'cluster-626', 'D/229/OG1': 'cluster-627', 'D/2078/O': 'cluster-627', 'D/231/OE1': 'cluster-628', 'D/231/OE2': 'cluster-629', 'D/232/OG1': 'cluster-630', 'D/2079/O': 'cluster-630', 'D/234/OH': 'cluster-631', 'D/237/NZ': 'cluster-632', 'D/240/OE2': 'cluster-632', 'D/238/OG1': 'cluster-633', 'D/239/NZ': 'cluster-634', 'D/240/OE1': 'cluster-635', 'D/244/OG1': 'cluster-636', 'D/247/OD1': 'cluster-637', 'D/247/ND2': 'cluster-638', 'D/249/OG1': 'cluster-639', 'A/2001/O': 'cluster-640', 'A/2002/O': 'cluster-641', 'A/2003/O': 'cluster-642', 'A/2013/O': 'cluster-643', 'A/2014/O': 'cluster-643', 'A/2018/O': 'cluster-644', 'A/2024/O': 'cluster-645', 'A/2040/O': 'cluster-645', 'A/2026/O': 'cluster-646', 'A/2031/O': 'cluster-647', 'A/2032/O': 'cluster-648', 'A/2066/O': 'cluster-648', 'A/2041/O': 'cluster-649', 'A/2045/O': 'cluster-650', 'A/2046/O': 'cluster-651', 'A/2048/O': 'cluster-652', 'A/2050/O': 'cluster-652', 'A/2059/O': 'cluster-653', 'A/2060/O': 'cluster-654', 'A/2067/O': 'cluster-655', 'A/2068/O': 'cluster-656', 'A/2075/O': 'cluster-657', 'A/2076/O': 'cluster-658', 'A/2082/O': 'cluster-659', 'A/2083/O': 'cluster-660', 'A/2090/O': 'cluster-661', 'A/2092/O': 'cluster-662', 'A/2093/O': 'cluster-663', 'A/2094/O': 'cluster-664', 'B/2001/O': 'cluster-665', 'B/2004/O': 'cluster-666', 'B/2020/O': 'cluster-667', 'B/2025/O': 'cluster-668', 'B/2033/O': 'cluster-669', 'B/2040/O': 'cluster-670', 'B/2043/O': 'cluster-671', 'B/2045/O': 'cluster-672', 'B/2046/O': 'cluster-672', 'B/2047/O': 'cluster-673', 'B/2053/O': 'cluster-674', 'B/2055/O': 'cluster-675', 'C/2008/O': 'cluster-676', 'C/2017/O': 'cluster-677', 'C/2020/O': 'cluster-678', 'C/2038/O': 'cluster-679', 'C/2040/O': 'cluster-680', 'C/2041/O': 'cluster-681', 'C/2042/O': 'cluster-682', 'C/2045/O': 'cluster-683', 'C/2046/O': 'cluster-684', 'C/2053/O': 'cluster-685', 'C/2054/O': 'cluster-686', 'C/2060/O': 'cluster-687', 'C/2065/O': 'cluster-688', 'C/2067/O': 'cluster-689', 'C/2069/O': 'cluster-690', 'C/2079/O': 'cluster-691', 'C/2082/O': 'cluster-692', 'C/2088/O': 'cluster-693', 'C/2093/O': 'cluster-694', 'D/2056/O': 'cluster-694', 'C/2094/O': 'cluster-695', 'C/2101/O': 'cluster-696', 'D/2009/O': 'cluster-697', 'D/2016/O': 'cluster-698', 'D/2017/O': 'cluster-699', 'D/2020/O': 'cluster-700', 'D/2033/O': 'cluster-701', 'D/2039/O': 'cluster-702', 'D/2041/O': 'cluster-703', 'D/2043/O': 'cluster-703', 'D/2047/O': 'cluster-704', 'D/2049/O': 'cluster-705', 'D/2055/O': 'cluster-706', 'D/2060/O': 'cluster-707', 'D/2061/O': 'cluster-708', 'D/2062/O': 'cluster-708', 'D/2070/O': 'cluster-709', 'D/2075/O': 'cluster-710'}\n"
     ]
    }
   ],
   "source": [
    "initiateHBnetwork(\"4AKR\")\n",
    "print(directory_name)\n",
    "print(hbn_cluster_dict)\n"
   ]
  },
  {
   "cell_type": "code",
   "execution_count": 137,
   "id": "e9dd6653",
   "metadata": {},
   "outputs": [
    {
     "data": {
      "text/plain": [
       "<function __main__.initiateHBnetwork(molecule: str, molecule_name='', directory: str = '.', use_object: str = '0', remove_object='0', hb_file: str = 'hb-define.txt', solvent_key: str = 'NONE', pse_file: str = 'period-table-info.txt', connections: str = '0')>"
      ]
     },
     "execution_count": 137,
     "metadata": {},
     "output_type": "execute_result"
    }
   ],
   "source": [
    "cmd.extend(\"initiateHBnetwork\", initiateHBnetwork)"
   ]
  },
  {
   "cell_type": "markdown",
   "id": "34962448",
   "metadata": {},
   "source": [
    "# HB-Network PyMol-Display"
   ]
  },
  {
   "cell_type": "code",
   "execution_count": 138,
   "id": "45beda31",
   "metadata": {},
   "outputs": [
    {
     "data": {
      "text/plain": [
       "['cluster-48', 'cluster-60', 'cluster-61']"
      ]
     },
     "execution_count": 138,
     "metadata": {},
     "output_type": "execute_result"
    }
   ],
   "source": [
    "def readoutHBnetwork(query: str, checkFor: str = \"RESIDUE\" ) -> str:\n",
    "    \n",
    "    #Checks if only hydrogen network for atom or whole residue should be shown\n",
    "    #Reads out dictionary, which Cluster files to check\n",
    "    #How should the user input b Chain:ResIDAtom. Best would be PyMol input:\n",
    "    #Last \"/\" important for closing arguement. otherwise other atoms could be chosen. E.g. 3 or 31 if A/3 and not A/3/\n",
    "    #If List empty: Resdue does not participate in any cluster\n",
    "    \n",
    "    #Sets the global index dictionary from the previous initiation run as current index dictionary for the function.\n",
    "    dictionary = hbn_cluster_dict\n",
    "    \n",
    "    #Creates an empty list, which contains later on the names of the clusters containing the atom/residue.\n",
    "    destination_cluster_list = []\n",
    "    \n",
    "    #Checks if the clusters of single atom should be checked or if the clusters the whole residue participates should be displayed.\n",
    "    if checkFor == \"ATOM\":\n",
    "        #Appends the cluster name with the searched atom to the cluster list.\n",
    "        #Appends cluster with a matching atom in the format \"chain/residue ID/atom\"\n",
    "        destination_cluster_list.append(dictionary[query])\n",
    "        \n",
    "        return destination_cluster_list #Cluster list is passed to next function for searching respective cluster files.\n",
    "                                        #Returns blank list, if no cluster, the residue participates, were found.\n",
    "    \n",
    "    #Checks if all clusters, where any atom of the residue participate, should be processed.\n",
    "    elif checkFor ==\"RESIDUE\":\n",
    "        #Appends all cluster matching the query input of \"chain/residue/\"\n",
    "        [destination_cluster_list.append(value) for key, value in dictionary.items() if query in key]\n",
    "        \n",
    "        return destination_cluster_list #Cluster list is passed to next function for searching respective cluster files.\n",
    "                                        #Returns blank list, if no cluster, the residue participates, were found.\n",
    "\n",
    "    \n",
    "####Testing the function\n",
    "readoutHBnetwork(\"A/101/\")"
   ]
  },
  {
   "cell_type": "code",
   "execution_count": 139,
   "id": "b91b5f71",
   "metadata": {},
   "outputs": [],
   "source": [
    "def readInHBN(cluster_file_output: str) -> pd.DataFrame:\n",
    "    \"\"\"\n",
    "    \n",
    "    \"\"\"\n",
    "    \n",
    "    \n",
    "    #Creates a list with each line of the HBnetwork cluster file output being assigned to an entry in the list.\n",
    "    cluster_rows = [i for i in cluster_file_output.split('\\n')]\n",
    "    #Splits the entries in the row-list further, creating an array with the first order list containing the rows and the second order list separating by column.\n",
    "    cluster_split = [i.split() for i in cluster_rows]\n",
    "    \n",
    "    #Column names for the later created dataframe containing the HBnetwork cluster files output.\n",
    "    HEAD_LST_CLUSTER = ['IDENT','ACC','sep1','DONO']\n",
    "    \n",
    "    #Creating pandas dataframe by reading in the primitive dataframe based on lists from the HBsearch output and setting column names.\n",
    "    df_cluster = pd.DataFrame(cluster_split, columns = HEAD_LST_CLUSTER)\n",
    "    \n",
    "    return df_cluster"
   ]
  },
  {
   "cell_type": "code",
   "execution_count": 140,
   "id": "eadcbb21",
   "metadata": {},
   "outputs": [
    {
     "data": {
      "text/html": [
       "<div>\n",
       "<style scoped>\n",
       "    .dataframe tbody tr th:only-of-type {\n",
       "        vertical-align: middle;\n",
       "    }\n",
       "\n",
       "    .dataframe tbody tr th {\n",
       "        vertical-align: top;\n",
       "    }\n",
       "\n",
       "    .dataframe thead th {\n",
       "        text-align: right;\n",
       "    }\n",
       "</style>\n",
       "<table border=\"1\" class=\"dataframe\">\n",
       "  <thead>\n",
       "    <tr style=\"text-align: right;\">\n",
       "      <th></th>\n",
       "      <th>IDENT</th>\n",
       "      <th>ACC</th>\n",
       "      <th>sep1</th>\n",
       "      <th>DONO</th>\n",
       "    </tr>\n",
       "  </thead>\n",
       "  <tbody>\n",
       "    <tr>\n",
       "      <th>0</th>\n",
       "      <td>HBOND</td>\n",
       "      <td>A:78:GLU:OE2</td>\n",
       "      <td>--</td>\n",
       "      <td>A:2035:HOH:O</td>\n",
       "    </tr>\n",
       "    <tr>\n",
       "      <th>1</th>\n",
       "      <td>HBOND</td>\n",
       "      <td>A:101:ARG:NH2</td>\n",
       "      <td>--</td>\n",
       "      <td>A:2035:HOH:O</td>\n",
       "    </tr>\n",
       "    <tr>\n",
       "      <th>2</th>\n",
       "      <td>HBOND</td>\n",
       "      <td>A:2035:HOH:O</td>\n",
       "      <td>--</td>\n",
       "      <td>A:101:ARG:NH2</td>\n",
       "    </tr>\n",
       "    <tr>\n",
       "      <th>3</th>\n",
       "      <td>HBOND</td>\n",
       "      <td>A:2035:HOH:O</td>\n",
       "      <td>--</td>\n",
       "      <td>A:78:GLU:OE2</td>\n",
       "    </tr>\n",
       "    <tr>\n",
       "      <th>4</th>\n",
       "      <td>HBOND</td>\n",
       "      <td>A:101:ARG:NH1</td>\n",
       "      <td>--</td>\n",
       "      <td>A:104:SER:OG</td>\n",
       "    </tr>\n",
       "    <tr>\n",
       "      <th>5</th>\n",
       "      <td>HBOND</td>\n",
       "      <td>A:104:SER:OG</td>\n",
       "      <td>--</td>\n",
       "      <td>A:106:GLU:OE2</td>\n",
       "    </tr>\n",
       "    <tr>\n",
       "      <th>6</th>\n",
       "      <td>HBOND</td>\n",
       "      <td>A:104:SER:OG</td>\n",
       "      <td>--</td>\n",
       "      <td>A:101:ARG:NH1</td>\n",
       "    </tr>\n",
       "    <tr>\n",
       "      <th>7</th>\n",
       "      <td>HBOND</td>\n",
       "      <td>A:106:GLU:OE2</td>\n",
       "      <td>--</td>\n",
       "      <td>A:104:SER:OG</td>\n",
       "    </tr>\n",
       "  </tbody>\n",
       "</table>\n",
       "</div>"
      ],
      "text/plain": [
       "   IDENT            ACC sep1           DONO\n",
       "0  HBOND   A:78:GLU:OE2   --   A:2035:HOH:O\n",
       "1  HBOND  A:101:ARG:NH2   --   A:2035:HOH:O\n",
       "2  HBOND   A:2035:HOH:O   --  A:101:ARG:NH2\n",
       "3  HBOND   A:2035:HOH:O   --   A:78:GLU:OE2\n",
       "4  HBOND  A:101:ARG:NH1   --   A:104:SER:OG\n",
       "5  HBOND   A:104:SER:OG   --  A:106:GLU:OE2\n",
       "6  HBOND   A:104:SER:OG   --  A:101:ARG:NH1\n",
       "7  HBOND  A:106:GLU:OE2   --   A:104:SER:OG"
      ]
     },
     "execution_count": 140,
     "metadata": {},
     "output_type": "execute_result"
    }
   ],
   "source": [
    "def prepareDataFrameHBnetwork(destination_cluster_list: str) -> pd.DataFrame:\n",
    "\n",
    "    #Get directory from global variable\n",
    "    #Reads out files with given file names\n",
    "    #Creates dataframe for each file -->readInHBN\n",
    "    #Append dataframe acceptor and donor to repective lists\n",
    "    #Return lists for displaying in Pymol as sticks an connected with distances\n",
    "    #Create readInHBN. Orient on readInHBS\n",
    "    #Iteration through files see cleanHBnetwork\n",
    "    #Create acceptor and donor lists so that prepareLists, showDistances and showSticks work on it. Less work\n",
    "    #--> Therfore append everything to an acceptor and donor list returning to prepareList\n",
    "    #--> When no dataframe is empyt --> Atom /Residue does not participate in any hydrogen bonds\n",
    "    \n",
    "    directory = directory_name\n",
    "    \n",
    "    #Directory, where cluster files for initiation run are saved\n",
    "    cluster_directory = os.path.normpath(f\"./HB_network/{directory}/CLUSTER\") #By HBnetwork created CLUSTER directory is targeted\n",
    "    \n",
    "    #Creating empty DataFrame. All dataframes created by reading out the generated cluster files is appended to this dataframe\n",
    "    hBond_cluster_dataframe = pd.DataFrame()\n",
    "    \n",
    "    #\n",
    "    for file in destination_cluster_list: #Iterating over given clusters.\n",
    "        \n",
    "        #Save path to cluster file for reading in.\n",
    "        cluster_dir = os.path.normpath(f\"{cluster_directory}/{file}.hb-ntw\")\n",
    "        \n",
    "        #Reading in cluster file.\n",
    "        with open(cluster_dir,\"r\") as cluster_file:\n",
    "            cluster_output = cluster_file.read()\n",
    "            \n",
    "        cluster_output = cluster_output.strip()\n",
    "        \n",
    "        #Processing cluster file output to dataframe\n",
    "        if cluster_output:\n",
    "            new_cluster_df = readInHBN(cluster_output)\n",
    "        else:\n",
    "            continue\n",
    "            \n",
    "        hBond_cluster_dataframe = pd.concat([hBond_cluster_dataframe, new_cluster_df], ignore_index = True)\n",
    "      \n",
    "    return hBond_cluster_dataframe\n",
    "\n",
    "\n",
    "\n",
    "###Testing function\n",
    "prepareDataFrameHBnetwork(readoutHBnetwork(\"A/101/\"))"
   ]
  },
  {
   "cell_type": "code",
   "execution_count": 141,
   "id": "6750d660",
   "metadata": {},
   "outputs": [
    {
     "name": "stdout",
     "output_type": "stream",
     "text": [
      "[('A', '3', 'SER', 'OG'), ('A', '6', 'GLU', 'OE1'), ('A', '6', 'GLU', 'OE1'), ('A', '6', 'GLU', 'OE2'), ('A', '2004', 'HOH', 'O'), ('A', '2004', 'HOH', 'O')]\n",
      "[('A', '6', 'GLU', 'OE1'), ('A', '2004', 'HOH', 'O'), ('A', '3', 'SER', 'OG'), ('A', '2004', 'HOH', 'O'), ('A', '6', 'GLU', 'OE2'), ('A', '6', 'GLU', 'OE1')]\n"
     ]
    }
   ],
   "source": [
    "def showNetwork(query: str, checkFor = \"RESIDUE\"):\n",
    "    pass\n",
    "    ####### Learn objects. Save data like dictionary, directory name and co. as objects -->Classes, Objects\n",
    "    destination_cluster_list = readoutHBnetwork(query, checkFor)\n",
    "    \n",
    "    hbn_dataframe = prepareDataFrameHBnetwork(destination_cluster_list)\n",
    "    \n",
    "    acceptor, donor = prepareLists(hbn_dataframe)\n",
    "    \n",
    "    print(acceptor)\n",
    "    print(donor)\n",
    "    #Shows connections\n",
    "    #Shows sticks\n",
    "    \n",
    "    \n",
    "######Testing function\n",
    "showNetwork(\"A/3/\")"
   ]
  },
  {
   "cell_type": "code",
   "execution_count": 142,
   "id": "b08ab054",
   "metadata": {
    "scrolled": true
   },
   "outputs": [
    {
     "name": "stdout",
     "output_type": "stream",
     "text": [
      "C:\\Users\\Alex\\Desktop\\HBonds_Project\\hbonds_search_pymol\n"
     ]
    }
   ],
   "source": [
    "print(os.getcwd())"
   ]
  },
  {
   "cell_type": "code",
   "execution_count": null,
   "id": "7b32fc67",
   "metadata": {},
   "outputs": [],
   "source": []
  },
  {
   "cell_type": "code",
   "execution_count": null,
   "id": "bee027cf",
   "metadata": {},
   "outputs": [],
   "source": []
  }
 ],
 "metadata": {
  "kernelspec": {
   "display_name": "Python 3 (ipykernel)",
   "language": "python",
   "name": "python3"
  },
  "language_info": {
   "codemirror_mode": {
    "name": "ipython",
    "version": 3
   },
   "file_extension": ".py",
   "mimetype": "text/x-python",
   "name": "python",
   "nbconvert_exporter": "python",
   "pygments_lexer": "ipython3",
   "version": "3.9.12"
  }
 },
 "nbformat": 4,
 "nbformat_minor": 5
}
