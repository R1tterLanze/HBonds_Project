{
 "cells": [
  {
   "cell_type": "markdown",
   "id": "0d218b9e",
   "metadata": {},
   "source": [
    "# GUI hbond"
   ]
  },
  {
   "cell_type": "markdown",
   "id": "8d15486f",
   "metadata": {},
   "source": [
    "### Initialization"
   ]
  },
  {
   "cell_type": "code",
   "execution_count": 16,
   "id": "35c0b7d4",
   "metadata": {},
   "outputs": [],
   "source": [
    "import pandas as pd\n",
    "import subprocess\n",
    "import os\n",
    "from pymol import cmd, stored\n",
    "import platform\n",
    "from typing import List, Dict\n",
    "from datetime import datetime"
   ]
  },
  {
   "cell_type": "markdown",
   "id": "84b68126",
   "metadata": {},
   "source": [
    "### Functions"
   ]
  },
  {
   "cell_type": "code",
   "execution_count": 17,
   "id": "b809abdc",
   "metadata": {},
   "outputs": [
    {
     "data": {
      "text/plain": [
       "'\\ndef form(pdbstr, x):\\n    \\'\\'\\'\\n    Part of lambda function to format dataframe to Pymol compatible form:\\n    from \"A:183:LEU:O\" to \"/2akr/A/A/LEU`183/O\"\\n    :param pdbstr: pdb code of handled structure\\n    :param x: entry within dataframe\\n    \\'\\'\\'\\n    temp = x.split(\\':\\')\\n    x = f\\'/{pdbstr}//{temp[0]}/{temp[2]}/{temp[3]}\\'\\n    return x\\n\\ndef pymol_display(df):\\n    \\'\\'\\'\\n    \\'\\'\\'\\n    zilis = list(zip(df[\\'ACC\\'].tolist(), df[\\'DONO\\'].tolist()))\\n    for i in zilis:\\n        cmd.distance( i[0] , i[1])\\n    \\ndef hbsearch(pdbstr:str) -> pd.DataFrame():\\n    \\'\\'\\'\\n    Executing hb_search with set parameters and extract HBOND-entries from output\\n    :return df_hbond: Dataframe with all HBOND entries from hb_search output \\n    \\'\\'\\'\\n    \\n    HEAD_LST = [\\'IDENT\\',\\'ACC\\',\\'sep1\\',\\'DONO\\',\\':\\',\\'x\\',\\'y\\',\\'z\\',\\'sep2\\',\\'a\\',\\'b\\']\\n    \\n    # Setting environment variable\\n    os.environ[\\'PSE_FILE\\'] = \\'period-table-info.txt\\'\\n    \\n    # Executing hb_search\\n    hbs = subprocess.run(f\"./hb-search -hb hb-define.txt {pdbstr}.pdb\", \\n                         stdout=subprocess.PIPE, shell=True, check=True, text=True)\\n    \\n    # Decode and format hb_search output\\n    hbs_hbb = [i for i in hbs.stdout.split(\\'\\n\\') if i[0:5] == \"HBOND\"]\\n    hbs_splt = [i.split() for i in hbs_hbb]\\n\\n    # Return dataframe\\n    df_hbond = pd.DataFrame(hbs_splt, columns = HEAD_LST)\\n    \\n    df_hbond = df_hbond[[\\'ACC\\', \\'DONO\\']]\\n    df_hbond[\\'ACC\\'] = df_hbond[\\'ACC\\'].map(lambda x: form(pdbstr,x) )\\n    df_hbond[\\'DONO\\'] = df_hbond[\\'DONO\\'].map(lambda x: form(pdbstr,x) )\\n    \\n    pymol_display(df_hbond)\\n    \\n    return df_hbond\\n\\n#cmd.extend(\\'hbsearch\\', hbsearch)'"
      ]
     },
     "execution_count": 17,
     "metadata": {},
     "output_type": "execute_result"
    }
   ],
   "source": [
    "\"\"\"\n",
    "def form(pdbstr, x):\n",
    "    '''\n",
    "    Part of lambda function to format dataframe to Pymol compatible form:\n",
    "    from \"A:183:LEU:O\" to \"/2akr/A/A/LEU`183/O\"\n",
    "    :param pdbstr: pdb code of handled structure\n",
    "    :param x: entry within dataframe\n",
    "    '''\n",
    "    temp = x.split(':')\n",
    "    x = f'/{pdbstr}//{temp[0]}/{temp[2]}/{temp[3]}'\n",
    "    return x\n",
    "\n",
    "def pymol_display(df):\n",
    "    '''\n",
    "    '''\n",
    "    zilis = list(zip(df['ACC'].tolist(), df['DONO'].tolist()))\n",
    "    for i in zilis:\n",
    "        cmd.distance( i[0] , i[1])\n",
    "    \n",
    "def hbsearch(pdbstr:str) -> pd.DataFrame():\n",
    "    '''\n",
    "    Executing hb_search with set parameters and extract HBOND-entries from output\n",
    "    :return df_hbond: Dataframe with all HBOND entries from hb_search output \n",
    "    '''\n",
    "    \n",
    "    HEAD_LST = ['IDENT','ACC','sep1','DONO',':','x','y','z','sep2','a','b']\n",
    "    \n",
    "    # Setting environment variable\n",
    "    os.environ['PSE_FILE'] = 'period-table-info.txt'\n",
    "    \n",
    "    # Executing hb_search\n",
    "    hbs = subprocess.run(f\"./hb-search -hb hb-define.txt {pdbstr}.pdb\", \n",
    "                         stdout=subprocess.PIPE, shell=True, check=True, text=True)\n",
    "    \n",
    "    # Decode and format hb_search output\n",
    "    hbs_hbb = [i for i in hbs.stdout.split('\\n') if i[0:5] == \"HBOND\"]\n",
    "    hbs_splt = [i.split() for i in hbs_hbb]\n",
    "\n",
    "    # Return dataframe\n",
    "    df_hbond = pd.DataFrame(hbs_splt, columns = HEAD_LST)\n",
    "    \n",
    "    df_hbond = df_hbond[['ACC', 'DONO']]\n",
    "    df_hbond['ACC'] = df_hbond['ACC'].map(lambda x: form(pdbstr,x) )\n",
    "    df_hbond['DONO'] = df_hbond['DONO'].map(lambda x: form(pdbstr,x) )\n",
    "    \n",
    "    pymol_display(df_hbond)\n",
    "    \n",
    "    return df_hbond\n",
    "\n",
    "#cmd.extend('hbsearch', hbsearch)\"\"\""
   ]
  },
  {
   "cell_type": "markdown",
   "id": "ae60d5e0",
   "metadata": {},
   "source": [
    "# HB-Search"
   ]
  },
  {
   "cell_type": "code",
   "execution_count": 18,
   "id": "a28bf399",
   "metadata": {},
   "outputs": [],
   "source": [
    "def changeDirectory(programDirectory: str = \".\"):\n",
    "    \"\"\"\n",
    "    Changes working directory to the folder containing the needed programs. \n",
    "    Path to program folder needs to be entered if started from other location\n",
    "    :param programDirectory: Path to the program folder. Standard: Set to current working directroy\n",
    "    \"\"\"\n",
    "    \n",
    "    #Changes working directory to the entered path adjusted to the operating system used.\n",
    "    cmd.cd(os.path.normpath(programDirectory))\n",
    "    #os.chdir(os.path.normpath(programDirectory)) #can be deleted?\n",
    "    # Usefull if we want to give an error! To tell the person in which directory they are located!\n",
    "    #cwd = os.getcwd()"
   ]
  },
  {
   "cell_type": "code",
   "execution_count": 19,
   "id": "2f33b694",
   "metadata": {},
   "outputs": [],
   "source": [
    "def useObject(input_molecule: str):\n",
    "    \"\"\"\n",
    "    Enables to use a chosen object of the pymol session for HBsearch/HBnetwork.\n",
    "    Saves the chosen object as pdb-file in the pdb_files folder of the program folder\n",
    "    under the name of the object.\n",
    "    :param input_molecule: pymol object name of the structure that should be used for the HBsearch/HBnetwork run\n",
    "    \"\"\"\n",
    "    \n",
    "    #Saves pymol object by its name in the pdb_files folder.\n",
    "    cmd.save(os.path.normpath(f\"./pdb_files/{input_molecule}.pdb\"), input_molecule)"
   ]
  },
  {
   "cell_type": "code",
   "execution_count": 20,
   "id": "76438daf",
   "metadata": {},
   "outputs": [],
   "source": [
    "def removeObject(input_molecule: str):\n",
    "    \"\"\"\n",
    "    Removes pdb-file of chosen object name. Used after HBsearch run for deleting unwanted data.\n",
    "    :param input_molecule: Name of the molecule to be removed.\n",
    "    \"\"\"\n",
    "    \n",
    "    #Removes pdb-file from pdb_files ordner by entered name.\n",
    "    os.remove(os.path.normpath(f\"./pdb_files/{input_molecule}.pdb\"))"
   ]
  },
  {
   "cell_type": "code",
   "execution_count": 21,
   "id": "3ba8c1e0",
   "metadata": {},
   "outputs": [],
   "source": [
    "def fetchPDB(pdbID: str, object_name: str = \"\"):\n",
    "    \"\"\"\n",
    "    Fetched PDB-file by PDB-ID to pymol session and sets object name in pymol session.\n",
    "    PDB-file is saved under the PDB-ID in pdb_files folder.\n",
    "    If PDB-file is already existant with same name. No new file will be fetched.\n",
    "    Internet conncetion required.\n",
    "    :param pdbID: PDB-ID of protein structure to be fetched and used for HBsearch/HBnetwork run.\n",
    "    :param object_name: Name the pdb file shoudl be displayed as in the pymol session.\n",
    "    \"\"\"\n",
    "    \n",
    "    #Checks if a specific name is chosen. If no name is chosen, file will be named after the PDB-ID.\n",
    "    if object_name == \"\":\n",
    "        object_name = pdbID\n",
    "        \n",
    "    #setting fetch_path to desired folder\n",
    "    cmd.set(\"fetch_path\", os.path.normpath(\"./pdb_files/\"))\n",
    "    \n",
    "    #fetching pdb file if not in folder\n",
    "    cmd.fetch(pdbID, name = object_name, type = \"pdb\")"
   ]
  },
  {
   "cell_type": "code",
   "execution_count": 22,
   "id": "e51cd920",
   "metadata": {
    "scrolled": false
   },
   "outputs": [],
   "source": [
    "def startHBsearch(molecule: str, hb_file: str, solvent_key:str, pse_file:str, connections: str) -> str:\n",
    "    \"\"\"\n",
    "    Starts the HBsearch run. HBsearch finds hydrogen bonds based on a set of parameters based on the chemical nature\n",
    "    of the atoms of the protein/cofactor/nucleic acid (maximal Van-der-Waals radii and maximal covalent radii) and their distances to each other.\n",
    "    Possible pairs forming hydrogen bonds are listed in the hb-define file. Chemical nature of atoms are listed in period-table.info file as standard.\n",
    "    :param molecule: Strucutre used for HBsearch run\n",
    "    :param hb_file: HB-file sued to define possible hydrogen bond interactions. Standard set to hb-define.txt file\n",
    "    :param solvent_key: If hydrogen bond bridges with solvent should be considered. Standard NONE: No solvent H-Bonds. Further possible: HOMO: Homogenous solvent; MEMB: Membrane environment.\n",
    "    :param pse_file: File containing the chemical nature of the atoms. Standard set to period-table.info. To create own one see standard file for structure.\n",
    "    :param connections: If special connections should be taken into account. Here: Hydrogen bonds that would not be recognized by parameters, but could be possible due to rotation of the residues. If connections = 1: Special conncetions will be taken into account. Standard set to 0: No special connectoins will be taken into account.\n",
    "    :return hbs_output: Returns string with the output of the HBsearch run.\n",
    "    \"\"\"\n",
    "\n",
    "    # Setting environment variable. Sets chemical nature of atoms.\n",
    "    os.environ['PSE_FILE'] = pse_file\n",
    "    # Determine operation system to start correct HBsearch application.\n",
    "    system = platform.system()\n",
    "    # Executing hb_search with chosen parameters\n",
    "    hbs_output = subprocess.run(os.path.normpath(f\"./{system}/hb-search -hb {hb_file} -solv {solvent_key} -con {connections} ./pdb_files/{molecule}.pdb\"), capture_output=True, shell=True, check = True, text = True).stdout\n",
    "    \n",
    "    return hbs_output"
   ]
  },
  {
   "cell_type": "code",
   "execution_count": 23,
   "id": "20ff1acc",
   "metadata": {},
   "outputs": [],
   "source": [
    "def readInHBS(hbs_output: str) -> pd.DataFrame():\n",
    "    \"\"\"\n",
    "    Reads in HBsearch output and converts it to pandas dataframe for further processing.\n",
    "    :param hbs_output: HBsearch output as string:\n",
    "    :return df: Returns dataframe containing sorted and filtered HBsearch results\n",
    "    \"\"\"\n",
    "    \n",
    "    #Creates a list with each line of the HBsearch output being assigned to an entry in the list.\n",
    "    hbs_rows = [i for i in hbs_output.split('\\n')]\n",
    "    #Splits the entries in the row-list further, creating an array with the first order list containing the rows and the second order list separating by column.\n",
    "    hbs_split = [i.split() for i in hbs_rows]\n",
    "    \n",
    "    #Column names for the later created dataframe containing the HBsearch output\n",
    "    HEAD_LST = ['IDENT','ACC','sep1','DONO',':','x','y','z','sep2','a','b']\n",
    "    \n",
    "    #Creating pandas dataframe by reading in the primitive dataframe based on lists from the HBsearch output and setting column names.\n",
    "    df = pd.DataFrame(hbs_split, columns = HEAD_LST)\n",
    "    #Filters dataframe, so only entries containing the partners of a hydrogen bond are listed in the dataframe.\n",
    "    df = df[df[\"IDENT\"] == \"HBOND\"]\n",
    "    \n",
    "    return df"
   ]
  },
  {
   "cell_type": "code",
   "execution_count": 24,
   "id": "67a528bb",
   "metadata": {},
   "outputs": [],
   "source": [
    "def prepareLists(dataframe: pd.DataFrame) -> List:\n",
    "    \"\"\"\n",
    "    Extracts the acceptors and donors from the HBsearch/HBnetwork output into separate lists.\n",
    "    :param dataframe: Dataframe containing the HBsearch/HBnetwork output splitted into columns.\n",
    "    :return acceptor: Returns list with acceptor atoms in hydrogen bond with complementary indexes to their partner in the donor list.\n",
    "    :return donor: Returns list with donor atoms in hydrogen bond with complemenary indexes to their partner in the acceptor list.\n",
    "    \"\"\"\n",
    "    \n",
    "    #Extracting important acceptor and donor entries from dataframe containing HBsearch results as separate lists.\n",
    "    acceptor_pre = list(dataframe[\"ACC\"])\n",
    "    donor_pre = list(dataframe [\"DONO\"])\n",
    "    \n",
    "    #Creating lists empty lists for further use. Lists should contain later entries from acceptor and donor entries, respectively, separated by the chain, residue, residue ID, and atom. \n",
    "    acceptor = []\n",
    "    donor = []\n",
    "    \n",
    "    #Separates entries for acceptors in HBsearch output by chain, residue, residue ID, and atom for faciliated reorganisation for PyMol input.\n",
    "    for i in range(len(acceptor_pre)):#only one list can be used for iteration of list index, since each acceptor needs a donor to form a hydrogen bond. So acceptor and donor list need to have same length.\n",
    "        acceptor.append(tuple(acceptor_pre[i].split(\":\")))\n",
    "    #Separates entries for donors in HBsearch output by chain, residue, residue ID, and atom for faciliated reorganisation for PyMol input.    \n",
    "    for j in range(len(donor_pre)):\n",
    "        donor.append(tuple(donor_pre[j].split(\":\")))\n",
    "\n",
    "    return acceptor, donor\n"
   ]
  },
  {
   "cell_type": "code",
   "execution_count": 25,
   "id": "e4042e3c",
   "metadata": {},
   "outputs": [],
   "source": [
    "def displayDistances(acceptor: List, donor: List, object_name: str, run_information:str) -> None:\n",
    "    \"\"\"\n",
    "    Displays the hydrogen bonds of the hydrogen bond acceptors and their respective \n",
    "    donors found by the HBsearch run as distances without labeling in PyMol.\n",
    "    :param acceptor: Lists of acceptor atoms with complementary index to their respective donors in donor list. Entry tuples contain chain, residue, residue ID and atom.\n",
    "    :param donor:  Lists of donor atoms with complementary index to their respective donors in acceptor list. Entry tuples contain chain, residue, residue ID and atom.\n",
    "    :param object_name: Name of program this function is used in.\n",
    "    :param run_information: Displays in the selection of sticks, which program was used. In case of HBnetwork, additionally the search query is shown.\n",
    "    \"\"\"\n",
    "    \n",
    "    #Creating list of Hbonds for grouping. Faciliates displaying\n",
    "    bondList = []\n",
    "    \n",
    "    #Displays connection between the acceptor atom and the respective donor atom in pymol. Therfore, creates distance line object\n",
    "    for i in range(len(acceptor)):        \n",
    "        cmd.distance(f\"{run_information}_{object_name}_hydrogenBond_{i}\", #Name of the distance line object\n",
    "                     f\"{object_name}//{acceptor[i][0]}/{acceptor[i][1]}/{acceptor[i][3]}\", #Acceptor molecule. Tuple entries of acceptor list ordered by PyMol selection format.\n",
    "                     f\"{object_name}//{donor[i][0]}/{donor[i][1]}/{donor[i][3]}\")        #Donor molecule. Tuple entries of acceptor list ordered by PyMol selection format.\n",
    "        \n",
    "        #Creates a list containing each distance object. Faciliates further adjustments of the distance line objects. \n",
    "        bondList.append(f\"{run_information}_{object_name}_hydrogenBond_{i}\")\n",
    "        \n",
    "    #Groups all distance line objects into one cluster for better clarity in PyMol window.\n",
    "    cmd.group(f\"{run_information}_{object_name}_hydrogenBonds\", \" \".join(bondList))\n",
    "    #Hides distance labels (distance in Angstrom) for better clarity.\n",
    "    cmd.hide(\"labels\", f\"{run_information}_{object_name}_HydrogenBonds\")"
   ]
  },
  {
   "cell_type": "code",
   "execution_count": 26,
   "id": "d238dbb9",
   "metadata": {},
   "outputs": [],
   "source": [
    "def showSticks(acceptor: List, donor: List, object_name: str, run_information: str):\n",
    "    \"\"\"\n",
    "    Displays the residues participating in hydrogen bonds as sticks in PyMol.\n",
    "    :param acceptor: Lists of acceptor atoms with complementary index to their respective donors in donor list. Entry tuples contain chain, residue, residue ID and atom.\n",
    "    :param donor: Lists of donor atoms with complementary index to their respective donors in acceptor list. Entry tuples contain chain, residue, residue ID and atom.\n",
    "    :param object_name: Name of the object the HBsearch/HBnetwork run was performed on.\n",
    "    :param run_information: Displays in the selection of sticks, which program was used. In case of HBnetwork, additionally the search query is shown.\n",
    "    \"\"\"\n",
    "    \n",
    "    #Creating list of residues that should be displayed as sticks. Improves speed of the program by grouping and showing sticks of group.\n",
    "    stickList = []\n",
    "    \n",
    "    #Creating list with all residues participating in hydrogen bonds. Entries are converted to PyMol selection format.\n",
    "    for i in range(len(acceptor)):##maybe possible to modify with zip(); Iterating over all entries\n",
    "        stickList.append(f\"/{object_name}//{acceptor[i][0]}/{acceptor[i][1]}\") #Appending to stick-list all acceptor residues. Residue information is converted to PyMol selection format.\n",
    "        stickList.append(f\"/{object_name}//{donor[i][0]}/{donor[i][1]}\") #Appending to stick-list all donor residues. Residue information is converted to PyMol selection format.\n",
    "    \n",
    "    #Selecting all sticks by selecting all entries in the sticklist\n",
    "    cmd.select(f\"{run_information}_Connections_Sticks_{object_name}\", \" \".join(stickList)) #For selection list entries need to be converted to string, with entries separeated by space character.\n",
    "    cmd.show(\"sticks\", f\"{run_information}_Connections_Sticks_{object_name}\") #Selection is displayed as sticks.\n",
    "    cmd.deselect() #Selection is deselected for better clarity and to spare the user deselecting selection by him-/herself."
   ]
  },
  {
   "cell_type": "code",
   "execution_count": 27,
   "id": "d2ee8c47",
   "metadata": {},
   "outputs": [],
   "source": [
    "def hbsearch(molecule:str, molecule_name: str = \"\", directory:str = \".\", \n",
    "         use_object: str = \"0\", remove_object: str = \"1\", hb_file: str = \"hb-define.txt\", \n",
    "         solvent_key:str = \"NONE\", pse_file:str =\"period-table-info.txt\", connections: str = \"0\"):\n",
    "    \"\"\"\n",
    "    Runs HBsearch using a given biomolecule (either fetched by the PDB-ID or using an object of the PyMol session)\n",
    "    and displays the hydrogen bonds occuring in the molecule.\n",
    "    :param molecule: PDB-ID of molecule HBsearch run should be performed on or in case an object in the PyMol session has to be used: The name of the object.\n",
    "    :param molecule_name: If object fetched by PDB-ID. Standard set to blank.\n",
    "    :param directory: Directory of the program folder. Directes working directory in PyMol to entered directory. Obsolete when script is started from program folder and HBsearch is started without changing the directory. Standard set to current working directory (\".\").\n",
    "    :param use_object: If an object in the PyMol session has to be used for the HBsearch run. 0: No; 1: Yes. Standard set to 0. If set to 0. Molecule will be fetched by PDB-ID.\n",
    "    :param remove_object: If created PDB-file in pdb_files folder should be deleted after HBsearch run. 0: No; 1: Yes. Standard set to 0.\n",
    "    :param hb_file: HB-file sued to define possible hydrogen bond interactions. Standard set to hb-define.txt file\n",
    "    :param solvent_key: If hydrogen bond bridges with solvent should be considered. Standard NONE: No solvent H-Bonds. Further possible: HOMO: Homogenous solvent; MEMB: Membrane environment.\n",
    "    :param pse_file: File containing the chemical nature of the atoms. Standard set to period-table.info. To create own one see standard file for structure.\n",
    "    :param connections: If special connections should be taken into account. Here: Hydrogen bonds that would not be recognized by parameters, but could be possible due to rotation of the residues. If connections = 1: Special conncetions will be taken into account. Standard set to 0: No special connectoins will be taken into account.\n",
    "    \"\"\"\n",
    "    \n",
    "    changeDirectory(directory) #Change directory to program folder directory. Needed PyMol directory is not set to program folder for HBsearch run\n",
    "    \n",
    "    #Checks if user wants to use own object in PyMol session or wants to fetch a protein structure from the PDB\n",
    "    if use_object == \"0\": #User wants to fetch a protein from the PDB using a PDB-ID\n",
    "        fetchPDB(molecule, molecule_name) #Uses fetch command to fetch PDB_ID and allows user to name the fetched object in PyMol session.\n",
    "    elif use_object == \"1\": #User wants to use own object.\n",
    "        useObject(molecule) #Object with entered name is saved as pdb-file in the pdb_files folder and is used for the following HBsearch run\n",
    "    \n",
    "    \n",
    "    hbs_output = startHBsearch(molecule, hb_file, solvent_key, pse_file, connections) #Starts an HBsearch run with given parameters. Output is stored\n",
    "    hbs_dataframe = readInHBS(hbs_output) #Converts HBsearch run to dataframe\n",
    "    acceptor, donor = prepareLists(hbs_dataframe) #Prepares acceptor and donor lists for displaying in PyMol\n",
    "    \n",
    "    run_information = \"HBsearch\" #Which program is run. Needed for displayDistances() and showSticks()\n",
    "    \n",
    "    if molecule_name == \"\": #Checking if custom molecule name was entered: If no name was entered, PDB-ID or saved object name is used.\n",
    "        displayDistances(acceptor, donor, molecule, run_information) #Displays distances of hydrogen bond acceptors with their respective donors as distance objects without label in PyMol and groups distance objects according to the strucutre object they are based on.\n",
    "        showSticks(acceptor,donor, molecule, run_information) #Shows residues participating in hydrogen bonds as sticks\n",
    "    else: #When molecule name was entered, PyMol strucutre object posses molecule name. So this is used for following PyMol selection based commands.\n",
    "        displayDistances(acceptor, donor, molecule_name, run_information) #Displays distances of hydrogen bond acceptors with their respective donors as distance objects without label in PyMol and groups distance objects according to the strucutre object they are based on.\n",
    "        showSticks(acceptor,donor, molecule_name, run_information) #Shows residues participating in hydrogen bonds as sticks\n",
    "    \n",
    "    if remove_object == \"1\": #Checks if parameter remove_object is set to 1. If yes: created PDB-file in pdb_files folder is deleted.\n",
    "        removeObject(molecule)"
   ]
  },
  {
   "cell_type": "code",
   "execution_count": 28,
   "id": "a9dfff6c",
   "metadata": {},
   "outputs": [
    {
     "data": {
      "text/plain": [
       "<function __main__.hbsearch(molecule: str, molecule_name: str = '', directory: str = '.', use_object: str = '0', remove_object: str = '1', hb_file: str = 'hb-define.txt', solvent_key: str = 'NONE', pse_file: str = 'period-table-info.txt', connections: str = '0')>"
      ]
     },
     "execution_count": 28,
     "metadata": {},
     "output_type": "execute_result"
    }
   ],
   "source": [
    "#Creation of command in PyMol.\n",
    "cmd.extend(\"hbsearch\", hbsearch) #When read in in PyMol the script creates a command in PyMol which can be started via the PyMol command line."
   ]
  },
  {
   "cell_type": "markdown",
   "id": "3cbeeae7",
   "metadata": {},
   "source": [
    "# HB-Network - Initialization"
   ]
  },
  {
   "cell_type": "code",
   "execution_count": 29,
   "id": "1b9d5c00",
   "metadata": {},
   "outputs": [],
   "source": [
    "class saveBot:\n",
    "    def __init_():\n",
    "        directory_name_save:str = None\n",
    "        dictionary_save: Dict = None\n",
    "        molecule_name_save: str = None\n",
    "\n",
    "save = saveBot()"
   ]
  },
  {
   "cell_type": "code",
   "execution_count": 30,
   "id": "b1e4e1fd",
   "metadata": {},
   "outputs": [],
   "source": [
    "def createDirectory(molecule_name:str) -> str:\n",
    "    \"\"\"\n",
    "    Creates new directory, containing HBnetwork files later on. directory is created in program folder in ./HB_network/.\n",
    "    Directory name: MoleculeName_Date_Time.\n",
    "    :param molecule_name: Name of the molecule HBnetwork is run on. \n",
    "    :return directory_name: Returns name of created folder in HB_network folder. Needed for guiding HBnetwork.\n",
    "    \"\"\"\n",
    "    #Get current time and format it\n",
    "    current_time = datetime.now()\n",
    "    formated_time = current_time.strftime(\"%Y-%m-%d_%H-%M-%S\")\n",
    "    \n",
    "    #Set folder name in HB_network directory\n",
    "    directory_name = f\"{molecule_name}_{formated_time}\"\n",
    "    \n",
    "    #Create directory with set folder name in HB_network folder\n",
    "    os.mkdir(os.path.normpath(f\"./HB_network/{directory_name}\"))\n",
    "    \n",
    "    #Informs user, where cluster files will be saved.\n",
    "    print(f\"HBnetwork run will be saved in\", os.path.normpath(f\"HB_network/{directory_name}\"))\n",
    "    \n",
    "    return directory_name"
   ]
  },
  {
   "cell_type": "code",
   "execution_count": 31,
   "id": "49601567",
   "metadata": {},
   "outputs": [],
   "source": [
    "def createHBnetwork(molecule: str, directory_name: str, hb_file: str = \"hb-define.txt\", \n",
    "                    solvent_key:str = \"NONE\", pse_file:str =\"period-table-info.txt\", \n",
    "                    connections: str = \"0\"):\n",
    "    \"\"\"\n",
    "    Runs HBnetwork on the entered molecule. Files containing information about the hydrogen bond\n",
    "    clusters are created in the HB_network folder in the program folder in the directory.\n",
    "    Final directory is termed: MoleculeName_Date_Time. Returns summary of all hydrogen bond clusters\n",
    "    :param molecule: Strucutre used for HBsearch run. HBnetwork is run on the same molecule using the output of HBsearch.\n",
    "    :param directory_name: Saving folder for the HBnetwork run in HB_network subfolder in the program folder. \n",
    "    :param hb_file: HB-file sued to define possible hydrogen bond interactions. Standard set to hb-define.txt file\n",
    "    :param solvent_key: If hydrogen bond bridges with solvent should be considered. Standard NONE: No solvent H-Bonds. Further possible: HOMO: Homogenous solvent; MEMB: Membrane environment.\n",
    "    :param pse_file: File containing the chemical nature of the atoms. Standard set to period-table.info. To create own one see standard file for structure.\n",
    "    :param connections: If special connections should be taken into account. Here: Hydrogen bonds that would not be recognized by parameters, but could be possible due to rotation of the residues. If connections = 1: Special conncetions will be taken into account. Standard set to 0: No special connectoins will be taken into account.\n",
    "    :return hbn_output: Summary of all hydrogen bond clusters. Used later for indexing.\n",
    "    \"\"\"\n",
    "    \n",
    "    #Returns operating system the user utilizes. Needed to guide HBsearch/HBnetwork to the correct folders containing appropriate executables.\n",
    "    system = platform.system()\n",
    "    \n",
    "    #Creating a .hb file for the HBnetwork program based. HBsearch run is needed as parameter for HBnetwork run.\n",
    "    hbs_output = startHBsearch(molecule, hb_file, solvent_key, pse_file, connections) #Gathering HBsearch output\n",
    "\n",
    "    with open(os.path.normpath(f\"./HB_network/{directory_name}/{molecule}.hb\"),\"w\") as fh: #writing HBsearch output in textfile in correct directory\n",
    "        fh.write(hbs_output)\n",
    "        \n",
    "    #Runs HBnetwork. Creates output files in HB_network/molecule_date_time/ \n",
    "    cluster_dir = os.path.normpath(f\"./HB_network/{directory_name}\")\n",
    "    hbnetwork_dir = os.path.normpath(f\"../../{system}/hb-network {molecule}.hb\") #Program_dir hb_file_dir\n",
    "    hbn_output = subprocess.run(hbnetwork_dir, cwd = cluster_dir, capture_output=True, shell=True, check = True, text = True).stdout #Runs HBnetwork. Cluster files are created. Summary is given as output\n",
    "    \n",
    "    return hbn_output"
   ]
  },
  {
   "cell_type": "code",
   "execution_count": 32,
   "id": "22274ced",
   "metadata": {},
   "outputs": [],
   "source": [
    "def cleanHBnetwork(directory_name: str):\n",
    "    \"\"\"\n",
    "    Cleans HBnetwork CLUSTER directory of the run, by deleting all files with a size of 0 bytes.\n",
    "    :param directory_name: Name of the directory the HBnetwork cluster files are saved in.\n",
    "    \"\"\"\n",
    "    \n",
    "    ##Deletes not needed files without any network\n",
    "    ##Give later out: If file is not existant than: \"No network found\"\n",
    "    ##Giving networks with aminoacids and with atoms\n",
    "    \n",
    "    directory = os.path.normpath(f\"./HB_network/{directory_name}/CLUSTER\") #By HBnetwork created CLUSTER directory is targeted\n",
    "    \n",
    "    #Files with a size of 0 bytes are deleted since they dont contain clusters.\n",
    "    for file in os.listdir(directory): #Iterating over the directory \n",
    "        \n",
    "        file_dir = os.path.normpath(f\"{directory}/{file}\")\n",
    "        \n",
    "        if os.path.getsize(file_dir) == 0: #Files with a size of 0 bytes are removed\n",
    "            os.remove(file_dir)          \n",
    "    "
   ]
  },
  {
   "cell_type": "code",
   "execution_count": 33,
   "id": "f63c5b70",
   "metadata": {},
   "outputs": [],
   "source": [
    "def indexHbnetwork(hbn_output: str):\n",
    "    \"\"\"\n",
    "    Creates a dictionary with each atom participating in hydrogen bonds. Atoms are set as keys, the respective cluster\n",
    "    is set as value. Needed for later searching of the correct hydrogen bond cluster containg the hydrogen bond network\n",
    "    the selected atom participates. \n",
    "    :param hbn_output: Output of HBnetwork run. Contains summary of all clusters, containing each participating atom uniquly in a cluster.\n",
    "    :return cluster_dict: Returns a dictionary containg the clusters as values and the atoms in it as unique keys. Used as index dictionary for search of correct file later on.\n",
    "    \"\"\"\n",
    "    #Only using the last part of the HBnetwork output: The cluster summary\n",
    "    starting_index = hbn_output.find(\"Cluster\") #Finding the start of the summary\n",
    "    hbn_sorted = hbn_output[starting_index:].split(\"\\n\") #Slicing the output string and splitting the resulting summary by lines\n",
    "    \n",
    "    #Start index for sorting the splitted output by cluster entries\n",
    "    start = 0 \n",
    "    \n",
    "    #Creating list and dictionary for indexed HBnetwork summary\n",
    "    cluster_list = []\n",
    "    cluster_dict = {}\n",
    "    \n",
    "    #Creating a list containing each cluster as an separate entry\n",
    "    for i in range(len(hbn_sorted)):\n",
    "        hbn_sorted[i] = hbn_sorted[i].strip() #Stripping the entries, since otherwise \\t might interefere later on\n",
    "        if hbn_sorted[i] == \"END\": #END as marker that respective cluster entry ended\n",
    "            cluster_list.append(hbn_sorted[start:i]) #Appending the cluster entry without the \"END\"\n",
    "            start = i + 1 #Setting new start index one later than the last \"END\"\n",
    "            \n",
    "    #Creating dictionary with the cluster containing the selected atom as a value and the atom as the unique key.\n",
    "    for j in range(len(cluster_list)): #Iterating over all cluster entries\n",
    "        for k in range(1,len(cluster_list[j])): #Iterating over all atoms in that entry. Index 0 is spared out, since it contains the cluster number\n",
    "            \n",
    "            #Removing residue name from entry for faciliated data selection and processing in further steps\n",
    "            cluster_atom_list = cluster_list[j][k].split(\":\") #Splitting the string to a list\n",
    "            cluster_atom_list.pop(2) #Removing the residue three letter code from the entry\n",
    "            cluster_atom_key = \"/\".join(cluster_atom_list) #Joining it again with format as it will be used later on, oriented on PyMol selection format\n",
    "            \n",
    "            #Creating variable for dictionary value containing the cluster in which atom (key) participates.\n",
    "            #Processes cluster name to correct format, faciliating later use.\n",
    "            #\" \" is replaced with \"-\". \"Cluster\" is lowered to \"cluster\". \":\" at the end is cut off\n",
    "            #Final format: \"cluster-1\"\n",
    "            cluster_number = cluster_list[j][0].replace(\" \",\"-\").lower()[:-1]\n",
    "            \n",
    "            #Filling dictionary with atom as key and cluster as value\n",
    "            cluster_dict[cluster_atom_key] = cluster_number #Setting the cluster as value to the atom as the key.\n",
    "    \n",
    "    return cluster_dict"
   ]
  },
  {
   "cell_type": "code",
   "execution_count": 34,
   "id": "236d1fdb",
   "metadata": {},
   "outputs": [],
   "source": [
    "def initiateHBnetwork(molecule:str, molecule_name = \"\", directory:str = \".\", \n",
    "         use_object: str = \"0\", remove_object = \"0\", hb_file: str = \"hb-define.txt\", \n",
    "         solvent_key:str = \"NONE\", pse_file:str =\"period-table-info.txt\", connections: str = \"0\") -> None:\n",
    "    \"\"\"\n",
    "    Initiates the HBnetwork run. Creates index directory containing all atoms participating in hydrogen bonds with their\n",
    "    respective cluster. Needed for further showNetwork runs.\n",
    "    Index dictionary, molecule name, as well as Cluster directory is saved in object \"save\" of class saveBot.\n",
    "    :param molecule: Strucutre used for HBsearch run. HBnetwork is run on the same molecule using the output of HBsearch.\n",
    "    :param directory_name: Saving folder for the HBnetwork run in HB_network subfolder in the program folder. \n",
    "    :param hb_file: HB-file sued to define possible hydrogen bond interactions. Standard set to hb-define.txt file\n",
    "    :param solvent_key: If hydrogen bond bridges with solvent should be considered. Standard NONE: No solvent H-Bonds. Further possible: HOMO: Homogenous solvent; MEMB: Membrane environment.\n",
    "    :param pse_file: File containing the chemical nature of the atoms. Standard set to period-table.info. To create own one see standard file for structure.\n",
    "    :param connections: If special connections should be taken into account. Here: Hydrogen bonds that would not be recognized by parameters, but could be possible due to rotation of the residues. If connections = 1: Special conncetions will be taken into account. Standard set to 0: No special connectoins will be taken into account.\n",
    "    \"\"\"\n",
    "    \n",
    "    changeDirectory(directory) #Change directory to program folder directory. Needed PyMol directory is not set to program folder for HBnetwork run\n",
    "    \n",
    "    #Checks if user wants to use own object in PyMol session or wants to fetch a protein structure from the PDB\n",
    "    if use_object == \"0\": #User wants to fetch a protein from the PDB using a PDB-ID\n",
    "        fetchPDB(molecule, molecule_name) #Uses fetch command to fetch PDB_ID and allows user to name the fetched object in PyMol session.\n",
    "    elif use_object == \"1\": #User wants to use own object.\n",
    "        useObject(molecule) #Object with entered name is saved as pdb-file in the pdb_files folder and is used for the following HBsearch run\n",
    "    \n",
    "    #Creating directory for HB_network run, where cluster files are going to be saved.\n",
    "    #Directory_name variable is saved in object \"save\", since it will be needed later on and program does not have to be rerun every time.\n",
    "    directory_name = createDirectory(molecule)\n",
    "    \n",
    "    save.directory_name_save = directory_name #Saves the directory name in the object \"save\" for further use in the next steps.\n",
    "    \n",
    "    #Running HBsearch, since output is needed for HBnetwork run.\n",
    "    hbn_output = createHBnetwork(molecule, directory_name)\n",
    "    \n",
    "    #########Cleans HB_network folder from empty cluster files. Improving search efficiency later on.\n",
    "    #Could also be deleted, since not necessairy for function.\n",
    "    #cleanHBnetwork(directory_name)\n",
    "    \n",
    "    #Created cluster dictionary serving as an indexing dictionary later on. Dictionary is saved in object \"save\".\n",
    "    #Most important step for initalization.\n",
    "    hbn_cluster_dict = indexHbnetwork(hbn_output)\n",
    "    \n",
    "    save.dictionary_save = hbn_cluster_dict #Indexing dictionary is saved to object \"save\" for furhter use later on.\n",
    "                                            #True ouput of function, since this function should be called only once for each HBnetwork.\n",
    "                                            #Searches should be possible without reoccuring initation runs. Therefore saving output in object.\n",
    "    \n",
    "    #Checking which molecule name should be saved for later use in the showNetwork() function.\n",
    "    if molecule_name == \"\": #Checking if custom molecule name was entered: If no name was entered, PDB-ID or saved object name is used.\n",
    "        save.molecule_name_save = molecule #saving PDB-ID of fetched molecule as molecule name or name of saved object is use_object = 1.\n",
    "    else: #When molecule name was entered, PyMol strucutre object posses molecule name. So this is used for following PyMol selection based commands.\n",
    "        save.molecule_name_save = molecule_name #saving molecule_name as the object name used by showNetwork(). Applies, if fetched strucutre is named.\n",
    "    \n",
    "    \n",
    "    \n",
    "    \n",
    "    #Checks if parameter remove_object is set to 1. If yes: created PDB-file in pdb_files folder is deleted.\n",
    "    if remove_object == \"1\":\n",
    "        removeObject(molecule)  "
   ]
  },
  {
   "cell_type": "code",
   "execution_count": null,
   "id": "0bf9683f",
   "metadata": {},
   "outputs": [],
   "source": []
  },
  {
   "cell_type": "code",
   "execution_count": 36,
   "id": "e9dd6653",
   "metadata": {},
   "outputs": [
    {
     "data": {
      "text/plain": [
       "<function __main__.initiateHBnetwork(molecule: str, molecule_name='', directory: str = '.', use_object: str = '0', remove_object='0', hb_file: str = 'hb-define.txt', solvent_key: str = 'NONE', pse_file: str = 'period-table-info.txt', connections: str = '0')>"
      ]
     },
     "execution_count": 36,
     "metadata": {},
     "output_type": "execute_result"
    }
   ],
   "source": [
    "#Creates a pymol command starting initiateHBnetwork().\n",
    "cmd.extend(\"initiateHBnetwork\", initiateHBnetwork)"
   ]
  },
  {
   "cell_type": "markdown",
   "id": "34962448",
   "metadata": {},
   "source": [
    "# HB-Network PyMol-Display"
   ]
  },
  {
   "cell_type": "code",
   "execution_count": 37,
   "id": "45beda31",
   "metadata": {},
   "outputs": [],
   "source": [
    "def readoutHBnetwork(query: str, checkFor: str = \"RESIDUE\" ) -> str:\n",
    "    \"\"\"\n",
    "    Checks the index dictionary for hydrogen bond clusters, the query atom/residue participates and returns them in a list.\n",
    "    :param query: The residue/atom of which the hydrogen cluster should be displayed in PyMol. Format: Chain/Residue ID/ for displaying clusters the whole residue participates. Chain/Residue ID/atom for displaying clusters the chosen atom participates.\n",
    "    :param checkFor: Viable inputs are: ATOM and RESIDUE. Input determines if clusters where just the atom participates should be shown or the cluster where the whole residue participates.\n",
    "    :return destination_cluster_list: List with all hydrogen bond cluster the residue/atom participates in.\n",
    "    \"\"\"\n",
    "    #Checks if only hydrogen network for atom or whole residue should be shown\n",
    "    #Reads out dictionary, which Cluster files to check\n",
    "    #How should the user input b Chain:ResIDAtom. Best would be PyMol input:\n",
    "    #Last \"/\" important for closing arguement. otherwise other atoms could be chosen. E.g. 3 or 31 if A/3 and not A/3/\n",
    "    #If List empty: Resdue does not participate in any cluster\n",
    "    \n",
    "    #Sets the index dictionary from the object \"save\" from the previous initiation run as current index dictionary for the function.\n",
    "    dictionary = save.dictionary_save\n",
    "    \n",
    "    #Creates an empty list, which contains later on the names of the clusters containing the atom/residue.\n",
    "    destination_cluster_list = []\n",
    "    \n",
    "    #Checks if the clusters of single atom should be checked or if the clusters the whole residue participates should be displayed.\n",
    "    if checkFor == \"ATOM\":\n",
    "        #Appends the cluster name with the searched atom to the cluster list.\n",
    "        #Appends cluster with a matching atom in the format \"chain/residue ID/atom\"\n",
    "        destination_cluster_list.append(dictionary[query])\n",
    "        \n",
    "        return destination_cluster_list #Cluster list is passed to next function for searching respective cluster files.\n",
    "                                        #Returns blank list, if no cluster, the residue participates, were found.\n",
    "    \n",
    "    #Checks if all clusters, where any atom of the residue participate, should be processed.\n",
    "    elif checkFor ==\"RESIDUE\":\n",
    "        #Appends all cluster matching the query input of \"chain/residue/\"\n",
    "        [destination_cluster_list.append(value) for key, value in dictionary.items() if query in key]\n",
    "        \n",
    "        return destination_cluster_list #Cluster list is passed to next function for searching respective cluster files.\n",
    "                                        #Returns blank list, if no cluster, the residue participates, were found.\n"
   ]
  },
  {
   "cell_type": "code",
   "execution_count": 38,
   "id": "b91b5f71",
   "metadata": {},
   "outputs": [],
   "source": [
    "def readInHBN(cluster_file_output: str) -> pd.DataFrame:\n",
    "    \"\"\"\n",
    "    Given cluster files output genereted by HBnetwork is converted to a dataframe for furhter processing in following functions.\n",
    "    :param cluster_file_output: Output of cluster file that should be conferted to pandas dataframe.\n",
    "    :return df_cluster: Returns converted cluster file output as pandas dataframe.\n",
    "    \"\"\"\n",
    "    \n",
    "    \n",
    "    #Creates a list with each line of the HBnetwork cluster file output being assigned to an entry in the list.\n",
    "    cluster_rows = [i for i in cluster_file_output.split('\\n')]\n",
    "    #Splits the entries in the row-list further, creating an array with the first order list containing the rows and the second order list separating by column.\n",
    "    cluster_split = [i.split() for i in cluster_rows]\n",
    "    \n",
    "    #Column names for the later created dataframe containing the HBnetwork cluster files output.\n",
    "    HEAD_LST_CLUSTER = ['IDENT','ACC','sep1','DONO']\n",
    "    \n",
    "    #Creating pandas dataframe by reading in the primitive dataframe based on lists from the HBsearch output and setting column names.\n",
    "    df_cluster = pd.DataFrame(cluster_split, columns = HEAD_LST_CLUSTER)\n",
    "    \n",
    "    return df_cluster"
   ]
  },
  {
   "cell_type": "code",
   "execution_count": 39,
   "id": "eadcbb21",
   "metadata": {},
   "outputs": [],
   "source": [
    "def prepareDataFrameHBnetwork(destination_cluster_list: str) -> pd.DataFrame:\n",
    "    \"\"\"\n",
    "    Iterates through all cluster files indicated in cluster list, containing all clusters a residue/atom participates,\n",
    "    processes them via readInHBN() to dataframes and appends all output dataframes to one, which is used for displaying\n",
    "    connections and showing participating residues as sticks later on.\n",
    "    :param destination_cluster_list: List containing all clusters a residue/atom participates.\n",
    "    :return hBond_cluster_dataframe: Returns dataframe with all acceptor/donor relationships of all clusters a residue/atom participates.\n",
    "    \"\"\"\n",
    "\n",
    "    #Get directory from global variable\n",
    "    #Reads out files with given file names\n",
    "    #Creates dataframe for each file -->readInHBN\n",
    "    #Append dataframe acceptor and donor to repective lists\n",
    "    #Return lists for displaying in Pymol as sticks an connected with distances\n",
    "    #Create readInHBN. Orient on readInHBS\n",
    "    #Iteration through files see cleanHBnetwork\n",
    "    #Create acceptor and donor lists so that prepareLists, showDistances and showSticks work on it. Less work\n",
    "    #--> Therfore append everything to an acceptor and donor list returning to prepareList\n",
    "    #--> When no dataframe is empyt --> Atom /Residue does not participate in any hydrogen bonds\n",
    "    \n",
    "    #Extracts directory, where HBnetwork run is saved from \"save\" object\n",
    "    directory = save.directory_name_save\n",
    "    \n",
    "    #Directory, where cluster files for initiation run are saved\n",
    "    cluster_directory = os.path.normpath(f\"./HB_network/{directory}/CLUSTER\") #By HBnetwork created CLUSTER directory is targeted\n",
    "    \n",
    "    #Creating empty DataFrame. All dataframes created by reading out the generated cluster files is appended to this dataframe\n",
    "    hBond_cluster_dataframe = pd.DataFrame()\n",
    "    \n",
    "    #Iterates through all files indicated in the cluster list containing all clusters a residue/atom participates.\n",
    "    for file in destination_cluster_list: #Iterating over given clusters.\n",
    "        \n",
    "        #Save path to cluster file for reading in.\n",
    "        cluster_dir = os.path.normpath(f\"{cluster_directory}/{file}.hb-ntw\")\n",
    "        \n",
    "        #Reading in cluster file.\n",
    "        with open(cluster_dir,\"r\") as cluster_file:\n",
    "            cluster_output = cluster_file.read()\n",
    "            \n",
    "        cluster_output = cluster_output.strip() #Cluster file is stripped, since last blanc line is interfering with creation of dataframe.\n",
    "        \n",
    "        #Processing cluster file output to dataframe\n",
    "        if cluster_output: #Checks if cluster contains any hydrogen bonds.\n",
    "            new_cluster_df = readInHBN(cluster_output) #Processes cluster file output to dataframe\n",
    "        else: #If cluster is empty -> Continueing with next cluster of list.\n",
    "            continue\n",
    "        \n",
    "        #Appending all dataframes from output of cluster files to one dataframe containing all acceptor/donor relationships\n",
    "        #of all clusters the residue/atom participates.\n",
    "        hBond_cluster_dataframe = pd.concat([hBond_cluster_dataframe, new_cluster_df], ignore_index = True) \n",
    "    \n",
    "    return hBond_cluster_dataframe"
   ]
  },
  {
   "cell_type": "code",
   "execution_count": 69,
   "id": "6750d660",
   "metadata": {},
   "outputs": [
    {
     "name": "stdout",
     "output_type": "stream",
     "text": [
      "[('A', '78', 'GLU', 'OE2'), ('A', '101', 'ARG', 'NH2'), ('A', '2035', 'HOH', 'O'), ('A', '2035', 'HOH', 'O'), ('A', '101', 'ARG', 'NH1'), ('A', '104', 'SER', 'OG'), ('A', '104', 'SER', 'OG'), ('A', '106', 'GLU', 'OE2')]\n",
      "[('A', '2035', 'HOH', 'O'), ('A', '2035', 'HOH', 'O'), ('A', '101', 'ARG', 'NH2'), ('A', '78', 'GLU', 'OE2'), ('A', '104', 'SER', 'OG'), ('A', '106', 'GLU', 'OE2'), ('A', '101', 'ARG', 'NH1'), ('A', '104', 'SER', 'OG')]\n",
      "HB_network_A\\101\\\n"
     ]
    }
   ],
   "source": [
    "def showNetwork(query: str, checkFor = \"RESIDUE\") -> None:\n",
    "    \"\"\"\n",
    "    Displays the hydrogen bridges between accetors and donors of all clusters the query residue/atom participates in PyMol.\n",
    "    Before started initializeHBnetwork needs to be performed with the object of choice.\n",
    "    :param query: The residue/atom of which the hydrogen bond network should be displayed in PyMol. Format: Chain/Residue ID/ for displaying clusters the whole residue participates. Chain/Residue ID/atom for displaying clusters the chosen atom participates.\n",
    "    :param checkFor: Determines if hydrogen networks of the whole residue or just the atom should be displayed. Viable inputs: ATOM or RESIDUE.\n",
    "    \"\"\"\n",
    "    \n",
    "    #Prepares the list of all clusters the residue/atom participates.\n",
    "    destination_cluster_list = readoutHBnetwork(query, checkFor)\n",
    "    #Processes the cluster file outputs of respective clusters to dataframes and appends them to one single dataframe.\n",
    "    hbn_dataframe = prepareDataFrameHBnetwork(destination_cluster_list)\n",
    "    \n",
    "    #Prepares acceptor/donor lists using the dataframe.\n",
    "    if hbn_dataframe.empty: #Check if dataframe is empty. In case it is empty --> Stop function. Show notification.\n",
    "        print(f\"This {checkFor} does not participate in any hydrogen bonds\")\n",
    "        return None\n",
    "    \n",
    "    else:\n",
    "        acceptor, donor = prepareLists(hbn_dataframe) #Preparing acceptor/donor lists of hydrogen network\n",
    "\n",
    "    #Extracting the object name of the object initializeHBnetwork was performed on from saving object \"save\".\n",
    "    molecule_selection = save.molecule_name_save\n",
    "        \n",
    "    #Preparing the query name for better differentiation in PyMol. \n",
    "    query_adj = query.replace(\"/\", \"\\\\\") #Need to change direction, since PyMol otherwise recognizes the selection name as the first distance. Dont know why.\n",
    "    run_information = f\"HB_network_{query_adj}\" #Displaying in distance and stick representation names that HBnetwork was used and which residue/atom was targeted.\n",
    "    \n",
    "    #Displays the hydrogen bonds between acceptors and donors of a hydrogen network of a chosen residue/atom.\n",
    "    displayDistances(acceptor, donor, molecule_selection, run_information)\n",
    "    showSticks(acceptor, donor, molecule_selection, run_information)"
   ]
  },
  {
   "cell_type": "code",
   "execution_count": 61,
   "id": "8257c05c",
   "metadata": {},
   "outputs": [
    {
     "data": {
      "text/plain": [
       "<function __main__.showNetwork(query: str, checkFor='RESIDUE')>"
      ]
     },
     "execution_count": 61,
     "metadata": {},
     "output_type": "execute_result"
    }
   ],
   "source": [
    "#Creates PyMol command for showNetwork().\n",
    "cmd.extend(\"showNetwork\", showNetwork)"
   ]
  },
  {
   "cell_type": "code",
   "execution_count": 70,
   "id": "b08ab054",
   "metadata": {
    "scrolled": false
   },
   "outputs": [
    {
     "name": "stdout",
     "output_type": "stream",
     "text": [
      "C:\\Users\\Alex\\Desktop\\HBonds_Project\\hbonds_search_pymol\n"
     ]
    }
   ],
   "source": [
    "print(os.getcwd())"
   ]
  },
  {
   "cell_type": "code",
   "execution_count": null,
   "id": "7b32fc67",
   "metadata": {},
   "outputs": [],
   "source": [
    "\"\"\"<!--       _\n",
    "       .__(.)< (MEOW)\n",
    "        \\___)   \n",
    " ~~~~~~~~~~~~~~~~~~-->\"\"\""
   ]
  },
  {
   "cell_type": "code",
   "execution_count": null,
   "id": "c77b048a",
   "metadata": {},
   "outputs": [],
   "source": []
  },
  {
   "cell_type": "code",
   "execution_count": null,
   "id": "67a14e01",
   "metadata": {},
   "outputs": [],
   "source": []
  }
 ],
 "metadata": {
  "kernelspec": {
   "display_name": "Python 3 (ipykernel)",
   "language": "python",
   "name": "python3"
  },
  "language_info": {
   "codemirror_mode": {
    "name": "ipython",
    "version": 3
   },
   "file_extension": ".py",
   "mimetype": "text/x-python",
   "name": "python",
   "nbconvert_exporter": "python",
   "pygments_lexer": "ipython3",
   "version": "3.9.12"
  }
 },
 "nbformat": 4,
 "nbformat_minor": 5
}
