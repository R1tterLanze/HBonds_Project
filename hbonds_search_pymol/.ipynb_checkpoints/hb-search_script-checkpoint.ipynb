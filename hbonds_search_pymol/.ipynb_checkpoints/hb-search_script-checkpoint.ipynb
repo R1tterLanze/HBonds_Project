{
 "cells": [
  {
   "cell_type": "markdown",
   "id": "0d218b9e",
   "metadata": {},
   "source": [
    "# GUI hbond"
   ]
  },
  {
   "cell_type": "markdown",
   "id": "8d15486f",
   "metadata": {},
   "source": [
    "### Initialization"
   ]
  },
  {
   "cell_type": "code",
   "execution_count": 85,
   "id": "35c0b7d4",
   "metadata": {},
   "outputs": [],
   "source": [
    "import pandas as pd\n",
    "import subprocess\n",
    "import os\n",
    "from pymol import cmd, stored\n",
    "import platform\n",
    "from typing import List\n",
    "from datetime import datetime\n",
    "import re"
   ]
  },
  {
   "cell_type": "markdown",
   "id": "84b68126",
   "metadata": {},
   "source": [
    "### Functions"
   ]
  },
  {
   "cell_type": "code",
   "execution_count": 86,
   "id": "b809abdc",
   "metadata": {},
   "outputs": [
    {
     "data": {
      "text/plain": [
       "'\\ndef form(pdbstr, x):\\n    \\'\\'\\'\\n    Part of lambda function to format dataframe to Pymol compatible form:\\n    from \"A:183:LEU:O\" to \"/2akr/A/A/LEU`183/O\"\\n    :param pdbstr: pdb code of handled structure\\n    :param x: entry within dataframe\\n    \\'\\'\\'\\n    temp = x.split(\\':\\')\\n    x = f\\'/{pdbstr}//{temp[0]}/{temp[2]}/{temp[3]}\\'\\n    return x\\n\\ndef pymol_display(df):\\n    \\'\\'\\'\\n    \\'\\'\\'\\n    zilis = list(zip(df[\\'ACC\\'].tolist(), df[\\'DONO\\'].tolist()))\\n    for i in zilis:\\n        cmd.distance( i[0] , i[1])\\n    \\ndef hbsearch(pdbstr:str) -> pd.DataFrame():\\n    \\'\\'\\'\\n    Executing hb_search with set parameters and extract HBOND-entries from output\\n    :return df_hbond: Dataframe with all HBOND entries from hb_search output \\n    \\'\\'\\'\\n    \\n    HEAD_LST = [\\'IDENT\\',\\'ACC\\',\\'sep1\\',\\'DONO\\',\\':\\',\\'x\\',\\'y\\',\\'z\\',\\'sep2\\',\\'a\\',\\'b\\']\\n    \\n    # Setting environment variable\\n    os.environ[\\'PSE_FILE\\'] = \\'period-table-info.txt\\'\\n    \\n    # Executing hb_search\\n    hbs = subprocess.run(f\"./hb-search -hb hb-define.txt {pdbstr}.pdb\", \\n                         stdout=subprocess.PIPE, shell=True, check=True, text=True)\\n    \\n    # Decode and format hb_search output\\n    hbs_hbb = [i for i in hbs.stdout.split(\\'\\n\\') if i[0:5] == \"HBOND\"]\\n    hbs_splt = [i.split() for i in hbs_hbb]\\n\\n    # Return dataframe\\n    df_hbond = pd.DataFrame(hbs_splt, columns = HEAD_LST)\\n    \\n    df_hbond = df_hbond[[\\'ACC\\', \\'DONO\\']]\\n    df_hbond[\\'ACC\\'] = df_hbond[\\'ACC\\'].map(lambda x: form(pdbstr,x) )\\n    df_hbond[\\'DONO\\'] = df_hbond[\\'DONO\\'].map(lambda x: form(pdbstr,x) )\\n    \\n    pymol_display(df_hbond)\\n    \\n    return df_hbond\\n\\n#cmd.extend(\\'hbsearch\\', hbsearch)'"
      ]
     },
     "execution_count": 86,
     "metadata": {},
     "output_type": "execute_result"
    }
   ],
   "source": [
    "\"\"\"\n",
    "def form(pdbstr, x):\n",
    "    '''\n",
    "    Part of lambda function to format dataframe to Pymol compatible form:\n",
    "    from \"A:183:LEU:O\" to \"/2akr/A/A/LEU`183/O\"\n",
    "    :param pdbstr: pdb code of handled structure\n",
    "    :param x: entry within dataframe\n",
    "    '''\n",
    "    temp = x.split(':')\n",
    "    x = f'/{pdbstr}//{temp[0]}/{temp[2]}/{temp[3]}'\n",
    "    return x\n",
    "\n",
    "def pymol_display(df):\n",
    "    '''\n",
    "    '''\n",
    "    zilis = list(zip(df['ACC'].tolist(), df['DONO'].tolist()))\n",
    "    for i in zilis:\n",
    "        cmd.distance( i[0] , i[1])\n",
    "    \n",
    "def hbsearch(pdbstr:str) -> pd.DataFrame():\n",
    "    '''\n",
    "    Executing hb_search with set parameters and extract HBOND-entries from output\n",
    "    :return df_hbond: Dataframe with all HBOND entries from hb_search output \n",
    "    '''\n",
    "    \n",
    "    HEAD_LST = ['IDENT','ACC','sep1','DONO',':','x','y','z','sep2','a','b']\n",
    "    \n",
    "    # Setting environment variable\n",
    "    os.environ['PSE_FILE'] = 'period-table-info.txt'\n",
    "    \n",
    "    # Executing hb_search\n",
    "    hbs = subprocess.run(f\"./hb-search -hb hb-define.txt {pdbstr}.pdb\", \n",
    "                         stdout=subprocess.PIPE, shell=True, check=True, text=True)\n",
    "    \n",
    "    # Decode and format hb_search output\n",
    "    hbs_hbb = [i for i in hbs.stdout.split('\\n') if i[0:5] == \"HBOND\"]\n",
    "    hbs_splt = [i.split() for i in hbs_hbb]\n",
    "\n",
    "    # Return dataframe\n",
    "    df_hbond = pd.DataFrame(hbs_splt, columns = HEAD_LST)\n",
    "    \n",
    "    df_hbond = df_hbond[['ACC', 'DONO']]\n",
    "    df_hbond['ACC'] = df_hbond['ACC'].map(lambda x: form(pdbstr,x) )\n",
    "    df_hbond['DONO'] = df_hbond['DONO'].map(lambda x: form(pdbstr,x) )\n",
    "    \n",
    "    pymol_display(df_hbond)\n",
    "    \n",
    "    return df_hbond\n",
    "\n",
    "#cmd.extend('hbsearch', hbsearch)\"\"\""
   ]
  },
  {
   "cell_type": "markdown",
   "id": "ae60d5e0",
   "metadata": {},
   "source": [
    "# HB-Search"
   ]
  },
  {
   "cell_type": "code",
   "execution_count": 87,
   "id": "a28bf399",
   "metadata": {},
   "outputs": [],
   "source": [
    "def changeDirectory(programDirectory: str = \".\"):\n",
    "    \"\"\"\n",
    "    Changes working directory to the folder containing the needed programs. \n",
    "    Path to program folder needs to be entered if started from other location\n",
    "    :param programDirectory: Path to the program folder. Standard: Set to current working directroy\n",
    "    \"\"\"\n",
    "    \n",
    "    #Changes working directory to the entered path adjusted to the operating system used.\n",
    "    cmd.cd(os.path.normpath(programDirectory))\n",
    "    #os.chdir(os.path.normpath(programDirectory)) #can be deleted?\n",
    "    # Usefull if we want to give an error! To tell the person in which directory they are located!\n",
    "    #cwd = os.getcwd()"
   ]
  },
  {
   "cell_type": "code",
   "execution_count": 88,
   "id": "2f33b694",
   "metadata": {},
   "outputs": [],
   "source": [
    "def useObject(input_molecule: str):\n",
    "    \"\"\"\n",
    "    Enables to use a chosen object of the pymol session for HBsearch/HBnetwork.\n",
    "    Saves the chosen object as pdb-file in the pdb_files folder of the program folder\n",
    "    under the name of the object.\n",
    "    :param input_molecule: pymol object name of the structure that should be used for the HBsearch/HBnetwork run\n",
    "    \"\"\"\n",
    "    \n",
    "    #Saves pymol object by its name in the pdb_files folder.\n",
    "    cmd.save(os.path.normpath(f\"./pdb_files/{input_molecule}.pdb\"), input_molecule)"
   ]
  },
  {
   "cell_type": "code",
   "execution_count": 89,
   "id": "76438daf",
   "metadata": {},
   "outputs": [],
   "source": [
    "def removeObject(input_molecule: str):\n",
    "    \"\"\"\n",
    "    Removes pdb-file of chosen object name. Used after HBsearch run for deleting unwanted data.\n",
    "    :param input_molecule: Name of the molecule to be removed.\n",
    "    \"\"\"\n",
    "    \n",
    "    #Removes pdb-file from pdb_files ordner by entered name.\n",
    "    os.remove(os.path.normpath(f\"./pdb_files/{input_molecule}.pdb\"))"
   ]
  },
  {
   "cell_type": "code",
   "execution_count": 90,
   "id": "3ba8c1e0",
   "metadata": {},
   "outputs": [],
   "source": [
    "def fetchPDB(pdbID: str, object_name: str = \"\"):\n",
    "    \"\"\"\n",
    "    Fetched PDB-file by PDB-ID to pymol session and sets object name in pymol session.\n",
    "    PDB-file is saved under the PDB-ID in pdb_files folder.\n",
    "    If PDB-file is already existant with same name. No new file will be fetched.\n",
    "    Internet conncetion required.\n",
    "    :param pdbID: PDB-ID of protein structure to be fetched and used for HBsearch/HBnetwork run.\n",
    "    :param object_name: Name the pdb file shoudl be displayed as in the pymol session.\n",
    "    \"\"\"\n",
    "    \n",
    "    #Checks if a specific name is chosen. If no name is chosen, file will be named after the PDB-ID.\n",
    "    if object_name == \"\":\n",
    "        object_name = pdbID\n",
    "        \n",
    "    #setting fetch_path to desired folder\n",
    "    cmd.set(\"fetch_path\", os.path.normpath(\"./pdb_files/\"))\n",
    "    \n",
    "    #fetching pdb file if not in folder\n",
    "    cmd.fetch(pdbID, name = object_name, type = \"pdb\")"
   ]
  },
  {
   "cell_type": "code",
   "execution_count": 91,
   "id": "e51cd920",
   "metadata": {
    "scrolled": false
   },
   "outputs": [],
   "source": [
    "def startHBsearch(molecule: str, hb_file: str, solvent_key:str, pse_file:str, connections: str) -> str:\n",
    "    \"\"\"\n",
    "    Starts the HBsearch run. HBsearch finds hydrogen bonds based on a set of parameters based on the chemical nature\n",
    "    of the atoms of the protein/cofactor/nucleic acid (maximal Van-der-Waals radii and maximal covalent radii) and their distances to each other.\n",
    "    Possible pairs forming hydrogen bonds are listed in the hb-define file. Chemical nature of atoms are listed in period-table.info file as standard.\n",
    "    :param molecule: Strucutre used for HBsearch run\n",
    "    :param hb_file: HB-file sued to define possible hydrogen bond interactions. Standard set to hb-define.txt file\n",
    "    :param solvent_key: If hydrogen bond bridges with solvent should be considered. Standard NONE: No solvent H-Bonds. Further possible: HOMO: Homogenous solvent; MEMB: Membrane environment.\n",
    "    :param pse_file: File containing the chemical nature of the atoms. Standard set to period-table.info. To create own one see standard file for structure.\n",
    "    :param connections: If special connections should be taken into account. Here: Hydrogen bonds that would not be recognized by parameters, but could be possible due to rotation of the residues. If connections = 1: Special conncetions will be taken into account. Standard set to 0: No special connectoins will be taken into account.\n",
    "    :return hbs_output: Returns string with the output of the HBsearch run.\n",
    "    \"\"\"\n",
    "\n",
    "    # Setting environment variable. Sets chemical nature of atoms.\n",
    "    os.environ['PSE_FILE'] = pse_file\n",
    "    # Determine operation system to start correct HBsearch application.\n",
    "    system = platform.system()\n",
    "    # Executing hb_search with chosen parameters\n",
    "    hbs_output = subprocess.run(os.path.normpath(f\"./{system}/hb-search -hb {hb_file} -solv {solvent_key} -con {connections} ./pdb_files/{molecule}.pdb\"), capture_output=True, shell=True, check = True, text = True).stdout\n",
    "    \n",
    "    return hbs_output"
   ]
  },
  {
   "cell_type": "code",
   "execution_count": 92,
   "id": "20ff1acc",
   "metadata": {},
   "outputs": [],
   "source": [
    "def readInHBS(hbs_output: str) -> pd.DataFrame():\n",
    "    \"\"\"\n",
    "    Reads in HBsearch output and converts it to pandas dataframe for further processing.\n",
    "    :param hbs_output: HBsearch output as string:\n",
    "    :return df: Returns dataframe containing sorted and filtered HBsearch results\n",
    "    \"\"\"\n",
    "    \n",
    "    #Creates a list with each line of the HBsearch output being assigned to an entry in the list.\n",
    "    hbs_rows = [i for i in hbs_output.split('\\n')]\n",
    "    #Splits the entries in the row-list further, creating an array with the first order list containing the rows and the second order list separating by column.\n",
    "    hbs_split = [i.split() for i in hbs_rows]\n",
    "    \n",
    "    #Column names for the later created dataframe containing the HBsearch output\n",
    "    HEAD_LST = ['IDENT','ACC','sep1','DONO',':','x','y','z','sep2','a','b']\n",
    "    \n",
    "    #Creating pandas dataframe by reading in the primitive dataframe based on lists from the HBsearch output and setting column names.\n",
    "    df = pd.DataFrame(hbs_split, columns = HEAD_LST)\n",
    "    #Filters dataframe, so only entries containing the partners of a hydrogen bond are listed in the dataframe.\n",
    "    df = df[df[\"IDENT\"] == \"HBOND\"]\n",
    "    \n",
    "    return df"
   ]
  },
  {
   "cell_type": "code",
   "execution_count": 93,
   "id": "67a528bb",
   "metadata": {},
   "outputs": [
    {
     "ename": "SyntaxError",
     "evalue": "invalid syntax (614591910.py, line 1)",
     "output_type": "error",
     "traceback": [
      "\u001b[1;36m  Input \u001b[1;32mIn [93]\u001b[1;36m\u001b[0m\n\u001b[1;33m    def prepareLists(dataframe: pd.DataFrame) -> List, List:\u001b[0m\n\u001b[1;37m                                                     ^\u001b[0m\n\u001b[1;31mSyntaxError\u001b[0m\u001b[1;31m:\u001b[0m invalid syntax\n"
     ]
    }
   ],
   "source": [
    "def prepareLists(dataframe: pd.DataFrame) -> List, List:\n",
    "    \"\"\"\n",
    "    Extracts the acceptors and donors from the HBsearch output into separate lists.\n",
    "    :param dataframe: Dataframe containing the HBsearch output splitted into columns.\n",
    "    :return acceptor: Returns list with acceptor atoms in hydrogen bond with complementary indexes to their partner in the donor list.\n",
    "    :return donor: Returns list with donor atoms in hydrogen bond with complemenary indexes to their partner in the acceptor list.\n",
    "    \"\"\"\n",
    "    \n",
    "    #Extracting important acceptor and donor entries from dataframe containing HBsearch results as separate lists.\n",
    "    acceptor_pre = list(dataframe[\"ACC\"])\n",
    "    donor_pre = list(dataframe [\"DONO\"])\n",
    "    \n",
    "    #Creating lists empty lists for further use. Lists should contain later entries from acceptor and donor entries, respectively, separated by the chain, residue, residue ID, and atom. \n",
    "    acceptor = []\n",
    "    donor = []\n",
    "    \n",
    "    #Separates entries for acceptors in HBsearch output by chain, residue, residue ID, and atom for faciliated reorganisation for PyMol input.\n",
    "    for i in range(len(acceptor_pre)):#only one list can be used for iteration of list index, since each acceptor needs a donor to form a hydrogen bond. So acceptor and donor list need to have same length.\n",
    "        acceptor.append(tuple(acceptor_pre[i].split(\":\")))\n",
    "    #Separates entries for donors in HBsearch output by chain, residue, residue ID, and atom for faciliated reorganisation for PyMol input.    \n",
    "    for j in range(len(donor_pre)):\n",
    "        donor.append(tuple(donor_pre[j].split(\":\")))\n",
    "\n",
    "    return acceptor, donor\n"
   ]
  },
  {
   "cell_type": "code",
   "execution_count": 94,
   "id": "e4042e3c",
   "metadata": {},
   "outputs": [],
   "source": [
    "def displayDistances(acceptor: List, donor: List, object_name: str):\n",
    "    \"\"\"\n",
    "    Displays the hydrogen bonds of the hydrogen bond acceptors and their respective \n",
    "    donors found by the HBsearch run as distances without labeling in PyMol.\n",
    "    :param acceptor: Lists of acceptor atoms with complementary index to their respective donors in donor list. Entry tuples contain chain, residue, residue ID and atom.\n",
    "    :param donor:  Lists of donor atoms with complementary index to their respective donors in acceptor list. Entry tuples contain chain, residue, residue ID and atom.\n",
    "    :param object_name: Name of the object the Hbsearch run was performed on.\n",
    "    \"\"\"\n",
    "    \n",
    "    #Creating list of Hbonds for grouping. Faciliates displaying\n",
    "    bondList = []\n",
    "    \n",
    "    #Displays connection between the acceptor atom and the respective donor atom in pymol. Therfore, creates distance line object\n",
    "    for i in range(len(acceptor)):        \n",
    "        cmd.distance(f\"{object_name}_hydrogenBond_{i}\", #Name of the distance line object\n",
    "                     f\"{object_name}//{acceptor[i][0]}/{acceptor[i][1]}/{acceptor[i][3]}\", #Acceptor molecule. Tuple entries of acceptor list ordered by PyMol selection format.\n",
    "                     f\"{object_name}//{donor[i][0]}/{donor[i][1]}/{donor[i][3]}\", )        #Donor molecule. Tuple entries of acceptor list ordered by PyMol selection format.\n",
    "        \n",
    "        #Creates a list containing each distance object. Faciliates further adjustments of the distance line objects. \n",
    "        bondList.append(f\"{object_name}_hydrogenBond_{i}\")\n",
    "        \n",
    "    #Groups all distance line objects into one cluster for better clarity in PyMol window.\n",
    "    cmd.group(f\"{object_name}_hydrogenBonds\", \" \".join(bondList))\n",
    "    #Hides distance labels (distance in Angstrom) for better clarity.\n",
    "    cmd.hide(\"labels\", f\"{object_name}_HydrogenBonds\")"
   ]
  },
  {
   "cell_type": "code",
   "execution_count": 95,
   "id": "d238dbb9",
   "metadata": {},
   "outputs": [],
   "source": [
    "def showSticks(acceptor: List, donor: List, object_name: str):\n",
    "    \"\"\"\n",
    "    Displays the residues participating in hydrogen bonds as sticks in PyMol.\n",
    "    :param acceptor: Lists of acceptor atoms with complementary index to their respective donors in donor list. Entry tuples contain chain, residue, residue ID and atom.\n",
    "    :param donor: Lists of donor atoms with complementary index to their respective donors in acceptor list. Entry tuples contain chain, residue, residue ID and atom.\n",
    "    :param object_name: Name of the object the Hbsearch run was performed on.\n",
    "    \"\"\"\n",
    "    \n",
    "    #Creating list of residues that should be displayed as sticks. Improves speed of the program by grouping and showing sticks of group.\n",
    "    stickList = []\n",
    "    \n",
    "    #Creating list with all residues participating in hydrogen bonds. Entries are converted to PyMol selection format.\n",
    "    for i in range(len(acceptor)):##maybe possible to modify with zip(); Iterating over all entries\n",
    "        stickList.append(f\"/{object_name}//{acceptor[i][0]}/{acceptor[i][1]}\") #Appending to stick-list all acceptor residues. Residue information is converted to PyMol selection format.\n",
    "        stickList.append(f\"/{object_name}//{donor[i][0]}/{donor[i][1]}\") #Appending to stick-list all donor residues. Residue information is converted to PyMol selection format.\n",
    "    \n",
    "    #Selecting all sticks by selecting all entries in the sticklist\n",
    "    cmd.select(f\"Connections_Sticks_{object_name}\", \" \".join(stickList)) #For selection list entries need to be converted to string, with entries separeated by space character.\n",
    "    cmd.show(\"sticks\", f\"Connections_Sticks_{object_name}\") #Selection is displayed as sticks.\n",
    "    cmd.deselect() #Selection is deselected for better clarity and to spare the user deselecting selection by him-/herself."
   ]
  },
  {
   "cell_type": "code",
   "execution_count": 96,
   "id": "d2ee8c47",
   "metadata": {},
   "outputs": [],
   "source": [
    "def main(molecule:str, molecule_name: str = \"\", directory:str = \".\", \n",
    "         use_object: str = \"0\", remove_object: str = \"1\", hb_file: str = \"hb-define.txt\", \n",
    "         solvent_key:str = \"NONE\", pse_file:str =\"period-table-info.txt\", connections: str = \"0\"):\n",
    "    \"\"\"\n",
    "    Runs HBsearch using a given biomolecule (either fetched by the PDB-ID or using an object of the PyMol session)\n",
    "    and displays the hydrogen bonds occuring in the molecule.\n",
    "    :param molecule: PDB-ID of molecule HBsearch run should be performed on or in case an object in the PyMol session has to be used: The name of the object.\n",
    "    :param molecule_name: If object fetched by PDB-ID. Standard set to blank.\n",
    "    :param directory: Directory of the program folder. Directes working directory in PyMol to entered directory. Obsolete when script is started from program folder and HBsearch is started without changing the directory. Standard set to current working directory (\".\").\n",
    "    :param use_object: If an object in the PyMol session has to be used for the HBsearch run. 0: No; 1: Yes. Standard set to 0. If set to 0. Molecule will be fetched by PDB-ID.\n",
    "    :param remove_object: If created PDB-file in pdb_files folder should be deleted after HBsearch run. 0: No; 1: Yes. Standard set to 0.\n",
    "    :param hb_file: HB-file sued to define possible hydrogen bond interactions. Standard set to hb-define.txt file\n",
    "    :param solvent_key: If hydrogen bond bridges with solvent should be considered. Standard NONE: No solvent H-Bonds. Further possible: HOMO: Homogenous solvent; MEMB: Membrane environment.\n",
    "    :param pse_file: File containing the chemical nature of the atoms. Standard set to period-table.info. To create own one see standard file for structure.\n",
    "    :param connections: If special connections should be taken into account. Here: Hydrogen bonds that would not be recognized by parameters, but could be possible due to rotation of the residues. If connections = 1: Special conncetions will be taken into account. Standard set to 0: No special connectoins will be taken into account.\n",
    "    \"\"\"\n",
    "    \n",
    "    changeDirectory(directory) #Change directory to program folder directory. Needed PyMol directory is not set to program folder for HBsearch run\n",
    "    \n",
    "    #Checks if user wants to use own object in PyMol session or wants to fetch a protein structure from the PDB\n",
    "    if use_object == \"0\": #User wants to fetch a protein from the PDB using a PDB-ID\n",
    "        fetchPDB(molecule, molecule_name) #Uses fetch command to fetch PDB_ID and allows user to name the fetched object in PyMol session.\n",
    "    elif use_object == \"1\": #User wants to use own object.\n",
    "        useObject(molecule) #Object with entered name is saved as pdb-file in the pdb_files folder and is used for the following HBsearch run\n",
    "    \n",
    "    \n",
    "    hbs_output = startHBsearch(molecule, hb_file, solvent_key, pse_file, connections) #Starts an HBsearch run with given parameters. Output is stored\n",
    "    hbs_dataframe = readInHBS(hbs_output) #Converts HBsearch run to dataframe\n",
    "    acceptor, donor = prepareLists(hbs_dataframe) #Prepares acceptor and donor lists for displaying in PyMol\n",
    "    \n",
    "    if molecule_name == \"\": #Checking if custom molecule name was entered: If no name was entered, PDB-ID or saved object name is used.\n",
    "        displayDistances(acceptor, donor, molecule) #Displays distances of hydrogen bond acceptors with their respective donors as distance objects without label in PyMol and groups distance objects according to the strucutre object they are based on.\n",
    "        showSticks(acceptor,donor, molecule) #Shows residues participating in hydrogen bonds as sticks\n",
    "    else: #When molecule name was entered, PyMol strucutre object posses molecule name. So this is used for following PyMol selection based commands.\n",
    "        displayDistances(acceptor, donor, molecule_name) #Displays distances of hydrogen bond acceptors with their respective donors as distance objects without label in PyMol and groups distance objects according to the strucutre object they are based on.\n",
    "        showSticks(acceptor,donor, molecule_name) #Shows residues participating in hydrogen bonds as sticks\n",
    "    \n",
    "    if remove_object == \"1\": #Checks if parameter remove_object is set to 1. If yes: created PDB-file in pdb_files folder is deleted.\n",
    "        removeObject(molecule)"
   ]
  },
  {
   "cell_type": "code",
   "execution_count": 97,
   "id": "a9dfff6c",
   "metadata": {},
   "outputs": [
    {
     "data": {
      "text/plain": [
       "<function __main__.main(molecule: str, molecule_name: str = '', directory: str = '.', use_object: str = '0', remove_object: str = '1', hb_file: str = 'hb-define.txt', solvent_key: str = 'NONE', pse_file: str = 'period-table-info.txt', connections: str = '0')>"
      ]
     },
     "execution_count": 97,
     "metadata": {},
     "output_type": "execute_result"
    }
   ],
   "source": [
    "#Creation of command in PyMol.\n",
    "cmd.extend(\"hbsearch\", main) #When read in in PyMol the script creates a command in PyMol which can be started via the PyMol command line."
   ]
  },
  {
   "cell_type": "markdown",
   "id": "3cbeeae7",
   "metadata": {},
   "source": [
    "# HB-Network - Initialization"
   ]
  },
  {
   "cell_type": "code",
   "execution_count": 98,
   "id": "b1e4e1fd",
   "metadata": {},
   "outputs": [],
   "source": [
    "def createDirectory(molecule_name:str) -> str:\n",
    "    \"\"\"\n",
    "    Creates new directory, containing HBnetwork files later on. directory is created in program folder in ./HB_network/.\n",
    "    Directory name: MoleculeName_Date_Time.\n",
    "    :param molecule_name: Name of the molecule HBnetwork is run on. \n",
    "    :return directory_name: Returns name of created folder in HB_network folder. Needed for guiding HBnetwork.\n",
    "    \"\"\"\n",
    "    #Get current time and format it\n",
    "    current_time = datetime.now()\n",
    "    formated_time = current_time.strftime(\"%Y-%m-%d_%H-%M-%S\")\n",
    "    \n",
    "    #Set folder name in HB_network directory\n",
    "    directory_name = f\"{molecule_name}_{formated_time}\"\n",
    "    \n",
    "    #Create directory with set folder name in HB_network folder\n",
    "    os.mkdir(os.path.normpath(f\"./HB_network/{directory_name}\"))\n",
    "    \n",
    "    return directory_name"
   ]
  },
  {
   "cell_type": "code",
   "execution_count": 99,
   "id": "49601567",
   "metadata": {},
   "outputs": [],
   "source": [
    "def createHBnetwork(molecule: str, directory_name: str, hb_file: str = \"hb-define.txt\", \n",
    "                    solvent_key:str = \"NONE\", pse_file:str =\"period-table-info.txt\", \n",
    "                    connections: str = \"0\"):\n",
    "    \"\"\"\n",
    "    Runs HBnetwork on the entered molecule. Files containing information about the hydrogen bond\n",
    "    clusters are created in the HB_network folder in the program folder in the directory.\n",
    "    Final directory is termed: MoleculeName_Date_Time. Returns summary of all hydrogen bond clusters\n",
    "    :param molecule: Strucutre used for HBsearch run. HBnetwork is run on the same molecule using the output of HBsearch.\n",
    "    :param directory_name: Saving folder for the HBnetwork run in HB_network subfolder in the program folder. \n",
    "    :param hb_file: HB-file sued to define possible hydrogen bond interactions. Standard set to hb-define.txt file\n",
    "    :param solvent_key: If hydrogen bond bridges with solvent should be considered. Standard NONE: No solvent H-Bonds. Further possible: HOMO: Homogenous solvent; MEMB: Membrane environment.\n",
    "    :param pse_file: File containing the chemical nature of the atoms. Standard set to period-table.info. To create own one see standard file for structure.\n",
    "    :param connections: If special connections should be taken into account. Here: Hydrogen bonds that would not be recognized by parameters, but could be possible due to rotation of the residues. If connections = 1: Special conncetions will be taken into account. Standard set to 0: No special connectoins will be taken into account.\n",
    "    :return hbn_output: Summary of all hydrogen bond clusters. Used later for indexing.\n",
    "    \"\"\"\n",
    "    \n",
    "    #Returns operating system the user utilizes. Needed to guide HBsearch/HBnetwork to the correct folders containing appropriate executables.\n",
    "    system = platform.system()\n",
    "    \n",
    "    #Creating a .hb file for the HBnetwork program based. HBsearch run is needed as parameter for HBnetwork run.\n",
    "    hbs_output = startHBsearch(molecule, hb_file, solvent_key, pse_file, connections) #Gathering HBsearch output\n",
    "\n",
    "    with open(os.path.normpath(f\"./HB_network/{directory_name}/{molecule}.hb\"),\"w\") as fh: #writing HBsearch output in textfile in correct directory\n",
    "        fh.write(hbs_output)\n",
    "        \n",
    "    #Runs HBnetwork. Creates output files in HB_network/molecule_date_time/ \n",
    "    cluster_dir = os.path.normpath(f\"./HB_network/{directory_name}\")\n",
    "    hbnetwork_dir = os.path.normpath(f\"../../{system}/hb-network {molecule}.hb\") #Program_dir hb_file_dir\n",
    "    hbn_output = subprocess.run(hbnetwork_dir, cwd = cluster_dir, capture_output=True, shell=True, check = True, text = True).stdout #Runs HBnetwork. Cluster files are created. Summary is given as output\n",
    "    \n",
    "    return hbn_output"
   ]
  },
  {
   "cell_type": "code",
   "execution_count": 100,
   "id": "22274ced",
   "metadata": {},
   "outputs": [],
   "source": [
    "def cleanHBnetwork(directory_name: str):\n",
    "    \"\"\"\n",
    "    Cleans HBnetwork CLUSTER directory of the run, by deleting all files with a size of 0 bytes.\n",
    "    :param directory_name: Name of the directory the HBnetwork cluster files are saved in.\n",
    "    \"\"\"\n",
    "    \n",
    "    ##Deletes not needed files without any network\n",
    "    ##Give later out: If file is not existant than: \"No network found\"\n",
    "    ##Giving networks with aminoacids and with atoms\n",
    "    \n",
    "    directory = os.path.normpath(f\"./HB_network/{directory_name}/CLUSTER\") #By HBnetwork created CLUSTER directory is targeted\n",
    "    \n",
    "    #Files with a size of 0 bytes are deleted since they dont contain clusters.\n",
    "    for file in os.listdir(directory): #Iterating over the directory \n",
    "        \n",
    "        file_dir = os.path.normpath(f\"{directory}/{file}\")\n",
    "        \n",
    "        if os.path.getsize(file_dir) == 0: #Files with a size of 0 bytes are removed\n",
    "            os.remove(file_dir)          \n",
    "    "
   ]
  },
  {
   "cell_type": "code",
   "execution_count": 172,
   "id": "f63c5b70",
   "metadata": {},
   "outputs": [],
   "source": [
    "def indexHbnetwork(hbn_output):\n",
    "    \n",
    "    starting_index = hbn_output.find(\"Cluster\")\n",
    "    hbn_sorted = hbn_output[starting_index:].split(\"\\n\")\n",
    "    \n",
    "    start = 0\n",
    "    cluster_list = []\n",
    "    cluster_dict = {}\n",
    "    for i in range(len(hbn_sorted)):\n",
    "        hbn_sorted[i] = hbn_sorted[i].strip()\n",
    "        if hbn_sorted[i] == \"END\":\n",
    "            cluster_list.append(hbn_sorted[start:i])\n",
    "            start = i + 1\n",
    "    for j in range(len(cluster_list)):\n",
    "        for k in range(1,len(cluster_list[j])):\n",
    "            cluster_dict[cluster_list[j][k]] = cluster_list[j][0]\n",
    "    \n",
    "    return cluster_dict"
   ]
  },
  {
   "cell_type": "code",
   "execution_count": 173,
   "id": "45beda31",
   "metadata": {},
   "outputs": [],
   "source": [
    "def readoutHBnetwork():\n",
    "    pass"
   ]
  },
  {
   "cell_type": "code",
   "execution_count": 174,
   "id": "236d1fdb",
   "metadata": {},
   "outputs": [],
   "source": [
    "def main2(molecule:str, molecule_name = \"\", directory:str = \".\", \n",
    "         use_object: str = \"0\", remove_object = \"1\", hb_file: str = \"hb-define.txt\", \n",
    "         solvent_key:str = \"NONE\", pse_file:str =\"period-table-info.txt\", connections: str = \"0\"):\n",
    "    \n",
    "    \n",
    "    directory_name = createDirectory(molecule)\n",
    "    hbn_output = createHBnetwork(molecule, directory_name)\n",
    "    cleanHBnetwork(directory_name)\n",
    "    hbn_cluster_list = indexHbnetwork(hbn_output)\n",
    "    print(hbn_cluster_list, end = \"\\n\")"
   ]
  },
  {
   "cell_type": "code",
   "execution_count": 175,
   "id": "0bf9683f",
   "metadata": {
    "scrolled": true
   },
   "outputs": [
    {
     "name": "stdout",
     "output_type": "stream",
     "text": [
      "{'A:3:SER:OG': 'Cluster 1:', 'A:6:GLU:OE1': 'Cluster 1:', 'A:6:GLU:OE2': 'Cluster 1:', 'A:2004:HOH:O': 'Cluster 1:', 'A:4:ASN:OD1': 'Cluster 2:', 'A:4:ASN:ND2': 'Cluster 3:', 'A:5:GLN:OE1': 'Cluster 4:', 'A:5:GLN:NE2': 'Cluster 5:', 'A:9:GLN:OE1': 'Cluster 6:', 'A:9:GLN:NE2': 'Cluster 7:', 'A:12:THR:OG1': 'Cluster 8:', 'A:2005:HOH:O': 'Cluster 8:', 'A:13:ASN:OD1': 'Cluster 9:', 'A:13:ASN:ND2': 'Cluster 10:', 'A:17:ASN:OD1': 'Cluster 11:', 'B:19:SER:OG': 'Cluster 11:', 'B:20:GLN:NE2': 'Cluster 11:', 'B:2005:HOH:O': 'Cluster 11:', 'A:17:ASN:ND2': 'Cluster 12:', 'A:21:CYS:SG': 'Cluster 13:', 'A:22:GLU:OE1': 'Cluster 14:', 'B:15:ARG:NE': 'Cluster 14:', 'B:15:ARG:NH2': 'Cluster 14:', 'A:22:GLU:OE2': 'Cluster 15:', 'A:164:SER:OG': 'Cluster 15:', 'A:193:HIS:NE2': 'Cluster 15:', 'A:25:GLU:OE1': 'Cluster 16:', 'A:25:GLU:OE2': 'Cluster 17:', 'A:28:SER:OG': 'Cluster 18:', 'A:29:ASP:OD1': 'Cluster 19:', 'A:29:ASP:OD2': 'Cluster 19:', 'B:11:ASP:OD1': 'Cluster 19:', 'B:15:ARG:NH1': 'Cluster 19:', 'A:2011:HOH:O': 'Cluster 19:', 'A:31:ARG:NE': 'Cluster 20:', 'A:31:ARG:NH2': 'Cluster 20:', 'A:2012:HOH:O': 'Cluster 20:', 'A:31:ARG:NH1': 'Cluster 21:', 'A:36:SER:OG': 'Cluster 22:', 'A:38:SER:OG': 'Cluster 22:', 'A:37:GLU:OE1': 'Cluster 23:', 'A:37:GLU:OE2': 'Cluster 24:', 'A:41:ASN:OD1': 'Cluster 25:', 'A:41:ASN:ND2': 'Cluster 26:', 'A:43:SER:OG': 'Cluster 27:', 'A:46:SER:OG': 'Cluster 28:', 'A:47:THR:OG1': 'Cluster 29:', 'A:49:ARG:NE': 'Cluster 30:', 'A:73:GLU:OE1': 'Cluster 30:', 'A:76:ASN:OD1': 'Cluster 30:', 'A:76:ASN:ND2': 'Cluster 30:', 'A:77:ASN:OD1': 'Cluster 30:', 'A:79:TYR:OH': 'Cluster 30:', 'A:92:HIS:ND1': 'Cluster 30:', 'A:2015:HOH:O': 'Cluster 30:', 'A:2017:HOH:O': 'Cluster 30:', 'A:2034:HOH:O': 'Cluster 30:', 'A:49:ARG:NH1': 'Cluster 31:', 'A:49:ARG:NH2': 'Cluster 32:', 'A:73:GLU:OE2': 'Cluster 32:', 'A:50:GLU:OE1': 'Cluster 33:', 'A:50:GLU:OE2': 'Cluster 33:', 'A:70:LYS:NZ': 'Cluster 33:', 'A:51:TYR:OH': 'Cluster 34:', 'A:55:GLN:OE1': 'Cluster 34:', 'A:55:GLN:NE2': 'Cluster 34:', 'A:58:SER:OG': 'Cluster 34:', 'A:60:GLN:NE2': 'Cluster 34:', 'A:153:SER:OG': 'Cluster 34:', 'A:155:CYS:SG': 'Cluster 34:', 'A:166:ARG:NE': 'Cluster 34:', 'A:166:ARG:NH1': 'Cluster 34:', 'A:166:ARG:NH2': 'Cluster 34:', 'A:168:ARG:NE': 'Cluster 34:', 'A:168:ARG:NH2': 'Cluster 34:', 'A:191:ASN:ND2': 'Cluster 34:', 'A:2008:HOH:O': 'Cluster 34:', 'A:2009:HOH:O': 'Cluster 34:', 'A:2010:HOH:O': 'Cluster 34:', 'A:2019:HOH:O': 'Cluster 34:', 'A:2020:HOH:O': 'Cluster 34:', 'A:2021:HOH:O': 'Cluster 34:', 'A:2022:HOH:O': 'Cluster 34:', 'A:2023:HOH:O': 'Cluster 34:', 'A:2065:HOH:O': 'Cluster 34:', 'A:2069:HOH:O': 'Cluster 34:', 'A:2070:HOH:O': 'Cluster 34:', 'A:52:ASN:OD1': 'Cluster 35:', 'A:52:ASN:ND2': 'Cluster 36:', 'A:53:THR:OG1': 'Cluster 37:', 'A:54:SER:OG': 'Cluster 38:', 'A:2006:HOH:O': 'Cluster 38:', 'A:60:GLN:OE1': 'Cluster 39:', 'A:65:SER:OG': 'Cluster 39:', 'C:266:ASN:OD1': 'Cluster 39:', 'C:266:ASN:ND2': 'Cluster 39:', 'A:2025:HOH:O': 'Cluster 39:', 'A:2029:HOH:O': 'Cluster 39:', 'A:61:THR:OG1': 'Cluster 40:', 'A:63:LYS:NZ': 'Cluster 40:', 'A:81:ASP:OD1': 'Cluster 40:', 'A:81:ASP:OD2': 'Cluster 40:', 'A:84:ASN:OD1': 'Cluster 40:', 'A:84:ASN:ND2': 'Cluster 40:', 'A:86:GLN:OE1': 'Cluster 40:', 'A:2027:HOH:O': 'Cluster 40:', 'A:2028:HOH:O': 'Cluster 40:', 'A:2030:HOH:O': 'Cluster 40:', 'A:2036:HOH:O': 'Cluster 40:', 'A:62:SER:OG': 'Cluster 41:', 'A:86:GLN:NE2': 'Cluster 41:', 'A:100:GLU:OE1': 'Cluster 41:', 'A:100:GLU:OE2': 'Cluster 41:', 'C:261:ASN:ND2': 'Cluster 41:', 'C:269:LYS:NZ': 'Cluster 41:', 'A:2037:HOH:O': 'Cluster 41:', 'C:2052:HOH:O': 'Cluster 41:', 'C:2097:HOH:O': 'Cluster 41:', 'C:2100:HOH:O': 'Cluster 41:', 'A:69:THR:OG1': 'Cluster 42:', 'A:138:TYR:OH': 'Cluster 42:', 'A:71:GLU:OE1': 'Cluster 43:', 'A:71:GLU:OE2': 'Cluster 44:', 'A:75:SER:OG': 'Cluster 45:', 'A:77:ASN:ND2': 'Cluster 46:', 'A:98:THR:OG1': 'Cluster 46:', 'A:2033:HOH:O': 'Cluster 46:', 'A:2042:HOH:O': 'Cluster 46:', 'A:78:GLU:OE1': 'Cluster 47:', 'A:78:GLU:OE2': 'Cluster 48:', 'A:101:ARG:NH2': 'Cluster 48:', 'A:2035:HOH:O': 'Cluster 48:', 'A:83:LYS:NZ': 'Cluster 49:', 'A:123:THR:OG1': 'Cluster 49:', 'A:85:LYS:NZ': 'Cluster 50:', 'A:89:THR:OG1': 'Cluster 51:', 'A:90:TYR:OH': 'Cluster 52:', 'A:91:ASP:OD1': 'Cluster 53:', 'A:91:ASP:OD2': 'Cluster 54:', 'A:2038:HOH:O': 'Cluster 54:', 'A:92:HIS:NE2': 'Cluster 55:', 'A:94:LYS:NZ': 'Cluster 56:', 'A:95:GLN:OE1': 'Cluster 57:', 'A:95:GLN:NE2': 'Cluster 58:', 'A:96:GLU:OE1': 'Cluster 59:', 'A:96:GLU:OE2': 'Cluster 59:', 'A:2039:HOH:O': 'Cluster 59:', 'A:101:ARG:NE': 'Cluster 60:', 'A:101:ARG:NH1': 'Cluster 61:', 'A:104:SER:OG': 'Cluster 61:', 'A:106:GLU:OE2': 'Cluster 61:', 'A:102:SER:OG': 'Cluster 62:', 'A:2043:HOH:O': 'Cluster 62:', 'A:2044:HOH:O': 'Cluster 62:', 'A:106:GLU:OE1': 'Cluster 63:', 'A:108:GLU:OE1': 'Cluster 64:', 'A:110:ASP:OD1': 'Cluster 64:', 'A:110:ASP:OD2': 'Cluster 64:', 'A:141:LYS:NZ': 'Cluster 64:', 'A:108:GLU:OE2': 'Cluster 65:', 'A:140:THR:OG1': 'Cluster 65:', 'A:109:GLN:OE1': 'Cluster 66:', 'A:2049:HOH:O': 'Cluster 66:', 'A:109:GLN:NE2': 'Cluster 67:', 'A:2051:HOH:O': 'Cluster 67:', 'A:112:GLU:OE1': 'Cluster 68:', 'A:112:GLU:OE2': 'Cluster 68:', 'A:115:ARG:NE': 'Cluster 68:', 'A:115:ARG:NH1': 'Cluster 68:', 'A:115:ARG:NH2': 'Cluster 68:', 'A:119:ASP:OD1': 'Cluster 68:', 'A:119:ASP:OD2': 'Cluster 68:', 'A:2047:HOH:O': 'Cluster 68:', 'A:2052:HOH:O': 'Cluster 68:', 'A:2054:HOH:O': 'Cluster 68:', 'A:113:GLN:OE1': 'Cluster 69:', 'A:113:GLN:NE2': 'Cluster 70:', 'A:2053:HOH:O': 'Cluster 70:', 'A:114:TYR:OH': 'Cluster 71:', 'A:214:SER:OG': 'Cluster 71:', 'A:220:THR:OG1': 'Cluster 71:', 'A:2074:HOH:O': 'Cluster 71:', 'A:120:GLU:OE1': 'Cluster 72:', 'A:2055:HOH:O': 'Cluster 72:', 'A:120:GLU:OE2': 'Cluster 73:', 'A:121:GLU:OE1': 'Cluster 74:', 'A:121:GLU:OE2': 'Cluster 74:', 'A:124:LYS:NZ': 'Cluster 74:', 'A:2016:HOH:O': 'Cluster 74:', 'A:2056:HOH:O': 'Cluster 74:', 'A:2057:HOH:O': 'Cluster 74:', 'A:2058:HOH:O': 'Cluster 74:', 'A:125:TYR:OH': 'Cluster 75:', 'A:130:TYR:OH': 'Cluster 75:', 'A:167:TRP:NE1': 'Cluster 75:', 'A:169:SER:OG': 'Cluster 75:', 'A:171:TRP:NE1': 'Cluster 75:', 'A:232:GLU:OE1': 'Cluster 75:', 'A:232:GLU:OE2': 'Cluster 75:', 'B:246:ARG:NE': 'Cluster 75:', 'B:246:ARG:NH2': 'Cluster 75:', 'A:2061:HOH:O': 'Cluster 75:', 'A:126:CYS:SG': 'Cluster 76:', 'A:127:ASN:OD1': 'Cluster 76:', 'A:135:SER:OG': 'Cluster 76:', 'A:2062:HOH:O': 'Cluster 76:', 'A:2063:HOH:O': 'Cluster 76:', 'A:127:ASN:ND2': 'Cluster 77:', 'A:128:GLU:OE1': 'Cluster 78:', 'A:128:GLU:OE2': 'Cluster 79:', 'A:129:TYR:OH': 'Cluster 80:', 'A:132:ASN:OD1': 'Cluster 81:', 'A:132:ASN:ND2': 'Cluster 82:', 'A:143:SER:OG': 'Cluster 83:', 'A:144:GLU:OE1': 'Cluster 84:', 'A:144:GLU:OE2': 'Cluster 85:', 'A:147:LYS:NZ': 'Cluster 86:', 'A:149:THR:OG1': 'Cluster 87:', 'A:151:CYS:SG': 'Cluster 88:', 'A:154:THR:OG1': 'Cluster 89:', 'A:2064:HOH:O': 'Cluster 89:', 'A:157:TYR:OH': 'Cluster 90:', 'A:158:LYS:NZ': 'Cluster 91:', 'A:160:ASN:OD1': 'Cluster 92:', 'A:160:ASN:ND2': 'Cluster 93:', 'A:163:TYR:OH': 'Cluster 94:', 'A:168:ARG:NH1': 'Cluster 95:', 'A:189:GLN:OE1': 'Cluster 95:', 'A:2080:HOH:O': 'Cluster 95:', 'A:172:THR:OG1': 'Cluster 96:', 'A:2071:HOH:O': 'Cluster 96:', 'A:173:CYS:SG': 'Cluster 97:', 'A:184:SER:OG': 'Cluster 97:', 'A:210:THR:OG1': 'Cluster 97:', 'A:212:SER:OG': 'Cluster 97:', 'A:2077:HOH:O': 'Cluster 97:', 'A:2089:HOH:O': 'Cluster 97:', 'A:174:THR:OG1': 'Cluster 98:', 'A:185:ASN:OD1': 'Cluster 98:', 'A:2073:HOH:O': 'Cluster 98:', 'A:2078:HOH:O': 'Cluster 98:', 'A:176:LYS:NZ': 'Cluster 99:', 'A:179:SER:OG': 'Cluster 100:', 'A:181:ASN:OD1': 'Cluster 101:', 'A:181:ASN:ND2': 'Cluster 102:', 'A:183:THR:OG1': 'Cluster 103:', 'A:2072:HOH:O': 'Cluster 103:', 'A:185:ASN:ND2': 'Cluster 104:', 'A:209:GLN:OE1': 'Cluster 104:', 'A:2079:HOH:O': 'Cluster 104:', 'A:187:LYS:NZ': 'Cluster 105:', 'A:189:GLN:NE2': 'Cluster 106:', 'A:191:ASN:OD1': 'Cluster 107:', 'A:203:ASN:OD1': 'Cluster 107:', 'A:193:HIS:ND1': 'Cluster 108:', 'A:194:TYR:OH': 'Cluster 109:', 'A:196:GLU:OE1': 'Cluster 109:', 'A:196:GLU:OE2': 'Cluster 110:', 'A:197:ASP:OD1': 'Cluster 111:', 'A:197:ASP:OD2': 'Cluster 112:', 'A:199:ASN:OD1': 'Cluster 113:', 'A:201:GLN:NE2': 'Cluster 113:', 'A:199:ASN:ND2': 'Cluster 114:', 'B:20:GLN:OE1': 'Cluster 114:', 'B:24:ASN:ND2': 'Cluster 114:', 'A:2084:HOH:O': 'Cluster 114:', 'B:2002:HOH:O': 'Cluster 114:', 'B:2003:HOH:O': 'Cluster 114:', 'A:201:GLN:OE1': 'Cluster 115:', 'A:2007:HOH:O': 'Cluster 115:', 'A:203:ASN:ND2': 'Cluster 116:', 'A:204:THR:OG1': 'Cluster 117:', 'A:206:THR:OG1': 'Cluster 117:', 'A:2081:HOH:O': 'Cluster 117:', 'A:207:GLN:OE1': 'Cluster 118:', 'A:2085:HOH:O': 'Cluster 118:', 'A:2086:HOH:O': 'Cluster 118:', 'A:2087:HOH:O': 'Cluster 118:', 'A:2088:HOH:O': 'Cluster 118:', 'B:2048:HOH:O': 'Cluster 118:', 'A:207:GLN:NE2': 'Cluster 119:', 'A:208:LYS:NZ': 'Cluster 120:', 'A:209:GLN:NE2': 'Cluster 121:', 'A:211:THR:OG1': 'Cluster 122:', 'A:216:ASP:OD1': 'Cluster 123:', 'A:216:ASP:OD2': 'Cluster 123:', 'A:218:GLN:OE1': 'Cluster 123:', 'A:219:SER:OG': 'Cluster 123:', 'A:218:GLN:NE2': 'Cluster 124:', 'A:223:ASN:OD1': 'Cluster 125:', 'A:223:ASN:ND2': 'Cluster 126:', 'A:226:LYS:NZ': 'Cluster 127:', 'A:230:LYS:NZ': 'Cluster 128:', 'A:234:ASN:OD1': 'Cluster 129:', 'A:234:ASN:ND2': 'Cluster 130:', 'A:236:HIS:ND1': 'Cluster 131:', 'B:246:ARG:NH1': 'Cluster 131:', 'A:236:HIS:NE2': 'Cluster 132:', 'A:240:ASP:OD1': 'Cluster 132:', 'B:243:ASN:OD1': 'Cluster 132:', 'B:243:ASN:ND2': 'Cluster 132:', 'A:237:THR:OG1': 'Cluster 133:', 'A:240:ASP:OD2': 'Cluster 134:', 'A:241:ASN:OD1': 'Cluster 135:', 'A:241:ASN:ND2': 'Cluster 136:', 'A:242:ASN:OD1': 'Cluster 137:', 'A:242:ASN:ND2': 'Cluster 138:', 'A:2091:HOH:O': 'Cluster 138:', 'A:243:TYR:OH': 'Cluster 139:', 'B:238:THR:OG1': 'Cluster 139:', 'A:244:SER:OG': 'Cluster 140:', 'A:245:THR:OG1': 'Cluster 141:', 'A:248:ASP:OD1': 'Cluster 142:', 'A:248:ASP:OD2': 'Cluster 143:', 'A:249:THR:OG1': 'Cluster 144:', 'A:250:THR:OG1': 'Cluster 144:', 'A:252:LYS:NZ': 'Cluster 145:', 'A:255:ARG:NE': 'Cluster 146:', 'A:255:ARG:NH2': 'Cluster 146:', 'B:107:TYR:OH': 'Cluster 146:', 'B:223:GLU:OE1': 'Cluster 146:', 'B:224:SER:OG': 'Cluster 146:', 'A:255:ARG:NH1': 'Cluster 147:', 'A:256:ARG:NE': 'Cluster 148:', 'A:256:ARG:NH1': 'Cluster 149:', 'B:113:GLU:OE1': 'Cluster 149:', 'B:113:GLU:OE2': 'Cluster 149:', 'A:256:ARG:NH2': 'Cluster 150:', 'A:261:ASN:OD1': 'Cluster 151:', 'A:261:ASN:ND2': 'Cluster 152:', 'A:262:ARG:NE': 'Cluster 153:', 'A:262:ARG:NH1': 'Cluster 154:', 'A:262:ARG:NH2': 'Cluster 155:', 'A:263:THR:OG1': 'Cluster 156:', 'A:264:LYS:NZ': 'Cluster 157:', 'A:266:ASN:OD1': 'Cluster 158:', 'A:266:ASN:ND2': 'Cluster 159:', 'A:267:TRP:NE1': 'Cluster 160:', 'B:220:GLU:OE1': 'Cluster 160:', 'B:2051:HOH:O': 'Cluster 160:', 'A:268:GLN:OE1': 'Cluster 161:', 'A:268:GLN:NE2': 'Cluster 162:', 'B:209:ASP:OD1': 'Cluster 162:', 'A:269:LYS:NZ': 'Cluster 163:', 'B:2:THR:OG1': 'Cluster 164:', 'B:5:GLN:OE1': 'Cluster 164:', 'B:3:GLU:OE1': 'Cluster 165:', 'B:3:GLU:OE2': 'Cluster 166:', 'B:4:LYS:NZ': 'Cluster 167:', 'B:5:GLN:NE2': 'Cluster 168:', 'B:7:SER:OG': 'Cluster 169:', 'B:8:CYS:SG': 'Cluster 170:', 'B:9:CYS:SG': 'Cluster 171:', 'B:11:ASP:OD2': 'Cluster 172:', 'B:14:ARG:NE': 'Cluster 173:', 'B:14:ARG:NH1': 'Cluster 174:', 'B:14:ARG:NH2': 'Cluster 175:', 'B:22:GLU:OE1': 'Cluster 176:', 'B:22:GLU:OE2': 'Cluster 177:', 'B:48:LYS:NZ': 'Cluster 177:', 'B:23:ASP:OD1': 'Cluster 178:', 'B:23:ASP:OD2': 'Cluster 179:', 'B:24:ASN:OD1': 'Cluster 180:', 'B:30:ASP:OD1': 'Cluster 181:', 'B:30:ASP:OD2': 'Cluster 181:', 'B:2008:HOH:O': 'Cluster 181:', 'B:2009:HOH:O': 'Cluster 181:', 'B:2010:HOH:O': 'Cluster 181:', 'B:34:ASP:OD1': 'Cluster 182:', 'B:34:ASP:OD2': 'Cluster 183:', 'B:36:THR:OG1': 'Cluster 184:', 'B:37:GLU:OE1': 'Cluster 185:', 'B:37:GLU:OE2': 'Cluster 186:', 'B:38:ASP:OD1': 'Cluster 187:', 'B:38:ASP:OD2': 'Cluster 188:', 'B:41:SER:OG': 'Cluster 189:', 'B:63:ASP:OD2': 'Cluster 189:', 'B:2011:HOH:O': 'Cluster 189:', 'B:42:SER:OG': 'Cluster 190:', 'B:44:ASP:OD1': 'Cluster 191:', 'B:45:GLN:OE1': 'Cluster 191:', 'B:2007:HOH:O': 'Cluster 191:', 'B:2012:HOH:O': 'Cluster 191:', 'B:2014:HOH:O': 'Cluster 191:', 'B:2015:HOH:O': 'Cluster 191:', 'B:44:ASP:OD2': 'Cluster 192:', 'B:174:THR:OG1': 'Cluster 192:', 'B:196:THR:OG1': 'Cluster 192:', 'B:2013:HOH:O': 'Cluster 192:', 'B:45:GLN:NE2': 'Cluster 193:', 'B:51:TYR:OH': 'Cluster 194:', 'B:52:ASP:OD1': 'Cluster 195:', 'B:52:ASP:OD2': 'Cluster 196:', 'B:55:SER:OG': 'Cluster 196:', 'B:73:SER:OG': 'Cluster 196:', 'B:76:SER:OG': 'Cluster 196:', 'B:2021:HOH:O': 'Cluster 196:', 'B:56:LYS:NZ': 'Cluster 197:', 'B:57:LYS:NZ': 'Cluster 198:', 'B:105:GLU:OE1': 'Cluster 198:', 'B:105:GLU:OE2': 'Cluster 198:', 'B:58:ASP:OD1': 'Cluster 199:', 'B:58:ASP:OD2': 'Cluster 200:', 'B:2022:HOH:O': 'Cluster 200:', 'B:59:TYR:OH': 'Cluster 201:', 'B:80:ASP:OD2': 'Cluster 201:', 'B:2006:HOH:O': 'Cluster 201:', 'B:2016:HOH:O': 'Cluster 201:', 'B:2017:HOH:O': 'Cluster 201:', 'B:2018:HOH:O': 'Cluster 201:', 'B:2019:HOH:O': 'Cluster 201:', 'B:2023:HOH:O': 'Cluster 201:', 'B:62:CYS:SG': 'Cluster 202:', 'B:65:ASN:OD1': 'Cluster 202:', 'B:63:ASP:OD1': 'Cluster 203:', 'B:66:ARG:NH1': 'Cluster 203:', 'B:71:TYR:OH': 'Cluster 203:', 'B:2024:HOH:O': 'Cluster 203:', 'B:64:TYR:OH': 'Cluster 204:', 'B:65:ASN:ND2': 'Cluster 205:', 'B:118:SER:OG': 'Cluster 205:', 'B:120:TYR:OH': 'Cluster 205:', 'B:66:ARG:NE': 'Cluster 206:', 'B:66:ARG:NH2': 'Cluster 207:', 'B:67:ASP:OD1': 'Cluster 208:', 'B:67:ASP:OD2': 'Cluster 209:', 'B:69:ASP:OD1': 'Cluster 210:', 'B:69:ASP:OD2': 'Cluster 211:', 'B:70:SER:OG': 'Cluster 212:', 'B:2026:HOH:O': 'Cluster 212:', 'B:72:ARG:NE': 'Cluster 213:', 'B:72:ARG:NH1': 'Cluster 214:', 'B:72:ARG:NH2': 'Cluster 214:', 'B:94:ARG:NH1': 'Cluster 214:', 'B:97:GLU:OE1': 'Cluster 214:', 'B:97:GLU:OE2': 'Cluster 214:', 'B:75:TRP:NE1': 'Cluster 215:', 'B:77:ASN:OD1': 'Cluster 216:', 'B:77:ASN:ND2': 'Cluster 217:', 'B:94:ARG:NE': 'Cluster 217:', 'B:94:ARG:NH2': 'Cluster 217:', 'B:2027:HOH:O': 'Cluster 217:', 'B:2028:HOH:O': 'Cluster 217:', 'B:2029:HOH:O': 'Cluster 217:', 'B:2030:HOH:O': 'Cluster 217:', 'B:2031:HOH:O': 'Cluster 217:', 'B:2039:HOH:O': 'Cluster 217:', 'B:78:LYS:NZ': 'Cluster 218:', 'B:79:TYR:OH': 'Cluster 219:', 'B:80:ASP:OD1': 'Cluster 220:', 'B:2032:HOH:O': 'Cluster 220:', 'B:84:SER:OG': 'Cluster 221:', 'B:2037:HOH:O': 'Cluster 221:', 'B:87:CYS:SG': 'Cluster 222:', 'B:88:TYR:OH': 'Cluster 223:', 'B:2034:HOH:O': 'Cluster 223:', 'B:2035:HOH:O': 'Cluster 223:', 'B:2036:HOH:O': 'Cluster 223:', 'B:2038:HOH:O': 'Cluster 223:', 'B:90:SER:OG': 'Cluster 224:', 'B:123:ASP:OD2': 'Cluster 224:', 'B:91:SER:OG': 'Cluster 225:', 'B:92:LYS:NZ': 'Cluster 226:', 'B:95:ASP:OD1': 'Cluster 227:', 'B:95:ASP:OD2': 'Cluster 228:', 'B:99:GLN:OE1': 'Cluster 229:', 'B:99:GLN:NE2': 'Cluster 230:', 'B:212:CYS:SG': 'Cluster 230:', 'B:2050:HOH:O': 'Cluster 230:', 'B:101:ASN:OD1': 'Cluster 231:', 'B:101:ASN:ND2': 'Cluster 232:', 'B:102:GLU:OE1': 'Cluster 233:', 'B:102:GLU:OE2': 'Cluster 234:', 'B:109:ASN:OD1': 'Cluster 235:', 'B:109:ASN:ND2': 'Cluster 236:', 'B:111:TYR:OH': 'Cluster 237:', 'B:220:GLU:OE2': 'Cluster 237:', 'B:117:SER:OG': 'Cluster 238:', 'B:121:CYS:SG': 'Cluster 239:', 'B:122:TRP:NE1': 'Cluster 240:', 'B:123:ASP:OD1': 'Cluster 241:', 'B:2041:HOH:O': 'Cluster 241:', 'B:125:ASP:OD1': 'Cluster 242:', 'B:125:ASP:OD2': 'Cluster 243:', 'B:126:ASP:OD1': 'Cluster 244:', 'B:126:ASP:OD2': 'Cluster 245:', 'B:127:ASN:OD1': 'Cluster 246:', 'B:127:ASN:ND2': 'Cluster 247:', 'B:135:LYS:NZ': 'Cluster 248:', 'B:152:ASP:OD1': 'Cluster 248:', 'B:152:ASP:OD2': 'Cluster 248:', 'B:2042:HOH:O': 'Cluster 248:', 'B:2044:HOH:O': 'Cluster 248:', 'B:136:LYS:NZ': 'Cluster 249:', 'B:137:THR:OG1': 'Cluster 250:', 'B:138:GLN:OE1': 'Cluster 251:', 'B:138:GLN:NE2': 'Cluster 252:', 'B:139:ASP:OD1': 'Cluster 253:', 'B:139:ASP:OD2': 'Cluster 254:', 'B:148:ARG:NE': 'Cluster 255:', 'B:148:ARG:NH1': 'Cluster 256:', 'B:148:ARG:NH2': 'Cluster 257:', 'B:150:THR:OG1': 'Cluster 258:', 'B:151:TRP:NE1': 'Cluster 259:', 'B:153:SER:OG': 'Cluster 259:', 'B:223:GLU:OE2': 'Cluster 259:', 'B:155:HIS:ND1': 'Cluster 260:', 'B:155:HIS:NE2': 'Cluster 261:', 'B:173:SER:OG': 'Cluster 261:', 'B:158:GLU:OE1': 'Cluster 262:', 'B:158:GLU:OE2': 'Cluster 263:', 'B:160:LYS:NZ': 'Cluster 264:', 'B:163:LYS:NZ': 'Cluster 265:', 'B:164:LYS:NZ': 'Cluster 266:', 'B:165:ASP:OD1': 'Cluster 267:', 'B:165:ASP:OD2': 'Cluster 268:', 'B:166:LYS:NZ': 'Cluster 269:', 'B:169:TYR:OH': 'Cluster 270:', 'B:211:HIS:ND1': 'Cluster 270:', 'B:214:ASN:ND2': 'Cluster 270:', 'B:170:LYS:NZ': 'Cluster 271:', 'B:172:THR:OG1': 'Cluster 272:', 'B:198:GLN:OE1': 'Cluster 272:', 'B:178:SER:OG': 'Cluster 273:', 'B:180:GLU:OE1': 'Cluster 274:', 'B:180:GLU:OE2': 'Cluster 275:', 'B:181:THR:OG1': 'Cluster 276:', 'B:183:ASN:OD1': 'Cluster 276:', 'B:183:ASN:ND2': 'Cluster 276:', 'B:186:THR:OG1': 'Cluster 276:', 'B:182:ASP:OD1': 'Cluster 277:', 'B:182:ASP:OD2': 'Cluster 278:', 'B:184:ASP:OD1': 'Cluster 279:', 'B:184:ASP:OD2': 'Cluster 280:', 'B:185:ASN:OD1': 'Cluster 281:', 'B:185:ASN:ND2': 'Cluster 282:', 'B:188:LYS:NZ': 'Cluster 283:', 'B:190:ASN:ND2': 'Cluster 283:', 'B:190:ASN:OD1': 'Cluster 284:', 'B:194:SER:OG': 'Cluster 285:', 'B:197:ARG:NE': 'Cluster 286:', 'B:197:ARG:NH1': 'Cluster 287:', 'B:197:ARG:NH2': 'Cluster 288:', 'B:198:GLN:NE2': 'Cluster 289:', 'B:199:ASP:OD1': 'Cluster 290:', 'B:2049:HOH:O': 'Cluster 290:', 'B:199:ASP:OD2': 'Cluster 291:', 'B:200:GLU:OE1': 'Cluster 292:', 'B:200:GLU:OE2': 'Cluster 293:', 'B:201:LYS:NZ': 'Cluster 294:', 'B:202:GLU:OE1': 'Cluster 295:', 'B:202:GLU:OE2': 'Cluster 296:', 'B:203:TYR:OH': 'Cluster 297:', 'B:204:THR:OG1': 'Cluster 298:', 'B:206:ASN:OD1': 'Cluster 299:', 'B:206:ASN:ND2': 'Cluster 300:', 'B:207:GLU:OE1': 'Cluster 301:', 'B:207:GLU:OE2': 'Cluster 302:', 'B:209:ASP:OD2': 'Cluster 303:', 'B:210:THR:OG1': 'Cluster 304:', 'B:211:HIS:NE2': 'Cluster 305:', 'B:214:ASN:OD1': 'Cluster 306:', 'B:217:LYS:NZ': 'Cluster 307:', 'B:221:ASP:OD1': 'Cluster 308:', 'B:221:ASP:OD2': 'Cluster 309:', 'B:225:LYS:NZ': 'Cluster 310:', 'B:227:ARG:NE': 'Cluster 311:', 'B:227:ARG:NH1': 'Cluster 312:', 'B:227:ARG:NH2': 'Cluster 313:', 'B:228:GLN:OE1': 'Cluster 314:', 'B:228:GLN:NE2': 'Cluster 315:', 'B:229:THR:OG1': 'Cluster 315:', 'B:2052:HOH:O': 'Cluster 315:', 'B:231:GLU:OE1': 'Cluster 316:', 'B:231:GLU:OE2': 'Cluster 317:', 'B:232:THR:OG1': 'Cluster 318:', 'B:2054:HOH:O': 'Cluster 318:', 'B:234:TYR:OH': 'Cluster 319:', 'B:237:LYS:NZ': 'Cluster 320:', 'B:240:GLU:OE1': 'Cluster 320:', 'B:240:GLU:OE2': 'Cluster 320:', 'B:239:LYS:NZ': 'Cluster 321:', 'B:244:THR:OG1': 'Cluster 322:', 'B:247:ASN:OD1': 'Cluster 323:', 'B:249:THR:OG1': 'Cluster 323:', 'B:247:ASN:ND2': 'Cluster 324:', 'B:251:ASN:OD1': 'Cluster 325:', 'B:251:ASN:ND2': 'Cluster 326:', 'B:252:SER:OG': 'Cluster 327:', 'C:3:SER:OG': 'Cluster 328:', 'C:6:GLU:OE1': 'Cluster 328:', 'C:4:ASN:OD1': 'Cluster 329:', 'C:2001:HOH:O': 'Cluster 329:', 'C:2002:HOH:O': 'Cluster 329:', 'C:2003:HOH:O': 'Cluster 329:', 'C:2005:HOH:O': 'Cluster 329:', 'D:2013:HOH:O': 'Cluster 329:', 'C:4:ASN:ND2': 'Cluster 330:', 'C:2004:HOH:O': 'Cluster 330:', 'C:2006:HOH:O': 'Cluster 330:', 'C:5:GLN:OE1': 'Cluster 331:', 'C:5:GLN:NE2': 'Cluster 332:', 'C:2007:HOH:O': 'Cluster 332:', 'C:6:GLU:OE2': 'Cluster 333:', 'C:9:GLN:OE1': 'Cluster 334:', 'C:9:GLN:NE2': 'Cluster 335:', 'C:12:THR:OG1': 'Cluster 336:', 'C:13:ASN:OD1': 'Cluster 337:', 'C:13:ASN:ND2': 'Cluster 338:', 'C:17:ASN:OD1': 'Cluster 339:', 'D:20:GLN:OE1': 'Cluster 339:', 'D:24:ASN:OD1': 'Cluster 339:', 'D:24:ASN:ND2': 'Cluster 339:', 'C:2010:HOH:O': 'Cluster 339:', 'C:2011:HOH:O': 'Cluster 339:', 'C:2080:HOH:O': 'Cluster 339:', 'D:2006:HOH:O': 'Cluster 339:', 'C:17:ASN:ND2': 'Cluster 340:', 'D:20:GLN:NE2': 'Cluster 340:', 'C:21:CYS:SG': 'Cluster 341:', 'C:22:GLU:OE1': 'Cluster 342:', 'D:15:ARG:NH1': 'Cluster 342:', 'C:22:GLU:OE2': 'Cluster 343:', 'C:164:SER:OG': 'Cluster 343:', 'C:193:HIS:ND1': 'Cluster 343:', 'C:25:GLU:OE1': 'Cluster 344:', 'C:25:GLU:OE2': 'Cluster 345:', 'C:2018:HOH:O': 'Cluster 345:', 'C:28:SER:OG': 'Cluster 346:', 'C:29:ASP:OD1': 'Cluster 347:', 'C:29:ASP:OD2': 'Cluster 348:', 'D:11:ASP:OD1': 'Cluster 348:', 'D:15:ARG:NE': 'Cluster 348:', 'C:31:ARG:NE': 'Cluster 349:', 'C:31:ARG:NH1': 'Cluster 350:', 'C:31:ARG:NH2': 'Cluster 351:', 'C:36:SER:OG': 'Cluster 352:', 'C:38:SER:OG': 'Cluster 352:', 'C:2021:HOH:O': 'Cluster 352:', 'C:2022:HOH:O': 'Cluster 352:', 'C:37:GLU:OE1': 'Cluster 353:', 'C:37:GLU:OE2': 'Cluster 354:', 'C:41:ASN:OD1': 'Cluster 355:', 'C:41:ASN:ND2': 'Cluster 356:', 'C:43:SER:OG': 'Cluster 357:', 'C:46:SER:OG': 'Cluster 358:', 'C:76:ASN:ND2': 'Cluster 358:', 'C:2023:HOH:O': 'Cluster 358:', 'C:2024:HOH:O': 'Cluster 358:', 'C:2026:HOH:O': 'Cluster 358:', 'C:2028:HOH:O': 'Cluster 358:', 'C:47:THR:OG1': 'Cluster 359:', 'C:2027:HOH:O': 'Cluster 359:', 'C:2029:HOH:O': 'Cluster 359:', 'C:49:ARG:NE': 'Cluster 360:', 'C:49:ARG:NH2': 'Cluster 360:', 'C:73:GLU:OE1': 'Cluster 360:', 'C:73:GLU:OE2': 'Cluster 360:', 'C:79:TYR:OH': 'Cluster 360:', 'C:92:HIS:NE2': 'Cluster 360:', 'C:49:ARG:NH1': 'Cluster 361:', 'C:50:GLU:OE1': 'Cluster 362:', 'C:50:GLU:OE2': 'Cluster 362:', 'C:53:THR:OG1': 'Cluster 362:', 'C:54:SER:OG': 'Cluster 362:', 'C:70:LYS:NZ': 'Cluster 362:', 'C:51:TYR:OH': 'Cluster 363:', 'C:52:ASN:OD1': 'Cluster 363:', 'C:55:GLN:NE2': 'Cluster 363:', 'C:58:SER:OG': 'Cluster 363:', 'C:95:GLN:NE2': 'Cluster 363:', 'C:153:SER:OG': 'Cluster 363:', 'C:154:THR:OG1': 'Cluster 363:', 'C:155:CYS:SG': 'Cluster 363:', 'C:166:ARG:NE': 'Cluster 363:', 'C:166:ARG:NH1': 'Cluster 363:', 'C:166:ARG:NH2': 'Cluster 363:', 'C:2009:HOH:O': 'Cluster 363:', 'C:2015:HOH:O': 'Cluster 363:', 'C:2016:HOH:O': 'Cluster 363:', 'C:2030:HOH:O': 'Cluster 363:', 'C:2034:HOH:O': 'Cluster 363:', 'C:2035:HOH:O': 'Cluster 363:', 'C:2036:HOH:O': 'Cluster 363:', 'C:2037:HOH:O': 'Cluster 363:', 'C:2061:HOH:O': 'Cluster 363:', 'C:2066:HOH:O': 'Cluster 363:', 'C:52:ASN:ND2': 'Cluster 364:', 'C:92:HIS:ND1': 'Cluster 364:', 'C:55:GLN:OE1': 'Cluster 365:', 'C:168:ARG:NE': 'Cluster 365:', 'C:168:ARG:NH1': 'Cluster 365:', 'C:168:ARG:NH2': 'Cluster 365:', 'C:189:GLN:OE1': 'Cluster 365:', 'C:189:GLN:NE2': 'Cluster 365:', 'C:191:ASN:OD1': 'Cluster 365:', 'C:191:ASN:ND2': 'Cluster 365:', 'C:203:ASN:ND2': 'Cluster 365:', 'C:2012:HOH:O': 'Cluster 365:', 'C:2013:HOH:O': 'Cluster 365:', 'C:2032:HOH:O': 'Cluster 365:', 'C:2033:HOH:O': 'Cluster 365:', 'C:2070:HOH:O': 'Cluster 365:', 'C:2071:HOH:O': 'Cluster 365:', 'C:2072:HOH:O': 'Cluster 365:', 'C:2078:HOH:O': 'Cluster 365:', 'C:60:GLN:OE1': 'Cluster 366:', 'C:60:GLN:NE2': 'Cluster 367:', 'C:61:THR:OG1': 'Cluster 368:', 'C:81:ASP:OD1': 'Cluster 368:', 'C:81:ASP:OD2': 'Cluster 368:', 'C:84:ASN:ND2': 'Cluster 368:', 'C:86:GLN:NE2': 'Cluster 368:', 'C:62:SER:OG': 'Cluster 369:', 'C:86:GLN:OE1': 'Cluster 369:', 'C:100:GLU:OE1': 'Cluster 369:', 'C:63:LYS:NZ': 'Cluster 370:', 'C:65:SER:OG': 'Cluster 371:', 'C:69:THR:OG1': 'Cluster 372:', 'C:138:TYR:OH': 'Cluster 372:', 'C:71:GLU:OE1': 'Cluster 373:', 'C:71:GLU:OE2': 'Cluster 374:', 'C:140:THR:OG1': 'Cluster 374:', 'C:149:THR:OG1': 'Cluster 374:', 'C:2043:HOH:O': 'Cluster 374:', 'C:2044:HOH:O': 'Cluster 374:', 'C:75:SER:OG': 'Cluster 375:', 'C:78:GLU:OE1': 'Cluster 375:', 'C:76:ASN:OD1': 'Cluster 376:', 'C:77:ASN:OD1': 'Cluster 376:', 'C:2025:HOH:O': 'Cluster 376:', 'C:2048:HOH:O': 'Cluster 376:', 'C:77:ASN:ND2': 'Cluster 377:', 'C:2047:HOH:O': 'Cluster 377:', 'C:78:GLU:OE2': 'Cluster 378:', 'C:89:THR:OG1': 'Cluster 378:', 'C:101:ARG:NE': 'Cluster 378:', 'C:101:ARG:NH1': 'Cluster 378:', 'C:101:ARG:NH2': 'Cluster 378:', 'C:104:SER:OG': 'Cluster 378:', 'C:106:GLU:OE1': 'Cluster 378:', 'C:106:GLU:OE2': 'Cluster 378:', 'C:2049:HOH:O': 'Cluster 378:', 'C:2050:HOH:O': 'Cluster 378:', 'C:2051:HOH:O': 'Cluster 378:', 'C:2055:HOH:O': 'Cluster 378:', 'C:83:LYS:NZ': 'Cluster 379:', 'C:123:THR:OG1': 'Cluster 379:', 'C:84:ASN:OD1': 'Cluster 380:', 'C:85:LYS:NZ': 'Cluster 381:', 'C:90:TYR:OH': 'Cluster 382:', 'C:91:ASP:OD1': 'Cluster 383:', 'C:91:ASP:OD2': 'Cluster 384:', 'C:94:LYS:NZ': 'Cluster 385:', 'C:95:GLN:OE1': 'Cluster 386:', 'C:96:GLU:OE1': 'Cluster 387:', 'C:96:GLU:OE2': 'Cluster 388:', 'C:98:THR:OG1': 'Cluster 389:', 'C:100:GLU:OE2': 'Cluster 390:', 'C:102:SER:OG': 'Cluster 391:', 'C:108:GLU:OE1': 'Cluster 392:', 'C:141:LYS:NZ': 'Cluster 392:', 'C:108:GLU:OE2': 'Cluster 393:', 'C:109:GLN:OE1': 'Cluster 394:', 'C:109:GLN:NE2': 'Cluster 395:', 'C:110:ASP:OD1': 'Cluster 396:', 'C:110:ASP:OD2': 'Cluster 397:', 'C:112:GLU:OE1': 'Cluster 398:', 'C:115:ARG:NE': 'Cluster 398:', 'C:112:GLU:OE2': 'Cluster 399:', 'C:115:ARG:NH2': 'Cluster 399:', 'C:113:GLN:OE1': 'Cluster 400:', 'C:113:GLN:NE2': 'Cluster 401:', 'C:114:TYR:OH': 'Cluster 402:', 'C:115:ARG:NH1': 'Cluster 403:', 'C:119:ASP:OD1': 'Cluster 403:', 'C:119:ASP:OD2': 'Cluster 403:', 'C:2056:HOH:O': 'Cluster 403:', 'C:120:GLU:OE1': 'Cluster 404:', 'C:120:GLU:OE2': 'Cluster 405:', 'C:121:GLU:OE1': 'Cluster 406:', 'C:121:GLU:OE2': 'Cluster 406:', 'C:124:LYS:NZ': 'Cluster 406:', 'C:2057:HOH:O': 'Cluster 406:', 'C:2058:HOH:O': 'Cluster 406:', 'C:125:TYR:OH': 'Cluster 407:', 'C:130:TYR:OH': 'Cluster 407:', 'C:167:TRP:NE1': 'Cluster 407:', 'C:169:SER:OG': 'Cluster 407:', 'C:171:TRP:NE1': 'Cluster 407:', 'C:232:GLU:OE1': 'Cluster 407:', 'C:232:GLU:OE2': 'Cluster 407:', 'D:246:ARG:NE': 'Cluster 407:', 'D:246:ARG:NH2': 'Cluster 407:', 'C:126:CYS:SG': 'Cluster 408:', 'C:127:ASN:OD1': 'Cluster 408:', 'C:135:SER:OG': 'Cluster 408:', 'C:2059:HOH:O': 'Cluster 408:', 'C:2063:HOH:O': 'Cluster 408:', 'C:127:ASN:ND2': 'Cluster 409:', 'C:128:GLU:OE1': 'Cluster 410:', 'C:128:GLU:OE2': 'Cluster 411:', 'C:129:TYR:OH': 'Cluster 411:', 'C:132:ASN:OD1': 'Cluster 412:', 'C:132:ASN:ND2': 'Cluster 413:', 'C:2062:HOH:O': 'Cluster 413:', 'C:143:SER:OG': 'Cluster 414:', 'C:2064:HOH:O': 'Cluster 414:', 'C:144:GLU:OE1': 'Cluster 415:', 'C:144:GLU:OE2': 'Cluster 416:', 'C:147:LYS:NZ': 'Cluster 417:', 'C:151:CYS:SG': 'Cluster 418:', 'C:157:TYR:OH': 'Cluster 419:', 'C:158:LYS:NZ': 'Cluster 420:', 'C:160:ASN:OD1': 'Cluster 421:', 'C:2068:HOH:O': 'Cluster 421:', 'C:160:ASN:ND2': 'Cluster 422:', 'C:163:TYR:OH': 'Cluster 423:', 'C:172:THR:OG1': 'Cluster 424:', 'C:2039:HOH:O': 'Cluster 424:', 'C:2073:HOH:O': 'Cluster 424:', 'C:173:CYS:SG': 'Cluster 425:', 'C:174:THR:OG1': 'Cluster 426:', 'C:185:ASN:OD1': 'Cluster 426:', 'C:185:ASN:ND2': 'Cluster 426:', 'C:209:GLN:OE1': 'Cluster 426:', 'C:2074:HOH:O': 'Cluster 426:', 'C:2075:HOH:O': 'Cluster 426:', 'C:2085:HOH:O': 'Cluster 426:', 'C:176:LYS:NZ': 'Cluster 427:', 'C:179:SER:OG': 'Cluster 428:', 'C:181:ASN:OD1': 'Cluster 429:', 'C:181:ASN:ND2': 'Cluster 430:', 'C:183:THR:OG1': 'Cluster 431:', 'C:184:SER:OG': 'Cluster 432:', 'C:187:LYS:NZ': 'Cluster 433:', 'C:2031:HOH:O': 'Cluster 433:', 'C:2076:HOH:O': 'Cluster 433:', 'C:193:HIS:NE2': 'Cluster 434:', 'C:194:TYR:OH': 'Cluster 435:', 'C:196:GLU:OE1': 'Cluster 435:', 'C:196:GLU:OE2': 'Cluster 436:', 'C:197:ASP:OD1': 'Cluster 437:', 'C:197:ASP:OD2': 'Cluster 438:', 'C:199:ASN:OD1': 'Cluster 439:', 'C:201:GLN:OE1': 'Cluster 439:', 'C:201:GLN:NE2': 'Cluster 439:', 'C:2014:HOH:O': 'Cluster 439:', 'C:199:ASN:ND2': 'Cluster 440:', 'C:203:ASN:OD1': 'Cluster 441:', 'C:2081:HOH:O': 'Cluster 441:', 'C:204:THR:OG1': 'Cluster 442:', 'C:206:THR:OG1': 'Cluster 443:', 'C:2077:HOH:O': 'Cluster 443:', 'C:207:GLN:OE1': 'Cluster 444:', 'C:207:GLN:NE2': 'Cluster 445:', 'C:208:LYS:NZ': 'Cluster 446:', 'D:185:ASN:OD1': 'Cluster 446:', 'C:2083:HOH:O': 'Cluster 446:', 'D:2072:HOH:O': 'Cluster 446:', 'C:209:GLN:NE2': 'Cluster 447:', 'C:211:THR:OG1': 'Cluster 447:', 'C:2084:HOH:O': 'Cluster 447:', 'C:2086:HOH:O': 'Cluster 447:', 'C:210:THR:OG1': 'Cluster 448:', 'C:212:SER:OG': 'Cluster 449:', 'C:214:SER:OG': 'Cluster 450:', 'C:216:ASP:OD1': 'Cluster 451:', 'C:216:ASP:OD2': 'Cluster 451:', 'C:218:GLN:OE1': 'Cluster 451:', 'C:219:SER:OG': 'Cluster 451:', 'C:2087:HOH:O': 'Cluster 451:', 'C:218:GLN:NE2': 'Cluster 452:', 'C:220:THR:OG1': 'Cluster 453:', 'C:223:ASN:OD1': 'Cluster 454:', 'C:223:ASN:ND2': 'Cluster 455:', 'C:226:LYS:NZ': 'Cluster 456:', 'C:230:LYS:NZ': 'Cluster 457:', 'C:234:ASN:OD1': 'Cluster 458:', 'C:234:ASN:ND2': 'Cluster 459:', 'C:236:HIS:ND1': 'Cluster 460:', 'D:246:ARG:NH1': 'Cluster 460:', 'C:236:HIS:NE2': 'Cluster 461:', 'C:237:THR:OG1': 'Cluster 462:', 'C:240:ASP:OD1': 'Cluster 463:', 'D:243:ASN:OD1': 'Cluster 463:', 'D:243:ASN:ND2': 'Cluster 463:', 'D:2080:HOH:O': 'Cluster 463:', 'C:240:ASP:OD2': 'Cluster 464:', 'C:2090:HOH:O': 'Cluster 464:', 'C:241:ASN:OD1': 'Cluster 465:', 'C:2091:HOH:O': 'Cluster 465:', 'C:241:ASN:ND2': 'Cluster 466:', 'C:242:ASN:OD1': 'Cluster 467:', 'C:242:ASN:ND2': 'Cluster 468:', 'C:2089:HOH:O': 'Cluster 468:', 'C:243:TYR:OH': 'Cluster 469:', 'C:244:SER:OG': 'Cluster 470:', 'C:245:THR:OG1': 'Cluster 471:', 'C:248:ASP:OD1': 'Cluster 472:', 'C:252:LYS:NZ': 'Cluster 472:', 'C:248:ASP:OD2': 'Cluster 473:', 'C:249:THR:OG1': 'Cluster 474:', 'C:250:THR:OG1': 'Cluster 475:', 'C:255:ARG:NE': 'Cluster 476:', 'C:255:ARG:NH1': 'Cluster 476:', 'C:255:ARG:NH2': 'Cluster 476:', 'C:264:LYS:NZ': 'Cluster 476:', 'D:107:TYR:OH': 'Cluster 476:', 'D:111:TYR:OH': 'Cluster 476:', 'D:220:GLU:OE2': 'Cluster 476:', 'D:223:GLU:OE1': 'Cluster 476:', 'D:224:SER:OG': 'Cluster 476:', 'C:2095:HOH:O': 'Cluster 476:', 'C:2098:HOH:O': 'Cluster 476:', 'D:2077:HOH:O': 'Cluster 476:', 'C:256:ARG:NE': 'Cluster 477:', 'C:256:ARG:NH1': 'Cluster 478:', 'D:113:GLU:OE1': 'Cluster 478:', 'D:113:GLU:OE2': 'Cluster 478:', 'C:256:ARG:NH2': 'Cluster 479:', 'C:261:ASN:OD1': 'Cluster 480:', 'C:262:ARG:NE': 'Cluster 481:', 'C:262:ARG:NH1': 'Cluster 482:', 'C:2096:HOH:O': 'Cluster 482:', 'C:262:ARG:NH2': 'Cluster 483:', 'C:263:THR:OG1': 'Cluster 484:', 'C:267:TRP:NE1': 'Cluster 485:', 'D:220:GLU:OE1': 'Cluster 485:', 'C:268:GLN:OE1': 'Cluster 486:', 'C:268:GLN:NE2': 'Cluster 487:', 'C:2099:HOH:O': 'Cluster 487:', 'C:271:LYS:NZ': 'Cluster 488:', 'C:272:ASN:OD1': 'Cluster 489:', 'C:272:ASN:ND2': 'Cluster 490:', 'D:2:THR:OG1': 'Cluster 491:', 'D:3:GLU:OE1': 'Cluster 492:', 'D:3:GLU:OE2': 'Cluster 493:', 'D:4:LYS:NZ': 'Cluster 494:', 'C:2019:HOH:O': 'Cluster 494:', 'D:5:GLN:OE1': 'Cluster 495:', 'D:5:GLN:NE2': 'Cluster 496:', 'D:7:SER:OG': 'Cluster 497:', 'D:8:CYS:SG': 'Cluster 497:', 'D:2001:HOH:O': 'Cluster 497:', 'D:2002:HOH:O': 'Cluster 497:', 'D:2003:HOH:O': 'Cluster 497:', 'D:9:CYS:SG': 'Cluster 498:', 'D:11:ASP:OD2': 'Cluster 499:', 'D:15:ARG:NH2': 'Cluster 499:', 'D:14:ARG:NE': 'Cluster 500:', 'D:14:ARG:NH2': 'Cluster 500:', 'D:2004:HOH:O': 'Cluster 500:', 'D:2005:HOH:O': 'Cluster 500:', 'D:14:ARG:NH1': 'Cluster 501:', 'D:19:SER:OG': 'Cluster 502:', 'D:2008:HOH:O': 'Cluster 502:', 'D:22:GLU:OE1': 'Cluster 503:', 'D:22:GLU:OE2': 'Cluster 504:', 'D:23:ASP:OD1': 'Cluster 505:', 'D:23:ASP:OD2': 'Cluster 506:', 'D:30:ASP:OD1': 'Cluster 507:', 'D:30:ASP:OD2': 'Cluster 507:', 'D:2011:HOH:O': 'Cluster 507:', 'D:34:ASP:OD1': 'Cluster 508:', 'D:34:ASP:OD2': 'Cluster 508:', 'D:2014:HOH:O': 'Cluster 508:', 'D:36:THR:OG1': 'Cluster 509:', 'D:2015:HOH:O': 'Cluster 509:', 'D:37:GLU:OE1': 'Cluster 510:', 'D:37:GLU:OE2': 'Cluster 511:', 'D:38:ASP:OD1': 'Cluster 512:', 'D:38:ASP:OD2': 'Cluster 513:', 'D:41:SER:OG': 'Cluster 514:', 'D:42:SER:OG': 'Cluster 515:', 'D:44:ASP:OD1': 'Cluster 516:', 'D:44:ASP:OD2': 'Cluster 517:', 'D:174:THR:OG1': 'Cluster 517:', 'D:196:THR:OG1': 'Cluster 517:', 'D:2018:HOH:O': 'Cluster 517:', 'D:45:GLN:OE1': 'Cluster 518:', 'D:2021:HOH:O': 'Cluster 518:', 'D:45:GLN:NE2': 'Cluster 519:', 'D:63:ASP:OD1': 'Cluster 519:', 'D:66:ARG:NH1': 'Cluster 519:', 'D:71:TYR:OH': 'Cluster 519:', 'D:2007:HOH:O': 'Cluster 519:', 'D:2010:HOH:O': 'Cluster 519:', 'D:2019:HOH:O': 'Cluster 519:', 'D:2022:HOH:O': 'Cluster 519:', 'D:2023:HOH:O': 'Cluster 519:', 'D:2029:HOH:O': 'Cluster 519:', 'D:2030:HOH:O': 'Cluster 519:', 'D:2031:HOH:O': 'Cluster 519:', 'D:48:LYS:NZ': 'Cluster 520:', 'D:51:TYR:OH': 'Cluster 521:', 'D:56:LYS:NZ': 'Cluster 521:', 'D:2024:HOH:O': 'Cluster 521:', 'D:2025:HOH:O': 'Cluster 521:', 'D:52:ASP:OD1': 'Cluster 522:', 'D:52:ASP:OD2': 'Cluster 523:', 'D:55:SER:OG': 'Cluster 523:', 'D:73:SER:OG': 'Cluster 523:', 'D:57:LYS:NZ': 'Cluster 524:', 'D:101:ASN:OD1': 'Cluster 524:', 'D:102:GLU:OE1': 'Cluster 524:', 'D:105:GLU:OE1': 'Cluster 524:', 'D:105:GLU:OE2': 'Cluster 524:', 'D:117:SER:OG': 'Cluster 524:', 'D:2026:HOH:O': 'Cluster 524:', 'D:2027:HOH:O': 'Cluster 524:', 'D:2028:HOH:O': 'Cluster 524:', 'D:2052:HOH:O': 'Cluster 524:', 'D:2053:HOH:O': 'Cluster 524:', 'D:2054:HOH:O': 'Cluster 524:', 'D:58:ASP:OD1': 'Cluster 525:', 'D:58:ASP:OD2': 'Cluster 526:', 'D:59:TYR:OH': 'Cluster 527:', 'D:62:CYS:SG': 'Cluster 528:', 'D:65:ASN:OD1': 'Cluster 528:', 'D:63:ASP:OD2': 'Cluster 529:', 'D:64:TYR:OH': 'Cluster 530:', 'D:65:ASN:ND2': 'Cluster 531:', 'D:66:ARG:NE': 'Cluster 532:', 'D:66:ARG:NH2': 'Cluster 533:', 'D:67:ASP:OD1': 'Cluster 534:', 'D:2032:HOH:O': 'Cluster 534:', 'D:67:ASP:OD2': 'Cluster 535:', 'D:79:TYR:OH': 'Cluster 535:', 'D:69:ASP:OD1': 'Cluster 536:', 'D:69:ASP:OD2': 'Cluster 537:', 'D:70:SER:OG': 'Cluster 538:', 'D:2034:HOH:O': 'Cluster 538:', 'D:72:ARG:NE': 'Cluster 539:', 'D:72:ARG:NH1': 'Cluster 540:', 'D:72:ARG:NH2': 'Cluster 540:', 'D:94:ARG:NH1': 'Cluster 540:', 'D:97:GLU:OE1': 'Cluster 540:', 'D:97:GLU:OE2': 'Cluster 540:', 'D:75:TRP:NE1': 'Cluster 541:', 'D:76:SER:OG': 'Cluster 542:', 'D:77:ASN:OD1': 'Cluster 543:', 'D:77:ASN:ND2': 'Cluster 544:', 'D:94:ARG:NE': 'Cluster 544:', 'D:94:ARG:NH2': 'Cluster 544:', 'D:102:GLU:OE2': 'Cluster 544:', 'D:2012:HOH:O': 'Cluster 544:', 'D:2035:HOH:O': 'Cluster 544:', 'D:2036:HOH:O': 'Cluster 544:', 'D:2037:HOH:O': 'Cluster 544:', 'D:2038:HOH:O': 'Cluster 544:', 'D:2040:HOH:O': 'Cluster 544:', 'D:2050:HOH:O': 'Cluster 544:', 'D:78:LYS:NZ': 'Cluster 545:', 'D:80:ASP:OD1': 'Cluster 546:', 'D:80:ASP:OD2': 'Cluster 546:', 'D:2042:HOH:O': 'Cluster 546:', 'D:84:SER:OG': 'Cluster 547:', 'D:2045:HOH:O': 'Cluster 547:', 'D:87:CYS:SG': 'Cluster 548:', 'D:88:TYR:OH': 'Cluster 549:', 'D:2044:HOH:O': 'Cluster 549:', 'D:2046:HOH:O': 'Cluster 549:', 'D:90:SER:OG': 'Cluster 550:', 'D:123:ASP:OD1': 'Cluster 550:', 'D:91:SER:OG': 'Cluster 551:', 'D:95:ASP:OD1': 'Cluster 551:', 'D:2048:HOH:O': 'Cluster 551:', 'D:92:LYS:NZ': 'Cluster 552:', 'D:95:ASP:OD2': 'Cluster 553:', 'D:99:GLN:OE1': 'Cluster 554:', 'D:210:THR:OG1': 'Cluster 554:', 'D:2051:HOH:O': 'Cluster 554:', 'D:99:GLN:NE2': 'Cluster 555:', 'D:101:ASN:ND2': 'Cluster 556:', 'D:109:ASN:OD1': 'Cluster 557:', 'D:109:ASN:ND2': 'Cluster 558:', 'D:118:SER:OG': 'Cluster 559:', 'D:120:TYR:OH': 'Cluster 560:', 'D:121:CYS:SG': 'Cluster 561:', 'D:122:TRP:NE1': 'Cluster 562:', 'D:123:ASP:OD2': 'Cluster 563:', 'D:2057:HOH:O': 'Cluster 563:', 'D:125:ASP:OD1': 'Cluster 564:', 'D:125:ASP:OD2': 'Cluster 565:', 'D:126:ASP:OD1': 'Cluster 566:', 'D:126:ASP:OD2': 'Cluster 567:', 'D:127:ASN:OD1': 'Cluster 568:', 'D:127:ASN:ND2': 'Cluster 569:', 'D:135:LYS:NZ': 'Cluster 570:', 'D:152:ASP:OD1': 'Cluster 570:', 'D:152:ASP:OD2': 'Cluster 570:', 'D:2058:HOH:O': 'Cluster 570:', 'D:2059:HOH:O': 'Cluster 570:', 'D:2064:HOH:O': 'Cluster 570:', 'D:136:LYS:NZ': 'Cluster 571:', 'D:138:GLN:NE2': 'Cluster 571:', 'D:137:THR:OG1': 'Cluster 572:', 'D:138:GLN:OE1': 'Cluster 573:', 'D:139:ASP:OD1': 'Cluster 574:', 'D:139:ASP:OD2': 'Cluster 575:', 'D:148:ARG:NE': 'Cluster 576:', 'D:148:ARG:NH1': 'Cluster 577:', 'D:148:ARG:NH2': 'Cluster 578:', 'D:150:THR:OG1': 'Cluster 579:', 'D:178:SER:OG': 'Cluster 579:', 'D:2063:HOH:O': 'Cluster 579:', 'D:2065:HOH:O': 'Cluster 579:', 'D:151:TRP:NE1': 'Cluster 580:', 'D:153:SER:OG': 'Cluster 581:', 'D:155:HIS:ND1': 'Cluster 582:', 'D:173:SER:OG': 'Cluster 582:', 'D:155:HIS:NE2': 'Cluster 583:', 'D:223:GLU:OE2': 'Cluster 583:', 'D:158:GLU:OE1': 'Cluster 584:', 'D:160:LYS:NZ': 'Cluster 584:', 'D:158:GLU:OE2': 'Cluster 585:', 'D:170:LYS:NZ': 'Cluster 585:', 'D:172:THR:OG1': 'Cluster 585:', 'D:198:GLN:NE2': 'Cluster 585:', 'D:2066:HOH:O': 'Cluster 585:', 'D:2069:HOH:O': 'Cluster 585:', 'D:163:LYS:NZ': 'Cluster 586:', 'D:164:LYS:NZ': 'Cluster 587:', 'D:165:ASP:OD1': 'Cluster 588:', 'D:165:ASP:OD2': 'Cluster 589:', 'D:166:LYS:NZ': 'Cluster 589:', 'D:202:GLU:OE1': 'Cluster 589:', 'D:204:THR:OG1': 'Cluster 589:', 'D:2067:HOH:O': 'Cluster 589:', 'D:2068:HOH:O': 'Cluster 589:', 'D:169:TYR:OH': 'Cluster 590:', 'D:211:HIS:ND1': 'Cluster 590:', 'D:214:ASN:ND2': 'Cluster 590:', 'D:180:GLU:OE1': 'Cluster 591:', 'D:180:GLU:OE2': 'Cluster 592:', 'D:190:ASN:OD1': 'Cluster 592:', 'D:181:THR:OG1': 'Cluster 593:', 'D:183:ASN:OD1': 'Cluster 593:', 'D:182:ASP:OD1': 'Cluster 594:', 'D:182:ASP:OD2': 'Cluster 595:', 'D:183:ASN:ND2': 'Cluster 596:', 'D:185:ASN:ND2': 'Cluster 596:', 'D:2071:HOH:O': 'Cluster 596:', 'D:184:ASP:OD1': 'Cluster 597:', 'D:184:ASP:OD2': 'Cluster 598:', 'D:186:THR:OG1': 'Cluster 599:', 'D:188:LYS:NZ': 'Cluster 600:', 'D:190:ASN:ND2': 'Cluster 601:', 'D:194:SER:OG': 'Cluster 602:', 'D:197:ARG:NE': 'Cluster 603:', 'D:197:ARG:NH1': 'Cluster 604:', 'D:197:ARG:NH2': 'Cluster 605:', 'D:199:ASP:OD2': 'Cluster 605:', 'D:221:ASP:OD2': 'Cluster 605:', 'D:225:LYS:NZ': 'Cluster 605:', 'D:2073:HOH:O': 'Cluster 605:', 'D:2076:HOH:O': 'Cluster 605:', 'D:198:GLN:OE1': 'Cluster 606:', 'D:199:ASP:OD1': 'Cluster 607:', 'D:201:LYS:NZ': 'Cluster 607:', 'D:2074:HOH:O': 'Cluster 607:', 'D:200:GLU:OE1': 'Cluster 608:', 'D:200:GLU:OE2': 'Cluster 609:', 'D:202:GLU:OE2': 'Cluster 610:', 'D:203:TYR:OH': 'Cluster 611:', 'D:206:ASN:OD1': 'Cluster 612:', 'D:206:ASN:ND2': 'Cluster 613:', 'D:207:GLU:OE1': 'Cluster 614:', 'D:207:GLU:OE2': 'Cluster 615:', 'D:209:ASP:OD1': 'Cluster 616:', 'D:217:LYS:NZ': 'Cluster 616:', 'D:209:ASP:OD2': 'Cluster 617:', 'D:211:HIS:NE2': 'Cluster 618:', 'D:212:CYS:SG': 'Cluster 619:', 'D:214:ASN:OD1': 'Cluster 620:', 'D:221:ASP:OD1': 'Cluster 621:', 'D:227:ARG:NE': 'Cluster 622:', 'C:2092:HOH:O': 'Cluster 622:', 'D:227:ARG:NH1': 'Cluster 623:', 'D:227:ARG:NH2': 'Cluster 624:', 'D:228:GLN:OE1': 'Cluster 625:', 'D:228:GLN:NE2': 'Cluster 626:', 'D:229:THR:OG1': 'Cluster 627:', 'D:2078:HOH:O': 'Cluster 627:', 'D:231:GLU:OE1': 'Cluster 628:', 'D:231:GLU:OE2': 'Cluster 629:', 'D:232:THR:OG1': 'Cluster 630:', 'D:2079:HOH:O': 'Cluster 630:', 'D:234:TYR:OH': 'Cluster 631:', 'D:237:LYS:NZ': 'Cluster 632:', 'D:240:GLU:OE2': 'Cluster 632:', 'D:238:THR:OG1': 'Cluster 633:', 'D:239:LYS:NZ': 'Cluster 634:', 'D:240:GLU:OE1': 'Cluster 635:', 'D:244:THR:OG1': 'Cluster 636:', 'D:247:ASN:OD1': 'Cluster 637:', 'D:247:ASN:ND2': 'Cluster 638:', 'D:249:THR:OG1': 'Cluster 639:', 'A:2001:HOH:O': 'Cluster 640:', 'A:2002:HOH:O': 'Cluster 641:', 'A:2003:HOH:O': 'Cluster 642:', 'A:2013:HOH:O': 'Cluster 643:', 'A:2014:HOH:O': 'Cluster 643:', 'A:2018:HOH:O': 'Cluster 644:', 'A:2024:HOH:O': 'Cluster 645:', 'A:2040:HOH:O': 'Cluster 645:', 'A:2026:HOH:O': 'Cluster 646:', 'A:2031:HOH:O': 'Cluster 647:', 'A:2032:HOH:O': 'Cluster 648:', 'A:2066:HOH:O': 'Cluster 648:', 'A:2041:HOH:O': 'Cluster 649:', 'A:2045:HOH:O': 'Cluster 650:', 'A:2046:HOH:O': 'Cluster 651:', 'A:2048:HOH:O': 'Cluster 652:', 'A:2050:HOH:O': 'Cluster 652:', 'A:2059:HOH:O': 'Cluster 653:', 'A:2060:HOH:O': 'Cluster 654:', 'A:2067:HOH:O': 'Cluster 655:', 'A:2068:HOH:O': 'Cluster 656:', 'A:2075:HOH:O': 'Cluster 657:', 'A:2076:HOH:O': 'Cluster 658:', 'A:2082:HOH:O': 'Cluster 659:', 'A:2083:HOH:O': 'Cluster 660:', 'A:2090:HOH:O': 'Cluster 661:', 'A:2092:HOH:O': 'Cluster 662:', 'A:2093:HOH:O': 'Cluster 663:', 'A:2094:HOH:O': 'Cluster 664:', 'B:2001:HOH:O': 'Cluster 665:', 'B:2004:HOH:O': 'Cluster 666:', 'B:2020:HOH:O': 'Cluster 667:', 'B:2025:HOH:O': 'Cluster 668:', 'B:2033:HOH:O': 'Cluster 669:', 'B:2040:HOH:O': 'Cluster 670:', 'B:2043:HOH:O': 'Cluster 671:', 'B:2045:HOH:O': 'Cluster 672:', 'B:2046:HOH:O': 'Cluster 672:', 'B:2047:HOH:O': 'Cluster 673:', 'B:2053:HOH:O': 'Cluster 674:', 'B:2055:HOH:O': 'Cluster 675:', 'C:2008:HOH:O': 'Cluster 676:', 'C:2017:HOH:O': 'Cluster 677:', 'C:2020:HOH:O': 'Cluster 678:', 'C:2038:HOH:O': 'Cluster 679:', 'C:2040:HOH:O': 'Cluster 680:', 'C:2041:HOH:O': 'Cluster 681:', 'C:2042:HOH:O': 'Cluster 682:', 'C:2045:HOH:O': 'Cluster 683:', 'C:2046:HOH:O': 'Cluster 684:', 'C:2053:HOH:O': 'Cluster 685:', 'C:2054:HOH:O': 'Cluster 686:', 'C:2060:HOH:O': 'Cluster 687:', 'C:2065:HOH:O': 'Cluster 688:', 'C:2067:HOH:O': 'Cluster 689:', 'C:2069:HOH:O': 'Cluster 690:', 'C:2079:HOH:O': 'Cluster 691:', 'C:2082:HOH:O': 'Cluster 692:', 'C:2088:HOH:O': 'Cluster 693:', 'C:2093:HOH:O': 'Cluster 694:', 'D:2056:HOH:O': 'Cluster 694:', 'C:2094:HOH:O': 'Cluster 695:', 'C:2101:HOH:O': 'Cluster 696:', 'D:2009:HOH:O': 'Cluster 697:', 'D:2016:HOH:O': 'Cluster 698:', 'D:2017:HOH:O': 'Cluster 699:', 'D:2020:HOH:O': 'Cluster 700:', 'D:2033:HOH:O': 'Cluster 701:', 'D:2039:HOH:O': 'Cluster 702:', 'D:2041:HOH:O': 'Cluster 703:', 'D:2043:HOH:O': 'Cluster 703:', 'D:2047:HOH:O': 'Cluster 704:', 'D:2049:HOH:O': 'Cluster 705:', 'D:2055:HOH:O': 'Cluster 706:', 'D:2060:HOH:O': 'Cluster 707:', 'D:2061:HOH:O': 'Cluster 708:', 'D:2062:HOH:O': 'Cluster 708:', 'D:2070:HOH:O': 'Cluster 709:', 'D:2075:HOH:O': 'Cluster 710:'}\n"
     ]
    }
   ],
   "source": [
    "main2(\"4akr\")"
   ]
  },
  {
   "cell_type": "code",
   "execution_count": 38,
   "id": "b08ab054",
   "metadata": {},
   "outputs": [
    {
     "name": "stdout",
     "output_type": "stream",
     "text": [
      "C:\\Users\\Alex\\Desktop\\HBonds_Project\\hbonds_search_pymol\n"
     ]
    }
   ],
   "source": [
    "print(os.getcwd())"
   ]
  },
  {
   "cell_type": "code",
   "execution_count": 25,
   "id": "43dc6e8e",
   "metadata": {},
   "outputs": [
    {
     "name": "stdout",
     "output_type": "stream",
     "text": [
      "2022-09-29_16-49-44\n"
     ]
    }
   ],
   "source": [
    "    current_time = datetime.now()\n",
    "    formated_time = current_time.strftime(\"%Y-%m-%d_%H-%M-%S\")\n",
    "    print(formated_time)"
   ]
  },
  {
   "cell_type": "code",
   "execution_count": null,
   "id": "cb92d02c",
   "metadata": {},
   "outputs": [],
   "source": []
  }
 ],
 "metadata": {
  "kernelspec": {
   "display_name": "Python 3 (ipykernel)",
   "language": "python",
   "name": "python3"
  },
  "language_info": {
   "codemirror_mode": {
    "name": "ipython",
    "version": 3
   },
   "file_extension": ".py",
   "mimetype": "text/x-python",
   "name": "python",
   "nbconvert_exporter": "python",
   "pygments_lexer": "ipython3",
   "version": "3.9.12"
  }
 },
 "nbformat": 4,
 "nbformat_minor": 5
}
