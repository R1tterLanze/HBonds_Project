{
 "cells": [
  {
   "cell_type": "markdown",
   "id": "0d218b9e",
   "metadata": {},
   "source": [
    "# GUI hbond"
   ]
  },
  {
   "cell_type": "markdown",
   "id": "8d15486f",
   "metadata": {},
   "source": [
    "### Initialization"
   ]
  },
  {
   "cell_type": "code",
   "execution_count": 1,
   "id": "35c0b7d4",
   "metadata": {},
   "outputs": [],
   "source": [
    "import pandas as pd\n",
    "import subprocess\n",
    "import os\n",
    "from pymol import cmd, stored\n",
    "import platform\n",
    "from typing import List"
   ]
  },
  {
   "cell_type": "markdown",
   "id": "84b68126",
   "metadata": {},
   "source": [
    "### Functions"
   ]
  },
  {
   "cell_type": "code",
   "execution_count": 2,
   "id": "b809abdc",
   "metadata": {},
   "outputs": [
    {
     "data": {
      "text/plain": [
       "'\\ndef form(pdbstr, x):\\n    \\'\\'\\'\\n    Part of lambda function to format dataframe to Pymol compatible form:\\n    from \"A:183:LEU:O\" to \"/2akr/A/A/LEU`183/O\"\\n    :param pdbstr: pdb code of handled structure\\n    :param x: entry within dataframe\\n    \\'\\'\\'\\n    temp = x.split(\\':\\')\\n    x = f\\'/{pdbstr}//{temp[0]}/{temp[2]}/{temp[3]}\\'\\n    return x\\n\\ndef pymol_display(df):\\n    \\'\\'\\'\\n    \\'\\'\\'\\n    zilis = list(zip(df[\\'ACC\\'].tolist(), df[\\'DONO\\'].tolist()))\\n    for i in zilis:\\n        cmd.distance( i[0] , i[1])\\n    \\ndef hbsearch(pdbstr:str) -> pd.DataFrame():\\n    \\'\\'\\'\\n    Executing hb_search with set parameters and extract HBOND-entries from output\\n    :return df_hbond: Dataframe with all HBOND entries from hb_search output \\n    \\'\\'\\'\\n    \\n    HEAD_LST = [\\'IDENT\\',\\'ACC\\',\\'sep1\\',\\'DONO\\',\\':\\',\\'x\\',\\'y\\',\\'z\\',\\'sep2\\',\\'a\\',\\'b\\']\\n    \\n    # Setting environment variable\\n    os.environ[\\'PSE_FILE\\'] = \\'period-table-info.txt\\'\\n    \\n    # Executing hb_search\\n    hbs = subprocess.run(f\"./hb-search -hb hb-define.txt {pdbstr}.pdb\", \\n                         stdout=subprocess.PIPE, shell=True, check=True, text=True)\\n    \\n    # Decode and format hb_search output\\n    hbs_hbb = [i for i in hbs.stdout.split(\\'\\n\\') if i[0:5] == \"HBOND\"]\\n    hbs_splt = [i.split() for i in hbs_hbb]\\n\\n    # Return dataframe\\n    df_hbond = pd.DataFrame(hbs_splt, columns = HEAD_LST)\\n    \\n    df_hbond = df_hbond[[\\'ACC\\', \\'DONO\\']]\\n    df_hbond[\\'ACC\\'] = df_hbond[\\'ACC\\'].map(lambda x: form(pdbstr,x) )\\n    df_hbond[\\'DONO\\'] = df_hbond[\\'DONO\\'].map(lambda x: form(pdbstr,x) )\\n    \\n    pymol_display(df_hbond)\\n    \\n    return df_hbond\\n\\n#cmd.extend(\\'hbsearch\\', hbsearch)'"
      ]
     },
     "execution_count": 2,
     "metadata": {},
     "output_type": "execute_result"
    }
   ],
   "source": [
    "\"\"\"\n",
    "def form(pdbstr, x):\n",
    "    '''\n",
    "    Part of lambda function to format dataframe to Pymol compatible form:\n",
    "    from \"A:183:LEU:O\" to \"/2akr/A/A/LEU`183/O\"\n",
    "    :param pdbstr: pdb code of handled structure\n",
    "    :param x: entry within dataframe\n",
    "    '''\n",
    "    temp = x.split(':')\n",
    "    x = f'/{pdbstr}//{temp[0]}/{temp[2]}/{temp[3]}'\n",
    "    return x\n",
    "\n",
    "def pymol_display(df):\n",
    "    '''\n",
    "    '''\n",
    "    zilis = list(zip(df['ACC'].tolist(), df['DONO'].tolist()))\n",
    "    for i in zilis:\n",
    "        cmd.distance( i[0] , i[1])\n",
    "    \n",
    "def hbsearch(pdbstr:str) -> pd.DataFrame():\n",
    "    '''\n",
    "    Executing hb_search with set parameters and extract HBOND-entries from output\n",
    "    :return df_hbond: Dataframe with all HBOND entries from hb_search output \n",
    "    '''\n",
    "    \n",
    "    HEAD_LST = ['IDENT','ACC','sep1','DONO',':','x','y','z','sep2','a','b']\n",
    "    \n",
    "    # Setting environment variable\n",
    "    os.environ['PSE_FILE'] = 'period-table-info.txt'\n",
    "    \n",
    "    # Executing hb_search\n",
    "    hbs = subprocess.run(f\"./hb-search -hb hb-define.txt {pdbstr}.pdb\", \n",
    "                         stdout=subprocess.PIPE, shell=True, check=True, text=True)\n",
    "    \n",
    "    # Decode and format hb_search output\n",
    "    hbs_hbb = [i for i in hbs.stdout.split('\\n') if i[0:5] == \"HBOND\"]\n",
    "    hbs_splt = [i.split() for i in hbs_hbb]\n",
    "\n",
    "    # Return dataframe\n",
    "    df_hbond = pd.DataFrame(hbs_splt, columns = HEAD_LST)\n",
    "    \n",
    "    df_hbond = df_hbond[['ACC', 'DONO']]\n",
    "    df_hbond['ACC'] = df_hbond['ACC'].map(lambda x: form(pdbstr,x) )\n",
    "    df_hbond['DONO'] = df_hbond['DONO'].map(lambda x: form(pdbstr,x) )\n",
    "    \n",
    "    pymol_display(df_hbond)\n",
    "    \n",
    "    return df_hbond\n",
    "\n",
    "#cmd.extend('hbsearch', hbsearch)\"\"\""
   ]
  },
  {
   "cell_type": "markdown",
   "id": "ae60d5e0",
   "metadata": {},
   "source": [
    "# HB-Search"
   ]
  },
  {
   "cell_type": "code",
   "execution_count": 3,
   "id": "a28bf399",
   "metadata": {},
   "outputs": [],
   "source": [
    "def changeDirectory(programDirectory: str = \".\"):\n",
    "    \n",
    "    cmd.cd(os.path.normpath(programDirectory))\n",
    "    #os.chdir(os.path.normpath(programDirectory)) #can be deleted?\n",
    "    # Usefull if we want to give an error! To tell the person in which directory they are located!\n",
    "    #cwd = os.getcwd()"
   ]
  },
  {
   "cell_type": "code",
   "execution_count": 4,
   "id": "2f33b694",
   "metadata": {},
   "outputs": [],
   "source": [
    "def useObject(input_molecule: str):\n",
    "    \n",
    "    cmd.save(os.path.normpath(f\"./pdb_files/{input_molecule}.pdb\"), input_molecule)"
   ]
  },
  {
   "cell_type": "code",
   "execution_count": 5,
   "id": "76438daf",
   "metadata": {},
   "outputs": [],
   "source": [
    "def removeObject(input_molecule: str):\n",
    "    \n",
    "    os.remove(os.path.normpath(f\"./pdb_files/{input_molecule}.pdb\"))"
   ]
  },
  {
   "cell_type": "code",
   "execution_count": 6,
   "id": "3ba8c1e0",
   "metadata": {},
   "outputs": [],
   "source": [
    "def fetchPDB(pdbID: str, object_name: str = \"\"):\n",
    "    if object_name == \"\":\n",
    "        object_name = pdbID\n",
    "    #setting fetch_path to desired folder\n",
    "    cmd.set(\"fetch_path\", os.path.normpath(\"./pdb_files/\"))\n",
    "    #fetching pdb file if not in folder\n",
    "    cmd.fetch(pdbID, name = object_name, type = \"pdb\")"
   ]
  },
  {
   "cell_type": "code",
   "execution_count": 7,
   "id": "e51cd920",
   "metadata": {
    "scrolled": false
   },
   "outputs": [],
   "source": [
    "def startHBsearch(molecule: str, hb_file: str, solvent_key:str, pse_file:str, connections: str):\n",
    "\n",
    "    # Setting environment variable\n",
    "    os.environ['PSE_FILE'] = pse_file\n",
    "    # Determine operation system\n",
    "    system = platform.system()\n",
    "    # Executing hb_search\n",
    "    hbs_output = subprocess.run(os.path.normpath(f\"./{system}/hb-search -hb {hb_file} -solv {solvent_key} -con {connections} ./pdb_files/{molecule}.pdb\"), capture_output=True, shell=True, check = True, text = True).stdout\n",
    "    return hbs_output"
   ]
  },
  {
   "cell_type": "code",
   "execution_count": 8,
   "id": "20ff1acc",
   "metadata": {},
   "outputs": [],
   "source": [
    "def readInHBS(hbs_output: str):\n",
    "    hbs_rows = [i for i in hbs_output.split('\\n')]\n",
    "    hbs_split = [i.split() for i in hbs_rows]\n",
    "    \n",
    "    HEAD_LST = ['IDENT','ACC','sep1','DONO',':','x','y','z','sep2','a','b']\n",
    "    \n",
    "    df = pd.DataFrame(hbs_split, columns = HEAD_LST)\n",
    "    df = df[df[\"IDENT\"] == \"HBOND\"]\n",
    "    return df"
   ]
  },
  {
   "cell_type": "code",
   "execution_count": 9,
   "id": "67a528bb",
   "metadata": {},
   "outputs": [],
   "source": [
    "def prepareLists(dataframe: pd.DataFrame):\n",
    "    \n",
    "    acceptor_pre = list(dataframe[\"ACC\"])\n",
    "    donor_pre = list(dataframe [\"DONO\"])\n",
    "    \n",
    "    acceptor = []\n",
    "    donor = []\n",
    "    \n",
    "    for i in range(len(acceptor_pre)):#modify with zip\n",
    "        acceptor.append(tuple(acceptor_pre[i].split(\":\")))\n",
    "        \n",
    "    for j in range(len(donor_pre)):\n",
    "        donor.append(tuple(donor_pre[j].split(\":\")))\n",
    "\n",
    "\n",
    "    \n",
    "    return acceptor, donor\n"
   ]
  },
  {
   "cell_type": "code",
   "execution_count": 10,
   "id": "e4042e3c",
   "metadata": {},
   "outputs": [],
   "source": [
    "def displayDistances(acceptor: List, donor: List, object_name: str):\n",
    "    \n",
    "    bondList = []\n",
    "    \n",
    "    for i in range(len(acceptor)): #modify with zip\n",
    "        \n",
    "        cmd.distance(f\"{object_name}_hydrogenBond_{i}\", \n",
    "                     f\"{object_name}//{acceptor[i][0]}/{acceptor[i][1]}/{acceptor[i][3]}\", \n",
    "                     f\"{object_name}//{donor[i][0]}/{donor[i][1]}/{donor[i][3]}\", )\n",
    "\n",
    "        bondList.append(f\"{object_name}_hydrogenBond_{i}\")\n",
    "    cmd.group(f\"{object_name}_hydrogenBonds\", \" \".join(bondList))\n",
    "    cmd.hide(\"labels\", f\"{object_name}_HydrogenBonds\")"
   ]
  },
  {
   "cell_type": "code",
   "execution_count": 11,
   "id": "d238dbb9",
   "metadata": {},
   "outputs": [],
   "source": [
    "def showSticks(acceptor: List,donor: List, object_name: str):\n",
    "    \n",
    "    stickList = []\n",
    "    \n",
    "    for i in range(len(acceptor)):\n",
    "        stickList.append(f\"/{object_name}//{acceptor[i][0]}/{acceptor[i][1]}\")\n",
    "        stickList.append(f\"/{object_name}//{donor[i][0]}/{donor[i][1]}\") \n",
    "    print(stickList)\n",
    "    cmd.select(f\"Connections_Sticks_{object_name}\", \" \".join(stickList))\n",
    "    cmd.show(\"sticks\", f\"Connections_Sticks_{object_name}\")\n",
    "    cmd.deselect()"
   ]
  },
  {
   "cell_type": "code",
   "execution_count": 12,
   "id": "d2ee8c47",
   "metadata": {},
   "outputs": [],
   "source": [
    "def main(molecule:str, molecule_name = \"\", directory:str = \".\", \n",
    "         use_object: str = \"0\", remove_object = \"1\", hb_file: str = \"hb-define.txt\", \n",
    "         solvent_key:str = \"NONE\", pse_file:str =\"period-table-info.txt\", connections: str = \"0\"):\n",
    "    \n",
    "    changeDirectory(directory)\n",
    "\n",
    "    if use_object == \"0\":\n",
    "        fetchPDB(molecule, molecule_name)\n",
    "    elif use_object == \"1\":\n",
    "        useObject(molecule)\n",
    "        \n",
    "    hbs_output = startHBsearch(molecule, hb_file, solvent_key, pse_file, connections)\n",
    "    hbs_dataframe = readInHBS(hbs_output)\n",
    "    acceptor, donor = prepareLists(hbs_dataframe)\n",
    "    \n",
    "    if molecule_name == \"\":\n",
    "        displayDistances(acceptor, donor, molecule)\n",
    "        showSticks(acceptor,donor, molecule)\n",
    "    else:\n",
    "        displayDistances(acceptor, donor, molecule_name)\n",
    "        showSticks(acceptor,donor, molecule_name)\n",
    "    \n",
    "    if remove_object == \"1\":\n",
    "        removeObject(molecule)"
   ]
  },
  {
   "cell_type": "code",
   "execution_count": 13,
   "id": "a9dfff6c",
   "metadata": {},
   "outputs": [
    {
     "data": {
      "text/plain": [
       "<function __main__.main(molecule: str, molecule_name='', directory: str = '.', use_object: str = '0', remove_object='1', hb_file: str = 'hb-define.txt', solvent_key: str = 'NONE', pse_file: str = 'period-table-info.txt', connections: str = '0')>"
      ]
     },
     "execution_count": 13,
     "metadata": {},
     "output_type": "execute_result"
    }
   ],
   "source": [
    "cmd.extend(\"hbsearch\", main)"
   ]
  },
  {
   "cell_type": "markdown",
   "id": "3cbeeae7",
   "metadata": {},
   "source": [
    "# HB-Network - Initialization"
   ]
  },
  {
   "cell_type": "code",
   "execution_count": 14,
   "id": "b1e4e1fd",
   "metadata": {},
   "outputs": [],
   "source": [
    "def createDirectory(object_name):\n",
    "    #create directory for object name\n",
    "    #Ask for deletion afterwards --> new function\n",
    "    #Check if it is already existant --> Replace/Dont replace?\n",
    "    \n",
    "    os.mkdir(os.path.normpath(f\"./HB_network/{object_name}\"))\n",
    "    "
   ]
  },
  {
   "cell_type": "code",
   "execution_count": 15,
   "id": "49601567",
   "metadata": {},
   "outputs": [],
   "source": [
    "def createHBnetwork(molecule, hb_file: str = \"hb-define.txt\", solvent_key:str = \"NONE\", pse_file:str =\"period-table-info.txt\", connections: str = \"0\"):\n",
    "    \n",
    "    #Getting information about the system to pick the correct program file\n",
    "    system = platform.system()\n",
    "    #Creating a .hb file for the hb-network program\n",
    "    hbs_output = startHBsearch(molecule, hb_file, solvent_key, pse_file, connections)\n",
    "    #write HB-searchFile\n",
    "    with open(os.path.normpath(f\"./HB_network/{molecule}/{molecule}.hb\"),\"w\") as fh:\n",
    "        fh.write(hbs_output)\n",
    "    #running hb-network in specific directory\n",
    "    #if subprocess.run parameter cwd will work again: Use that one!\n",
    "    cluster_dir = os.path.normpath(f\"./HB_network/{molecule}\")\n",
    "    hbnetwork_dir = os.path.normpath(f\"../../{system}/hb-network {molecule}.hb\") #Program_dir hb_file_dir\n",
    "    hbn_output = subprocess.run(hbnetwork_dir, cwd = cluster_dir, capture_output=True, shell=True, check = True, text = True).stdout\n",
    "    return hbn_output"
   ]
  },
  {
   "cell_type": "code",
   "execution_count": 16,
   "id": "22274ced",
   "metadata": {},
   "outputs": [],
   "source": [
    "def cleanHBnetwork(molecule: str):\n",
    "    #Deletes not needed files without any network\n",
    "    #Give later out: If file is not existant than: \"No network found\"\n",
    "    #Giving networks with aminoacids and with atoms\n",
    "    directory = os.path.normpath(f\"./HB_network/{molecule}/CLUSTER\")\n",
    "    for file in os.listdir(directory):\n",
    "        \n",
    "        file_dir = os.path.normpath(f\"{directory}/{file}\")\n",
    "        \n",
    "        if os.path.getsize(file_dir) == 0:\n",
    "            os.remove(file_dir)          \n",
    "    "
   ]
  },
  {
   "cell_type": "code",
   "execution_count": 20,
   "id": "f63c5b70",
   "metadata": {},
   "outputs": [
    {
     "ename": "NameError",
     "evalue": "name 'hbn_lines' is not defined",
     "output_type": "error",
     "traceback": [
      "\u001b[1;31m---------------------------------------------------------------------------\u001b[0m",
      "\u001b[1;31mNameError\u001b[0m                                 Traceback (most recent call last)",
      "Input \u001b[1;32mIn [20]\u001b[0m, in \u001b[0;36m<cell line: 12>\u001b[1;34m()\u001b[0m\n\u001b[0;32m     10\u001b[0m         \u001b[38;5;28;01melse\u001b[39;00m:\n\u001b[0;32m     11\u001b[0m             hbn_lines\u001b[38;5;241m.\u001b[39mpop(i)   \u001b[38;5;66;03m#Why is this piece of shit skipping Cluster 1 and Cluster 2?????? And not popping anything\u001b[39;00m\n\u001b[1;32m---> 12\u001b[0m \u001b[43mindexHbnetwork\u001b[49m\u001b[43m(\u001b[49m\u001b[43mcreateHBnetwork\u001b[49m\u001b[43m(\u001b[49m\u001b[38;5;124;43m\"\u001b[39;49m\u001b[38;5;124;43m4akr\u001b[39;49m\u001b[38;5;124;43m\"\u001b[39;49m\u001b[43m)\u001b[49m\u001b[43m)\u001b[49m\n",
      "Input \u001b[1;32mIn [20]\u001b[0m, in \u001b[0;36mindexHbnetwork\u001b[1;34m(hbn_output)\u001b[0m\n\u001b[0;32m      3\u001b[0m hbn_sorted \u001b[38;5;241m=\u001b[39m hbn_output\u001b[38;5;241m.\u001b[39msplit(\u001b[38;5;124m\"\u001b[39m\u001b[38;5;130;01m\\n\u001b[39;00m\u001b[38;5;124m\"\u001b[39m)\n\u001b[0;32m      5\u001b[0m \u001b[38;5;66;03m#Starting List with clusters\u001b[39;00m\n\u001b[1;32m----> 6\u001b[0m \u001b[38;5;28;01mfor\u001b[39;00m i \u001b[38;5;129;01min\u001b[39;00m \u001b[38;5;28mrange\u001b[39m(\u001b[38;5;28mlen\u001b[39m(\u001b[43mhbn_lines\u001b[49m)):\n\u001b[0;32m      7\u001b[0m     \u001b[38;5;28;01mif\u001b[39;00m \u001b[38;5;124m\"\u001b[39m\u001b[38;5;124mCluster\u001b[39m\u001b[38;5;124m\"\u001b[39m \u001b[38;5;129;01min\u001b[39;00m hbn_lines[i]:\n\u001b[0;32m      8\u001b[0m         \u001b[38;5;28mprint\u001b[39m(hbn_lines[i])\n",
      "\u001b[1;31mNameError\u001b[0m: name 'hbn_lines' is not defined"
     ]
    }
   ],
   "source": [
    "def indexHbnetwork(hbn_output):\n",
    "    \n",
    "    hbn_sorted = hbn_output.split(\"\\n\")\n",
    "    \n",
    "    #Starting List with clusters\n",
    "    for i in range(len(hbn_lines)):\n",
    "        if \"Cluster\" in hbn_lines[i]:\n",
    "            print(hbn_lines[i])\n",
    "            break\n",
    "        else:\n",
    "            hbn_lines.pop(i)   #Why is this piece of shit skipping Cluster 1 and Cluster 2?????? And not popping anything\n",
    "indexHbnetwork(createHBnetwork(\"4akr\"))"
   ]
  },
  {
   "cell_type": "code",
   "execution_count": null,
   "id": "45beda31",
   "metadata": {},
   "outputs": [],
   "source": [
    "def readoutHBnetwork():\n",
    "    pass"
   ]
  },
  {
   "cell_type": "code",
   "execution_count": null,
   "id": "236d1fdb",
   "metadata": {},
   "outputs": [],
   "source": [
    "def main2(molecule:str, molecule_name = \"\", directory:str = \".\", \n",
    "         use_object: str = \"0\", remove_object = \"1\", hb_file: str = \"hb-define.txt\", \n",
    "         solvent_key:str = \"NONE\", pse_file:str =\"period-table-info.txt\", connections: str = \"0\"):\n",
    "    \n",
    "    \n",
    "    createDirectory(molecule)\n",
    "    hbn_output = createHBnetwork(molecule)\n",
    "    cleanHBnetwork(molecule)"
   ]
  },
  {
   "cell_type": "code",
   "execution_count": null,
   "id": "0bf9683f",
   "metadata": {
    "scrolled": true
   },
   "outputs": [],
   "source": [
    "main2(\"4akr\")"
   ]
  },
  {
   "cell_type": "code",
   "execution_count": 18,
   "id": "b08ab054",
   "metadata": {},
   "outputs": [
    {
     "name": "stdout",
     "output_type": "stream",
     "text": [
      "C:\\Users\\Alex\\Desktop\\HBonds_Project\\hbonds_search_pymol\n"
     ]
    }
   ],
   "source": [
    "print(os.getcwd())"
   ]
  },
  {
   "cell_type": "code",
   "execution_count": null,
   "id": "43dc6e8e",
   "metadata": {},
   "outputs": [],
   "source": []
  }
 ],
 "metadata": {
  "kernelspec": {
   "display_name": "Python 3 (ipykernel)",
   "language": "python",
   "name": "python3"
  },
  "language_info": {
   "codemirror_mode": {
    "name": "ipython",
    "version": 3
   },
   "file_extension": ".py",
   "mimetype": "text/x-python",
   "name": "python",
   "nbconvert_exporter": "python",
   "pygments_lexer": "ipython3",
   "version": "3.9.12"
  }
 },
 "nbformat": 4,
 "nbformat_minor": 5
}
