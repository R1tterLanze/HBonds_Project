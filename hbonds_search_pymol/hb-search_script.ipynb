{
 "cells": [
  {
   "cell_type": "markdown",
   "id": "0d218b9e",
   "metadata": {},
   "source": [
    "# GUI hbond"
   ]
  },
  {
   "cell_type": "markdown",
   "id": "8d15486f",
   "metadata": {},
   "source": [
    "### Initialization"
   ]
  },
  {
   "cell_type": "code",
   "execution_count": 73,
   "id": "35c0b7d4",
   "metadata": {},
   "outputs": [],
   "source": [
    "import pandas as pd\n",
    "import subprocess\n",
    "import os\n",
    "from pymol import cmd, stored\n",
    "import platform\n",
    "from typing import List"
   ]
  },
  {
   "cell_type": "markdown",
   "id": "84b68126",
   "metadata": {},
   "source": [
    "### Functions"
   ]
  },
  {
   "cell_type": "code",
   "execution_count": 20,
   "id": "b809abdc",
   "metadata": {},
   "outputs": [
    {
     "data": {
      "text/plain": [
       "'\\ndef form(pdbstr, x):\\n    \\'\\'\\'\\n    Part of lambda function to format dataframe to Pymol compatible form:\\n    from \"A:183:LEU:O\" to \"/2akr/A/A/LEU`183/O\"\\n    :param pdbstr: pdb code of handled structure\\n    :param x: entry within dataframe\\n    \\'\\'\\'\\n    temp = x.split(\\':\\')\\n    x = f\\'/{pdbstr}//{temp[0]}/{temp[2]}/{temp[3]}\\'\\n    return x\\n\\ndef pymol_display(df):\\n    \\'\\'\\'\\n    \\'\\'\\'\\n    zilis = list(zip(df[\\'ACC\\'].tolist(), df[\\'DONO\\'].tolist()))\\n    for i in zilis:\\n        cmd.distance( i[0] , i[1])\\n    \\ndef hbsearch(pdbstr:str) -> pd.DataFrame():\\n    \\'\\'\\'\\n    Executing hb_search with set parameters and extract HBOND-entries from output\\n    :return df_hbond: Dataframe with all HBOND entries from hb_search output \\n    \\'\\'\\'\\n    \\n    HEAD_LST = [\\'IDENT\\',\\'ACC\\',\\'sep1\\',\\'DONO\\',\\':\\',\\'x\\',\\'y\\',\\'z\\',\\'sep2\\',\\'a\\',\\'b\\']\\n    \\n    # Setting environment variable\\n    os.environ[\\'PSE_FILE\\'] = \\'period-table-info.txt\\'\\n    \\n    # Executing hb_search\\n    hbs = subprocess.run(f\"./hb-search -hb hb-define.txt {pdbstr}.pdb\", \\n                         stdout=subprocess.PIPE, shell=True, check=True, text=True)\\n    \\n    # Decode and format hb_search output\\n    hbs_hbb = [i for i in hbs.stdout.split(\\'\\n\\') if i[0:5] == \"HBOND\"]\\n    hbs_splt = [i.split() for i in hbs_hbb]\\n\\n    # Return dataframe\\n    df_hbond = pd.DataFrame(hbs_splt, columns = HEAD_LST)\\n    \\n    df_hbond = df_hbond[[\\'ACC\\', \\'DONO\\']]\\n    df_hbond[\\'ACC\\'] = df_hbond[\\'ACC\\'].map(lambda x: form(pdbstr,x) )\\n    df_hbond[\\'DONO\\'] = df_hbond[\\'DONO\\'].map(lambda x: form(pdbstr,x) )\\n    \\n    pymol_display(df_hbond)\\n    \\n    return df_hbond\\n\\n#cmd.extend(\\'hbsearch\\', hbsearch)'"
      ]
     },
     "execution_count": 20,
     "metadata": {},
     "output_type": "execute_result"
    }
   ],
   "source": [
    "\"\"\"\n",
    "def form(pdbstr, x):\n",
    "    '''\n",
    "    Part of lambda function to format dataframe to Pymol compatible form:\n",
    "    from \"A:183:LEU:O\" to \"/2akr/A/A/LEU`183/O\"\n",
    "    :param pdbstr: pdb code of handled structure\n",
    "    :param x: entry within dataframe\n",
    "    '''\n",
    "    temp = x.split(':')\n",
    "    x = f'/{pdbstr}//{temp[0]}/{temp[2]}/{temp[3]}'\n",
    "    return x\n",
    "\n",
    "def pymol_display(df):\n",
    "    '''\n",
    "    '''\n",
    "    zilis = list(zip(df['ACC'].tolist(), df['DONO'].tolist()))\n",
    "    for i in zilis:\n",
    "        cmd.distance( i[0] , i[1])\n",
    "    \n",
    "def hbsearch(pdbstr:str) -> pd.DataFrame():\n",
    "    '''\n",
    "    Executing hb_search with set parameters and extract HBOND-entries from output\n",
    "    :return df_hbond: Dataframe with all HBOND entries from hb_search output \n",
    "    '''\n",
    "    \n",
    "    HEAD_LST = ['IDENT','ACC','sep1','DONO',':','x','y','z','sep2','a','b']\n",
    "    \n",
    "    # Setting environment variable\n",
    "    os.environ['PSE_FILE'] = 'period-table-info.txt'\n",
    "    \n",
    "    # Executing hb_search\n",
    "    hbs = subprocess.run(f\"./hb-search -hb hb-define.txt {pdbstr}.pdb\", \n",
    "                         stdout=subprocess.PIPE, shell=True, check=True, text=True)\n",
    "    \n",
    "    # Decode and format hb_search output\n",
    "    hbs_hbb = [i for i in hbs.stdout.split('\\n') if i[0:5] == \"HBOND\"]\n",
    "    hbs_splt = [i.split() for i in hbs_hbb]\n",
    "\n",
    "    # Return dataframe\n",
    "    df_hbond = pd.DataFrame(hbs_splt, columns = HEAD_LST)\n",
    "    \n",
    "    df_hbond = df_hbond[['ACC', 'DONO']]\n",
    "    df_hbond['ACC'] = df_hbond['ACC'].map(lambda x: form(pdbstr,x) )\n",
    "    df_hbond['DONO'] = df_hbond['DONO'].map(lambda x: form(pdbstr,x) )\n",
    "    \n",
    "    pymol_display(df_hbond)\n",
    "    \n",
    "    return df_hbond\n",
    "\n",
    "#cmd.extend('hbsearch', hbsearch)\"\"\""
   ]
  },
  {
   "cell_type": "code",
   "execution_count": 74,
   "id": "a28bf399",
   "metadata": {},
   "outputs": [],
   "source": [
    "def changeDirectory(programDirectory: str = \".\"):\n",
    "    \n",
    "    cmd.cd(os.path.normpath(programDirectory))\n",
    "    #os.chdir(os.path.normpath(programDirectory)) #can be deleted?\n",
    "    # Usefull if we want to give an error! To tell the person in which directory they are located!\n",
    "    #cwd = os.getcwd()"
   ]
  },
  {
   "cell_type": "code",
   "execution_count": 75,
   "id": "2f33b694",
   "metadata": {},
   "outputs": [],
   "source": [
    "def useObject(input_molecule: str):\n",
    "    \n",
    "    cmd.save(os.path.normpath(f\"./pdb_files/{input_molecule}.pdb\"), input_molecule)"
   ]
  },
  {
   "cell_type": "code",
   "execution_count": 76,
   "id": "76438daf",
   "metadata": {},
   "outputs": [],
   "source": [
    "def removeObject(input_molecule: str):\n",
    "    \n",
    "    os.remove(os.path.normpath(f\"./pdb_files/{input_molecule}.pdb\"))"
   ]
  },
  {
   "cell_type": "code",
   "execution_count": 77,
   "id": "3ba8c1e0",
   "metadata": {},
   "outputs": [],
   "source": [
    "def fetchPDB(pdbID: str, object_name: str = \"\"):\n",
    "    if object_name == \"\":\n",
    "        object_name = pdbID\n",
    "    #setting fetch_path to desired folder\n",
    "    cmd.set(\"fetch_path\", os.path.normpath(\"./pdb_files/\"))\n",
    "    #fetching pdb file if not in folder\n",
    "    cmd.fetch(pdbID, name = object_name, type = \"pdb\")"
   ]
  },
  {
   "cell_type": "code",
   "execution_count": 78,
   "id": "e51cd920",
   "metadata": {
    "scrolled": false
   },
   "outputs": [],
   "source": [
    "def startHBsearch(molecule: str, hb_file: str, solvent_key:str, pse_file:str, connections: str):\n",
    "\n",
    "    # Setting environment variable\n",
    "    os.environ['PSE_FILE'] = pse_file\n",
    "    # Determine operation system\n",
    "    system = platform.system()\n",
    "    # Executing hb_search\n",
    "    hbs_output = subprocess.run(os.path.normpath(f\"./{system}/hb-search -hb {hb_file} -solv {solvent_key} -con {connections} ./pdb_files/{molecule}.pdb\"), capture_output=True, shell=True, check = True, text = True).stdout\n",
    "    return hbs_output"
   ]
  },
  {
   "cell_type": "code",
   "execution_count": 79,
   "id": "20ff1acc",
   "metadata": {},
   "outputs": [],
   "source": [
    "def readInHBS(hbs_output: str):\n",
    "    hbs_rows = [i for i in hbs_output.split('\\n')]\n",
    "    hbs_split = [i.split() for i in hbs_rows]\n",
    "    \n",
    "    HEAD_LST = ['IDENT','ACC','sep1','DONO',':','x','y','z','sep2','a','b']\n",
    "    \n",
    "    df = pd.DataFrame(hbs_split, columns = HEAD_LST)\n",
    "    df = df[df[\"IDENT\"] == \"HBOND\"]\n",
    "    return df"
   ]
  },
  {
   "cell_type": "code",
   "execution_count": 80,
   "id": "67a528bb",
   "metadata": {},
   "outputs": [],
   "source": [
    "def prepareLists(dataframe: pd.DataFrame):\n",
    "    \n",
    "    acceptor_pre = list(dataframe[\"ACC\"])\n",
    "    donor_pre = list(dataframe [\"DONO\"])\n",
    "    \n",
    "    acceptor = []\n",
    "    donor = []\n",
    "    \n",
    "    for i in range(len(acceptor_pre)):#modify with zip\n",
    "        acceptor.append(tuple(acceptor_pre[i].split(\":\")))\n",
    "        \n",
    "    for j in range(len(donor_pre)):\n",
    "        donor.append(tuple(donor_pre[j].split(\":\")))\n",
    "\n",
    "\n",
    "    \n",
    "    return acceptor, donor\n"
   ]
  },
  {
   "cell_type": "code",
   "execution_count": 81,
   "id": "e4042e3c",
   "metadata": {},
   "outputs": [],
   "source": [
    "def displayDistances(acceptor: List, donor: List, object_name: str):\n",
    "    \n",
    "    bondList = []\n",
    "    \n",
    "    for i in range(len(acceptor)): #modify with zip\n",
    "        \n",
    "        cmd.distance(f\"{object_name}_hydrogenBond_{i}\", \n",
    "                     f\"{object_name}//{acceptor[i][0]}/{acceptor[i][1]}/{acceptor[i][3]}\", \n",
    "                     f\"{object_name}//{donor[i][0]}/{donor[i][1]}/{donor[i][3]}\", )\n",
    "\n",
    "        bondList.append(f\"{object_name}_hydrogenBond_{i}\")\n",
    "    cmd.group(f\"{object_name}_hydrogenBonds\", \" \".join(bondList))\n",
    "    cmd.hide(\"labels\", f\"{object_name}_HydrogenBonds\")"
   ]
  },
  {
   "cell_type": "code",
   "execution_count": 90,
   "id": "d238dbb9",
   "metadata": {},
   "outputs": [],
   "source": [
    "def showSticks(acceptor: List,donor: List, object_name: str):\n",
    "    \n",
    "    stickList = []\n",
    "    \n",
    "    for i in range(len(acceptor)):\n",
    "        stickList.append(f\"/{object_name}//{acceptor[i][0]}/{acceptor[i][1]}\")\n",
    "        stickList.append(f\"/{object_name}//{donor[i][0]}/{donor[i][1]}\") \n",
    "    print(stickList)\n",
    "    cmd.select(f\"Connections_Sticks_{object_name}\", \" \".join(stickList))\n",
    "    cmd.show(\"sticks\", f\"Connections_Sticks_{object_name}\")\n",
    "    cmd.deselect()"
   ]
  },
  {
   "cell_type": "code",
   "execution_count": 86,
   "id": "d2ee8c47",
   "metadata": {},
   "outputs": [],
   "source": [
    "def main(molecule:str, molecule_name = \"\", directory:str = \".\", \n",
    "         use_object: str = \"0\", remove_object = \"1\", hb_file: str = \"hb-define.txt\", \n",
    "         solvent_key:str = \"NONE\", pse_file:str =\"period-table-info.txt\", connections: str = \"0\"):\n",
    "    \n",
    "    changeDirectory(directory)\n",
    "    \n",
    "    print(molecule_name)\n",
    "    if use_object == \"0\":\n",
    "        fetchPDB(molecule, molecule_name)\n",
    "    elif use_object == \"1\":\n",
    "        useObject(molecule)\n",
    "        \n",
    "    hbs_output = startHBsearch(molecule, hb_file, solvent_key, pse_file, connections)\n",
    "    hbs_dataframe = readInHBS(hbs_output)\n",
    "    acceptor, donor = prepareLists(hbs_dataframe)\n",
    "    \n",
    "    if molecule_name == \"\":\n",
    "        displayDistances(acceptor, donor, molecule)\n",
    "        showSticks(acceptor,donor, molecule)\n",
    "    else:\n",
    "        displayDistances(acceptor, donor, molecule_name)\n",
    "        showSticks(acceptor,donor, molecule_name)\n",
    "    \n",
    "    if remove_object == \"1\":\n",
    "        removeObject(molecule)"
   ]
  },
  {
   "cell_type": "code",
   "execution_count": 87,
   "id": "a9dfff6c",
   "metadata": {},
   "outputs": [
    {
     "data": {
      "text/plain": [
       "<function __main__.main(molecule: str, molecule_name='', directory: str = '.', use_object: str = '0', remove_object='1', hb_file: str = 'hb-define.txt', solvent_key: str = 'NONE', pse_file: str = 'period-table-info.txt', connections: str = '0')>"
      ]
     },
     "execution_count": 87,
     "metadata": {},
     "output_type": "execute_result"
    }
   ],
   "source": [
    "cmd.extend(\"hbsearch\", main)"
   ]
  },
  {
   "cell_type": "code",
   "execution_count": 72,
   "id": "4a6a2180",
   "metadata": {
    "scrolled": false
   },
   "outputs": [
    {
     "name": "stdout",
     "output_type": "stream",
     "text": [
      "\n"
     ]
    },
    {
     "ename": "TypeError",
     "evalue": "__call__() got an unexpected keyword argument 'name'",
     "output_type": "error",
     "traceback": [
      "\u001b[1;31m---------------------------------------------------------------------------\u001b[0m",
      "\u001b[1;31mTypeError\u001b[0m                                 Traceback (most recent call last)",
      "Input \u001b[1;32mIn [72]\u001b[0m, in \u001b[0;36m<cell line: 1>\u001b[1;34m()\u001b[0m\n\u001b[1;32m----> 1\u001b[0m \u001b[43mmain\u001b[49m\u001b[43m(\u001b[49m\u001b[38;5;124;43m\"\u001b[39;49m\u001b[38;5;124;43m4awn\u001b[39;49m\u001b[38;5;124;43m\"\u001b[39;49m\u001b[43m)\u001b[49m\n",
      "Input \u001b[1;32mIn [68]\u001b[0m, in \u001b[0;36mmain\u001b[1;34m(molecule, molecule_name, directory, use_object, remove_object, hb_file, solvent_key, pse_file, connections)\u001b[0m\n\u001b[0;32m      7\u001b[0m \u001b[38;5;28mprint\u001b[39m(molecule_name)\n\u001b[0;32m      8\u001b[0m \u001b[38;5;28;01mif\u001b[39;00m use_object \u001b[38;5;241m==\u001b[39m \u001b[38;5;124m\"\u001b[39m\u001b[38;5;124m0\u001b[39m\u001b[38;5;124m\"\u001b[39m:\n\u001b[1;32m----> 9\u001b[0m     \u001b[43mfetchPDB\u001b[49m\u001b[43m(\u001b[49m\u001b[43mmolecule\u001b[49m\u001b[43m,\u001b[49m\u001b[43m \u001b[49m\u001b[43mmolecule_name\u001b[49m\u001b[43m)\u001b[49m\n\u001b[0;32m     10\u001b[0m \u001b[38;5;28;01melif\u001b[39;00m use_object \u001b[38;5;241m==\u001b[39m \u001b[38;5;124m\"\u001b[39m\u001b[38;5;124m1\u001b[39m\u001b[38;5;124m\"\u001b[39m:\n\u001b[0;32m     11\u001b[0m     useObject(molecule)\n",
      "Input \u001b[1;32mIn [70]\u001b[0m, in \u001b[0;36mfetchPDB\u001b[1;34m(pdbID, object_name)\u001b[0m\n\u001b[0;32m      5\u001b[0m cmd\u001b[38;5;241m.\u001b[39mset(\u001b[38;5;124m\"\u001b[39m\u001b[38;5;124mfetch_path\u001b[39m\u001b[38;5;124m\"\u001b[39m, os\u001b[38;5;241m.\u001b[39mpath\u001b[38;5;241m.\u001b[39mnormpath(\u001b[38;5;124m\"\u001b[39m\u001b[38;5;124m./pdb_files/\u001b[39m\u001b[38;5;124m\"\u001b[39m))\n\u001b[0;32m      6\u001b[0m \u001b[38;5;66;03m#cmd.cd(os.path.normpath(\"./pdb_files/\"))\u001b[39;00m\n\u001b[1;32m----> 7\u001b[0m \u001b[43mcmd\u001b[49m\u001b[38;5;241;43m.\u001b[39;49m\u001b[43mfetch\u001b[49m\u001b[43m(\u001b[49m\u001b[43mpdbID\u001b[49m\u001b[43m,\u001b[49m\u001b[43m \u001b[49m\u001b[43mname\u001b[49m\u001b[43m \u001b[49m\u001b[38;5;241;43m=\u001b[39;49m\u001b[43m \u001b[49m\u001b[43mobject_name\u001b[49m\u001b[43m,\u001b[49m\u001b[43m \u001b[49m\u001b[38;5;28;43mtype\u001b[39;49m\u001b[43m \u001b[49m\u001b[38;5;241;43m=\u001b[39;49m\u001b[43m \u001b[49m\u001b[38;5;124;43m\"\u001b[39;49m\u001b[38;5;124;43mpdb\u001b[39;49m\u001b[38;5;124;43m\"\u001b[39;49m\u001b[43m)\u001b[49m\n",
      "\u001b[1;31mTypeError\u001b[0m: __call__() got an unexpected keyword argument 'name'"
     ]
    }
   ],
   "source": []
  },
  {
   "cell_type": "markdown",
   "id": "dee73dd9",
   "metadata": {},
   "source": [
    "### Main body"
   ]
  },
  {
   "cell_type": "code",
   "execution_count": 34,
   "id": "8c090095",
   "metadata": {},
   "outputs": [],
   "source": []
  },
  {
   "cell_type": "code",
   "execution_count": 35,
   "id": "9c551ac2",
   "metadata": {},
   "outputs": [
    {
     "data": {
      "text/html": [
       "<div>\n",
       "<style scoped>\n",
       "    .dataframe tbody tr th:only-of-type {\n",
       "        vertical-align: middle;\n",
       "    }\n",
       "\n",
       "    .dataframe tbody tr th {\n",
       "        vertical-align: top;\n",
       "    }\n",
       "\n",
       "    .dataframe thead th {\n",
       "        text-align: right;\n",
       "    }\n",
       "</style>\n",
       "<table border=\"1\" class=\"dataframe\">\n",
       "  <thead>\n",
       "    <tr style=\"text-align: right;\">\n",
       "      <th></th>\n",
       "      <th>ACC</th>\n",
       "      <th>DONO</th>\n",
       "    </tr>\n",
       "  </thead>\n",
       "  <tbody>\n",
       "    <tr>\n",
       "      <th>0</th>\n",
       "      <td>/2akr/A/A/ASN/OD1</td>\n",
       "      <td>/2akr/A/A/HOH/O</td>\n",
       "    </tr>\n",
       "    <tr>\n",
       "      <th>1</th>\n",
       "      <td>/2akr/A/A/TYR/N</td>\n",
       "      <td>/2akr/A/A/MET/O</td>\n",
       "    </tr>\n",
       "    <tr>\n",
       "      <th>2</th>\n",
       "      <td>/2akr/A/A/TYR/OH</td>\n",
       "      <td>/2akr/A/A/LEU/O</td>\n",
       "    </tr>\n",
       "    <tr>\n",
       "      <th>3</th>\n",
       "      <td>/2akr/A/A/THR/N</td>\n",
       "      <td>/2akr/A/A/HOH/O</td>\n",
       "    </tr>\n",
       "    <tr>\n",
       "      <th>4</th>\n",
       "      <td>/2akr/A/A/ARG/NE</td>\n",
       "      <td>/2akr/A/A/HOH/O</td>\n",
       "    </tr>\n",
       "    <tr>\n",
       "      <th>...</th>\n",
       "      <td>...</td>\n",
       "      <td>...</td>\n",
       "    </tr>\n",
       "    <tr>\n",
       "      <th>3554</th>\n",
       "      <td>/2akr/D/D/HOH/O</td>\n",
       "      <td>/2akr/D/D/HOH/O</td>\n",
       "    </tr>\n",
       "    <tr>\n",
       "      <th>3555</th>\n",
       "      <td>/2akr/D/D/HOH/O</td>\n",
       "      <td>/2akr/D/D/HOH/O</td>\n",
       "    </tr>\n",
       "    <tr>\n",
       "      <th>3556</th>\n",
       "      <td>/2akr/D/D/HOH/O</td>\n",
       "      <td>/2akr/D/D/ASN/O</td>\n",
       "    </tr>\n",
       "    <tr>\n",
       "      <th>3557</th>\n",
       "      <td>/2akr/D/D/HOH/O</td>\n",
       "      <td>/2akr/D/D/HOH/O</td>\n",
       "    </tr>\n",
       "    <tr>\n",
       "      <th>3558</th>\n",
       "      <td>/2akr/D/D/HOH/O</td>\n",
       "      <td>/2akr/D/D/MET/O</td>\n",
       "    </tr>\n",
       "  </tbody>\n",
       "</table>\n",
       "<p>3559 rows × 2 columns</p>\n",
       "</div>"
      ],
      "text/plain": [
       "                    ACC             DONO\n",
       "0     /2akr/A/A/ASN/OD1  /2akr/A/A/HOH/O\n",
       "1       /2akr/A/A/TYR/N  /2akr/A/A/MET/O\n",
       "2      /2akr/A/A/TYR/OH  /2akr/A/A/LEU/O\n",
       "3       /2akr/A/A/THR/N  /2akr/A/A/HOH/O\n",
       "4      /2akr/A/A/ARG/NE  /2akr/A/A/HOH/O\n",
       "...                 ...              ...\n",
       "3554    /2akr/D/D/HOH/O  /2akr/D/D/HOH/O\n",
       "3555    /2akr/D/D/HOH/O  /2akr/D/D/HOH/O\n",
       "3556    /2akr/D/D/HOH/O  /2akr/D/D/ASN/O\n",
       "3557    /2akr/D/D/HOH/O  /2akr/D/D/HOH/O\n",
       "3558    /2akr/D/D/HOH/O  /2akr/D/D/MET/O\n",
       "\n",
       "[3559 rows x 2 columns]"
      ]
     },
     "execution_count": 35,
     "metadata": {},
     "output_type": "execute_result"
    }
   ],
   "source": []
  }
 ],
 "metadata": {
  "kernelspec": {
   "display_name": "Python 3 (ipykernel)",
   "language": "python",
   "name": "python3"
  },
  "language_info": {
   "codemirror_mode": {
    "name": "ipython",
    "version": 3
   },
   "file_extension": ".py",
   "mimetype": "text/x-python",
   "name": "python",
   "nbconvert_exporter": "python",
   "pygments_lexer": "ipython3",
   "version": "3.9.12"
  }
 },
 "nbformat": 4,
 "nbformat_minor": 5
}
