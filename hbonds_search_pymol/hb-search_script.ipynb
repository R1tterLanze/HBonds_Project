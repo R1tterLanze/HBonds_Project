{
 "cells": [
  {
   "cell_type": "markdown",
   "id": "0d218b9e",
   "metadata": {},
   "source": [
    "# GUI hbond"
   ]
  },
  {
   "cell_type": "markdown",
   "id": "8d15486f",
   "metadata": {},
   "source": [
    "### Initialization"
   ]
  },
  {
   "cell_type": "code",
   "execution_count": 1,
   "id": "35c0b7d4",
   "metadata": {},
   "outputs": [],
   "source": [
    "import pandas as pd\n",
    "import subprocess\n",
    "import os\n",
    "from pymol import cmd, stored\n",
    "import platform"
   ]
  },
  {
   "cell_type": "markdown",
   "id": "84b68126",
   "metadata": {},
   "source": [
    "### Functions"
   ]
  },
  {
   "cell_type": "code",
   "execution_count": 33,
   "id": "b809abdc",
   "metadata": {},
   "outputs": [],
   "source": [
    "\n",
    "def form(pdbstr, x):\n",
    "    '''\n",
    "    Part of lambda function to format dataframe to Pymol compatible form:\n",
    "    from \"A:183:LEU:O\" to \"/2akr/A/A/LEU`183/O\"\n",
    "    :param pdbstr: pdb code of handled structure\n",
    "    :param x: entry within dataframe\n",
    "    '''\n",
    "    temp = x.split(':')\n",
    "    x = f'/{pdbstr}//{temp[0]}/{temp[2]}/{temp[3]}'\n",
    "    return x\n",
    "\n",
    "def pymol_display(df):\n",
    "    '''\n",
    "    '''\n",
    "    zilis = list(zip(df['ACC'].tolist(), df['DONO'].tolist()))\n",
    "    for i in zilis:\n",
    "        cmd.distance( i[0] , i[1])\n",
    "    \n",
    "def hbsearch(pdbstr:str) -> pd.DataFrame():\n",
    "    '''\n",
    "    Executing hb_search with set parameters and extract HBOND-entries from output\n",
    "    :return df_hbond: Dataframe with all HBOND entries from hb_search output \n",
    "    '''\n",
    "    \n",
    "    HEAD_LST = ['IDENT','ACC','sep1','DONO',':','x','y','z','sep2','a','b']\n",
    "    \n",
    "    # Setting environment variable\n",
    "    os.environ['PSE_FILE'] = 'period-table-info.txt'\n",
    "    \n",
    "    # Executing hb_search\n",
    "    hbs = subprocess.run(f\"./hb-search -hb hb-define.txt {pdbstr}.pdb\", \n",
    "                         stdout=subprocess.PIPE, shell=True, check=True, text=True)\n",
    "    \n",
    "    # Decode and format hb_search output\n",
    "    hbs_hbb = [i for i in hbs.stdout.split('\\n') if i[0:5] == \"HBOND\"]\n",
    "    hbs_splt = [i.split() for i in hbs_hbb]\n",
    "\n",
    "    # Return dataframe\n",
    "    df_hbond = pd.DataFrame(hbs_splt, columns = HEAD_LST)\n",
    "    \n",
    "    df_hbond = df_hbond[['ACC', 'DONO']]\n",
    "    df_hbond['ACC'] = df_hbond['ACC'].map(lambda x: form(pdbstr,x) )\n",
    "    df_hbond['DONO'] = df_hbond['DONO'].map(lambda x: form(pdbstr,x) )\n",
    "    \n",
    "    pymol_display(df_hbond)\n",
    "    \n",
    "    return df_hbond\n",
    "\n",
    "cmd.extend('hbsearch', hbsearch)"
   ]
  },
  {
   "cell_type": "code",
   "execution_count": 79,
   "id": "a28bf399",
   "metadata": {},
   "outputs": [],
   "source": [
    "def changeDirectory(programDirectory = \".\"):\n",
    "    \n",
    "    cmd.cd(programDirectory)\n",
    "    os.chdir(os.path.normpath(programDirectory))\n",
    "    # Usefull if we want to give an error! To tell the person in which directory they are located!\n",
    "    cwd = os.getcwd()"
   ]
  },
  {
   "cell_type": "code",
   "execution_count": 80,
   "id": "e51cd920",
   "metadata": {
    "scrolled": false
   },
   "outputs": [],
   "source": [
    "def startHBsearch():\n",
    "\n",
    "    # Setting environment variable\n",
    "    os.environ['PSE_FILE'] = 'period-table-info.txt'\n",
    "    # Determine operation system\n",
    "    system = platform.system()\n",
    "    # Executing hb_search\n",
    "    hbs = subprocess.run(os.path.normpath(f\"./{system}/hb-search -hb hb-define.txt 4awn.pdb\"), capture_output=True, shell=True, check = True, text = True).stdout\n",
    "    return hbs\n"
   ]
  },
  {
   "cell_type": "code",
   "execution_count": 81,
   "id": "20ff1acc",
   "metadata": {},
   "outputs": [],
   "source": [
    "def readInHBS(hbsfile):\n",
    "    hbs_columns = [i for i in hbsfile.split('\\n')]\n",
    "    hbs_split = [i.split() for i in hbs_columns]\n",
    "    \n",
    "    HEAD_LST = ['IDENT','ACC','sep1','DONO',':','x','y','z','sep2','a','b']\n",
    "    \n",
    "    df = pd.DataFrame(hbs_split, columns = HEAD_LST)\n",
    "    df = df[df[\"IDENT\"] == \"HBOND\"]\n",
    "    return df"
   ]
  },
  {
   "cell_type": "code",
   "execution_count": 82,
   "id": "67a528bb",
   "metadata": {},
   "outputs": [],
   "source": [
    "def prepareLists(dataframe):\n",
    "    \n",
    "    acceptor_pre = list(dataframe[\"ACC\"])\n",
    "    donor_pre = list(dataframe [\"DONO\"])\n",
    "    \n",
    "    acceptor = []\n",
    "    donor = []\n",
    "    \n",
    "    for i in range(len(acceptor_pre)):\n",
    "        acceptor.append(tuple(acceptor_pre[i].split(\":\")))\n",
    "        \n",
    "    for j in range(len(donor_pre)):\n",
    "        donor.append(tuple(donor_pre[j].split(\":\")))\n",
    "\n",
    "\n",
    "    \n",
    "    return acceptor, donor\n",
    "acceptor, donor = prepareLists(readInHBS(startHBsearch()))\n"
   ]
  },
  {
   "cell_type": "code",
   "execution_count": 83,
   "id": "e4042e3c",
   "metadata": {},
   "outputs": [],
   "source": [
    "def displayDistances(acceptor, donor, obj = \"4awn\"):\n",
    "    \n",
    "    bondList = []\n",
    "    \n",
    "    for i in range(len(acceptor)):\n",
    "        print(acceptor[i], donor[i])\n",
    "        cmd.distance(f\"HydrogenBond{i}\", \n",
    "                     f\"{obj}//{acceptor[i][0]}/{acceptor[i][1]}/{acceptor[i][3]}\", \n",
    "                     f\"{obj}//{donor[i][0]}/{donor[i][1]}/{donor[i][3]}\", )\n",
    "\n",
    "        bondList.append(f\"HydrogenBond{i}\")\n",
    "    cmd.group(\"HydrogenBonds\", \" \".join(bondList))\n",
    "    cmd.hide(\"labels\", \"HydrogenBonds\")"
   ]
  },
  {
   "cell_type": "code",
   "execution_count": 84,
   "id": "d2ee8c47",
   "metadata": {},
   "outputs": [],
   "source": [
    "def main():\n",
    "    changeDirectory()\n",
    "    hbs_output = startHBsearch()\n",
    "    hbs_dataframe = readInHBS(hbs_output)\n",
    "    acceptor, donor = prepareLists(hbs_dataframe)\n",
    "    displayDistances(acceptor, donor)"
   ]
  },
  {
   "cell_type": "code",
   "execution_count": 85,
   "id": "a9dfff6c",
   "metadata": {},
   "outputs": [
    {
     "data": {
      "text/plain": [
       "<function __main__.main()>"
      ]
     },
     "execution_count": 85,
     "metadata": {},
     "output_type": "execute_result"
    }
   ],
   "source": [
    "cmd.extend(\"hbsearch\", main)"
   ]
  },
  {
   "cell_type": "code",
   "execution_count": null,
   "id": "4a6a2180",
   "metadata": {},
   "outputs": [],
   "source": []
  },
  {
   "cell_type": "markdown",
   "id": "dee73dd9",
   "metadata": {},
   "source": [
    "### Main body"
   ]
  },
  {
   "cell_type": "code",
   "execution_count": 34,
   "id": "8c090095",
   "metadata": {},
   "outputs": [],
   "source": []
  },
  {
   "cell_type": "code",
   "execution_count": 35,
   "id": "9c551ac2",
   "metadata": {},
   "outputs": [
    {
     "data": {
      "text/html": [
       "<div>\n",
       "<style scoped>\n",
       "    .dataframe tbody tr th:only-of-type {\n",
       "        vertical-align: middle;\n",
       "    }\n",
       "\n",
       "    .dataframe tbody tr th {\n",
       "        vertical-align: top;\n",
       "    }\n",
       "\n",
       "    .dataframe thead th {\n",
       "        text-align: right;\n",
       "    }\n",
       "</style>\n",
       "<table border=\"1\" class=\"dataframe\">\n",
       "  <thead>\n",
       "    <tr style=\"text-align: right;\">\n",
       "      <th></th>\n",
       "      <th>ACC</th>\n",
       "      <th>DONO</th>\n",
       "    </tr>\n",
       "  </thead>\n",
       "  <tbody>\n",
       "    <tr>\n",
       "      <th>0</th>\n",
       "      <td>/2akr/A/A/ASN/OD1</td>\n",
       "      <td>/2akr/A/A/HOH/O</td>\n",
       "    </tr>\n",
       "    <tr>\n",
       "      <th>1</th>\n",
       "      <td>/2akr/A/A/TYR/N</td>\n",
       "      <td>/2akr/A/A/MET/O</td>\n",
       "    </tr>\n",
       "    <tr>\n",
       "      <th>2</th>\n",
       "      <td>/2akr/A/A/TYR/OH</td>\n",
       "      <td>/2akr/A/A/LEU/O</td>\n",
       "    </tr>\n",
       "    <tr>\n",
       "      <th>3</th>\n",
       "      <td>/2akr/A/A/THR/N</td>\n",
       "      <td>/2akr/A/A/HOH/O</td>\n",
       "    </tr>\n",
       "    <tr>\n",
       "      <th>4</th>\n",
       "      <td>/2akr/A/A/ARG/NE</td>\n",
       "      <td>/2akr/A/A/HOH/O</td>\n",
       "    </tr>\n",
       "    <tr>\n",
       "      <th>...</th>\n",
       "      <td>...</td>\n",
       "      <td>...</td>\n",
       "    </tr>\n",
       "    <tr>\n",
       "      <th>3554</th>\n",
       "      <td>/2akr/D/D/HOH/O</td>\n",
       "      <td>/2akr/D/D/HOH/O</td>\n",
       "    </tr>\n",
       "    <tr>\n",
       "      <th>3555</th>\n",
       "      <td>/2akr/D/D/HOH/O</td>\n",
       "      <td>/2akr/D/D/HOH/O</td>\n",
       "    </tr>\n",
       "    <tr>\n",
       "      <th>3556</th>\n",
       "      <td>/2akr/D/D/HOH/O</td>\n",
       "      <td>/2akr/D/D/ASN/O</td>\n",
       "    </tr>\n",
       "    <tr>\n",
       "      <th>3557</th>\n",
       "      <td>/2akr/D/D/HOH/O</td>\n",
       "      <td>/2akr/D/D/HOH/O</td>\n",
       "    </tr>\n",
       "    <tr>\n",
       "      <th>3558</th>\n",
       "      <td>/2akr/D/D/HOH/O</td>\n",
       "      <td>/2akr/D/D/MET/O</td>\n",
       "    </tr>\n",
       "  </tbody>\n",
       "</table>\n",
       "<p>3559 rows × 2 columns</p>\n",
       "</div>"
      ],
      "text/plain": [
       "                    ACC             DONO\n",
       "0     /2akr/A/A/ASN/OD1  /2akr/A/A/HOH/O\n",
       "1       /2akr/A/A/TYR/N  /2akr/A/A/MET/O\n",
       "2      /2akr/A/A/TYR/OH  /2akr/A/A/LEU/O\n",
       "3       /2akr/A/A/THR/N  /2akr/A/A/HOH/O\n",
       "4      /2akr/A/A/ARG/NE  /2akr/A/A/HOH/O\n",
       "...                 ...              ...\n",
       "3554    /2akr/D/D/HOH/O  /2akr/D/D/HOH/O\n",
       "3555    /2akr/D/D/HOH/O  /2akr/D/D/HOH/O\n",
       "3556    /2akr/D/D/HOH/O  /2akr/D/D/ASN/O\n",
       "3557    /2akr/D/D/HOH/O  /2akr/D/D/HOH/O\n",
       "3558    /2akr/D/D/HOH/O  /2akr/D/D/MET/O\n",
       "\n",
       "[3559 rows x 2 columns]"
      ]
     },
     "execution_count": 35,
     "metadata": {},
     "output_type": "execute_result"
    }
   ],
   "source": []
  }
 ],
 "metadata": {
  "kernelspec": {
   "display_name": "Python 3 (ipykernel)",
   "language": "python",
   "name": "python3"
  },
  "language_info": {
   "codemirror_mode": {
    "name": "ipython",
    "version": 3
   },
   "file_extension": ".py",
   "mimetype": "text/x-python",
   "name": "python",
   "nbconvert_exporter": "python",
   "pygments_lexer": "ipython3",
   "version": "3.9.12"
  }
 },
 "nbformat": 4,
 "nbformat_minor": 5
}
