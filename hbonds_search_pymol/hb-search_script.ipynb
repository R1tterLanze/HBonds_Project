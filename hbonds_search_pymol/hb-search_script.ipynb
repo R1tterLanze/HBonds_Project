{
 "cells": [
  {
   "cell_type": "code",
   "execution_count": 5,
   "id": "f3a90aca",
   "metadata": {},
   "outputs": [],
   "source": [
    "import pandas as pd\n",
    "import subprocess as sb\n",
    "import os \n",
    "import pymol as pm\n",
    "import typing"
   ]
  },
  {
   "cell_type": "code",
   "execution_count": null,
   "id": "05259537",
   "metadata": {},
   "outputs": [],
   "source": [
    "def changeDirectory ():\n",
    "    pass"
   ]
  },
  {
   "cell_type": "code",
   "execution_count": null,
   "id": "5a961129",
   "metadata": {},
   "outputs": [],
   "source": [
    "def runHBsearch():\n",
    "    pass"
   ]
  },
  {
   "cell_type": "code",
   "execution_count": null,
   "id": "229a2578",
   "metadata": {},
   "outputs": [],
   "source": [
    "def readInSearch():\n",
    "    pass"
   ]
  },
  {
   "cell_type": "code",
   "execution_count": null,
   "id": "25158845",
   "metadata": {},
   "outputs": [],
   "source": [
    "def displayBonds():\n",
    "    pass"
   ]
  },
  {
   "cell_type": "code",
   "execution_count": null,
   "id": "23d49cda",
   "metadata": {},
   "outputs": [],
   "source": []
  },
  {
   "cell_type": "code",
   "execution_count": null,
   "id": "979eba92",
   "metadata": {},
   "outputs": [],
   "source": []
  }
 ],
 "metadata": {
  "kernelspec": {
   "display_name": "Python 3 (ipykernel)",
   "language": "python",
   "name": "python3"
  },
  "language_info": {
   "codemirror_mode": {
    "name": "ipython",
    "version": 3
   },
   "file_extension": ".py",
   "mimetype": "text/x-python",
   "name": "python",
   "nbconvert_exporter": "python",
   "pygments_lexer": "ipython3",
   "version": "3.9.12"
  }
 },
 "nbformat": 4,
 "nbformat_minor": 5
}
