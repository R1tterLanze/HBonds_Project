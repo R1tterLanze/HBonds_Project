{
 "cells": [
  {
   "cell_type": "code",
   "execution_count": 56,
   "id": "9c219dc2",
   "metadata": {},
   "outputs": [],
   "source": [
    "import pandas as pd\n",
    "import subprocess\n",
    "import os\n",
    "from pymol import cmd, stored\n",
    "import platform"
   ]
  },
  {
   "cell_type": "code",
   "execution_count": 51,
   "id": "65e50d56",
   "metadata": {
    "scrolled": true
   },
   "outputs": [],
   "source": [
    "def startHBsearch():\n",
    "\n",
    "    # Setting environment variable\n",
    "    os.environ['PSE_FILE'] = 'period-table-info.txt'\n",
    "    # Determine operation system\n",
    "    platform = platform.system()\n",
    "    # Executing hb_search\n",
    "    hbs = subprocess.run(f\"./{platform}/hb-search -hb hb-define.txt 4awn.pdb\", capture_output=True, shell=True, check = True, text = True).stdout\n",
    "    return hbs"
   ]
  },
  {
   "cell_type": "code",
   "execution_count": 52,
   "id": "597af3e4",
   "metadata": {},
   "outputs": [],
   "source": [
    "def readInHBS(hbsfile):\n",
    "    hbs_columns = [i for i in hbsfile.split('\\n')]\n",
    "    hbs_split = [i.split() for i in hbs_columns]\n",
    "    \n",
    "    HEAD_LST = ['IDENT','ACC','sep1','DONO',':','x','y','z','sep2','a','b']\n",
    "    \n",
    "    df = pd.DataFrame(hbs_split, columns = HEAD_LST)\n",
    "    df = df[df[\"IDENT\"] == \"HBOND\"]\n",
    "    return df"
   ]
  },
  {
   "cell_type": "code",
   "execution_count": 53,
   "id": "b540588a",
   "metadata": {},
   "outputs": [],
   "source": [
    "def prepareLists(dataframe):\n",
    "    \n",
    "    acceptor_pre = list(dataframe[\"ACC\"])\n",
    "    donor_pre = list(dataframe [\"DONO\"])\n",
    "    \n",
    "    acceptor = []\n",
    "    donor = []\n",
    "    \n",
    "    for i in range(len(acceptor_pre)):\n",
    "        acceptor.append(tuple(acceptor_pre[i].split(\":\")))\n",
    "        \n",
    "    for j in range(len(donor_pre)):\n",
    "        donor.append(tuple(donor_pre[i].split(\":\")))\n",
    "\n",
    "\n",
    "    \n",
    "    return acceptor, donor"
   ]
  },
  {
   "cell_type": "code",
   "execution_count": 54,
   "id": "21b73d8e",
   "metadata": {},
   "outputs": [],
   "source": [
    "def displayDistances(acceptor, donor, obj):\n",
    "    \n",
    "    bondList = []\n",
    "    \n",
    "    for i in range(len(acceptor)):\n",
    "        cmd.distance(f\"HydrogenBond{i}\",f\"{obj}//{acceptor[i][0]}/{acceptor[i][1]}/{acceptor[i][3]}\", f\"{obj}//{donor[i][0]}/{donor[i][1]}/{donor[i][3]}\")\n",
    "        bondList.append(f\"HydrogenBond{i}\")\n",
    "    cmd.group(\"HydrogenBonds\", \" \".join(bondList))"
   ]
  },
  {
   "cell_type": "code",
   "execution_count": null,
   "id": "e93046c8",
   "metadata": {},
   "outputs": [],
   "source": []
  },
  {
   "cell_type": "code",
   "execution_count": 50,
   "id": "6003aa3c",
   "metadata": {},
   "outputs": [
    {
     "data": {
      "text/plain": [
       "<function __main__.displayDistances(acceptor, donor, pdb)>"
      ]
     },
     "execution_count": 50,
     "metadata": {},
     "output_type": "execute_result"
    }
   ],
   "source": [
    "cmd.extend(\"displayHBB\", displayDistances)"
   ]
  },
  {
   "cell_type": "code",
   "execution_count": 57,
   "id": "ed1683e7",
   "metadata": {},
   "outputs": [
    {
     "data": {
      "text/plain": [
       "'Windows'"
      ]
     },
     "execution_count": 57,
     "metadata": {},
     "output_type": "execute_result"
    }
   ],
   "source": []
  },
  {
   "cell_type": "code",
   "execution_count": null,
   "id": "cbadb046",
   "metadata": {},
   "outputs": [],
   "source": []
  },
  {
   "cell_type": "code",
   "execution_count": null,
   "id": "10485270",
   "metadata": {},
   "outputs": [],
   "source": []
  },
  {
   "cell_type": "code",
   "execution_count": null,
   "id": "7cc41cae",
   "metadata": {},
   "outputs": [],
   "source": []
  }
 ],
 "metadata": {
  "kernelspec": {
   "display_name": "Python 3 (ipykernel)",
   "language": "python",
   "name": "python3"
  },
  "language_info": {
   "codemirror_mode": {
    "name": "ipython",
    "version": 3
   },
   "file_extension": ".py",
   "mimetype": "text/x-python",
   "name": "python",
   "nbconvert_exporter": "python",
   "pygments_lexer": "ipython3",
   "version": "3.9.12"
  }
 },
 "nbformat": 4,
 "nbformat_minor": 5
}
